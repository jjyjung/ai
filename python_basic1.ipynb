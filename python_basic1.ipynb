{
  "nbformat": 4,
  "nbformat_minor": 0,
  "metadata": {
    "kernelspec": {
      "display_name": "Python 3",
      "language": "python",
      "name": "python3"
    },
    "language_info": {
      "codemirror_mode": {
        "name": "ipython",
        "version": 3
      },
      "file_extension": ".py",
      "mimetype": "text/x-python",
      "name": "python",
      "nbconvert_exporter": "python",
      "pygments_lexer": "ipython3",
      "version": "3.7.6"
    },
    "colab": {
      "name": "python_basic1.ipynb",
      "provenance": [],
      "include_colab_link": true
    }
  },
  "cells": [
    {
      "cell_type": "markdown",
      "metadata": {
        "id": "view-in-github",
        "colab_type": "text"
      },
      "source": [
        "<a href=\"https://colab.research.google.com/github/jjyjung/ai/blob/gh-pages/python_basic1.ipynb\" target=\"_parent\"><img src=\"https://colab.research.google.com/assets/colab-badge.svg\" alt=\"Open In Colab\"/></a>"
      ]
    },
    {
      "cell_type": "markdown",
      "metadata": {
        "id": "5JIQTKnUtHfL"
      },
      "source": [
        "## Jupyter Notebook 간단 사용법\n",
        "### Cell 관리\n",
        "1. In [ ] 뒤에 있는 부분을 Cell이라고 부릅니다.\n",
        "1. Cell 위에 Cell을 추가할 때는 a를 누르고,<br>\n",
        "1. Cell 다음에 추가할 때는 b를 누르며,<br>\n",
        "Cell을 삭제할 때는 dd를 누릅니다.\n",
        "\n",
        "### Cell 실행\n",
        "- Cell 내에서 Ctrl + Enter\n",
        "- 여러 Cell을 선택한 후, Ctrl + Enter\n",
        "\n",
        "### Cell 실행\n",
        "- In [ ] 안의 숫자는 실행된 index를 의미합니다.\n",
        "- 만약 처음부터 다시 넘버링을 하고 싶다면, 메뉴 > Kernel > Restart 한 이후에,<br>\n",
        "하나의 Cell 또는 여러 Cell을 선택한 후 재실행하면 됩니다. \n",
        "\n",
        "### Cell 타입\n",
        "- 주로 Code와 Markdown으로 구분하여 사용하면 됩니다. \n",
        "- Code는 Python 등의 소스 코드를 기입합니다.\n",
        "- Markdown은 간단한 HTML 생성 문법으로, 상세 사용법은 아래를 참조하시오.\n",
        "<br> https://namu.wiki/w/마크다운\n",
        "\n",
        "### Cell 위치 이동\n",
        "- 하나 또는 둘 이상의 Cell을 선택하여, 메뉴 아래의 상/하 화살표로 위치 이동 가능\n",
        "\n",
        "### 파일 저장 및 복구\n",
        "- 메뉴 > File > save & checkpoint 를 클릭합니다.\n",
        "- 메뉴 > File > rename 에서 파일명을 변경할 수 있습니다.\n",
        "- 아까 저장했던 버전으로 복구하려면, File > Revert to Checkpoint 에서 원하는 저장시간을 선택하시오."
      ]
    },
    {
      "cell_type": "markdown",
      "metadata": {
        "id": "LJ7v09lCtHfN"
      },
      "source": [
        "### 사칙연산"
      ]
    },
    {
      "cell_type": "code",
      "metadata": {
        "scrolled": true,
        "id": "5u5KMCamtHfO",
        "colab": {
          "base_uri": "https://localhost:8080/"
        },
        "outputId": "116739ba-103c-423f-867b-2f68e087b389"
      },
      "source": [
        "#사칙연산을 설명합니다.\n",
        "#주석은 # 뒤에 기재하면 됩니다.\n",
        "a = 3\n",
        "b = 4 \n",
        "c = a + b\n",
        "d = a - b\n",
        "print (c)\n",
        "print (d)"
      ],
      "execution_count": null,
      "outputs": [
        {
          "output_type": "stream",
          "name": "stdout",
          "text": [
            "7\n",
            "-1\n"
          ]
        }
      ]
    },
    {
      "cell_type": "code",
      "metadata": {
        "id": "g7M2Rf21tHfQ",
        "colab": {
          "base_uri": "https://localhost:8080/"
        },
        "outputId": "f0a284bf-38bf-4796-c05e-db6a23b0adde"
      },
      "source": [
        "print (a*b); print (a/b)\n",
        "#python에서 여러 문장을 한 줄에 쓸 때에는 semi-colon(;)을 쓸 수 있다."
      ],
      "execution_count": null,
      "outputs": [
        {
          "output_type": "stream",
          "name": "stdout",
          "text": [
            "12\n",
            "0.75\n"
          ]
        }
      ]
    },
    {
      "cell_type": "code",
      "metadata": {
        "id": "5LH57WErtHfR",
        "colab": {
          "base_uri": "https://localhost:8080/"
        },
        "outputId": "4aeef7a1-7dce-41a9-88dc-ae0c20c4457e"
      },
      "source": [
        "print (7/2)\n",
        "print (7//2)  #몫\n",
        "print (7%2)   #나머지"
      ],
      "execution_count": null,
      "outputs": [
        {
          "output_type": "stream",
          "name": "stdout",
          "text": [
            "3.5\n",
            "3\n",
            "1\n"
          ]
        }
      ]
    },
    {
      "cell_type": "markdown",
      "metadata": {
        "id": "m4gVJwr3tHfR"
      },
      "source": [
        "### 문자열"
      ]
    },
    {
      "cell_type": "code",
      "metadata": {
        "id": "XA5TyWqKtHfR",
        "colab": {
          "base_uri": "https://localhost:8080/"
        },
        "outputId": "5d279e0b-c245-4c2c-83c5-ecdb4c517e6c"
      },
      "source": [
        "str1 = 'python'      #문자열은 작은따옴표 또는 큰따옴표 모두 가능\n",
        "str2 = \"anaconda\"\n",
        "print (str1 + \" \" + str2) #문자열 연결\n",
        "print (str1[2])  #문자 추출\n",
        "print (str1[0:2])  #문자 추출\n",
        "print (str2[:3])   #시작 index 생략\n",
        "print (str2[-2:])  #뒤에서 시작하여, 종료 index 생략"
      ],
      "execution_count": null,
      "outputs": [
        {
          "output_type": "stream",
          "name": "stdout",
          "text": [
            "python anaconda\n",
            "t\n",
            "py\n",
            "ana\n",
            "da\n"
          ]
        }
      ]
    },
    {
      "cell_type": "code",
      "metadata": {
        "id": "gKGG7DMitHfS",
        "colab": {
          "base_uri": "https://localhost:8080/"
        },
        "outputId": "a144a674-89d9-4a64-ac24-bb395cf52fbb"
      },
      "source": [
        "str3 = \"I'm John's father.\"  #큰 따옴표 안에서 작은 따옴표는 문자로 인식됨\n",
        "print (str3)"
      ],
      "execution_count": null,
      "outputs": [
        {
          "output_type": "stream",
          "name": "stdout",
          "text": [
            "I'm John's father.\n"
          ]
        }
      ]
    },
    {
      "cell_type": "code",
      "metadata": {
        "id": "52agW2q1tHfS",
        "colab": {
          "base_uri": "https://localhost:8080/"
        },
        "outputId": "3ce293c5-37a7-4f2d-8fc3-7d1629e4156e"
      },
      "source": [
        "longStr1 = '''첫번째 줄\n",
        "두번째 줄\n",
        "세번째 줄'''\n",
        "longStr2 = \"\"\"\n",
        "'네'번째 줄\n",
        "'다섯'번째 줄\n",
        "'여섯'번째 줄\"\"\"\n",
        "print (longStr1 + longStr2)  #줄바꿈을 인식하는 긴 문자열"
      ],
      "execution_count": null,
      "outputs": [
        {
          "output_type": "stream",
          "name": "stdout",
          "text": [
            "첫번째 줄\n",
            "두번째 줄\n",
            "세번째 줄\n",
            "'네'번째 줄\n",
            "'다섯'번째 줄\n",
            "'여섯'번째 줄\n"
          ]
        }
      ]
    },
    {
      "cell_type": "markdown",
      "metadata": {
        "id": "HYwnuAfvtHfS"
      },
      "source": [
        "### 제어문"
      ]
    },
    {
      "cell_type": "code",
      "metadata": {
        "id": "WU6GtEIptHfT",
        "colab": {
          "base_uri": "https://localhost:8080/"
        },
        "outputId": "fac1f81d-3be3-4f33-c2e0-15afc759d88b"
      },
      "source": [
        "num = 5\n",
        "if num > 5:  #colon을 반드시!\n",
        "    print (str(num) + \"은 5보다 크다\")\n",
        "    #숫자를 문자로 바꿀 때, 내장함수 str()을 사용하거나\n",
        "elif num == 5:\n",
        "    print ('num' + \"은 5와 같다\")\n",
        "    #또는 ' ' 사용 가능\n",
        "else: \n",
        "    print (str(num) + \"은 5보다 작거나 같다\")"
      ],
      "execution_count": null,
      "outputs": [
        {
          "output_type": "stream",
          "name": "stdout",
          "text": [
            "num은 5와 같다\n"
          ]
        }
      ]
    },
    {
      "cell_type": "code",
      "metadata": {
        "id": "5Pjo01FytHfT",
        "colab": {
          "base_uri": "https://localhost:8080/"
        },
        "outputId": "31ad0b26-f8a8-4ecb-aa10-8b1253fb3541"
      },
      "source": [
        "for i in [1,2,3]:    # 괄호 대신 들여쓰기\n",
        "    print (i)\n",
        "\n",
        "n = 5\n",
        "for i in range(n):   # range는 [0,1,...,n-1]의 list(배열)을 만들어 주는 내장함수\n",
        "    print (str(i) + \"는\", \"숫자입니다.\")\n",
        "\n",
        "for i in range(3,5): # 3부터 5 직전까지 배열 생성\n",
        "    print (str(i))\n",
        "\n",
        "for i in range(100, 200):\n",
        "    if(i==103): continue\n",
        "    print (i)\n",
        "    if(i==105): break"
      ],
      "execution_count": null,
      "outputs": [
        {
          "output_type": "stream",
          "name": "stdout",
          "text": [
            "1\n",
            "2\n",
            "3\n",
            "0는 숫자입니다.\n",
            "1는 숫자입니다.\n",
            "2는 숫자입니다.\n",
            "3는 숫자입니다.\n",
            "4는 숫자입니다.\n",
            "3\n",
            "4\n",
            "100\n",
            "101\n",
            "102\n",
            "104\n",
            "105\n"
          ]
        }
      ]
    },
    {
      "cell_type": "code",
      "metadata": {
        "id": "xtrFKvDmtHfT",
        "colab": {
          "base_uri": "https://localhost:8080/"
        },
        "outputId": "065e8fdb-f383-43e5-fe51-d404183ff434"
      },
      "source": [
        "i = 0\n",
        "sum = 0\n",
        "while i<5:\n",
        "    sum += i\n",
        "    print (sum)\n",
        "    i+=1      ##i++ 대신에 이렇게 표현해야 함."
      ],
      "execution_count": null,
      "outputs": [
        {
          "output_type": "stream",
          "name": "stdout",
          "text": [
            "0\n",
            "1\n",
            "3\n",
            "6\n",
            "10\n"
          ]
        }
      ]
    },
    {
      "cell_type": "markdown",
      "metadata": {
        "id": "5verBtWjtHfU"
      },
      "source": [
        "### 형변환"
      ]
    },
    {
      "cell_type": "code",
      "metadata": {
        "id": "vPE8CcBItHfU",
        "colab": {
          "base_uri": "https://localhost:8080/"
        },
        "outputId": "b858d355-b7b3-47c6-9848-59c182e2e95a"
      },
      "source": [
        "s = '3.14'\n",
        "pi = float(s) #실수로 변환\n",
        "r = '2'\n",
        "rad = int(r) #정수로 변환\n",
        "print (\"반지름 = \" + str(rad)) #문자로 변환\n",
        "area = pi * (rad ** 2)  #a**b는 a^b를 계산해줌\n",
        "print (area)\n",
        "volume = 4/3 * pi * pow(rad,3)  #내장함수 pow(a,b)도 a^b를 계산해줌\n",
        "print (volume)"
      ],
      "execution_count": null,
      "outputs": [
        {
          "output_type": "stream",
          "name": "stdout",
          "text": [
            "반지름 = 2\n",
            "12.56\n",
            "33.49333333333333\n"
          ]
        }
      ]
    },
    {
      "cell_type": "markdown",
      "metadata": {
        "id": "Gomp1jWjtHfV"
      },
      "source": [
        "### 함수 정의"
      ]
    },
    {
      "cell_type": "code",
      "metadata": {
        "id": "GBaCHhXytHfV",
        "colab": {
          "base_uri": "https://localhost:8080/"
        },
        "outputId": "13461ce8-50ed-4ce3-b007-ef50d8a05ba8"
      },
      "source": [
        "def sum(a,b): \n",
        "    return a+b\n",
        "\n",
        "def subtract(a,b):\n",
        "    return a-b\n",
        "\n",
        "print (sum(2,1))\n",
        "print (subtract(2,1))"
      ],
      "execution_count": null,
      "outputs": [
        {
          "output_type": "stream",
          "name": "stdout",
          "text": [
            "3\n",
            "1\n"
          ]
        }
      ]
    },
    {
      "cell_type": "markdown",
      "metadata": {
        "id": "kQgkgW8RtHfV"
      },
      "source": [
        "### List, Tuple, Set, Dictionary"
      ]
    },
    {
      "cell_type": "code",
      "metadata": {
        "id": "MN9V78xetHfW",
        "colab": {
          "base_uri": "https://localhost:8080/"
        },
        "outputId": "724bc2f7-848a-45b5-c625-b7e94ab2c6dc"
      },
      "source": [
        "ary = [7,3,6]\n",
        "for i in range(len(ary)):\n",
        "    print (ary[i])"
      ],
      "execution_count": null,
      "outputs": [
        {
          "output_type": "stream",
          "name": "stdout",
          "text": [
            "7\n",
            "3\n",
            "6\n"
          ]
        }
      ]
    },
    {
      "cell_type": "code",
      "metadata": {
        "id": "CmZ6iADNtHfW",
        "colab": {
          "base_uri": "https://localhost:8080/"
        },
        "outputId": "dfd94edb-9be0-48bb-f9f1-317830de76d3"
      },
      "source": [
        "ary.append('k')\n",
        "print (ary[:])\n",
        "print (ary[2:-1])  #ary의 index 2부터 끝에서 -1 직전까지 출력"
      ],
      "execution_count": null,
      "outputs": [
        {
          "output_type": "stream",
          "name": "stdout",
          "text": [
            "[7, 3, 6, 'k']\n",
            "[6]\n"
          ]
        }
      ]
    },
    {
      "cell_type": "code",
      "metadata": {
        "id": "BjYNKG0ZtHfW",
        "colab": {
          "base_uri": "https://localhost:8080/"
        },
        "outputId": "ca6f29ba-c4e1-4a51-bfe8-9c54922f49b8"
      },
      "source": [
        "ary.insert(1,17)\n",
        "print (ary[:])"
      ],
      "execution_count": null,
      "outputs": [
        {
          "output_type": "stream",
          "name": "stdout",
          "text": [
            "[7, 17, 3, 6, 'k']\n"
          ]
        }
      ]
    },
    {
      "cell_type": "code",
      "metadata": {
        "id": "zSGbZbgjtHfW",
        "colab": {
          "base_uri": "https://localhost:8080/"
        },
        "outputId": "5c4d7e63-28f8-4f11-b47a-2bc8cc1f15a8"
      },
      "source": [
        "ary.pop()\n",
        "print (ary[:])\n",
        "ary.pop(1)\n",
        "print (ary[:])"
      ],
      "execution_count": null,
      "outputs": [
        {
          "output_type": "stream",
          "name": "stdout",
          "text": [
            "[7, 17, 3, 6]\n",
            "[7, 3, 6]\n"
          ]
        }
      ]
    },
    {
      "cell_type": "code",
      "metadata": {
        "id": "6be0nLrMtHfX"
      },
      "source": [
        "if 'k' in ary:    #ary 내에 'k'가 존재하는지 확인하는 조건문\n",
        "    ary.remove('k')  #'k'를 하나 삭제함\n",
        "    print (ary[:])"
      ],
      "execution_count": null,
      "outputs": []
    },
    {
      "cell_type": "code",
      "metadata": {
        "id": "iS7d8eQItHfX",
        "colab": {
          "base_uri": "https://localhost:8080/"
        },
        "outputId": "1c1ab4a9-4e66-411a-f4aa-59760aace64d"
      },
      "source": [
        "ary.sort()\n",
        "print (ary)"
      ],
      "execution_count": null,
      "outputs": [
        {
          "output_type": "stream",
          "name": "stdout",
          "text": [
            "[3, 6, 7]\n"
          ]
        }
      ]
    },
    {
      "cell_type": "code",
      "metadata": {
        "id": "T8jon-4stHfX",
        "colab": {
          "base_uri": "https://localhost:8080/"
        },
        "outputId": "f26d646e-551f-4585-cc87-563094b5989a"
      },
      "source": [
        "li = [[1,2],[3,4,5],6]  #다차원 리스트\n",
        "print (li[0][0])\n",
        "print (li[1][2])\n",
        "print (li[2])"
      ],
      "execution_count": null,
      "outputs": [
        {
          "output_type": "stream",
          "name": "stdout",
          "text": [
            "1\n",
            "5\n",
            "6\n"
          ]
        }
      ]
    },
    {
      "cell_type": "code",
      "metadata": {
        "id": "TCnZTJv1tHfY",
        "colab": {
          "base_uri": "https://localhost:8080/"
        },
        "outputId": "dddd53cb-8f42-44de-e9aa-e14336b92c14"
      },
      "source": [
        "t1 = (1,3,5,7)   #Tuple(튜플): list와 달리 크기가 고정됨\n",
        "print (t1[1])\n",
        "print (t1[2:4])"
      ],
      "execution_count": null,
      "outputs": [
        {
          "output_type": "stream",
          "name": "stdout",
          "text": [
            "3\n",
            "(5, 7)\n"
          ]
        }
      ]
    },
    {
      "cell_type": "code",
      "metadata": {
        "id": "1J1e1bKXtHfY",
        "colab": {
          "base_uri": "https://localhost:8080/"
        },
        "outputId": "258b23db-9951-4685-c229-f12c1c4bcfa0"
      },
      "source": [
        "s1 = {1, 2, 3, 1, 2, 6}  #Set(집합)은 중복 무시\n",
        "print (s1)\n",
        "s2 = set(ary)\n",
        "print (s2)\n",
        "s3 = set(t1)\n",
        "print (s3)"
      ],
      "execution_count": null,
      "outputs": [
        {
          "output_type": "stream",
          "name": "stdout",
          "text": [
            "{1, 2, 3, 6}\n",
            "{3, 6, 7}\n",
            "{1, 3, 5, 7}\n"
          ]
        }
      ]
    },
    {
      "cell_type": "code",
      "metadata": {
        "id": "OXE-v1MhtHfY",
        "colab": {
          "base_uri": "https://localhost:8080/"
        },
        "outputId": "941a6e1f-2cf0-4b18-e5df-2fd6aca62c1b"
      },
      "source": [
        "s4 = set(\"Hello\")\n",
        "print (s4)"
      ],
      "execution_count": null,
      "outputs": [
        {
          "output_type": "stream",
          "name": "stdout",
          "text": [
            "{'e', 'o', 'l', 'H'}\n"
          ]
        }
      ]
    },
    {
      "cell_type": "code",
      "metadata": {
        "id": "C4F-ANyrtHfY",
        "colab": {
          "base_uri": "https://localhost:8080/"
        },
        "outputId": "0cbdf805-861b-4ae7-bf0f-25cf800d3495"
      },
      "source": [
        "dic = {'name':'kim', 'grade':2, 'age':20}\n",
        "print (dic['name'] + \"의 \" + str(dic['grade']) + \"학년이고 \" + str(dic['age']) + \"세입니다.\")\n",
        "#Dictionary(사전)은 key-value 쌍을 저장하는 자료구조 입니다."
      ],
      "execution_count": null,
      "outputs": [
        {
          "output_type": "stream",
          "name": "stdout",
          "text": [
            "kim의 2학년이고 20세입니다.\n"
          ]
        }
      ]
    },
    {
      "cell_type": "markdown",
      "metadata": {
        "id": "L_oY7oj8tHfY"
      },
      "source": [
        "### Class"
      ]
    },
    {
      "cell_type": "code",
      "metadata": {
        "id": "D8gDtq4ktHfZ",
        "colab": {
          "base_uri": "https://localhost:8080/"
        },
        "outputId": "a09306f3-49bc-42d2-cd47-b9376916c7a7"
      },
      "source": [
        "class Customer:\n",
        "#     name = ''\n",
        "#     age = ''\n",
        "#     gender = ''\n",
        "    def addInfo(self, name, gender, age):\n",
        "        self.name = name\n",
        "        self.gender = gender\n",
        "        self.age = age\n",
        "\n",
        "c1 = Customer()\n",
        "c1.addInfo('조영서', 'F', 20)\n",
        "print(c1.name[0], c1.gender, c1.age/2 )"
      ],
      "execution_count": null,
      "outputs": [
        {
          "output_type": "stream",
          "name": "stdout",
          "text": [
            "조 F 10.0\n"
          ]
        }
      ]
    },
    {
      "cell_type": "code",
      "metadata": {
        "scrolled": true,
        "id": "I9u2glNetHfZ",
        "colab": {
          "base_uri": "https://localhost:8080/"
        },
        "outputId": "8b4b45fb-6b67-4732-d3d5-b5bb8c1944f3"
      },
      "source": [
        "class Student:\n",
        "    univ = 'KHU'\n",
        "    def __init__ (self, dept):    #_ _init_ _는 생성자(constructor)이다.\n",
        "        self.dept = 'IE'\n",
        "    def addInfo(self, grade, name):\n",
        "        self.grade = grade\n",
        "        self.name = name\n",
        "    def printInfo(self):\n",
        "        return self.univ + \",\" + self.dept + \",\" + str(self.grade) + \",\" + self.name\n",
        "stu1 = Student('IE')  # 객체(object) 생성\n",
        "stu1.addInfo(2,'Kim') # method를 이용하여 값을 전달\n",
        "stu1.univ = 'UCLA'\n",
        "\n",
        "stu2 = Student('ME')\n",
        "stu2.addInfo(3,'Jung')\n",
        "\n",
        "print (stu1.printInfo())\n",
        "print (stu2.printInfo())"
      ],
      "execution_count": null,
      "outputs": [
        {
          "output_type": "stream",
          "name": "stdout",
          "text": [
            "UCLA,IE,2,Kim\n",
            "KHU,IE,3,Jung\n"
          ]
        }
      ]
    },
    {
      "cell_type": "markdown",
      "metadata": {
        "id": "4FTAvuCRtHfZ"
      },
      "source": [
        "#### 생각해보기\n",
        "- Customer class를 만드시오.\n",
        "- Constructor를 만들지 마시오.\n",
        "- Field를 name, gender, age를 가질 수 있다.\n",
        "- Field의 세 값을 객체에 전달할 수 있는 method인 addInfo를 만드시오."
      ]
    },
    {
      "cell_type": "code",
      "metadata": {
        "id": "wgno1YAhtHfa"
      },
      "source": [
        "class Customer:\n",
        "    \n",
        "    "
      ],
      "execution_count": null,
      "outputs": []
    }
  ]
}