{
  "cells": [
    {
      "cell_type": "markdown",
      "metadata": {
        "id": "view-in-github",
        "colab_type": "text"
      },
      "source": [
        "<a href=\"https://colab.research.google.com/github/jjyjung/ai/blob/gh-pages/%ED%9A%8C%EC%A0%84%EA%B8%B0%EA%B3%84_%EA%B3%A0%EC%9E%A5%EC%A7%84%EB%8B%A8_%EC%8B%A4%EC%8A%B5_ML_v1_0.ipynb\" target=\"_parent\"><img src=\"https://colab.research.google.com/assets/colab-badge.svg\" alt=\"Open In Colab\"/></a>"
      ]
    },
    {
      "cell_type": "markdown",
      "source": [
        "# **회전기계 고장진단 실습**\n",
        "\n",
        "회전기계에서 수집된 진동센서 데이터를 전처리하고, 머신러닝 기법을 이용하여 회전기계의 고장 여부를 판단함\n",
        "\n",
        "본 자료는 정부에서 운영하는 아래의 KAMP(한국인공지능제조플랫폼)의 데이터와 설명자료를 활용하였고, 교육을 위한 머신러닝 코드를 새롭게 추가하였습니다.\n",
        "\n",
        " https://www.kamp-ai.kr/front/dataset/AiDataDetail.jsp?AI_SEARCH=&page=1&DATASET_SEQ=18"
      ],
      "metadata": {
        "id": "54IWUjHa9CqL"
      }
    },
    {
      "cell_type": "markdown",
      "metadata": {
        "id": "hOynSnugegWD"
      },
      "source": [
        "## 0. 회전기계 및 실험 환경\n",
        "\n",
        "* 산업 현장에서 사용되는 기계 구조물은 대부분 정상 상태로 가동되며, 수집되는 데이터 역시 정상 유형이 90% 이상을 차지하고 고장 데이터는 충분하지 않다.\n",
        "* Rotor testbed를 이용하여, 여러 고장유형에 대해 특징을 분석하고 정상 및 고장유형을 분류할 수 있는 충분한 양의 고장 데이터를 수집할 수 있다. \n",
        "* 많은 산업 현장(발전소 등)에서 주로 사용되는 회전 설비의 진동데이터를 수집하고 고장을 분석 및 진단하는 학습 모델을 구축하여, 이후 기술 확장을 통해 발전소나 대규모 공장의 자동화 라인 등에 활용하는 것을 목표로 한다.\n",
        "\n",
        "![fig.01.png](https://github.com/jjyjung/ai_mfg/blob/main/img/fig.01.png?raw=true&style=centerme)<br>"
      ]
    },
    {
      "cell_type": "markdown",
      "metadata": {
        "id": "epZPF4LpegWE"
      },
      "source": [
        "(1) Controller Module\n",
        "- 본 rotor testbed의 Controller에서 수동 모드를 이용하여 Motor 회전속도가 약 1500 RPM인 경우, 진동 데이터를 구축하였다. <br>\n",
        "<br>\n",
        "\n",
        "(2) BLDC Motor\n",
        "- 본 rotor testbed는 BLDC (Brushless DC) Motor는 Brush가 없어서 기계적인 접촉이 없는 DC Motor이다.\n",
        "- BLDC Motor는 소음이 비교적 적으며, 출력을 세밀하게 조절할 수 있다는 장점이 있다.<br>\n",
        "![BLDC_motor.jpg](https://raw.githubusercontent.com/jjyjung/ai_mfg/main/img/BLDC_motor.jpg)<br>\n",
        "<br>\n",
        "\n",
        "(3) Disk\n",
        "- 본 rotor testbed는 총 2개의 aluminum disk가 있다.\n",
        "- 각각의 disk에는 회전 불균형을 구현할 수 있는 bolt 체결 홀이 있다.\n",
        "- 축의 중심으로부터 bolt 체결 홀의 거리는 약 60mm이며, blot 체결 홀은 모두 36개이다.<br>\n",
        "![fig.02.png](https://github.com/jjyjung/ai_mfg/blob/main/img/fig.02.png?raw=true)<br>\n",
        "<br>\n",
        "\n",
        "(4) Rotor Spec.\n",
        "- 본 rotor testbed의 사양은 다음과 같다.\n",
        "\n",
        "|    구분    |                 사양                 |\n",
        "|:----------:|:------------------------------------:|\n",
        "| Size       | 673 mm (W) x 280 mm (D) x 281 mm (H) |\n",
        "| Weight     |                 25kg                 |\n",
        "| Material   |               Aluminum               |\n",
        "| Bearing    |             6202ZZ x 2EA             |\n",
        "| Motor      |  DC 12V x 0.25HP (0.2W), 0-3000 RPM  |\n",
        "| Main power |                AC 220V               |\n",
        "\n",
        "(5) 실험 환경\n",
        "- 회전 속도는 약 1500 RPM (Revolutions Per Minute)을 사용하였으며, 이 경우 기계의 최대 주파수는 25 Hz (= 1500 RPM / 60 sec)가 된다.\n",
        "- 나이퀴스트 (Nyquist) 이론에 따르면 기계의 최대 주파수의 2배 이상으로 sampling rate을 해야하지만, 실제 산업에서는 안정적인 신호 분석을 위해서 통상 최대 주파수의 5-10배 정도의 sampling rate를 수행한다. \n",
        "- 본 실험 데이터는 이보다 충분하게 최대 주파수의 40배 정도인 1 kHz의 진동 데이터(가속도)가 수집되어있다.\n",
        "\n",
        "| Rotor testbed |                   |\n",
        "|:-------------:|:-----------------:|\n",
        "| RPM           |     about 1500    |\n",
        "| Sampling rate | 1 kHz (0.001 sec) |"
      ]
    },
    {
      "cell_type": "markdown",
      "metadata": {
        "id": "sHTDEVc9egWF"
      },
      "source": [
        "## 1. 고장실험 데이터\n",
        "### 1-1. 고장 데이터 수집\n",
        "\n",
        "- 총 4개의 센서를 사용하므로 sensor1~sensor4로 명명하였다.  <br>\n",
        "- 센서 데이터 취득 위치는 다음과 같다.<br>\n",
        "<br>\n",
        "\n",
        "<center><img src = \"https://github.com/jjyjung/ai_mfg/blob/main/img/sensor1.png?raw=true\"><br>[센서 설치 위치 (사진)]</center> <br>\n",
        "\n",
        "<center><img src = \"https://github.com/jjyjung/ai_mfg/blob/main/img/sensor2.png?raw=true\"><br>[센서 부착 위치 (빨간색)]</center> <br>\n",
        "\n",
        "<!--center><img src = \"https://github.com/jjyjung/ai_mfg/blob/main/img/sensor3.png?raw=true\"><br>[group 2]</center> <br>\n",
        "<br-->\n",
        "\n",
        "- data는 데이터 취득 시간, 정상 유형(normal)과 고장유형 1-3 (type1, type2, type3)일 경우 센서 취득값으로 구성된다.  <br>\n",
        "- 고장유형 1,2,3은 다음의 사진과 표를 확인하면 알 수 있다.<br>\n",
        "\n",
        "![fault_type.png](https://github.com/jjyjung/ai_mfg/blob/main/img/fault_type.png?raw=true)<br>\n",
        "\n",
        "| 구분   | 특징                                                |\n",
        "|--------|-----------------------------------------------------|\n",
        "| Type 1 | Disk 2에 회전 불균형 (270도 위치에 볼트, 너트 부착) |\n",
        "| Type 2 | Support 4에 지지 불균형                             |\n",
        "| Type 3 | Type 1 + Type 2                                     |\n"
      ]
    },
    {
      "cell_type": "markdown",
      "source": [
        "### 1-2. 고장 데이터 업로드"
      ],
      "metadata": {
        "id": "akS33NCixVbN"
      }
    },
    {
      "cell_type": "code",
      "execution_count": null,
      "metadata": {
        "id": "XT4mXwGkegWF"
      },
      "outputs": [],
      "source": [
        "# 필요한 패키지(라이브러리) 로딩\n",
        "import numpy as np\n",
        "import pandas as pd\n",
        "import random\n",
        "import seaborn as sns\n",
        "import torch\n",
        "import torch.nn as nn\n",
        "import matplotlib.pyplot as plt\n",
        "from sklearn.preprocessing import scale"
      ]
    },
    {
      "cell_type": "markdown",
      "source": [
        " * **[중요] Sensor 파일 4개 업로드**\n",
        "  * <a href=http://ibiz.khu.ac.kr/jyjung/ target=new>http://ibiz.khu.ac.kr/jyjung/</a> 사이트에 방문하여 **<a href=http://ibiz.khu.ac.kr/jyjung/kia/rotor.zip>rotor.zip</a>** 파일을 다운로드 받으시오. \n",
        "  * zip 파일을 풀면 4개의 csv 파일을 생깁니다. \n",
        "  * 4개의 csv 파일들을 Colab 왼쪽에 있는 폴더에 업로드 하세요. (drag & drop 하면 됩니다.)"
      ],
      "metadata": {
        "id": "Vzcw2hO70ZSf"
      }
    },
    {
      "cell_type": "code",
      "execution_count": null,
      "metadata": {
        "id": "9FAmYCHbegWG"
      },
      "outputs": [],
      "source": [
        "# 4개 센서 데이터를 읽어들이기 위하여 아래 코드를 실행합니다.\n",
        "sensor1 = pd.read_csv('/content/g1_sensor1.csv', names = ['time', 'normal', 'type1', 'type2', 'type3'])\n",
        "sensor2 = pd.read_csv('/content/g1_sensor2.csv', names = ['time', 'normal', 'type1', 'type2', 'type3'])\n",
        "sensor3 = pd.read_csv('/content/g1_sensor3.csv', names = ['time', 'normal', 'type1', 'type2', 'type3'])\n",
        "sensor4 = pd.read_csv('/content/g1_sensor4.csv', names = ['time', 'normal', 'type1', 'type2', 'type3'])"
      ]
    },
    {
      "cell_type": "markdown",
      "metadata": {
        "id": "VQNWrTpwegWG"
      },
      "source": [
        "### 1-3. 데이터 확인\n",
        "* 불러온 데이터프레임의 변수 이름(예. sensor1, sensor2 등)을 입력하면 해당 내용을 확인해 볼 수 있다.\n",
        "* **[TEST] 아래 코드에서 sensor 번호를 바꾸어가면서, sensor 2, sensor 3, sensor 4의 내용도 확인해보시오.**"
      ]
    },
    {
      "cell_type": "code",
      "execution_count": null,
      "metadata": {
        "scrolled": true,
        "id": "AVVKVBwNegWG"
      },
      "outputs": [],
      "source": [
        "sensor1"
      ]
    },
    {
      "cell_type": "code",
      "source": [
        "sensor1['normal']"
      ],
      "metadata": {
        "id": "YXxI1-oUc4DL"
      },
      "execution_count": null,
      "outputs": []
    },
    {
      "cell_type": "code",
      "execution_count": null,
      "metadata": {
        "id": "zg94UIkKegWH"
      },
      "outputs": [],
      "source": [
        "print('sensor 1의 데이터 크기', sensor1.shape)\n",
        "print('sensor 2의 데이터 크기', sensor2.shape)\n",
        "print('sensor 3의 데이터 크기', sensor3.shape)\n",
        "print('sensor 4의 데이터 크기', sensor4.shape)"
      ]
    },
    {
      "cell_type": "markdown",
      "metadata": {
        "id": "PzfxFBbHegWH"
      },
      "source": [
        "* 140초 간의 데이터가 총 5개의 컬럼으로 이루어져 있다.\n",
        "* 그러나 데이터 크기를 확인해보면 센서마다 데이터를 취득하는 sampling rate이 다르기 때문에, 데이터 크기가 조금씩 다른 것을 확인할 수 있다.\n",
        "* 따라서 동일한 time interval의 데이터를 취득하기 위해 데이터를 0.001 sec 간격으로 선형보간한다."
      ]
    },
    {
      "cell_type": "markdown",
      "metadata": {
        "id": "CfY0653hegWH"
      },
      "source": [
        "### 1-4. 데이터 선형보간\n",
        "\n",
        "* 각 센서별 sampling rate은 다음과 같다. <br>\n",
        "\n",
        "| Sensor 1 | Sensor 2 | Sensor 3 | Sensor 4 |\n",
        "|:--------:|:--------:|----------|----------|\n",
        "| 0.000736 | 0.000760 | 0.000714 | 0.000761 |\n",
        "\n",
        "* 계측된 센서 데이터의 계측 시간 간격 (sampling rate)이 일정하지 않은 경우, 데이터 간 정확한 비교가 어려우므로 계측 시간의 동일화를 위해 전처리(선형 보간)가 요구된다. 선형보간의 방법은 아래 그림과 같다.<br>\n",
        "\n",
        "![interpolation.png](https://github.com/jjyjung/ai_mfg/blob/main/img/interpolation.png?raw=true)<br>\n",
        "<br>\n",
        "* 따라서 표에 나온 sampling rate을 이용하여 각 센서의 데이터를 0.001 sec 간격으로 선형보간 한다 (총 140초). <br>\n",
        " - interpolate.interp1d() : [선형보간 함수](https://docs.scipy.org/doc/scipy/reference/generated/scipy.interpolate.interp1d.html)를 이용하였다."
      ]
    },
    {
      "cell_type": "code",
      "execution_count": null,
      "metadata": {
        "id": "xv8s3t61egWH"
      },
      "outputs": [],
      "source": [
        "from scipy import interpolate\n",
        "\n",
        "x_new = np.arange(0, 140, 0.001)\n",
        "\n",
        "y_new1 = []; y_new2 = []; y_new3 = []; y_new4 = []\n",
        "for item in ['normal', 'type1', 'type2', 'type3']:\n",
        "    f_linear1 = interpolate.interp1d(sensor1['time'], sensor1[item], kind='linear'); y_new1.append(f_linear1(x_new))\n",
        "    f_linear2 = interpolate.interp1d(sensor2['time'], sensor2[item], kind='linear'); y_new2.append(f_linear2(x_new))\n",
        "    f_linear3 = interpolate.interp1d(sensor3['time'], sensor3[item], kind='linear'); y_new3.append(f_linear3(x_new))\n",
        "    f_linear4 = interpolate.interp1d(sensor4['time'], sensor4[item], kind='linear'); y_new4.append(f_linear4(x_new))\n",
        "    \n",
        "sensor1 = pd.DataFrame(np.array(y_new1).T, columns = ['normal', 'type1', 'type2', 'type3'])\n",
        "sensor2 = pd.DataFrame(np.array(y_new2).T, columns = ['normal', 'type1', 'type2', 'type3'])\n",
        "sensor3 = pd.DataFrame(np.array(y_new3).T, columns = ['normal', 'type1', 'type2', 'type3'])\n",
        "sensor4 = pd.DataFrame(np.array(y_new4).T, columns = ['normal', 'type1', 'type2', 'type3'])"
      ]
    },
    {
      "cell_type": "markdown",
      "metadata": {
        "id": "as9le_xPegWL"
      },
      "source": [
        "* 선형 보간 작업을 위해 데이터를 센서별로 묶어두었지만, 실제 취득된 형태로 데이터를 다시 조정한다."
      ]
    },
    {
      "cell_type": "code",
      "execution_count": null,
      "metadata": {
        "id": "X2Br6YwMegWL"
      },
      "outputs": [],
      "source": [
        "normal_ = pd.concat([sensor1['normal'],sensor2['normal'],sensor3['normal'],sensor4['normal']],axis=1)\n",
        "type1_  = pd.concat([sensor1['type1'], sensor2['type1'], sensor3['type1'], sensor4['type1']], axis=1)\n",
        "type2_  = pd.concat([sensor1['type2'], sensor2['type2'], sensor3['type2'], sensor4['type2']], axis=1)\n",
        "type3_  = pd.concat([sensor1['type3'], sensor2['type3'], sensor3['type3'], sensor4['type3']], axis=1)\n",
        "\n",
        "normal_.columns = ['s1', 's2', 's3', 's4']; type1_.columns = ['s1', 's2', 's3', 's4']\n",
        "type2_.columns  = ['s1', 's2', 's3', 's4']; type3_.columns = ['s1', 's2', 's3', 's4']\n",
        "\n",
        "print('normal 상태 데이터의 사이즈', normal_.shape)\n",
        "print('type1  상태 데이터의 사이즈', type1_.shape)\n",
        "print('type2  상태 데이터의 사이즈', type2_.shape)\n",
        "print('type3  상태 데이터의 사이즈', type3_.shape)"
      ]
    },
    {
      "cell_type": "markdown",
      "source": [
        "* **[TEST] 아래 코드에서 Class 이름을 바꾸어가면서, normal_, type1_, type2_, type3_의 내용도 확인해보시오.**"
      ],
      "metadata": {
        "id": "LlZwHTRG8J4w"
      }
    },
    {
      "cell_type": "code",
      "source": [
        "normal_"
      ],
      "metadata": {
        "id": "TS7duERo7_LN"
      },
      "execution_count": null,
      "outputs": []
    },
    {
      "cell_type": "markdown",
      "metadata": {
        "id": "5-jVf9KfegWM"
      },
      "source": [
        "### 1-5. 데이터 분석\n",
        "* 특정 시간에서의 시계열 샘플을 그래프로 그려봅시다.\n",
        "* 아래는 Sensor 1의 네 가지 class 중에서 normal와 type1의 그래프를 보여주고 있다.\n",
        "* **[TEST] Sensor 1의 type3와 type4의 그래프도 그려보시오.** (# 표시를 조정하면 됨)\n",
        "* **[TEST] Sensor 2의 type3와 type4의 그래프도 그려보시오.** ('s1'을 's2'로 바꾸면 됨)"
      ]
    },
    {
      "cell_type": "code",
      "execution_count": null,
      "metadata": {
        "id": "B1j_5lJNegWM"
      },
      "outputs": [],
      "source": [
        "# python 버전 : 3.7.3 (버전에 따라, jupyter notebook에서 아래 코드가 실행되지 않을 수 있습니다)\n",
        "# 실행이 되지 않는 경우, 아래 코드는 주석처리하고 넘어가도 학습에 영향을 주지 않습니다 (데이터 확인용)\n",
        "\n",
        "plt.figure(figsize = (10, 4))\n",
        "\n",
        "plt.scatter(range(0,300), normal_['s1'][:300], label=\"class = normal\", marker='o', s=5)\n",
        "plt.scatter(range(0,300), type1_['s1'][:300], label=\"class = type1\", marker='o', s=5)\n",
        "# plt.scatter(range(0,300), type2_['s1'][:300], label=\"class = type2\", marker='o', s=5)\n",
        "# plt.scatter(range(0,300), type3_['s1'][:300], label=\"class = type3\", marker='o', s=5)\n",
        "    \n",
        "plt.legend(loc=\"lower right\")\n",
        "plt.xlabel(\"Sensor\", fontsize=15)\n",
        "plt.ylabel(\"Sensor Value\", fontsize=15)\n",
        "plt.show()\n",
        "plt.close()"
      ]
    },
    {
      "cell_type": "markdown",
      "metadata": {
        "id": "R-YKEa1hegWM"
      },
      "source": [
        "### 1.6. 데이터 상관분석\n",
        "* df.corr()을 입력하면 센서 별 상관관계를 확인할 수 있다."
      ]
    },
    {
      "cell_type": "code",
      "execution_count": null,
      "metadata": {
        "id": "s5pkyxc2egWN"
      },
      "outputs": [],
      "source": [
        "normal_.corr()"
      ]
    },
    {
      "cell_type": "markdown",
      "metadata": {
        "id": "rUUtUkANegWN"
      },
      "source": [
        "* Correlation Matrix(상관 행렬)를 통해 센서값 별 상관관계를 이미지로 확인할 수 있다."
      ]
    },
    {
      "cell_type": "code",
      "execution_count": null,
      "metadata": {
        "scrolled": true,
        "id": "pWsY28CfegWN"
      },
      "outputs": [],
      "source": [
        "# python 버전 : 3.7.3 (버전에 따라, jupyter notebook에서 아래 코드가 실행되지 않을 수 있습니다)\n",
        "# 실행이 되지 않는 경우, 아래 코드는 주석처리하고 넘어가도 학습에 영향을 주지 않습니다 (데이터 확인용)\n",
        "\n",
        "names = ['s1','s2','s3','s4']\n",
        "cm = np.corrcoef(normal_[names].values.T)\n",
        "sns.set(font_scale=0.8)\n",
        "sns.heatmap(cm, annot=True, square=True, fmt='.2f', annot_kws={'size': 10}, yticklabels=names, xticklabels=names, cmap=plt.cm.Blues)"
      ]
    },
    {
      "cell_type": "markdown",
      "metadata": {
        "id": "PgwlIvOPegWN"
      },
      "source": [
        "절대값이 0.6보다 클수록 강한 상관관계를 가지며, 0.3보다 작을수록 약한 상관관계를 갖는다. <br>\n",
        "양수의 경우 정(+)의 상관관계, 음수의 경우 부(-)의 상관관계를 갖는다."
      ]
    },
    {
      "cell_type": "markdown",
      "metadata": {
        "id": "itEJf4y5egWN"
      },
      "source": [
        "## 2. 데이터 전처리\n",
        "\n",
        "### 2-1. 데이터 필터링 (Filtering)\n",
        "\n",
        "센서로부터 취득한 데이터는 기본적으로 기계학습에 좋지 않은 영향을 주는 노이즈(Noise)가 포함되어 있다. 센서 데이터에 평균을 취하면 데이터의 노이즈를 제거할 수 있는데, 측정하려는 물리량이 시간에따라 변하는 경우에는 적절하지 않다(데이터의 동적인 변화를 모두 smoothing하는 결과). 따라서 데이터에서 노이즈를 제거하면서, 동적인 변화를 반영하는 방법으로 이동평균필터가 있으며, 본 가이드북에서는 데이터의 노이즈를 처리하기 위해 이동평균필터(Moving Average filter)를 사용하였다. \n",
        "\n",
        "- 이동평균필터 (Moving Average filter)는 python에서 [np.convolve()](https://numpy.org/doc/stable/reference/generated/numpy.convolve.html) 함수로 구현된다 (MATLAB의 filter 함수와 동일). <br>\n",
        "    - np.convolve() : 1차원 신호를 입력으로 받아, 최근 M개의 측정값들의 평균을 구한다.\n",
        "    \n",
        "    - 모든 데이터의 평균이 아니라, 정해진 크기(M개)의 최근 측정값들로만 평균을 구한다. <br>\n",
        "    - 일반적으로 신호 데이터의 변동이 빠른 경우에는 M값을 작게하고, 신호 데이터의 변동이 느린 경우에는 M값을 크게한다. <br>\n",
        "    - 자세한 이론은 [자료](https://www.analog.com/media/en/technical-documentation/dsp-book/dsp_book_Ch15.pdf)를 참고하면 좋다."
      ]
    },
    {
      "cell_type": "code",
      "execution_count": null,
      "metadata": {
        "id": "Oe3qKgW3egWO"
      },
      "outputs": [],
      "source": [
        "M = 15\n",
        "\n",
        "normal_s1 = np.convolve(normal_['s1'], np.ones(M), 'valid') / M; normal_s1 = normal_s1.reshape(len(normal_s1),1)\n",
        "normal_s2 = np.convolve(normal_['s2'], np.ones(M), 'valid') / M; normal_s2 = normal_s2.reshape(len(normal_s2),1)\n",
        "normal_s3 = np.convolve(normal_['s3'], np.ones(M), 'valid') / M; normal_s3 = normal_s3.reshape(len(normal_s3),1)\n",
        "normal_s4 = np.convolve(normal_['s4'], np.ones(M), 'valid') / M; normal_s4 = normal_s4.reshape(len(normal_s4),1)\n",
        "\n",
        "type1_s1 = np.convolve(type1_['s1'], np.ones(M), 'valid') / M; type1_s1 = type1_s1.reshape(len(type1_s1),1)\n",
        "type1_s2 = np.convolve(type1_['s2'], np.ones(M), 'valid') / M; type1_s2 = type1_s2.reshape(len(type1_s2),1)\n",
        "type1_s3 = np.convolve(type1_['s3'], np.ones(M), 'valid') / M; type1_s3 = type1_s3.reshape(len(type1_s3),1)\n",
        "type1_s4 = np.convolve(type1_['s4'], np.ones(M), 'valid') / M; type1_s4 = type1_s4.reshape(len(type1_s4),1)\n",
        "\n",
        "type2_s1 = np.convolve(type2_['s1'], np.ones(M), 'valid') / M; type2_s1 = type2_s1.reshape(len(type2_s1),1)\n",
        "type2_s2 = np.convolve(type2_['s2'], np.ones(M), 'valid') / M; type2_s2 = type2_s2.reshape(len(type2_s2),1)\n",
        "type2_s3 = np.convolve(type2_['s3'], np.ones(M), 'valid') / M; type2_s3 = type2_s3.reshape(len(type2_s3),1)\n",
        "type2_s4 = np.convolve(type2_['s4'], np.ones(M), 'valid') / M; type2_s4 = type2_s4.reshape(len(type2_s4),1)\n",
        "\n",
        "type3_s1 = np.convolve(type3_['s1'], np.ones(M), 'valid') / M; type3_s1 = type3_s1.reshape(len(type3_s1),1)\n",
        "type3_s2 = np.convolve(type3_['s2'], np.ones(M), 'valid') / M; type3_s2 = type3_s2.reshape(len(type3_s2),1)\n",
        "type3_s3 = np.convolve(type3_['s3'], np.ones(M), 'valid') / M; type3_s3 = type3_s3.reshape(len(type3_s3),1)\n",
        "type3_s4 = np.convolve(type3_['s4'], np.ones(M), 'valid') / M; type3_s4 = type3_s4.reshape(len(type3_s4),1)\n",
        "\n",
        "normal_temp = np.concatenate((normal_s1,normal_s2,normal_s3,normal_s4), axis = 1)\n",
        "type1_temp = np.concatenate((type1_s1,type1_s2,type1_s3,type1_s4), axis = 1)\n",
        "type2_temp = np.concatenate((type2_s1,type2_s2,type2_s3,type2_s4), axis = 1)\n",
        "type3_temp = np.concatenate((type3_s1,type3_s2,type3_s3,type3_s4), axis = 1)\n",
        "\n",
        "normal_temp.shape"
      ]
    },
    {
      "cell_type": "markdown",
      "metadata": {
        "id": "4xSUlfKwegWO"
      },
      "source": [
        "### 2-2. 데이터 정규화\n",
        "\n",
        "데이터 (140,000,4)의 센서 값들이 다양한 Range를 갖는다. <br>\n",
        "이는 신경망 학습에 그대로 이용하기엔 적절하지 않다. <br>\n",
        "일반적으로 인풋 값들을 정규화(Normalization)하는데, 본 가이드북에서는 Min-max normalization 활용하여 진행하였다. <br>\n",
        "Min-max normalization는 데이터를 0과 1 사이의 값으로 scaling한다.\n",
        "\n",
        "1) Normal data의 최대값(max)과 최소값(min)을 구한다. <br>\n",
        "2) 정규화할 데이터 값(x)과 앞서 구한 최대값(Xmax), 최소값(Xmin)을 다음의 식에 대입한다.<br>\n",
        "<center><img src = \"https://github.com/jjyjung/ai_mfg/blob/main/img/minmax.png?raw=true\"></center>\n",
        "\n",
        "3) 이와 같은 식은 sklearn.preprocessing의 MinMaxScaler에 구현되어있다."
      ]
    },
    {
      "cell_type": "code",
      "execution_count": null,
      "metadata": {
        "id": "Mfj_77PDegWO"
      },
      "outputs": [],
      "source": [
        "from sklearn.preprocessing import MinMaxScaler\n",
        "\n",
        "scaler = MinMaxScaler()\n",
        "scaler.fit(normal_)\n",
        "normal = scaler.transform(normal_temp)\n",
        "type1  = scaler.transform(type1_temp)\n",
        "type2  = scaler.transform(type2_temp)\n",
        "type3  = scaler.transform(type3_temp)\n",
        "\n",
        "print(normal)\n",
        "print('------------------------------------------------')\n",
        "print('normal data size = ', normal.shape)"
      ]
    },
    {
      "cell_type": "markdown",
      "metadata": {
        "id": "0rZQiqxxegWP"
      },
      "source": [
        "이동평균 필터링 후에 데이터의 사이즈를 조정한다(옵션, 본 가이드 북에서는 숫자를 쉽게 확인할 수 있도록 함). <br>\n",
        "rotor testbed 가동 후 몇 초간 (약 30초)의 데이터를 탈락시키고 이후 데이터를 사용하였다(steady state). <br>\n",
        "\n",
        "데이터 사이즈를 (100000, 4)로 맞춰주었다."
      ]
    },
    {
      "cell_type": "code",
      "execution_count": null,
      "metadata": {
        "id": "hLEEP9vUegWP"
      },
      "outputs": [],
      "source": [
        "normal = normal[30000:130000][:]\n",
        "type1  = type1[30000:130000][:]\n",
        "type2  = type2[30000:130000][:]\n",
        "type3  = type3[30000:130000][:]\n",
        "\n",
        "print(normal)\n",
        "print('------------------------------------------------')\n",
        "print('normal data size = ', normal.shape)"
      ]
    },
    {
      "cell_type": "markdown",
      "metadata": {
        "id": "IXtpvuUNegWQ"
      },
      "source": [
        "### 2-3. 데이터 분할\n",
        "\n",
        "Normal, type1, type2, type3를 1:1:1:1의 비율로 각각 training data, validation data, test data로 나눈다. <br>\n",
        "이 때, 학습 : 검증 : 테스트 비율은 6 : 2 : 2 로 분할하였다."
      ]
    },
    {
      "cell_type": "code",
      "execution_count": null,
      "metadata": {
        "id": "J88Alfl5egWQ"
      },
      "outputs": [],
      "source": [
        "# 데이터 분배\n",
        "normal_train = normal[:][:60000]; normal_valid = normal[:][60000:80000]; normal_test = normal[:][80000:]\n",
        "type1_train  = type1[:][:60000];  type1_valid  = type1[:][60000:80000];  type1_test  = type1[:][80000:]\n",
        "type2_train  = type2[:][:60000];  type2_valid  = type2[:][60000:80000];  type2_test  = type2[:][80000:]\n",
        "type3_train  = type3[:][:60000];  type3_valid  = type3[:][60000:80000];  type3_test  = type3[:][80000:]"
      ]
    },
    {
      "cell_type": "markdown",
      "source": [
        "### 2-4. ML 모델 학습을 위한 통계적 지(SI)표 추출\n",
        "\n",
        "머신러닝 알고리즘(SVM, Random Forest 등) 학습을 위하여 시계열 데이터에서 통계적 지표(SI)를 추출한다. <br>\n",
        "본 실험에서는 0.5초 동안의 데이터를 하나의 구간으로 보고, 해당 구간에서 통계지표를 추출한다. <br>\n",
        "평균, 표준편차, 왜도, 첨도 등 아래 표와 같이 10가지 통계지표를 사용한다.\n",
        "\n",
        "\n",
        "![image.png](data:image/png;base64,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)"
      ],
      "metadata": {
        "id": "n9WgUb0cTkyK"
      }
    },
    {
      "cell_type": "markdown",
      "source": [
        "* 통계적 지표(SI)를 추출하는 함수 정의\n",
        "* 0.5초씩 구간을 나누는 함수 정의\n",
        "* 두 가지 함수를 실행시켜, 네 가지 class의 데이터를 0.5초로 분할한 후, SI 지표를 추출함"
      ],
      "metadata": {
        "id": "uawmVmRADYuA"
      }
    },
    {
      "cell_type": "code",
      "source": [
        "# 통계적 지표(SI) 함수 정의\n",
        "def get_mean(x):\n",
        "    avg = np.mean(x)\n",
        "    return(avg)\n",
        "\n",
        "def get_std(x):\n",
        "    std = np.std(x)\n",
        "    return(std)\n",
        "\n",
        "def get_skewness(x):\n",
        "    skewness = sum((x - np.mean(x))**3) / ((len(x)-1)*(np.std(x)**3))\n",
        "    return(skewness)\n",
        "\n",
        "def get_kurtosis(x):\n",
        "    kurtosis = sum((x - np.mean(x))**4) / ((len(x)-1)*(np.std(x)**4))\n",
        "    return (kurtosis)\n",
        "\n",
        "def get_p2p(x):\n",
        "    p2p = (np.max(x) - np.min(x))\n",
        "    return(p2p)\n",
        "\n",
        "def get_rms(x):\n",
        "    rms = np.sqrt(sum(x**2) / len(x))\n",
        "    return(rms)\n",
        "\n",
        "def get_crestFactor(x):\n",
        "    crestFactor = get_p2p(x) / get_rms(x)\n",
        "    return(crestFactor)\n",
        "\n",
        "def get_shapeFactor(x):\n",
        "    shapeFactor = get_rms(x) / get_mean(x)\n",
        "    return(shapeFactor)\n",
        "    \n",
        "def get_marginFactor(x):\n",
        "    marginFactor = np.max(x) / (np.mean((np.sqrt(abs(x))))**2)\n",
        "    return(marginFactor)\n",
        "\n",
        "def get_impulseFactor(x):\n",
        "    impulseFactor = np.max(x) / np.mean(abs(x))\n",
        "    return(impulseFactor)\n",
        "\n",
        "def make_df(x, sensor_num):\n",
        "    mean_value = np.apply_along_axis(get_mean, 1, x)\n",
        "    std_value = np.apply_along_axis(get_std, 1, x)\n",
        "    skewness_value = np.apply_along_axis(get_skewness, 1, x)\n",
        "    kurtosis_value = np.apply_along_axis(get_kurtosis, 1, x)\n",
        "    p2p_value = np.apply_along_axis(get_p2p, 1, x)\n",
        "    rms_value = np.apply_along_axis(get_rms, 1, x)\n",
        "    crestFactor_value = np.apply_along_axis(get_crestFactor, 1, x)\n",
        "    shapeFactor_value = np.apply_along_axis(get_shapeFactor, 1, x)\n",
        "    marginFactor_value = np.apply_along_axis(get_marginFactor, 1, x)\n",
        "    impulseFactor_value = np.apply_along_axis(get_impulseFactor, 1, x)\n",
        "    \n",
        "    df = pd.DataFrame({'mean_'+sensor_num:mean_value, 'std_'+sensor_num:std_value, 'skewness_'+sensor_num:skewness_value, \n",
        "                       'kurtosis_'+sensor_num:kurtosis_value, 'p2p_'+sensor_num:p2p_value, 'rms_'+sensor_num:rms_value,\n",
        "                       'crest_'+sensor_num:crestFactor_value, 'shape_'+sensor_num:shapeFactor_value, \n",
        "                       'margin_'+sensor_num:marginFactor_value, 'impulse_'+sensor_num:impulseFactor_value})\n",
        "    \n",
        "    return(df)\n",
        "\n",
        "# 0.5초 구간별로 분할하여 SI를 측정하는 함수 정의\n",
        "def generate_data(data):\n",
        "  data = pd.DataFrame(data)\n",
        "  df = pd.DataFrame()\n",
        "  i = 0\n",
        "  window_len = 500\n",
        "  while data.shape[0] >= window_len:\n",
        "    input = data.iloc[window_len*i:window_len*(i+1),:]\n",
        "    input_arr = np.array(input).reshape((1,-1))\n",
        "    df = pd.concat([df, pd.DataFrame(input_arr)], axis=0)\n",
        "    # print(df)\n",
        "    data = data.iloc[window_len*(i+1):,:]\n",
        "    # i += 1\n",
        "\n",
        "  df = df.reset_index(drop=True)\n",
        "  return df.drop(index=df.index[-1])\n",
        "\n",
        "\n",
        "def extract_SI(data):\n",
        "  s1_tmp = generate_data(data[:,0])\n",
        "  s2_tmp = generate_data(data[:,1])\n",
        "  s3_tmp = generate_data(data[:,2])\n",
        "  s4_tmp = generate_data(data[:,3])\n",
        "\n",
        "  s1_ext = make_df(s1_tmp, 's1')\n",
        "  s2_ext = make_df(s2_tmp, 's2')\n",
        "  s3_ext = make_df(s3_tmp, 's3')\n",
        "  s4_ext = make_df(s4_tmp, 's4')\n",
        "\n",
        "  df = pd.concat([s1_ext, s2_ext, s3_ext, s4_ext], axis=1)\n",
        "  return df\n",
        "\n",
        "\n",
        "# 0.5초 분할 및 SI 측정하는 코드 실행\n",
        "normal_train_ext = extract_SI(normal_train)\n",
        "type1_train_ext = extract_SI(type1_train)\n",
        "type2_train_ext = extract_SI(type2_train)\n",
        "type3_train_ext = extract_SI(type3_train)\n",
        "\n",
        "normal_test_ext = extract_SI(normal_test)\n",
        "type1_test_ext = extract_SI(type1_test)\n",
        "type2_test_ext = extract_SI(type2_test)\n",
        "type3_test_ext = extract_SI(type3_test)"
      ],
      "metadata": {
        "id": "1F0K0Vt1TNl_"
      },
      "execution_count": null,
      "outputs": []
    },
    {
      "cell_type": "markdown",
      "source": [
        "* Normal, Type1, Type2, Type3에 대하여 0, 1, 2, 3으로 라벨링 부여"
      ],
      "metadata": {
        "id": "ySPjI114Dv80"
      }
    },
    {
      "cell_type": "code",
      "source": [
        "# Normal, Type1, Type2, Type3에 대하여 0, 1, 2, 3으로 라벨링 부여\n",
        "normal_train_ext_labeled = np.append(normal_train_ext, np.repeat(0, normal_train_ext.shape[0]).reshape(normal_train_ext.shape[0], 1), axis=1)\n",
        "type1_train_ext_labeled = np.append(type1_train_ext, np.repeat(1, type1_train_ext.shape[0]).reshape(type1_train_ext.shape[0], 1), axis=1)\n",
        "type2_train_ext_labeled = np.append(type2_train_ext, np.repeat(2, type2_train_ext.shape[0]).reshape(type2_train_ext.shape[0], 1), axis=1)\n",
        "type3_train_ext_labeled = np.append(type3_train_ext, np.repeat(3, type3_train_ext.shape[0]).reshape(type3_train_ext.shape[0], 1), axis=1)\n",
        "\n",
        "normal_test_ext_labeled = np.append(normal_test_ext, np.repeat(0, normal_test_ext.shape[0]).reshape(normal_test_ext.shape[0], 1), axis=1)\n",
        "type1_test_ext_labeled = np.append(type1_test_ext, np.repeat(1, type1_test_ext.shape[0]).reshape(type1_test_ext.shape[0], 1), axis=1)\n",
        "type2_test_ext_labeled = np.append(type2_test_ext, np.repeat(2, type2_test_ext.shape[0]).reshape(type2_test_ext.shape[0], 1), axis=1)\n",
        "type3_test_ext_labeled = np.append(type3_test_ext, np.repeat(3, type3_test_ext.shape[0]).reshape(type3_test_ext.shape[0], 1), axis=1)\n",
        "\n",
        "\n",
        "print(normal_train_ext_labeled.shape)\n",
        "print(type1_train_ext_labeled.shape)\n",
        "print(type2_train_ext_labeled.shape)\n",
        "print(type3_train_ext_labeled.shape)"
      ],
      "metadata": {
        "id": "DldkC7wZQvDu"
      },
      "execution_count": null,
      "outputs": []
    },
    {
      "cell_type": "markdown",
      "source": [
        "* 골고루 학습하게 하기 위하여, 생성 데이터들의 Shuffling 수행"
      ],
      "metadata": {
        "id": "2sFMgxisD5-t"
      }
    },
    {
      "cell_type": "code",
      "source": [
        "combined_trn = np.concatenate((normal_train_ext_labeled, type1_train_ext_labeled, type2_train_ext_labeled, type3_train_ext_labeled))\n",
        "combined_test = np.concatenate((normal_test_ext_labeled, type1_test_ext_labeled, type2_test_ext_labeled, type3_test_ext_labeled))\n",
        "\n",
        "np.random.shuffle(combined_trn)\n",
        "np.random.shuffle(combined_test)"
      ],
      "metadata": {
        "id": "U7OV4hY3SKgY"
      },
      "execution_count": null,
      "outputs": []
    },
    {
      "cell_type": "markdown",
      "metadata": {
        "id": "6_It14bdegWS"
      },
      "source": [
        "## 3. 모델 구축\n",
        "\n"
      ]
    },
    {
      "cell_type": "markdown",
      "source": [
        "###3-1. 서포트벡터머신 (SVM)\n",
        "..."
      ],
      "metadata": {
        "id": "uQKBAWdEbv-B"
      }
    },
    {
      "cell_type": "markdown",
      "source": [
        "### 3-2. 랜덤 포레스트 (Random Forest)\n",
        "..."
      ],
      "metadata": {
        "id": "oX5WhwGSbvrP"
      }
    },
    {
      "cell_type": "markdown",
      "metadata": {
        "id": "i9kANjKNegWU"
      },
      "source": [
        "## 4. 모델 학습"
      ]
    },
    {
      "cell_type": "markdown",
      "source": [
        "### 4-1. 서포트벡터머신 (SVM) 모델 학습\n"
      ],
      "metadata": {
        "id": "HzAKSe2UcIR0"
      }
    },
    {
      "cell_type": "code",
      "source": [
        "from sklearn import svm\n",
        "from scipy.stats import randint as sp_randint\n",
        "from sklearn.model_selection import GridSearchCV\n",
        "\n",
        "# SVM\n",
        "SVM_model = svm.SVC()\n",
        "\n",
        "param_dist = {\"C\" : [10, 50, 100], \"kernel\": ['linear', 'rbf', 'poly']}\n",
        "\n",
        "tuned_svm = GridSearchCV(SVM_model, param_grid=param_dist, verbose=2, refit=True)\n",
        "tuned_svm.fit(combined_trn[:,:-1], combined_trn[:,-1])\n",
        "\n",
        "# 최적 파라미터 값\n",
        "print(tuned_svm.best_params_)"
      ],
      "metadata": {
        "id": "YBbsMl7TBPDS",
        "colab": {
          "base_uri": "https://localhost:8080/"
        },
        "outputId": "b39a4671-7e2e-42c1-db82-7105450df092"
      },
      "execution_count": null,
      "outputs": [
        {
          "output_type": "stream",
          "name": "stdout",
          "text": [
            "Fitting 5 folds for each of 9 candidates, totalling 45 fits\n",
            "[CV] END ................................C=10, kernel=linear; total time=   0.0s\n",
            "[CV] END ................................C=10, kernel=linear; total time=   0.0s\n",
            "[CV] END ................................C=10, kernel=linear; total time=   0.0s\n",
            "[CV] END ................................C=10, kernel=linear; total time=   0.0s\n",
            "[CV] END ................................C=10, kernel=linear; total time=   0.0s\n",
            "[CV] END ...................................C=10, kernel=rbf; total time=   0.0s\n",
            "[CV] END ...................................C=10, kernel=rbf; total time=   0.0s\n",
            "[CV] END ...................................C=10, kernel=rbf; total time=   0.0s\n",
            "[CV] END ...................................C=10, kernel=rbf; total time=   0.0s\n",
            "[CV] END ...................................C=10, kernel=rbf; total time=   0.0s\n",
            "[CV] END ..................................C=10, kernel=poly; total time=   0.0s\n",
            "[CV] END ..................................C=10, kernel=poly; total time=   0.0s\n",
            "[CV] END ..................................C=10, kernel=poly; total time=   0.0s\n",
            "[CV] END ..................................C=10, kernel=poly; total time=   0.0s\n",
            "[CV] END ..................................C=10, kernel=poly; total time=   0.0s\n",
            "[CV] END ................................C=50, kernel=linear; total time=   0.0s\n",
            "[CV] END ................................C=50, kernel=linear; total time=   0.0s\n",
            "[CV] END ................................C=50, kernel=linear; total time=   0.0s\n",
            "[CV] END ................................C=50, kernel=linear; total time=   0.0s\n",
            "[CV] END ................................C=50, kernel=linear; total time=   0.0s\n",
            "[CV] END ...................................C=50, kernel=rbf; total time=   0.0s\n",
            "[CV] END ...................................C=50, kernel=rbf; total time=   0.0s\n",
            "[CV] END ...................................C=50, kernel=rbf; total time=   0.0s\n",
            "[CV] END ...................................C=50, kernel=rbf; total time=   0.0s\n",
            "[CV] END ...................................C=50, kernel=rbf; total time=   0.0s\n",
            "[CV] END ..................................C=50, kernel=poly; total time=   0.0s\n",
            "[CV] END ..................................C=50, kernel=poly; total time=   0.0s\n",
            "[CV] END ..................................C=50, kernel=poly; total time=   0.0s\n",
            "[CV] END ..................................C=50, kernel=poly; total time=   0.0s\n",
            "[CV] END ..................................C=50, kernel=poly; total time=   0.0s\n",
            "[CV] END ...............................C=100, kernel=linear; total time=   0.0s\n",
            "[CV] END ...............................C=100, kernel=linear; total time=   0.0s\n",
            "[CV] END ...............................C=100, kernel=linear; total time=   0.0s\n",
            "[CV] END ...............................C=100, kernel=linear; total time=   0.0s\n",
            "[CV] END ...............................C=100, kernel=linear; total time=   0.0s\n",
            "[CV] END ..................................C=100, kernel=rbf; total time=   0.0s\n",
            "[CV] END ..................................C=100, kernel=rbf; total time=   0.0s\n",
            "[CV] END ..................................C=100, kernel=rbf; total time=   0.0s\n",
            "[CV] END ..................................C=100, kernel=rbf; total time=   0.0s\n",
            "[CV] END ..................................C=100, kernel=rbf; total time=   0.0s\n",
            "[CV] END .................................C=100, kernel=poly; total time=   0.0s\n",
            "[CV] END .................................C=100, kernel=poly; total time=   0.0s\n",
            "[CV] END .................................C=100, kernel=poly; total time=   0.0s\n",
            "[CV] END .................................C=100, kernel=poly; total time=   0.0s\n",
            "[CV] END .................................C=100, kernel=poly; total time=   0.0s\n",
            "{'C': 10, 'kernel': 'linear'}\n"
          ]
        }
      ]
    },
    {
      "cell_type": "markdown",
      "source": [
        "### 4-2. 랜덤 포레스트 (Random Forest) 모델 학습\n"
      ],
      "metadata": {
        "id": "rsbcTop-cOUS"
      }
    },
    {
      "cell_type": "code",
      "source": [
        "from sklearn.ensemble import RandomForestClassifier\n",
        "\n",
        "# Random Forest\n",
        "RF_model = RandomForestClassifier()\n",
        "\n",
        "param_dist = {\"n_estimators\": [100, 200, 400, 800],\n",
        "              \"max_depth\": [10, 20, 40]}\n",
        "\n",
        "tuned_rf = GridSearchCV(RF_model, param_grid=param_dist, verbose=2, refit=True)\n",
        "tuned_rf.fit(combined_trn[:,:-1], combined_trn[:,-1])\n",
        "\n",
        "# 최적 파라미터 값\n",
        "print(tuned_rf.best_params_)"
      ],
      "metadata": {
        "id": "piCZXZBgH7Vz"
      },
      "execution_count": null,
      "outputs": []
    },
    {
      "cell_type": "markdown",
      "source": [
        "모델을 선택하여 학습하기 위한 함수를 정의함"
      ],
      "metadata": {
        "id": "O8hgURl_Mucs"
      }
    },
    {
      "cell_type": "code",
      "execution_count": null,
      "metadata": {
        "id": "ZKgmD8jNegWU"
      },
      "outputs": [],
      "source": [
        "def train_model(model, criterion, optimizer, num_epoch, train_dataloader, PATH):\n",
        "    loss_values = []\n",
        "    loss_values_v = []\n",
        "    check = 0; accuracy_past = 0\n",
        "    for epoch in range(1, num_epochs + 1):\n",
        "        #---------------------- 모델 학습 ---------------------#\n",
        "        model.train()\n",
        "        batch_number = 0\n",
        "        running_loss = 0.0\n",
        "        for batch_idx, samples in enumerate(train_dataloader):\n",
        "            x_train, y_train = samples\n",
        "            \n",
        "            # 변수 초기화\n",
        "            optimizer.zero_grad() \n",
        "            y_hat = model.forward(x_train)\n",
        "            loss = criterion(y_hat,y_train.long())\n",
        "            # 모델의 파라미터와 관련된 loss의 그래디언트 계산\n",
        "            loss.backward()\n",
        "            # 신경망 가중치(parameter) 업데이트\n",
        "            optimizer.step()\n",
        "            \n",
        "            running_loss += loss.item()\n",
        "            batch_number += 1\n",
        "        loss_values.append(running_loss / batch_number)\n",
        "        #------------------------------------------------------#\n",
        "        \n",
        "        #---------------------- 모델 검증 ---------------------#\n",
        "        model.eval()\n",
        "        accuracy = 0.0\n",
        "        total = 0.0\n",
        "        for batch_idx, data in enumerate(valid_dataloader):\n",
        "            x_valid, y_valid = data\n",
        "            \n",
        "            v_hat = model.forward(x_valid)\n",
        "            v_loss = criterion(v_hat,y_valid.long())\n",
        "\n",
        "            _, predicted = torch.max(v_hat.data, 1)\n",
        "            total += y_valid.size(0)\n",
        "            accuracy += (predicted == y_valid).sum().item()\n",
        "        loss_values_v.append(loss.item())\n",
        "        accuracy = (accuracy / total)\n",
        "        #------------------------------------------------------#\n",
        "        # Check for early stopping\n",
        "        \n",
        "        if epoch % 2 == 0:\n",
        "            print('[Epoch {}/{}] [Train_Loss: {:.6f} , Valid_Loss: {:.6f} , Accuracy: {:.6f}]'.format(epoch, num_epochs, loss.item(), v_loss.item(), accuracy))\n",
        "            \n",
        "        if accuracy_past > accuracy:\n",
        "            check += 1\n",
        "        else:\n",
        "            check = 0\n",
        "            accuracy_past = accuracy\n",
        "        \n",
        "        if check > 50:\n",
        "            print('This is time to do early stopping')\n",
        "                \n",
        "    torch.save(model, PATH + 'model.pt')\n",
        "    return loss_values, loss_values_v"
      ]
    },
    {
      "cell_type": "markdown",
      "metadata": {
        "id": "r-XLJyY1egWV"
      },
      "source": [
        "## 5. 모델 평가"
      ]
    },
    {
      "cell_type": "markdown",
      "source": [
        "#### ML모델 평가"
      ],
      "metadata": {
        "id": "8CEpSjfuck4s"
      }
    },
    {
      "cell_type": "markdown",
      "source": [
        "#### 5-1. 서포트벡터머신 (SVM) 모델 성능 평가"
      ],
      "metadata": {
        "id": "luCiOc30crt9"
      }
    },
    {
      "cell_type": "code",
      "source": [
        "from sklearn.metrics import accuracy_score, f1_score\n",
        "from sklearn.metrics import confusion_matrix\n",
        "\n",
        "y_pred = tuned_svm.predict(combined_test[:,:-1])\n",
        "\n",
        "accuracy = accuracy_score(combined_test[:,-1], y_pred)\n",
        "f1 = f1_score(combined_test[:,-1], y_pred, average='weighted')\n",
        "print('Accuracy: ', \"%.2f\" % (accuracy*100))\n",
        "print('F1: ', \"%.2f\" % (f1*100))\n",
        "\n",
        "# Confusion Matrix 생성\n",
        "Confusion_Matrix = confusion_matrix(combined_test[:,-1], y_pred)\n",
        "\n",
        "cm_df = pd.DataFrame(Confusion_Matrix,\n",
        "                     index = ['normal','type1','type2','type3'], \n",
        "                     columns = ['normal','type1','type2','type3'])\n",
        "\n",
        "#Plotting the confusion matrix\n",
        "plt.figure(figsize=(5,4))\n",
        "sns.heatmap(cm_df, annot=True)\n",
        "plt.title('Confusion Matrix')\n",
        "plt.ylabel('Actal')\n",
        "plt.xlabel('Predicted')\n",
        "plt.show()"
      ],
      "metadata": {
        "id": "MIDDIAbNBxtj"
      },
      "execution_count": null,
      "outputs": []
    },
    {
      "cell_type": "markdown",
      "source": [
        "#### 5-2. 랜덤 포레스트 (Random Forest) 모델 성능 평가"
      ],
      "metadata": {
        "id": "kOKM1gzHcxTP"
      }
    },
    {
      "cell_type": "code",
      "source": [
        "y_pred = tuned_rf.predict(combined_test[:,:-1])\n",
        "\n",
        "accuracy = accuracy_score(combined_test[:,-1], y_pred)\n",
        "f1 = f1_score(combined_test[:,-1], y_pred, average='weighted')\n",
        "print('Accuracy: ', \"%.2f\" % (accuracy*100))\n",
        "print('F1: ', \"%.2f\" % (f1*100))\n",
        "\n",
        "# Confusion Matrix 생성\n",
        "Confusion_Matrix = confusion_matrix(combined_test[:,-1], y_pred)\n",
        "\n",
        "cm_df = pd.DataFrame(Confusion_Matrix,\n",
        "                     index = ['normal','type1','type2','type3'], \n",
        "                     columns = ['normal','type1','type2','type3'])\n",
        "\n",
        "#Plotting the confusion matrix\n",
        "plt.figure(figsize=(5,4))\n",
        "sns.heatmap(cm_df, annot=True)\n",
        "plt.title('Confusion Matrix')\n",
        "plt.ylabel('Actal')\n",
        "plt.xlabel('Predicted')\n",
        "plt.show()"
      ],
      "metadata": {
        "id": "Sq1Uj-EzMDFn"
      },
      "execution_count": null,
      "outputs": []
    }
  ],
  "metadata": {
    "colab": {
      "collapsed_sections": [
        "uQKBAWdEbv-B",
        "8CEpSjfuck4s"
      ],
      "name": "회전기계_고장진단_실습_ML_v1.0",
      "provenance": [],
      "include_colab_link": true
    },
    "kernelspec": {
      "display_name": "Python 3 (ipykernel)",
      "language": "python",
      "name": "python3"
    },
    "language_info": {
      "codemirror_mode": {
        "name": "ipython",
        "version": 3
      },
      "file_extension": ".py",
      "mimetype": "text/x-python",
      "name": "python",
      "nbconvert_exporter": "python",
      "pygments_lexer": "ipython3",
      "version": "3.7.3"
    },
    "gpuClass": "standard"
  },
  "nbformat": 4,
  "nbformat_minor": 0
}