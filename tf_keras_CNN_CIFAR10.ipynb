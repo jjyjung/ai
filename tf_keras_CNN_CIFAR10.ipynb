{
  "nbformat": 4,
  "nbformat_minor": 0,
  "metadata": {
    "accelerator": "TPU",
    "colab": {
      "name": "tf.keras_CNN_CIFAR10.ipynb",
      "provenance": [],
      "authorship_tag": "ABX9TyO4q0P3J4mnEPDSAEAdG3cw",
      "include_colab_link": true
    },
    "kernelspec": {
      "display_name": "Python 3",
      "name": "python3"
    },
    "language_info": {
      "name": "python"
    }
  },
  "cells": [
    {
      "cell_type": "markdown",
      "metadata": {
        "id": "view-in-github",
        "colab_type": "text"
      },
      "source": [
        "<a href=\"https://colab.research.google.com/github/jjyjung/ai/blob/gh-pages/tf_keras_CNN_CIFAR10.ipynb\" target=\"_parent\"><img src=\"https://colab.research.google.com/assets/colab-badge.svg\" alt=\"Open In Colab\"/></a>"
      ]
    },
    {
      "cell_type": "code",
      "metadata": {
        "colab": {
          "base_uri": "https://localhost:8080/",
          "height": 1000
        },
        "id": "C5wIQM49a8kj",
        "outputId": "233346e4-f249-44b1-f957-e6889da77fea"
      },
      "source": [
        "import numpy as np\n",
        "import tensorflow as tf\n",
        "from tensorflow.keras.datasets import cifar10\n",
        "from tensorflow.keras.models import Sequential\n",
        "from tensorflow.keras.layers import Conv2D,MaxPooling2D,Flatten,Dense,Dropout\n",
        "from tensorflow.keras.optimizers import Adam\n",
        "\n",
        "# CIFAR-10 데이터셋을 읽고 신경망에 입력할 형태로 변환\n",
        "(x_train,y_train),(x_test,y_test)=cifar10.load_data()\n",
        "x_train=x_train.astype(np.float32)/255.0\n",
        "x_test=x_test.astype(np.float32)/255.0\n",
        "y_train=tf.keras.utils.to_categorical(y_train,10)\n",
        "y_test=tf.keras.utils.to_categorical(y_test,10)\n",
        "\n",
        "# 신경망 모델 설계\n",
        "cnn=Sequential()\n",
        "cnn.add(Conv2D(32,(3,3),activation='relu',input_shape=(32,32,3)))\n",
        "cnn.add(Conv2D(32,(3,3),activation='relu'))\n",
        "cnn.add(MaxPooling2D(pool_size=(2,2)))\n",
        "cnn.add(Dropout(0.25))\n",
        "cnn.add(Conv2D(64,(3,3),activation='relu'))\n",
        "cnn.add(Conv2D(64,(3,3),activation='relu'))\n",
        "cnn.add(MaxPooling2D(pool_size=(2,2)))\n",
        "cnn.add(Dropout(0.25))\n",
        "cnn.add(Flatten())\n",
        "cnn.add(Dense(512,activation='relu'))\n",
        "cnn.add(Dropout(0.5))\n",
        "cnn.add(Dense(10,activation='softmax'))\n",
        "\n",
        "# 신경망 모델 학습\n",
        "cnn.compile(loss='categorical_crossentropy',optimizer=Adam(),metrics=['accuracy'])\n",
        "hist=cnn.fit(x_train,y_train,batch_size=128,epochs=30,validation_data=(x_test,y_test),verbose=2)\n",
        "\n",
        "# 신경망 모델 정확률 평가\n",
        "res=cnn.evaluate(x_test,y_test,verbose=0)\n",
        "print(\"정확률은\",res[1]*100)\n",
        "\n",
        "import matplotlib.pyplot as plt\n",
        "\n",
        "# 정확률 그래프\n",
        "plt.plot(hist.history['accuracy'])\n",
        "plt.plot(hist.history['val_accuracy'])\n",
        "plt.title('Model accuracy')\n",
        "plt.ylabel('Accuracy')\n",
        "plt.xlabel('Epoch')\n",
        "plt.legend(['Train','Validation'], loc='best')\n",
        "plt.grid()\n",
        "plt.show()\n",
        "\n",
        "# 손실 함수 그래프\n",
        "plt.plot(hist.history['loss'])\n",
        "plt.plot(hist.history['val_loss'])\n",
        "plt.title('Model loss')\n",
        "plt.ylabel('Loss')\n",
        "plt.xlabel('Epoch')\n",
        "plt.legend(['Train','Validation'],loc='best')\n",
        "plt.grid()\n",
        "plt.show()\n",
        "cnn.save(\"my_cnn.h5\")"
      ],
      "execution_count": null,
      "outputs": [
        {
          "name": "stdout",
          "output_type": "stream",
          "text": [
            "Downloading data from https://www.cs.toronto.edu/~kriz/cifar-10-python.tar.gz\n",
            "170500096/170498071 [==============================] - 2s 0us/step\n",
            "170508288/170498071 [==============================] - 2s 0us/step\n",
            "Epoch 1/30\n",
            "391/391 - 38s - loss: 1.6809 - accuracy: 0.3797 - val_loss: 1.3477 - val_accuracy: 0.5091 - 38s/epoch - 96ms/step\n",
            "Epoch 2/30\n",
            "391/391 - 7s - loss: 1.3154 - accuracy: 0.5270 - val_loss: 1.1509 - val_accuracy: 0.5930 - 7s/epoch - 17ms/step\n",
            "Epoch 3/30\n",
            "391/391 - 7s - loss: 1.1313 - accuracy: 0.5970 - val_loss: 0.9996 - val_accuracy: 0.6469 - 7s/epoch - 17ms/step\n",
            "Epoch 4/30\n",
            "391/391 - 7s - loss: 1.0157 - accuracy: 0.6417 - val_loss: 0.9062 - val_accuracy: 0.6829 - 7s/epoch - 17ms/step\n",
            "Epoch 5/30\n",
            "391/391 - 7s - loss: 0.9357 - accuracy: 0.6703 - val_loss: 0.8258 - val_accuracy: 0.7106 - 7s/epoch - 18ms/step\n",
            "Epoch 6/30\n",
            "391/391 - 7s - loss: 0.8715 - accuracy: 0.6930 - val_loss: 0.7768 - val_accuracy: 0.7313 - 7s/epoch - 17ms/step\n",
            "Epoch 7/30\n",
            "391/391 - 7s - loss: 0.8101 - accuracy: 0.7147 - val_loss: 0.7466 - val_accuracy: 0.7432 - 7s/epoch - 17ms/step\n",
            "Epoch 8/30\n",
            "391/391 - 7s - loss: 0.7711 - accuracy: 0.7298 - val_loss: 0.7244 - val_accuracy: 0.7492 - 7s/epoch - 17ms/step\n",
            "Epoch 9/30\n",
            "391/391 - 7s - loss: 0.7416 - accuracy: 0.7398 - val_loss: 0.7293 - val_accuracy: 0.7457 - 7s/epoch - 17ms/step\n",
            "Epoch 10/30\n",
            "391/391 - 7s - loss: 0.7017 - accuracy: 0.7534 - val_loss: 0.6836 - val_accuracy: 0.7618 - 7s/epoch - 17ms/step\n",
            "Epoch 11/30\n",
            "391/391 - 7s - loss: 0.6724 - accuracy: 0.7643 - val_loss: 0.6905 - val_accuracy: 0.7606 - 7s/epoch - 17ms/step\n",
            "Epoch 12/30\n",
            "391/391 - 7s - loss: 0.6425 - accuracy: 0.7740 - val_loss: 0.6602 - val_accuracy: 0.7756 - 7s/epoch - 17ms/step\n",
            "Epoch 13/30\n",
            "391/391 - 7s - loss: 0.6221 - accuracy: 0.7820 - val_loss: 0.6616 - val_accuracy: 0.7743 - 7s/epoch - 17ms/step\n",
            "Epoch 14/30\n",
            "391/391 - 7s - loss: 0.6076 - accuracy: 0.7862 - val_loss: 0.6445 - val_accuracy: 0.7798 - 7s/epoch - 17ms/step\n",
            "Epoch 15/30\n",
            "391/391 - 7s - loss: 0.5865 - accuracy: 0.7943 - val_loss: 0.6396 - val_accuracy: 0.7826 - 7s/epoch - 17ms/step\n",
            "Epoch 16/30\n",
            "391/391 - 7s - loss: 0.5697 - accuracy: 0.7981 - val_loss: 0.6519 - val_accuracy: 0.7751 - 7s/epoch - 17ms/step\n",
            "Epoch 17/30\n",
            "391/391 - 7s - loss: 0.5538 - accuracy: 0.8040 - val_loss: 0.6388 - val_accuracy: 0.7839 - 7s/epoch - 17ms/step\n",
            "Epoch 18/30\n",
            "391/391 - 7s - loss: 0.5357 - accuracy: 0.8090 - val_loss: 0.6314 - val_accuracy: 0.7866 - 7s/epoch - 17ms/step\n",
            "Epoch 19/30\n",
            "391/391 - 7s - loss: 0.5300 - accuracy: 0.8134 - val_loss: 0.6234 - val_accuracy: 0.7865 - 7s/epoch - 18ms/step\n",
            "Epoch 20/30\n",
            "391/391 - 7s - loss: 0.5078 - accuracy: 0.8170 - val_loss: 0.6198 - val_accuracy: 0.7913 - 7s/epoch - 18ms/step\n",
            "Epoch 21/30\n",
            "391/391 - 7s - loss: 0.5015 - accuracy: 0.8204 - val_loss: 0.6095 - val_accuracy: 0.7921 - 7s/epoch - 17ms/step\n",
            "Epoch 22/30\n",
            "391/391 - 7s - loss: 0.4891 - accuracy: 0.8253 - val_loss: 0.6358 - val_accuracy: 0.7864 - 7s/epoch - 17ms/step\n",
            "Epoch 23/30\n",
            "391/391 - 7s - loss: 0.4851 - accuracy: 0.8280 - val_loss: 0.6449 - val_accuracy: 0.7839 - 7s/epoch - 17ms/step\n",
            "Epoch 24/30\n",
            "391/391 - 7s - loss: 0.4739 - accuracy: 0.8333 - val_loss: 0.6044 - val_accuracy: 0.7946 - 7s/epoch - 17ms/step\n",
            "Epoch 25/30\n",
            "391/391 - 7s - loss: 0.4540 - accuracy: 0.8373 - val_loss: 0.6265 - val_accuracy: 0.7912 - 7s/epoch - 17ms/step\n",
            "Epoch 26/30\n",
            "391/391 - 7s - loss: 0.4477 - accuracy: 0.8394 - val_loss: 0.6469 - val_accuracy: 0.7846 - 7s/epoch - 17ms/step\n",
            "Epoch 27/30\n",
            "391/391 - 7s - loss: 0.4371 - accuracy: 0.8441 - val_loss: 0.6238 - val_accuracy: 0.7966 - 7s/epoch - 17ms/step\n",
            "Epoch 28/30\n",
            "391/391 - 7s - loss: 0.4354 - accuracy: 0.8426 - val_loss: 0.6062 - val_accuracy: 0.7973 - 7s/epoch - 18ms/step\n",
            "Epoch 29/30\n",
            "391/391 - 7s - loss: 0.4194 - accuracy: 0.8499 - val_loss: 0.6157 - val_accuracy: 0.8001 - 7s/epoch - 18ms/step\n",
            "Epoch 30/30\n",
            "391/391 - 7s - loss: 0.4105 - accuracy: 0.8505 - val_loss: 0.6113 - val_accuracy: 0.7981 - 7s/epoch - 17ms/step\n",
            "정확률은 79.80999946594238\n"
          ]
        },
        {
          "data": {
            "image/png": "[encoded data removed]",
            "text/plain": [
              "<Figure size 432x288 with 1 Axes>"
            ]
          },
          "metadata": {},
          "output_type": "display_data"
        },
        {
          "data": {
            "image/png": "[encoded data removed]",
            "text/plain": [
              "<Figure size 432x288 with 1 Axes>"
            ]
          },
          "metadata": {},
          "output_type": "display_data"
        }
      ]
    },
    {
      "cell_type": "code",
      "metadata": {
        "colab": {
          "base_uri": "https://localhost:8080/"
        },
        "id": "q67R23-hc2Dh",
        "outputId": "fc3adeed-16fb-4b35-c9e0-a0f55f122768"
      },
      "source": [
        "from google.colab import drive\n",
        "drive.mount('/content/gdrive')   # google drive를 google colab에 연결. 처음 실행 시, 인증 필요 "
      ],
      "execution_count": null,
      "outputs": [
        {
          "name": "stdout",
          "output_type": "stream",
          "text": [
            "Mounted at /content/gdrive\n"
          ]
        }
      ]
    },
    {
      "cell_type": "code",
      "metadata": {
        "colab": {
          "base_uri": "https://localhost:8080/"
        },
        "id": "IHjDiNoydS2O",
        "outputId": "e69a3e5f-597e-40fa-89cb-e4e012a80bb6"
      },
      "source": [
        "dir = \"/content/gdrive/My Drive/Colab Notebooks/ai/\"\n",
        "cnn.save(dir+\"cnn_cifar10.h5\")\n",
        "print(\"Saved model to disk.\")"
      ],
      "execution_count": null,
      "outputs": [
        {
          "name": "stdout",
          "output_type": "stream",
          "text": [
            "Saved model to disk.\n"
          ]
        }
      ]
    },
    {
      "cell_type": "code",
      "metadata": {
        "colab": {
          "base_uri": "https://localhost:8080/"
        },
        "id": "Fc8m1Au5cXRz",
        "outputId": "e736c7ee-b3b6-4161-d558-7d74ed157177"
      },
      "source": [
        "import numpy as np\n",
        "import tensorflow as tf\n",
        "from tensorflow.keras.datasets import cifar10\n",
        "from tensorflow.python.keras.models import load_model\n",
        "\n",
        "# 신경망 구조와 가중치를 저장하고 있는 파일을 읽어 옴\n",
        "cnn = load_model(dir + \"cnn_cifar10.h5\")\n",
        "cnn.summary()\n",
        "\n",
        "# CIFAR-10 데이터셋을 읽고 신경망에 입력할 형태로 변환\n",
        "(x_train,y_train),(x_test,y_test)=cifar10.load_data()\n",
        "x_train = x_train.astype(np.float32)/255.0\n",
        "x_test = x_test.astype(np.float32)/255.0\n",
        "y_train = tf.keras.utils.to_categorical(y_train,10)\n",
        "y_test = tf.keras.utils.to_categorical(y_test,10)\n",
        "\n",
        "res=cnn.evaluate(x_test,y_test,verbose=0)\n",
        "print(\"정확률은\",res[1]*100)"
      ],
      "execution_count": null,
      "outputs": [
        {
          "name": "stdout",
          "output_type": "stream",
          "text": [
            "Model: \"sequential\"\n",
            "_________________________________________________________________\n",
            "Layer (type)                 Output Shape              Param #   \n",
            "=================================================================\n",
            "conv2d (Conv2D)              (None, 30, 30, 32)        896       \n",
            "_________________________________________________________________\n",
            "conv2d_1 (Conv2D)            (None, 28, 28, 32)        9248      \n",
            "_________________________________________________________________\n",
            "max_pooling2d (MaxPooling2D) (None, 14, 14, 32)        0         \n",
            "_________________________________________________________________\n",
            "dropout (Dropout)            (None, 14, 14, 32)        0         \n",
            "_________________________________________________________________\n",
            "conv2d_2 (Conv2D)            (None, 12, 12, 64)        18496     \n",
            "_________________________________________________________________\n",
            "conv2d_3 (Conv2D)            (None, 10, 10, 64)        36928     \n",
            "_________________________________________________________________\n",
            "max_pooling2d_1 (MaxPooling2 (None, 5, 5, 64)          0         \n",
            "_________________________________________________________________\n",
            "dropout_1 (Dropout)          (None, 5, 5, 64)          0         \n",
            "_________________________________________________________________\n",
            "flatten (Flatten)            (None, 1600)              0         \n",
            "_________________________________________________________________\n",
            "dense (Dense)                (None, 512)               819712    \n",
            "_________________________________________________________________\n",
            "dropout_2 (Dropout)          (None, 512)               0         \n",
            "_________________________________________________________________\n",
            "dense_1 (Dense)              (None, 10)                5130      \n",
            "=================================================================\n",
            "Total params: 890,410\n",
            "Trainable params: 890,410\n",
            "Non-trainable params: 0\n",
            "_________________________________________________________________\n",
            "정확률은 79.80999946594238\n"
          ]
        }
      ]
    },
    {
      "cell_type": "code",
      "metadata": {
        "colab": {
          "base_uri": "https://localhost:8080/",
          "height": 562
        },
        "id": "TI7UQWrTeolv",
        "outputId": "5a6fb4f7-721e-40c5-c3e1-ed4a8dce9f4e"
      },
      "source": [
        "import numpy as np\n",
        "import tensorflow as tf\n",
        "from tensorflow.keras.datasets import cifar10\n",
        "from tensorflow.keras.models import Sequential\n",
        "from tensorflow.keras.layers import Conv2D,MaxPooling2D,Flatten,Dense,Dropout\n",
        "from tensorflow.keras.optimizers import Adam\n",
        "\n",
        "# CIFAR-10 데이터셋을 읽고 신경망에 입력할 형태로 변환\n",
        "(x_train,y_train),(x_test,y_test)=cifar10.load_data()\n",
        "x_train=x_train.astype(np.float32)/255.0\n",
        "x_test=x_test.astype(np.float32)/255.0\n",
        "y_train=tf.keras.utils.to_categorical(y_train,10)\n",
        "y_test=tf.keras.utils.to_categorical(y_test,10)\n",
        "\n",
        "# 신경망 모델 설계\n",
        "cnn=Sequential()\n",
        "cnn.add(Conv2D(32,(3,3),activation='relu',input_shape=(32,32,3)))\n",
        "cnn.add(Conv2D(32,(3,3),activation='relu'))\n",
        "cnn.add(MaxPooling2D(pool_size=(2,2)))\n",
        "cnn.add(Dropout(0.25))\n",
        "cnn.add(Conv2D(64,(3,3),activation='relu'))\n",
        "cnn.add(Conv2D(64,(3,3),activation='relu'))\n",
        "cnn.add(MaxPooling2D(pool_size=(2,2)))\n",
        "cnn.add(Dropout(0.25))\n",
        "cnn.add(Flatten())\n",
        "cnn.add(Dense(512,activation='relu'))\n",
        "cnn.add(Dropout(0.5))\n",
        "cnn.add(Dense(10,activation='softmax'))\n",
        "\n",
        "# 신경망 모델 학습\n",
        "cnn.compile(loss='categorical_crossentropy',optimizer=Adam(),metrics=['accuracy'])\n",
        "hist=cnn.fit(x_train,y_train,batch_size=128,epochs=30,validation_data=(x_test,y_test),verbose=2)\n",
        "\n",
        "# 신경망 모델 정확률 평가\n",
        "res=cnn.evaluate(x_test,y_test,verbose=0)\n",
        "print(\"정확률은\",res[1]*100)\n",
        "\n",
        "import matplotlib.pyplot as plt\n",
        "\n",
        "# 정확률 그래프\n",
        "plt.plot(hist.history['accuracy'])\n",
        "plt.plot(hist.history['val_accuracy'])\n",
        "plt.title('Model accuracy')\n",
        "plt.ylabel('Accuracy')\n",
        "plt.xlabel('Epoch')\n",
        "plt.legend(['Train','Validation'], loc='best')\n",
        "plt.grid()\n",
        "plt.show()\n",
        "\n",
        "# 손실 함수 그래프\n",
        "plt.plot(hist.history['loss'])\n",
        "plt.plot(hist.history['val_loss'])\n",
        "plt.title('Model loss')\n",
        "plt.ylabel('Loss')\n",
        "plt.xlabel('Epoch')\n",
        "plt.legend(['Train','Validation'],loc='best')\n",
        "plt.grid()\n",
        "plt.show()"
      ],
      "execution_count": null,
      "outputs": [
        {
          "name": "stdout",
          "output_type": "stream",
          "text": [
            "Downloading data from https://www.cs.toronto.edu/~kriz/cifar-10-python.tar.gz\n",
            "170500096/170498071 [==============================] - 11s 0us/step\n",
            "170508288/170498071 [==============================] - 11s 0us/step\n",
            "Epoch 1/30\n",
            "391/391 - 164s - loss: 1.6130 - accuracy: 0.4062 - val_loss: 1.3233 - val_accuracy: 0.5240 - 164s/epoch - 420ms/step\n",
            "Epoch 2/30\n",
            "391/391 - 163s - loss: 1.2327 - accuracy: 0.5570 - val_loss: 1.0910 - val_accuracy: 0.6069 - 163s/epoch - 416ms/step\n",
            "Epoch 3/30\n",
            "391/391 - 162s - loss: 1.0713 - accuracy: 0.6206 - val_loss: 0.9997 - val_accuracy: 0.6461 - 162s/epoch - 414ms/step\n",
            "Epoch 4/30\n"
          ]
        },
        {
          "ename": "KeyboardInterrupt",
          "evalue": "ignored",
          "output_type": "error",
          "traceback": [
            "\u001b[0;31m---------------------------------------------------------------------------\u001b[0m",
            "\u001b[0;31mKeyboardInterrupt\u001b[0m                         Traceback (most recent call last)",
            "\u001b[0;32m<ipython-input-1-fb4d2d205e79>\u001b[0m in \u001b[0;36m<module>\u001b[0;34m()\u001b[0m\n\u001b[1;32m     30\u001b[0m \u001b[0;31m# 신경망 모델 학습\u001b[0m\u001b[0;34m\u001b[0m\u001b[0;34m\u001b[0m\u001b[0;34m\u001b[0m\u001b[0m\n\u001b[1;32m     31\u001b[0m \u001b[0mcnn\u001b[0m\u001b[0;34m.\u001b[0m\u001b[0mcompile\u001b[0m\u001b[0;34m(\u001b[0m\u001b[0mloss\u001b[0m\u001b[0;34m=\u001b[0m\u001b[0;34m'categorical_crossentropy'\u001b[0m\u001b[0;34m,\u001b[0m\u001b[0moptimizer\u001b[0m\u001b[0;34m=\u001b[0m\u001b[0mAdam\u001b[0m\u001b[0;34m(\u001b[0m\u001b[0;34m)\u001b[0m\u001b[0;34m,\u001b[0m\u001b[0mmetrics\u001b[0m\u001b[0;34m=\u001b[0m\u001b[0;34m[\u001b[0m\u001b[0;34m'accuracy'\u001b[0m\u001b[0;34m]\u001b[0m\u001b[0;34m)\u001b[0m\u001b[0;34m\u001b[0m\u001b[0;34m\u001b[0m\u001b[0m\n\u001b[0;32m---> 32\u001b[0;31m \u001b[0mhist\u001b[0m\u001b[0;34m=\u001b[0m\u001b[0mcnn\u001b[0m\u001b[0;34m.\u001b[0m\u001b[0mfit\u001b[0m\u001b[0;34m(\u001b[0m\u001b[0mx_train\u001b[0m\u001b[0;34m,\u001b[0m\u001b[0my_train\u001b[0m\u001b[0;34m,\u001b[0m\u001b[0mbatch_size\u001b[0m\u001b[0;34m=\u001b[0m\u001b[0;36m128\u001b[0m\u001b[0;34m,\u001b[0m\u001b[0mepochs\u001b[0m\u001b[0;34m=\u001b[0m\u001b[0;36m30\u001b[0m\u001b[0;34m,\u001b[0m\u001b[0mvalidation_data\u001b[0m\u001b[0;34m=\u001b[0m\u001b[0;34m(\u001b[0m\u001b[0mx_test\u001b[0m\u001b[0;34m,\u001b[0m\u001b[0my_test\u001b[0m\u001b[0;34m)\u001b[0m\u001b[0;34m,\u001b[0m\u001b[0mverbose\u001b[0m\u001b[0;34m=\u001b[0m\u001b[0;36m2\u001b[0m\u001b[0;34m)\u001b[0m\u001b[0;34m\u001b[0m\u001b[0;34m\u001b[0m\u001b[0m\n\u001b[0m\u001b[1;32m     33\u001b[0m \u001b[0;34m\u001b[0m\u001b[0m\n\u001b[1;32m     34\u001b[0m \u001b[0;31m# 신경망 모델 정확률 평가\u001b[0m\u001b[0;34m\u001b[0m\u001b[0;34m\u001b[0m\u001b[0;34m\u001b[0m\u001b[0m\n",
            "\u001b[0;32m/usr/local/lib/python3.7/dist-packages/keras/utils/traceback_utils.py\u001b[0m in \u001b[0;36merror_handler\u001b[0;34m(*args, **kwargs)\u001b[0m\n\u001b[1;32m     62\u001b[0m     \u001b[0mfiltered_tb\u001b[0m \u001b[0;34m=\u001b[0m \u001b[0;32mNone\u001b[0m\u001b[0;34m\u001b[0m\u001b[0;34m\u001b[0m\u001b[0m\n\u001b[1;32m     63\u001b[0m     \u001b[0;32mtry\u001b[0m\u001b[0;34m:\u001b[0m\u001b[0;34m\u001b[0m\u001b[0;34m\u001b[0m\u001b[0m\n\u001b[0;32m---> 64\u001b[0;31m       \u001b[0;32mreturn\u001b[0m \u001b[0mfn\u001b[0m\u001b[0;34m(\u001b[0m\u001b[0;34m*\u001b[0m\u001b[0margs\u001b[0m\u001b[0;34m,\u001b[0m \u001b[0;34m**\u001b[0m\u001b[0mkwargs\u001b[0m\u001b[0;34m)\u001b[0m\u001b[0;34m\u001b[0m\u001b[0;34m\u001b[0m\u001b[0m\n\u001b[0m\u001b[1;32m     65\u001b[0m     \u001b[0;32mexcept\u001b[0m \u001b[0mException\u001b[0m \u001b[0;32mas\u001b[0m \u001b[0me\u001b[0m\u001b[0;34m:\u001b[0m  \u001b[0;31m# pylint: disable=broad-except\u001b[0m\u001b[0;34m\u001b[0m\u001b[0;34m\u001b[0m\u001b[0m\n\u001b[1;32m     66\u001b[0m       \u001b[0mfiltered_tb\u001b[0m \u001b[0;34m=\u001b[0m \u001b[0m_process_traceback_frames\u001b[0m\u001b[0;34m(\u001b[0m\u001b[0me\u001b[0m\u001b[0;34m.\u001b[0m\u001b[0m__traceback__\u001b[0m\u001b[0;34m)\u001b[0m\u001b[0;34m\u001b[0m\u001b[0;34m\u001b[0m\u001b[0m\n",
            "\u001b[0;32m/usr/local/lib/python3.7/dist-packages/keras/engine/training.py\u001b[0m in \u001b[0;36mfit\u001b[0;34m(self, x, y, batch_size, epochs, verbose, callbacks, validation_split, validation_data, shuffle, class_weight, sample_weight, initial_epoch, steps_per_epoch, validation_steps, validation_batch_size, validation_freq, max_queue_size, workers, use_multiprocessing)\u001b[0m\n\u001b[1;32m   1214\u001b[0m                 _r=1):\n\u001b[1;32m   1215\u001b[0m               \u001b[0mcallbacks\u001b[0m\u001b[0;34m.\u001b[0m\u001b[0mon_train_batch_begin\u001b[0m\u001b[0;34m(\u001b[0m\u001b[0mstep\u001b[0m\u001b[0;34m)\u001b[0m\u001b[0;34m\u001b[0m\u001b[0;34m\u001b[0m\u001b[0m\n\u001b[0;32m-> 1216\u001b[0;31m               \u001b[0mtmp_logs\u001b[0m \u001b[0;34m=\u001b[0m \u001b[0mself\u001b[0m\u001b[0;34m.\u001b[0m\u001b[0mtrain_function\u001b[0m\u001b[0;34m(\u001b[0m\u001b[0miterator\u001b[0m\u001b[0;34m)\u001b[0m\u001b[0;34m\u001b[0m\u001b[0;34m\u001b[0m\u001b[0m\n\u001b[0m\u001b[1;32m   1217\u001b[0m               \u001b[0;32mif\u001b[0m \u001b[0mdata_handler\u001b[0m\u001b[0;34m.\u001b[0m\u001b[0mshould_sync\u001b[0m\u001b[0;34m:\u001b[0m\u001b[0;34m\u001b[0m\u001b[0;34m\u001b[0m\u001b[0m\n\u001b[1;32m   1218\u001b[0m                 \u001b[0mcontext\u001b[0m\u001b[0;34m.\u001b[0m\u001b[0masync_wait\u001b[0m\u001b[0;34m(\u001b[0m\u001b[0;34m)\u001b[0m\u001b[0;34m\u001b[0m\u001b[0;34m\u001b[0m\u001b[0m\n",
            "\u001b[0;32m/usr/local/lib/python3.7/dist-packages/tensorflow/python/util/traceback_utils.py\u001b[0m in \u001b[0;36merror_handler\u001b[0;34m(*args, **kwargs)\u001b[0m\n\u001b[1;32m    148\u001b[0m     \u001b[0mfiltered_tb\u001b[0m \u001b[0;34m=\u001b[0m \u001b[0;32mNone\u001b[0m\u001b[0;34m\u001b[0m\u001b[0;34m\u001b[0m\u001b[0m\n\u001b[1;32m    149\u001b[0m     \u001b[0;32mtry\u001b[0m\u001b[0;34m:\u001b[0m\u001b[0;34m\u001b[0m\u001b[0;34m\u001b[0m\u001b[0m\n\u001b[0;32m--> 150\u001b[0;31m       \u001b[0;32mreturn\u001b[0m \u001b[0mfn\u001b[0m\u001b[0;34m(\u001b[0m\u001b[0;34m*\u001b[0m\u001b[0margs\u001b[0m\u001b[0;34m,\u001b[0m \u001b[0;34m**\u001b[0m\u001b[0mkwargs\u001b[0m\u001b[0;34m)\u001b[0m\u001b[0;34m\u001b[0m\u001b[0;34m\u001b[0m\u001b[0m\n\u001b[0m\u001b[1;32m    151\u001b[0m     \u001b[0;32mexcept\u001b[0m \u001b[0mException\u001b[0m \u001b[0;32mas\u001b[0m \u001b[0me\u001b[0m\u001b[0;34m:\u001b[0m\u001b[0;34m\u001b[0m\u001b[0;34m\u001b[0m\u001b[0m\n\u001b[1;32m    152\u001b[0m       \u001b[0mfiltered_tb\u001b[0m \u001b[0;34m=\u001b[0m \u001b[0m_process_traceback_frames\u001b[0m\u001b[0;34m(\u001b[0m\u001b[0me\u001b[0m\u001b[0;34m.\u001b[0m\u001b[0m__traceback__\u001b[0m\u001b[0;34m)\u001b[0m\u001b[0;34m\u001b[0m\u001b[0;34m\u001b[0m\u001b[0m\n",
            "\u001b[0;32m/usr/local/lib/python3.7/dist-packages/tensorflow/python/eager/def_function.py\u001b[0m in \u001b[0;36m__call__\u001b[0;34m(self, *args, **kwds)\u001b[0m\n\u001b[1;32m    908\u001b[0m \u001b[0;34m\u001b[0m\u001b[0m\n\u001b[1;32m    909\u001b[0m       \u001b[0;32mwith\u001b[0m \u001b[0mOptionalXlaContext\u001b[0m\u001b[0;34m(\u001b[0m\u001b[0mself\u001b[0m\u001b[0;34m.\u001b[0m\u001b[0m_jit_compile\u001b[0m\u001b[0;34m)\u001b[0m\u001b[0;34m:\u001b[0m\u001b[0;34m\u001b[0m\u001b[0;34m\u001b[0m\u001b[0m\n\u001b[0;32m--> 910\u001b[0;31m         \u001b[0mresult\u001b[0m \u001b[0;34m=\u001b[0m \u001b[0mself\u001b[0m\u001b[0;34m.\u001b[0m\u001b[0m_call\u001b[0m\u001b[0;34m(\u001b[0m\u001b[0;34m*\u001b[0m\u001b[0margs\u001b[0m\u001b[0;34m,\u001b[0m \u001b[0;34m**\u001b[0m\u001b[0mkwds\u001b[0m\u001b[0;34m)\u001b[0m\u001b[0;34m\u001b[0m\u001b[0;34m\u001b[0m\u001b[0m\n\u001b[0m\u001b[1;32m    911\u001b[0m \u001b[0;34m\u001b[0m\u001b[0m\n\u001b[1;32m    912\u001b[0m       \u001b[0mnew_tracing_count\u001b[0m \u001b[0;34m=\u001b[0m \u001b[0mself\u001b[0m\u001b[0;34m.\u001b[0m\u001b[0mexperimental_get_tracing_count\u001b[0m\u001b[0;34m(\u001b[0m\u001b[0;34m)\u001b[0m\u001b[0;34m\u001b[0m\u001b[0;34m\u001b[0m\u001b[0m\n",
            "\u001b[0;32m/usr/local/lib/python3.7/dist-packages/tensorflow/python/eager/def_function.py\u001b[0m in \u001b[0;36m_call\u001b[0;34m(self, *args, **kwds)\u001b[0m\n\u001b[1;32m    940\u001b[0m       \u001b[0;31m# In this case we have created variables on the first call, so we run the\u001b[0m\u001b[0;34m\u001b[0m\u001b[0;34m\u001b[0m\u001b[0;34m\u001b[0m\u001b[0m\n\u001b[1;32m    941\u001b[0m       \u001b[0;31m# defunned version which is guaranteed to never create variables.\u001b[0m\u001b[0;34m\u001b[0m\u001b[0;34m\u001b[0m\u001b[0;34m\u001b[0m\u001b[0m\n\u001b[0;32m--> 942\u001b[0;31m       \u001b[0;32mreturn\u001b[0m \u001b[0mself\u001b[0m\u001b[0;34m.\u001b[0m\u001b[0m_stateless_fn\u001b[0m\u001b[0;34m(\u001b[0m\u001b[0;34m*\u001b[0m\u001b[0margs\u001b[0m\u001b[0;34m,\u001b[0m \u001b[0;34m**\u001b[0m\u001b[0mkwds\u001b[0m\u001b[0;34m)\u001b[0m  \u001b[0;31m# pylint: disable=not-callable\u001b[0m\u001b[0;34m\u001b[0m\u001b[0;34m\u001b[0m\u001b[0m\n\u001b[0m\u001b[1;32m    943\u001b[0m     \u001b[0;32melif\u001b[0m \u001b[0mself\u001b[0m\u001b[0;34m.\u001b[0m\u001b[0m_stateful_fn\u001b[0m \u001b[0;32mis\u001b[0m \u001b[0;32mnot\u001b[0m \u001b[0;32mNone\u001b[0m\u001b[0;34m:\u001b[0m\u001b[0;34m\u001b[0m\u001b[0;34m\u001b[0m\u001b[0m\n\u001b[1;32m    944\u001b[0m       \u001b[0;31m# Release the lock early so that multiple threads can perform the call\u001b[0m\u001b[0;34m\u001b[0m\u001b[0;34m\u001b[0m\u001b[0;34m\u001b[0m\u001b[0m\n",
            "\u001b[0;32m/usr/local/lib/python3.7/dist-packages/tensorflow/python/eager/function.py\u001b[0m in \u001b[0;36m__call__\u001b[0;34m(self, *args, **kwargs)\u001b[0m\n\u001b[1;32m   3129\u001b[0m        filtered_flat_args) = self._maybe_define_function(args, kwargs)\n\u001b[1;32m   3130\u001b[0m     return graph_function._call_flat(\n\u001b[0;32m-> 3131\u001b[0;31m         filtered_flat_args, captured_inputs=graph_function.captured_inputs)  # pylint: disable=protected-access\n\u001b[0m\u001b[1;32m   3132\u001b[0m \u001b[0;34m\u001b[0m\u001b[0m\n\u001b[1;32m   3133\u001b[0m   \u001b[0;34m@\u001b[0m\u001b[0mproperty\u001b[0m\u001b[0;34m\u001b[0m\u001b[0;34m\u001b[0m\u001b[0m\n",
            "\u001b[0;32m/usr/local/lib/python3.7/dist-packages/tensorflow/python/eager/function.py\u001b[0m in \u001b[0;36m_call_flat\u001b[0;34m(self, args, captured_inputs, cancellation_manager)\u001b[0m\n\u001b[1;32m   1958\u001b[0m       \u001b[0;31m# No tape is watching; skip to running the function.\u001b[0m\u001b[0;34m\u001b[0m\u001b[0;34m\u001b[0m\u001b[0;34m\u001b[0m\u001b[0m\n\u001b[1;32m   1959\u001b[0m       return self._build_call_outputs(self._inference_function.call(\n\u001b[0;32m-> 1960\u001b[0;31m           ctx, args, cancellation_manager=cancellation_manager))\n\u001b[0m\u001b[1;32m   1961\u001b[0m     forward_backward = self._select_forward_and_backward_functions(\n\u001b[1;32m   1962\u001b[0m         \u001b[0margs\u001b[0m\u001b[0;34m,\u001b[0m\u001b[0;34m\u001b[0m\u001b[0;34m\u001b[0m\u001b[0m\n",
            "\u001b[0;32m/usr/local/lib/python3.7/dist-packages/tensorflow/python/eager/function.py\u001b[0m in \u001b[0;36mcall\u001b[0;34m(self, ctx, args, cancellation_manager)\u001b[0m\n\u001b[1;32m    601\u001b[0m               \u001b[0minputs\u001b[0m\u001b[0;34m=\u001b[0m\u001b[0margs\u001b[0m\u001b[0;34m,\u001b[0m\u001b[0;34m\u001b[0m\u001b[0;34m\u001b[0m\u001b[0m\n\u001b[1;32m    602\u001b[0m               \u001b[0mattrs\u001b[0m\u001b[0;34m=\u001b[0m\u001b[0mattrs\u001b[0m\u001b[0;34m,\u001b[0m\u001b[0;34m\u001b[0m\u001b[0;34m\u001b[0m\u001b[0m\n\u001b[0;32m--> 603\u001b[0;31m               ctx=ctx)\n\u001b[0m\u001b[1;32m    604\u001b[0m         \u001b[0;32melse\u001b[0m\u001b[0;34m:\u001b[0m\u001b[0;34m\u001b[0m\u001b[0;34m\u001b[0m\u001b[0m\n\u001b[1;32m    605\u001b[0m           outputs = execute.execute_with_cancellation(\n",
            "\u001b[0;32m/usr/local/lib/python3.7/dist-packages/tensorflow/python/eager/execute.py\u001b[0m in \u001b[0;36mquick_execute\u001b[0;34m(op_name, num_outputs, inputs, attrs, ctx, name)\u001b[0m\n\u001b[1;32m     57\u001b[0m     \u001b[0mctx\u001b[0m\u001b[0;34m.\u001b[0m\u001b[0mensure_initialized\u001b[0m\u001b[0;34m(\u001b[0m\u001b[0;34m)\u001b[0m\u001b[0;34m\u001b[0m\u001b[0;34m\u001b[0m\u001b[0m\n\u001b[1;32m     58\u001b[0m     tensors = pywrap_tfe.TFE_Py_Execute(ctx._handle, device_name, op_name,\n\u001b[0;32m---> 59\u001b[0;31m                                         inputs, attrs, num_outputs)\n\u001b[0m\u001b[1;32m     60\u001b[0m   \u001b[0;32mexcept\u001b[0m \u001b[0mcore\u001b[0m\u001b[0;34m.\u001b[0m\u001b[0m_NotOkStatusException\u001b[0m \u001b[0;32mas\u001b[0m \u001b[0me\u001b[0m\u001b[0;34m:\u001b[0m\u001b[0;34m\u001b[0m\u001b[0;34m\u001b[0m\u001b[0m\n\u001b[1;32m     61\u001b[0m     \u001b[0;32mif\u001b[0m \u001b[0mname\u001b[0m \u001b[0;32mis\u001b[0m \u001b[0;32mnot\u001b[0m \u001b[0;32mNone\u001b[0m\u001b[0;34m:\u001b[0m\u001b[0;34m\u001b[0m\u001b[0;34m\u001b[0m\u001b[0m\n",
            "\u001b[0;31mKeyboardInterrupt\u001b[0m: "
          ]
        }
      ]
    },
    {
      "cell_type": "code",
      "metadata": {
        "colab": {
          "background_save": true,
          "base_uri": "https://localhost:8080/"
        },
        "id": "BPIcj-qnhMJI",
        "outputId": "26399d17-c3a2-49d2-b594-86e73cf0a42d"
      },
      "source": [
        "import numpy as np\n",
        "import tensorflow as tf\n",
        "from tensorflow.keras.datasets import cifar10\n",
        "from tensorflow.keras.models import Sequential\n",
        "from tensorflow.keras.layers import Conv2D,MaxPooling2D,Flatten,Dense,Dropout\n",
        "from tensorflow.keras.optimizers import Adam\n",
        "\n",
        "# CIFAR-10 데이터셋을 읽고 신경망에 입력할 형태로 변환\n",
        "(x_train,y_train),(x_test,y_test)=cifar10.load_data()\n",
        "x_train=x_train.astype(np.float32)/255.0\n",
        "x_test=x_test.astype(np.float32)/255.0\n",
        "y_train=tf.keras.utils.to_categorical(y_train,10)\n",
        "y_test=tf.keras.utils.to_categorical(y_test,10)\n",
        "\n",
        "# 신경망 모델 설계\n",
        "cnn=Sequential()\n",
        "cnn.add(Conv2D(32,(3,3),activation='relu',input_shape=(32,32,3)))\n",
        "cnn.add(Conv2D(32,(3,3),activation='relu'))\n",
        "cnn.add(MaxPooling2D(pool_size=(2,2)))\n",
        "cnn.add(Dropout(0.25))\n",
        "cnn.add(Conv2D(64,(3,3),activation='relu'))\n",
        "cnn.add(Conv2D(64,(3,3),activation='relu'))\n",
        "cnn.add(MaxPooling2D(pool_size=(2,2)))\n",
        "cnn.add(Dropout(0.25))\n",
        "cnn.add(Flatten())\n",
        "cnn.add(Dense(512,activation='relu'))\n",
        "cnn.add(Dropout(0.5))\n",
        "cnn.add(Dense(10,activation='softmax'))\n",
        "\n",
        "# 신경망 모델 학습\n",
        "cnn.compile(loss='categorical_crossentropy',optimizer=Adam(),metrics=['accuracy'])\n",
        "hist=cnn.fit(x_train,y_train,batch_size=128,epochs=30,validation_data=(x_test,y_test),verbose=2)\n",
        "\n",
        "# 신경망 모델 정확률 평가\n",
        "res=cnn.evaluate(x_test,y_test,verbose=0)\n",
        "print(\"정확률은\",res[1]*100)\n",
        "\n",
        "import matplotlib.pyplot as plt\n",
        "\n",
        "# 정확률 그래프\n",
        "plt.plot(hist.history['accuracy'])\n",
        "plt.plot(hist.history['val_accuracy'])\n",
        "plt.title('Model accuracy')\n",
        "plt.ylabel('Accuracy')\n",
        "plt.xlabel('Epoch')\n",
        "plt.legend(['Train','Validation'], loc='best')\n",
        "plt.grid()\n",
        "plt.show()\n",
        "\n",
        "# 손실 함수 그래프\n",
        "plt.plot(hist.history['loss'])\n",
        "plt.plot(hist.history['val_loss'])\n",
        "plt.title('Model loss')\n",
        "plt.ylabel('Loss')\n",
        "plt.xlabel('Epoch')\n",
        "plt.legend(['Train','Validation'],loc='best')\n",
        "plt.grid()\n",
        "plt.show()"
      ],
      "execution_count": null,
      "outputs": [
        {
          "name": "stdout",
          "output_type": "stream",
          "text": [
            "Downloading data from https://www.cs.toronto.edu/~kriz/cifar-10-python.tar.gz\n",
            "170500096/170498071 [==============================] - 2s 0us/step\n",
            "170508288/170498071 [==============================] - 2s 0us/step\n",
            "Epoch 1/30\n",
            "391/391 - 162s - loss: 1.6736 - accuracy: 0.3830 - val_loss: 1.3122 - val_accuracy: 0.5168 - 162s/epoch - 414ms/step\n",
            "Epoch 2/30\n",
            "391/391 - 164s - loss: 1.2723 - accuracy: 0.5433 - val_loss: 1.0733 - val_accuracy: 0.6160 - 164s/epoch - 418ms/step\n",
            "Epoch 3/30\n",
            "391/391 - 164s - loss: 1.0990 - accuracy: 0.6101 - val_loss: 0.9755 - val_accuracy: 0.6555 - 164s/epoch - 420ms/step\n",
            "Epoch 4/30\n",
            "391/391 - 164s - loss: 0.9815 - accuracy: 0.6562 - val_loss: 0.9446 - val_accuracy: 0.6671 - 164s/epoch - 420ms/step\n",
            "Epoch 5/30\n",
            "391/391 - 165s - loss: 0.9045 - accuracy: 0.6823 - val_loss: 0.8448 - val_accuracy: 0.7078 - 165s/epoch - 421ms/step\n",
            "Epoch 6/30\n",
            "391/391 - 164s - loss: 0.8455 - accuracy: 0.7043 - val_loss: 0.7826 - val_accuracy: 0.7280 - 164s/epoch - 420ms/step\n",
            "Epoch 7/30\n",
            "391/391 - 165s - loss: 0.7957 - accuracy: 0.7214 - val_loss: 0.7461 - val_accuracy: 0.7429 - 165s/epoch - 422ms/step\n",
            "Epoch 8/30\n",
            "391/391 - 168s - loss: 0.7544 - accuracy: 0.7354 - val_loss: 0.7103 - val_accuracy: 0.7502 - 168s/epoch - 429ms/step\n",
            "Epoch 9/30\n",
            "391/391 - 167s - loss: 0.7192 - accuracy: 0.7470 - val_loss: 0.7208 - val_accuracy: 0.7541 - 167s/epoch - 426ms/step\n",
            "Epoch 10/30\n",
            "391/391 - 164s - loss: 0.6934 - accuracy: 0.7543 - val_loss: 0.6803 - val_accuracy: 0.7641 - 164s/epoch - 420ms/step\n",
            "Epoch 11/30\n",
            "391/391 - 163s - loss: 0.6658 - accuracy: 0.7664 - val_loss: 0.6723 - val_accuracy: 0.7693 - 163s/epoch - 418ms/step\n",
            "Epoch 12/30\n",
            "391/391 - 164s - loss: 0.6438 - accuracy: 0.7742 - val_loss: 0.6537 - val_accuracy: 0.7808 - 164s/epoch - 420ms/step\n",
            "Epoch 13/30\n",
            "391/391 - 163s - loss: 0.6243 - accuracy: 0.7800 - val_loss: 0.6426 - val_accuracy: 0.7793 - 163s/epoch - 416ms/step\n",
            "Epoch 14/30\n",
            "391/391 - 162s - loss: 0.6011 - accuracy: 0.7875 - val_loss: 0.6336 - val_accuracy: 0.7843 - 162s/epoch - 413ms/step\n",
            "Epoch 15/30\n",
            "391/391 - 163s - loss: 0.5868 - accuracy: 0.7937 - val_loss: 0.6513 - val_accuracy: 0.7820 - 163s/epoch - 418ms/step\n",
            "Epoch 16/30\n",
            "391/391 - 163s - loss: 0.5641 - accuracy: 0.8021 - val_loss: 0.6492 - val_accuracy: 0.7810 - 163s/epoch - 417ms/step\n",
            "Epoch 17/30\n",
            "391/391 - 163s - loss: 0.5546 - accuracy: 0.8024 - val_loss: 0.6208 - val_accuracy: 0.7904 - 163s/epoch - 418ms/step\n",
            "Epoch 18/30\n",
            "391/391 - 163s - loss: 0.5428 - accuracy: 0.8093 - val_loss: 0.6434 - val_accuracy: 0.7912 - 163s/epoch - 417ms/step\n",
            "Epoch 19/30\n",
            "391/391 - 161s - loss: 0.5278 - accuracy: 0.8130 - val_loss: 0.6358 - val_accuracy: 0.7895 - 161s/epoch - 412ms/step\n",
            "Epoch 20/30\n",
            "391/391 - 163s - loss: 0.5191 - accuracy: 0.8160 - val_loss: 0.6177 - val_accuracy: 0.7930 - 163s/epoch - 416ms/step\n",
            "Epoch 21/30\n",
            "391/391 - 163s - loss: 0.5031 - accuracy: 0.8226 - val_loss: 0.6170 - val_accuracy: 0.7906 - 163s/epoch - 416ms/step\n",
            "Epoch 22/30\n"
          ]
        }
      ]
    }
  ]
}