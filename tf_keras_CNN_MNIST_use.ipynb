{
  "cells": [
    {
      "cell_type": "markdown",
      "metadata": {
        "id": "view-in-github",
        "colab_type": "text"
      },
      "source": [
        "<a href=\"https://colab.research.google.com/github/jjyjung/ai/blob/gh-pages/tf_keras_CNN_MNIST_use.ipynb\" target=\"_parent\"><img src=\"https://colab.research.google.com/assets/colab-badge.svg\" alt=\"Open In Colab\"/></a>"
      ]
    },
    {
      "cell_type": "markdown",
      "source": [
        "cnn_mnist 모델 로딩"
      ],
      "metadata": {
        "id": "ls5a-xFAFcpL"
      }
    },
    {
      "cell_type": "code",
      "source": [
        "from google.colab import drive\n",
        "\n",
        "drive.mount('/content/gdrive')   # google drive를 google colab에 연결. 처음 실행 시, 인증 필요"
      ],
      "metadata": {
        "colab": {
          "base_uri": "https://localhost:8080/"
        },
        "id": "jntSxL1WnDi3",
        "outputId": "d3a57df9-fb3d-4756-c23f-db42dc17c62c"
      },
      "execution_count": 1,
      "outputs": [
        {
          "output_type": "stream",
          "name": "stdout",
          "text": [
            "Drive already mounted at /content/gdrive; to attempt to forcibly remount, call drive.mount(\"/content/gdrive\", force_remount=True).\n"
          ]
        }
      ]
    },
    {
      "cell_type": "code",
      "execution_count": 2,
      "metadata": {
        "scrolled": true,
        "colab": {
          "base_uri": "https://localhost:8080/"
        },
        "id": "hD3TCUwLmyu3",
        "outputId": "d54948a7-9bc4-4c08-db73-6954f25be9bd"
      },
      "outputs": [
        {
          "output_type": "stream",
          "name": "stdout",
          "text": [
            "Model: \"sequential\"\n",
            "_________________________________________________________________\n",
            " Layer (type)                Output Shape              Param #   \n",
            "=================================================================\n",
            " conv2d (Conv2D)             (None, 26, 26, 32)        320       \n",
            "                                                                 \n",
            " max_pooling2d (MaxPooling2  (None, 13, 13, 32)        0         \n",
            " D)                                                              \n",
            "                                                                 \n",
            " dropout (Dropout)           (None, 13, 13, 32)        0         \n",
            "                                                                 \n",
            " conv2d_1 (Conv2D)           (None, 11, 11, 64)        18496     \n",
            "                                                                 \n",
            " max_pooling2d_1 (MaxPoolin  (None, 5, 5, 64)          0         \n",
            " g2D)                                                            \n",
            "                                                                 \n",
            " dropout_1 (Dropout)         (None, 5, 5, 64)          0         \n",
            "                                                                 \n",
            " flatten (Flatten)           (None, 1600)              0         \n",
            "                                                                 \n",
            " dense (Dense)               (None, 32)                51232     \n",
            "                                                                 \n",
            " dropout_2 (Dropout)         (None, 32)                0         \n",
            "                                                                 \n",
            " dense_1 (Dense)             (None, 10)                330       \n",
            "                                                                 \n",
            "=================================================================\n",
            "Total params: 70378 (274.91 KB)\n",
            "Trainable params: 70378 (274.91 KB)\n",
            "Non-trainable params: 0 (0.00 Byte)\n",
            "_________________________________________________________________\n"
          ]
        }
      ],
      "source": [
        "from tensorflow.keras.models import load_model\n",
        "\n",
        "dir = \"/content/gdrive/My Drive/Colab Notebooks/ai/CNN/\"  ### [중요!!] Colab의 경우, 저장할 위치를 기록하시오.\n",
        "model = load_model(dir + \"cnn_mnist.keras\")\n",
        "model.summary()"
      ]
    },
    {
      "cell_type": "markdown",
      "source": [
        "이미지를 3채널 또는 1채널로 변환하는 함수"
      ],
      "metadata": {
        "id": "gKzNPVWjFkAY"
      }
    },
    {
      "cell_type": "code",
      "execution_count": 3,
      "metadata": {
        "id": "jD9qJJNRmyuy"
      },
      "outputs": [],
      "source": [
        "import numpy as np\n",
        "from PIL import Image\n",
        "import matplotlib.pyplot as plt\n",
        "\n",
        "def jpg_image_to_array(image_path, size):\n",
        "    image = Image.open(image_path)      # open image\n",
        "    image = image.resize((size, size))  # resize\n",
        "    im_arr = np.fromstring(image.tobytes(), dtype=np.uint8)  # convert to int ndarray\n",
        "    print(im_arr.shape, '->', end='')\n",
        "    im_arr = im_arr.reshape((image.size[1], image.size[0], 3)) # reshape to (28, 28, 3)\n",
        "    print(im_arr.shape)\n",
        "    im_arr = im_arr*(-1)+255   # convert white background to black background\n",
        "    return im_arr\n",
        "\n",
        "def image_array_to_1channel(arr):\n",
        "    arr_avg = (arr[:,:,0]+arr[:,:,1]+arr[:,:,2])/3   # convert to 1-channel by averaging\n",
        "    return arr_avg"
      ]
    },
    {
      "cell_type": "markdown",
      "source": [
        "Google Drive에 저장된 숫자 파일 보여주기"
      ],
      "metadata": {
        "id": "eYEEiWacF0oM"
      }
    },
    {
      "cell_type": "code",
      "execution_count": 4,
      "metadata": {
        "colab": {
          "base_uri": "https://localhost:8080/",
          "height": 521
        },
        "id": "AnWm4ZYWmyu2",
        "outputId": "296b33dc-8024-4c42-ec98-602dd96fcf67"
      },
      "outputs": [
        {
          "output_type": "stream",
          "name": "stdout",
          "text": [
            "/content/gdrive/My Drive/Colab Notebooks/ai/CNN/MNIST/5/5.jpg\n",
            "(2352,) ->(28, 28, 3)\n"
          ]
        },
        {
          "output_type": "stream",
          "name": "stderr",
          "text": [
            "<ipython-input-3-bd84f8ce7289>:8: DeprecationWarning: The binary mode of fromstring is deprecated, as it behaves surprisingly on unicode inputs. Use frombuffer instead\n",
            "  im_arr = np.fromstring(image.tobytes(), dtype=np.uint8)  # convert to int ndarray\n"
          ]
        },
        {
          "output_type": "execute_result",
          "data": {
            "text/plain": [
              "<matplotlib.image.AxesImage at 0x7905981f0970>"
            ]
          },
          "metadata": {},
          "execution_count": 4
        },
        {
          "output_type": "display_data",
          "data": {
            "text/plain": [
              "<Figure size 640x480 with 1 Axes>"
            ],
            "image/png": "[encoded data removed]"
          },
          "metadata": {}
        }
      ],
      "source": [
        "path = dir + \"MNIST/5/5.jpg\"\n",
        "print(path)\n",
        "\n",
        "arr = jpg_image_to_array(path, 28)\n",
        "plt.imshow(arr, cmap=plt.get_cmap('gray'))"
      ]
    },
    {
      "cell_type": "markdown",
      "source": [
        "로딩된 모형으로 숫자 파일 예측하기"
      ],
      "metadata": {
        "id": "dddNUpnMGBe1"
      }
    },
    {
      "cell_type": "code",
      "execution_count": 5,
      "metadata": {
        "colab": {
          "base_uri": "https://localhost:8080/"
        },
        "id": "s97Za9wImyu4",
        "outputId": "3f6e6954-c735-48fe-9822-bda94af419ec"
      },
      "outputs": [
        {
          "output_type": "stream",
          "name": "stdout",
          "text": [
            "(28, 28)\n",
            "(1, 28, 28, 1)\n",
            "1/1 [==============================] - 0s 131ms/step\n",
            "[[0. 0. 0. 0. 0. 1. 0. 0. 0. 0.]] [5]\n"
          ]
        }
      ],
      "source": [
        "img_rows, img_cols = 28, 28\n",
        "arr_1c = image_array_to_1channel(arr)  # convert to 1-channel\n",
        "print(arr_1c.shape)\n",
        "x_train = arr_1c.reshape(1, img_rows, img_cols, 1)\n",
        "print(x_train.shape)\n",
        "\n",
        "y_out = model.predict(x_train)\n",
        "y_pred = np.argmax(y_out, axis=-1)\n",
        "print(y_out, y_pred)"
      ]
    },
    {
      "cell_type": "code",
      "execution_count": 6,
      "metadata": {
        "colab": {
          "base_uri": "https://localhost:8080/"
        },
        "id": "DVCT6zGImyu5",
        "outputId": "e6aaa568-d037-40a5-d8d0-05f7f52bd056"
      },
      "outputs": [
        {
          "output_type": "stream",
          "name": "stdout",
          "text": [
            "(2352,) ->(28, 28, 3)\n",
            "1.jpg => (28, 28) => 1\n",
            "\n",
            "(2352,) ->(28, 28, 3)\n",
            "3.jpg => (28, 28) => 3\n",
            "\n",
            "(2352,) ->(28, 28, 3)\n",
            "5.jpg => (28, 28) => 5\n",
            "\n",
            "(2352,) ->(28, 28, 3)\n",
            "5_small.jpg => (28, 28) => 5\n",
            "\n",
            "(2352,) ->(28, 28, 3)\n",
            "2.jpg => (28, 28) => 2\n",
            "\n"
          ]
        },
        {
          "output_type": "stream",
          "name": "stderr",
          "text": [
            "<ipython-input-3-bd84f8ce7289>:8: DeprecationWarning: The binary mode of fromstring is deprecated, as it behaves surprisingly on unicode inputs. Use frombuffer instead\n",
            "  im_arr = np.fromstring(image.tobytes(), dtype=np.uint8)  # convert to int ndarray\n"
          ]
        }
      ],
      "source": [
        "import os\n",
        "subdir_names = os.listdir(dir + \"MNIST\")\n",
        "X_test = y_test = []\n",
        "for subdir_name in subdir_names:\n",
        "    subdir = dir + \"MNIST/\"+subdir_name\n",
        "    file_names = os.listdir(subdir)\n",
        "    for file_name in file_names:\n",
        "        path = subdir+\"/\"+file_name\n",
        "        arr = jpg_image_to_array(path, 28)     # convert to ndarray\n",
        "        arr_1c = image_array_to_1channel(arr)  # convert to 1-channel\n",
        "        print(file_name, \"=>\", arr_1c.shape, \"=> \", end='')\n",
        "        if len(X_test)==0:\n",
        "            X_test = [arr_1c]\n",
        "            y_test = int(subdir_name)\n",
        "            print(subdir_name)\n",
        "        else:\n",
        "            X_test = np.concatenate((X_test, [arr_1c]))\n",
        "            y_test = np.append(y_test, int(subdir_name))\n",
        "            print(subdir_name)\n",
        "        print()"
      ]
    },
    {
      "cell_type": "code",
      "execution_count": 7,
      "metadata": {
        "colab": {
          "base_uri": "https://localhost:8080/"
        },
        "id": "vWV780dumyu6",
        "outputId": "f386f186-ae02-40f0-a6ca-041ff6b20937"
      },
      "outputs": [
        {
          "output_type": "stream",
          "name": "stdout",
          "text": [
            "(5, 28, 28)\n",
            "(5, 28, 28, 1)\n"
          ]
        }
      ],
      "source": [
        "print(X_test.shape)\n",
        "X_test = np.expand_dims(X_test, axis=-1)\n",
        "print(X_test.shape)"
      ]
    },
    {
      "cell_type": "code",
      "execution_count": 8,
      "metadata": {
        "colab": {
          "base_uri": "https://localhost:8080/"
        },
        "id": "TwivCgEHmyu7",
        "outputId": "9b56ae2c-6083-4dd9-98bd-39be147dba7e"
      },
      "outputs": [
        {
          "output_type": "stream",
          "name": "stdout",
          "text": [
            "[[0. 1. 0. 0. 0. 0. 0. 0. 0. 0.]\n",
            " [0. 0. 0. 1. 0. 0. 0. 0. 0. 0.]\n",
            " [0. 0. 0. 0. 0. 1. 0. 0. 0. 0.]\n",
            " [0. 0. 0. 0. 0. 1. 0. 0. 0. 0.]\n",
            " [0. 0. 1. 0. 0. 0. 0. 0. 0. 0.]]\n",
            "\n",
            "1/1 [==============================] - 0s 319ms/step - loss: 0.0000e+00 - accuracy: 1.0000\n",
            "test_loss:  0.0\n",
            "test_acc:  1.0\n"
          ]
        }
      ],
      "source": [
        "from tensorflow.keras import utils\n",
        "y_binary = utils.to_categorical(y_test, 10)\n",
        "print(y_binary, end='\\n\\n')\n",
        "\n",
        "score = model.evaluate(X_test, y_binary)\n",
        "print('test_loss: ', score[0])\n",
        "print('test_acc: ', score[1])"
      ]
    },
    {
      "cell_type": "code",
      "source": [
        "y_pred = np.argmax(model.predict(X_test), axis=-1)\n",
        "print(y_pred)"
      ],
      "metadata": {
        "colab": {
          "base_uri": "https://localhost:8080/"
        },
        "id": "WUHztBPGykhL",
        "outputId": "745c66fe-86ab-4df8-a35b-6c09b622115a"
      },
      "execution_count": 9,
      "outputs": [
        {
          "output_type": "stream",
          "name": "stdout",
          "text": [
            "1/1 [==============================] - 0s 25ms/step\n",
            "[1 3 5 5 2]\n"
          ]
        }
      ]
    }
  ],
  "metadata": {
    "kernelspec": {
      "display_name": "Python 3",
      "language": "python",
      "name": "python3"
    },
    "language_info": {
      "codemirror_mode": {
        "name": "ipython",
        "version": 3
      },
      "file_extension": ".py",
      "mimetype": "text/x-python",
      "name": "python",
      "nbconvert_exporter": "python",
      "pygments_lexer": "ipython3",
      "version": "3.8.8"
    },
    "colab": {
      "provenance": [],
      "include_colab_link": true
    }
  },
  "nbformat": 4,
  "nbformat_minor": 0
}