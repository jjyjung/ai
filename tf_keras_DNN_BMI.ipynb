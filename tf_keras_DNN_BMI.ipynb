{
  "nbformat": 4,
  "nbformat_minor": 0,
  "metadata": {
    "kernelspec": {
      "display_name": "Python 3",
      "language": "python",
      "name": "python3"
    },
    "language_info": {
      "codemirror_mode": {
        "name": "ipython",
        "version": 3
      },
      "file_extension": ".py",
      "mimetype": "text/x-python",
      "name": "python",
      "nbconvert_exporter": "python",
      "pygments_lexer": "ipython3",
      "version": "3.8.8"
    },
    "colab": {
      "provenance": [],
      "include_colab_link": true
    }
  },
  "cells": [
    {
      "cell_type": "markdown",
      "metadata": {
        "id": "view-in-github",
        "colab_type": "text"
      },
      "source": [
        "<a href=\"https://colab.research.google.com/github/jjyjung/ai/blob/gh-pages/tf_keras_DNN_BMI.ipynb\" target=\"_parent\"><img src=\"https://colab.research.google.com/assets/colab-badge.svg\" alt=\"Open In Colab\"/></a>"
      ]
    },
    {
      "cell_type": "code",
      "source": [
        "# # Jupyter Notebook에서 실행시킬 때에는 아래 2개 셀 대신에 이 코드를 실행하세요.\n",
        "# import numpy as np\n",
        "# import pandas as pd\n",
        "# import tensorflow as tf\n",
        "# from tensorflow.keras import layers  # 모듈(변수나 함수를 포함)만 불러오기\n",
        "\n",
        "# # BMI 데이터를 읽어 들이고 정규화하기\n",
        "# dir = \"./ai/\"  # 현재 경로에 bmi.csv가 저장되어 있다고 가정함\n",
        "# df = pd.read_csv(dir + \"bmi.csv\")    ### [중요!!] https://github.com/jjyjung/ai/blob/gh-pages/bmi.csv 에서 다운받을 수 있습니다."
      ],
      "metadata": {
        "id": "RKyTXz1d1W27"
      },
      "execution_count": null,
      "outputs": []
    },
    {
      "cell_type": "code",
      "metadata": {
        "colab": {
          "base_uri": "https://localhost:8080/"
        },
        "id": "EYWPrHpHvOaT",
        "outputId": "e78c5b2a-703a-4e49-e52d-0b829e9ff48f"
      },
      "source": [
        "### Colab에서 Google Drive에 접근할 때만 필요한 코드\n",
        "from google.colab import drive\n",
        "\n",
        "drive.mount('/content/gdrive')   # google drive를 google colab에 연결. 처음 실행 시, 인증 필요"
      ],
      "execution_count": 1,
      "outputs": [
        {
          "output_type": "stream",
          "name": "stdout",
          "text": [
            "Mounted at /content/gdrive\n"
          ]
        }
      ]
    },
    {
      "cell_type": "code",
      "metadata": {
        "id": "22UZuhWkLtVt"
      },
      "source": [
        "### Colab에서 Google Drive에 저장된 파일에 접근할 때 필요한 코드\n",
        "import numpy as np\n",
        "import pandas as pd\n",
        "import tensorflow as tf\n",
        "from tensorflow.keras import layers  # 모듈(변수나 함수를 포함)만 불러오기\n",
        "\n",
        "# BMI 데이터를 읽어 들이고 정규화하기\n",
        "dir = \"/content/gdrive/My Drive/Colab Notebooks/ai/\"  ### [중요!!] Colab의 경우, bmi.csv를 저장할 위치를 기록하시오.\n",
        "df = pd.read_csv(dir + \"bmi.csv\")    ### [중요!!] https://github.com/jjyjung/ai/blob/gh-pages/bmi.csv 에서 다운받을 수 있습니다."
      ],
      "execution_count": 2,
      "outputs": []
    },
    {
      "cell_type": "code",
      "metadata": {
        "id": "3GAFF1QOk58E",
        "colab": {
          "base_uri": "https://localhost:8080/",
          "height": 423
        },
        "outputId": "e515760b-9c97-4b02-8ef7-55a4da6c26c7"
      },
      "source": [
        "df"
      ],
      "execution_count": 3,
      "outputs": [
        {
          "output_type": "execute_result",
          "data": {
            "text/plain": [
              "       height  weight   label\n",
              "0         142      62     fat\n",
              "1         142      73     fat\n",
              "2         177      61  normal\n",
              "3         187      48    thin\n",
              "4         153      60     fat\n",
              "...       ...     ...     ...\n",
              "19995     122      58     fat\n",
              "19996     193      69  normal\n",
              "19997     193      37    thin\n",
              "19998     195      51    thin\n",
              "19999     163      67  normal\n",
              "\n",
              "[20000 rows x 3 columns]"
            ],
            "text/html": [
              "\n",
              "  <div id=\"df-2bfc89f6-f08e-451b-b152-8bdda100b9a9\" class=\"colab-df-container\">\n",
              "    <div>\n",
              "<style scoped>\n",
              "    .dataframe tbody tr th:only-of-type {\n",
              "        vertical-align: middle;\n",
              "    }\n",
              "\n",
              "    .dataframe tbody tr th {\n",
              "        vertical-align: top;\n",
              "    }\n",
              "\n",
              "    .dataframe thead th {\n",
              "        text-align: right;\n",
              "    }\n",
              "</style>\n",
              "<table border=\"1\" class=\"dataframe\">\n",
              "  <thead>\n",
              "    <tr style=\"text-align: right;\">\n",
              "      <th></th>\n",
              "      <th>height</th>\n",
              "      <th>weight</th>\n",
              "      <th>label</th>\n",
              "    </tr>\n",
              "  </thead>\n",
              "  <tbody>\n",
              "    <tr>\n",
              "      <th>0</th>\n",
              "      <td>142</td>\n",
              "      <td>62</td>\n",
              "      <td>fat</td>\n",
              "    </tr>\n",
              "    <tr>\n",
              "      <th>1</th>\n",
              "      <td>142</td>\n",
              "      <td>73</td>\n",
              "      <td>fat</td>\n",
              "    </tr>\n",
              "    <tr>\n",
              "      <th>2</th>\n",
              "      <td>177</td>\n",
              "      <td>61</td>\n",
              "      <td>normal</td>\n",
              "    </tr>\n",
              "    <tr>\n",
              "      <th>3</th>\n",
              "      <td>187</td>\n",
              "      <td>48</td>\n",
              "      <td>thin</td>\n",
              "    </tr>\n",
              "    <tr>\n",
              "      <th>4</th>\n",
              "      <td>153</td>\n",
              "      <td>60</td>\n",
              "      <td>fat</td>\n",
              "    </tr>\n",
              "    <tr>\n",
              "      <th>...</th>\n",
              "      <td>...</td>\n",
              "      <td>...</td>\n",
              "      <td>...</td>\n",
              "    </tr>\n",
              "    <tr>\n",
              "      <th>19995</th>\n",
              "      <td>122</td>\n",
              "      <td>58</td>\n",
              "      <td>fat</td>\n",
              "    </tr>\n",
              "    <tr>\n",
              "      <th>19996</th>\n",
              "      <td>193</td>\n",
              "      <td>69</td>\n",
              "      <td>normal</td>\n",
              "    </tr>\n",
              "    <tr>\n",
              "      <th>19997</th>\n",
              "      <td>193</td>\n",
              "      <td>37</td>\n",
              "      <td>thin</td>\n",
              "    </tr>\n",
              "    <tr>\n",
              "      <th>19998</th>\n",
              "      <td>195</td>\n",
              "      <td>51</td>\n",
              "      <td>thin</td>\n",
              "    </tr>\n",
              "    <tr>\n",
              "      <th>19999</th>\n",
              "      <td>163</td>\n",
              "      <td>67</td>\n",
              "      <td>normal</td>\n",
              "    </tr>\n",
              "  </tbody>\n",
              "</table>\n",
              "<p>20000 rows × 3 columns</p>\n",
              "</div>\n",
              "    <div class=\"colab-df-buttons\">\n",
              "\n",
              "  <div class=\"colab-df-container\">\n",
              "    <button class=\"colab-df-convert\" onclick=\"convertToInteractive('df-2bfc89f6-f08e-451b-b152-8bdda100b9a9')\"\n",
              "            title=\"Convert this dataframe to an interactive table.\"\n",
              "            style=\"display:none;\">\n",
              "\n",
              "  <svg xmlns=\"http://www.w3.org/2000/svg\" height=\"24px\" viewBox=\"0 -960 960 960\">\n",
              "    <path d=\"M120-120v-720h720v720H120Zm60-500h600v-160H180v160Zm220 220h160v-160H400v160Zm0 220h160v-160H400v160ZM180-400h160v-160H180v160Zm440 0h160v-160H620v160ZM180-180h160v-160H180v160Zm440 0h160v-160H620v160Z\"/>\n",
              "  </svg>\n",
              "    </button>\n",
              "\n",
              "  <style>\n",
              "    .colab-df-container {\n",
              "      display:flex;\n",
              "      gap: 12px;\n",
              "    }\n",
              "\n",
              "    .colab-df-convert {\n",
              "      background-color: #E8F0FE;\n",
              "      border: none;\n",
              "      border-radius: 50%;\n",
              "      cursor: pointer;\n",
              "      display: none;\n",
              "      fill: #1967D2;\n",
              "      height: 32px;\n",
              "      padding: 0 0 0 0;\n",
              "      width: 32px;\n",
              "    }\n",
              "\n",
              "    .colab-df-convert:hover {\n",
              "      background-color: #E2EBFA;\n",
              "      box-shadow: 0px 1px 2px rgba(60, 64, 67, 0.3), 0px 1px 3px 1px rgba(60, 64, 67, 0.15);\n",
              "      fill: #174EA6;\n",
              "    }\n",
              "\n",
              "    .colab-df-buttons div {\n",
              "      margin-bottom: 4px;\n",
              "    }\n",
              "\n",
              "    [theme=dark] .colab-df-convert {\n",
              "      background-color: #3B4455;\n",
              "      fill: #D2E3FC;\n",
              "    }\n",
              "\n",
              "    [theme=dark] .colab-df-convert:hover {\n",
              "      background-color: #434B5C;\n",
              "      box-shadow: 0px 1px 3px 1px rgba(0, 0, 0, 0.15);\n",
              "      filter: drop-shadow(0px 1px 2px rgba(0, 0, 0, 0.3));\n",
              "      fill: #FFFFFF;\n",
              "    }\n",
              "  </style>\n",
              "\n",
              "    <script>\n",
              "      const buttonEl =\n",
              "        document.querySelector('#df-2bfc89f6-f08e-451b-b152-8bdda100b9a9 button.colab-df-convert');\n",
              "      buttonEl.style.display =\n",
              "        google.colab.kernel.accessAllowed ? 'block' : 'none';\n",
              "\n",
              "      async function convertToInteractive(key) {\n",
              "        const element = document.querySelector('#df-2bfc89f6-f08e-451b-b152-8bdda100b9a9');\n",
              "        const dataTable =\n",
              "          await google.colab.kernel.invokeFunction('convertToInteractive',\n",
              "                                                    [key], {});\n",
              "        if (!dataTable) return;\n",
              "\n",
              "        const docLinkHtml = 'Like what you see? Visit the ' +\n",
              "          '<a target=\"_blank\" href=https://colab.research.google.com/notebooks/data_table.ipynb>data table notebook</a>'\n",
              "          + ' to learn more about interactive tables.';\n",
              "        element.innerHTML = '';\n",
              "        dataTable['output_type'] = 'display_data';\n",
              "        await google.colab.output.renderOutput(dataTable, element);\n",
              "        const docLink = document.createElement('div');\n",
              "        docLink.innerHTML = docLinkHtml;\n",
              "        element.appendChild(docLink);\n",
              "      }\n",
              "    </script>\n",
              "  </div>\n",
              "\n",
              "\n",
              "<div id=\"df-251c0de0-6f15-480e-a15f-3c5a04085f11\">\n",
              "  <button class=\"colab-df-quickchart\" onclick=\"quickchart('df-251c0de0-6f15-480e-a15f-3c5a04085f11')\"\n",
              "            title=\"Suggest charts.\"\n",
              "            style=\"display:none;\">\n",
              "\n",
              "<svg xmlns=\"http://www.w3.org/2000/svg\" height=\"24px\"viewBox=\"0 0 24 24\"\n",
              "     width=\"24px\">\n",
              "    <g>\n",
              "        <path d=\"M19 3H5c-1.1 0-2 .9-2 2v14c0 1.1.9 2 2 2h14c1.1 0 2-.9 2-2V5c0-1.1-.9-2-2-2zM9 17H7v-7h2v7zm4 0h-2V7h2v10zm4 0h-2v-4h2v4z\"/>\n",
              "    </g>\n",
              "</svg>\n",
              "  </button>\n",
              "\n",
              "<style>\n",
              "  .colab-df-quickchart {\n",
              "      --bg-color: #E8F0FE;\n",
              "      --fill-color: #1967D2;\n",
              "      --hover-bg-color: #E2EBFA;\n",
              "      --hover-fill-color: #174EA6;\n",
              "      --disabled-fill-color: #AAA;\n",
              "      --disabled-bg-color: #DDD;\n",
              "  }\n",
              "\n",
              "  [theme=dark] .colab-df-quickchart {\n",
              "      --bg-color: #3B4455;\n",
              "      --fill-color: #D2E3FC;\n",
              "      --hover-bg-color: #434B5C;\n",
              "      --hover-fill-color: #FFFFFF;\n",
              "      --disabled-bg-color: #3B4455;\n",
              "      --disabled-fill-color: #666;\n",
              "  }\n",
              "\n",
              "  .colab-df-quickchart {\n",
              "    background-color: var(--bg-color);\n",
              "    border: none;\n",
              "    border-radius: 50%;\n",
              "    cursor: pointer;\n",
              "    display: none;\n",
              "    fill: var(--fill-color);\n",
              "    height: 32px;\n",
              "    padding: 0;\n",
              "    width: 32px;\n",
              "  }\n",
              "\n",
              "  .colab-df-quickchart:hover {\n",
              "    background-color: var(--hover-bg-color);\n",
              "    box-shadow: 0 1px 2px rgba(60, 64, 67, 0.3), 0 1px 3px 1px rgba(60, 64, 67, 0.15);\n",
              "    fill: var(--button-hover-fill-color);\n",
              "  }\n",
              "\n",
              "  .colab-df-quickchart-complete:disabled,\n",
              "  .colab-df-quickchart-complete:disabled:hover {\n",
              "    background-color: var(--disabled-bg-color);\n",
              "    fill: var(--disabled-fill-color);\n",
              "    box-shadow: none;\n",
              "  }\n",
              "\n",
              "  .colab-df-spinner {\n",
              "    border: 2px solid var(--fill-color);\n",
              "    border-color: transparent;\n",
              "    border-bottom-color: var(--fill-color);\n",
              "    animation:\n",
              "      spin 1s steps(1) infinite;\n",
              "  }\n",
              "\n",
              "  @keyframes spin {\n",
              "    0% {\n",
              "      border-color: transparent;\n",
              "      border-bottom-color: var(--fill-color);\n",
              "      border-left-color: var(--fill-color);\n",
              "    }\n",
              "    20% {\n",
              "      border-color: transparent;\n",
              "      border-left-color: var(--fill-color);\n",
              "      border-top-color: var(--fill-color);\n",
              "    }\n",
              "    30% {\n",
              "      border-color: transparent;\n",
              "      border-left-color: var(--fill-color);\n",
              "      border-top-color: var(--fill-color);\n",
              "      border-right-color: var(--fill-color);\n",
              "    }\n",
              "    40% {\n",
              "      border-color: transparent;\n",
              "      border-right-color: var(--fill-color);\n",
              "      border-top-color: var(--fill-color);\n",
              "    }\n",
              "    60% {\n",
              "      border-color: transparent;\n",
              "      border-right-color: var(--fill-color);\n",
              "    }\n",
              "    80% {\n",
              "      border-color: transparent;\n",
              "      border-right-color: var(--fill-color);\n",
              "      border-bottom-color: var(--fill-color);\n",
              "    }\n",
              "    90% {\n",
              "      border-color: transparent;\n",
              "      border-bottom-color: var(--fill-color);\n",
              "    }\n",
              "  }\n",
              "</style>\n",
              "\n",
              "  <script>\n",
              "    async function quickchart(key) {\n",
              "      const quickchartButtonEl =\n",
              "        document.querySelector('#' + key + ' button');\n",
              "      quickchartButtonEl.disabled = true;  // To prevent multiple clicks.\n",
              "      quickchartButtonEl.classList.add('colab-df-spinner');\n",
              "      try {\n",
              "        const charts = await google.colab.kernel.invokeFunction(\n",
              "            'suggestCharts', [key], {});\n",
              "      } catch (error) {\n",
              "        console.error('Error during call to suggestCharts:', error);\n",
              "      }\n",
              "      quickchartButtonEl.classList.remove('colab-df-spinner');\n",
              "      quickchartButtonEl.classList.add('colab-df-quickchart-complete');\n",
              "    }\n",
              "    (() => {\n",
              "      let quickchartButtonEl =\n",
              "        document.querySelector('#df-251c0de0-6f15-480e-a15f-3c5a04085f11 button');\n",
              "      quickchartButtonEl.style.display =\n",
              "        google.colab.kernel.accessAllowed ? 'block' : 'none';\n",
              "    })();\n",
              "  </script>\n",
              "</div>\n",
              "    </div>\n",
              "  </div>\n"
            ]
          },
          "metadata": {},
          "execution_count": 3
        }
      ]
    },
    {
      "cell_type": "code",
      "metadata": {
        "id": "WaC6EJH_kwwz"
      },
      "source": [
        "# 몸무게와 키 데이터 약식 정규화\n",
        "df[\"weight\"] /= 100   # normalization\n",
        "df[\"height\"] /= 200   # normalization\n",
        "# X = df[[\"weight\", \"height\"]].to_numpy()\n",
        "X = df.iloc[:,0:2]\n",
        "\n",
        "# 레이블링, 라벨링 (labelling) => one-hot encoding\n",
        "bclass = {\"thin\":[1,0,0], \"normal\":[0,1,0], \"fat\":[0,0,1]}\n",
        "y = np.empty((20000,3))     # 2000x3 크기의 다차원 벡터 생성\n",
        "for i, v in enumerate(df[\"label\"]):\n",
        "    y[i] = bclass[v]        # \"thin'이면, y[i]=[1,0,0] 와 같이 할당\n",
        "\n",
        "# 훈련 전용 데이터와 테스트 전용 데이터로 나누기\n",
        "X_train, y_train = X[0:15000], y[0:15000]\n",
        "X_test,  y_test  = X[15000:20000], y[15000:20000]"
      ],
      "execution_count": 4,
      "outputs": []
    },
    {
      "cell_type": "code",
      "metadata": {
        "scrolled": true,
        "id": "G2UgYhccLtVu"
      },
      "source": [
        "# 모델 구조 정의하기\n",
        "model = tf.keras.Sequential()         # 순차적 계층화 준비\n",
        "model.add(layers.Dense(8, input_shape=(2,)))  # 입력 2개로부터 전달받는 8개 노드의 layer 생성\n",
        "model.add(layers.Activation('relu'))  # ReLU 활성화함수 채택\n",
        "model.add(layers.Dropout(0.1))        # dropout ratio=10% (배치 훈련시 10% arc 무시)\n",
        "\n",
        "model.add(layers.Dense(4))            # 4개 노드의 layer 생성\n",
        "model.add(layers.Activation('relu'))\n",
        "model.add(layers.Dropout(0.1))\n",
        "\n",
        "model.add(layers.Dense(3))\n",
        "model.add(layers.Activation('softmax'))# 분류(classification)을 위해 softmax 함수 사용\n",
        "\n",
        "# 모델 구축하기\n",
        "model.compile(\n",
        "    loss='categorical_crossentropy',  # 다중 교차엔트로피\n",
        "    optimizer='rmsprop',   # 최적화 기법 중 하나 (tf.keras.optimizers.RMSprop(learning_rate=0.1)\n",
        "    metrics=['accuracy',tf.keras.metrics.TruePositives(name='tp'), tf.keras.metrics.Precision(), tf.keras.metrics.AUC()])"
      ],
      "execution_count": 29,
      "outputs": []
    },
    {
      "cell_type": "code",
      "metadata": {
        "scrolled": true,
        "id": "2IhHchdXLtVv",
        "colab": {
          "base_uri": "https://localhost:8080/"
        },
        "outputId": "da1b23f5-2029-485a-dcda-55aca94d16ef"
      },
      "source": [
        "# 데이터 훈련하기\n",
        "hist = model.fit(\n",
        "    X_train, y_train,\n",
        "    batch_size=100,     # 100개에 한 번씩 업데이터 실행\n",
        "    epochs=5,          # 훈련 데이터셋을 총 60회 반복 실험. 단, 조기중지될 수 있음\n",
        "    validation_split=0.2,\n",
        "        #validation data 분할 비율. 즉, 15000개 중에서 10%인 1500개를 validation용으로 분할\n",
        "    callbacks=[tf.keras.callbacks.EarlyStopping(monitor='val_loss', patience=10)],\n",
        "        #'val_loss'를 monitor하여 감소하면 한 번 더 참고 조기중지\n",
        "    verbose=1)   # 전 과정을 화면에 출력(1) 또는 미출력(0) 모드\n",
        "\n",
        "# 테스트 데이터로 평가하기\n",
        "score = model.evaluate(X_test, y_test)\n",
        "print('test_loss: ', score[0])\n",
        "print('test_acc: ', score[1])"
      ],
      "execution_count": 6,
      "outputs": [
        {
          "output_type": "stream",
          "name": "stdout",
          "text": [
            "Epoch 1/5\n",
            "120/120 [==============================] - 1s 4ms/step - loss: 1.1021 - accuracy: 0.3493 - tp: 0.0000e+00 - precision: 0.0000e+00 - auc: 0.5128 - val_loss: 1.1011 - val_accuracy: 0.3210 - val_tp: 0.0000e+00 - val_precision: 0.0000e+00 - val_auc: 0.5028\n",
            "Epoch 2/5\n",
            "120/120 [==============================] - 0s 2ms/step - loss: 1.1000 - accuracy: 0.3608 - tp: 0.0000e+00 - precision: 0.0000e+00 - auc: 0.5214 - val_loss: 1.1032 - val_accuracy: 0.3210 - val_tp: 0.0000e+00 - val_precision: 0.0000e+00 - val_auc: 0.4787\n",
            "Epoch 3/5\n",
            "120/120 [==============================] - 0s 2ms/step - loss: 1.1001 - accuracy: 0.3537 - tp: 0.0000e+00 - precision: 0.0000e+00 - auc: 0.5196 - val_loss: 1.1035 - val_accuracy: 0.3637 - val_tp: 0.0000e+00 - val_precision: 0.0000e+00 - val_auc: 0.5242\n",
            "Epoch 4/5\n",
            "120/120 [==============================] - 0s 2ms/step - loss: 1.0989 - accuracy: 0.3542 - tp: 0.0000e+00 - precision: 0.0000e+00 - auc: 0.5248 - val_loss: 1.0991 - val_accuracy: 0.3637 - val_tp: 0.0000e+00 - val_precision: 0.0000e+00 - val_auc: 0.5092\n",
            "Epoch 5/5\n",
            "120/120 [==============================] - 0s 2ms/step - loss: 1.0993 - accuracy: 0.3600 - tp: 0.0000e+00 - precision: 0.0000e+00 - auc: 0.5223 - val_loss: 1.0993 - val_accuracy: 0.3153 - val_tp: 0.0000e+00 - val_precision: 0.0000e+00 - val_auc: 0.4972\n",
            "157/157 [==============================] - 0s 1ms/step - loss: 1.0998 - accuracy: 0.3074 - tp: 0.0000e+00 - precision: 0.0000e+00 - auc: 0.4916\n",
            "test_loss:  1.0998278856277466\n",
            "test_acc:  0.3073999881744385\n"
          ]
        }
      ]
    },
    {
      "cell_type": "code",
      "source": [
        "score"
      ],
      "metadata": {
        "colab": {
          "base_uri": "https://localhost:8080/"
        },
        "id": "sCPklZHEfGqh",
        "outputId": "2e696976-8daa-417c-b8cb-7f5e356b6e2b"
      },
      "execution_count": 8,
      "outputs": [
        {
          "output_type": "execute_result",
          "data": {
            "text/plain": [
              "[1.0998278856277466, 0.3073999881744385, 0.0, 0.0, 0.491599977016449]"
            ]
          },
          "metadata": {},
          "execution_count": 8
        }
      ]
    },
    {
      "cell_type": "code",
      "metadata": {
        "id": "eVZ2sf6Gb5Y-",
        "colab": {
          "base_uri": "https://localhost:8080/"
        },
        "outputId": "44e0847f-880d-4c8b-839d-6371eb781608"
      },
      "source": [
        "hist.history.keys()"
      ],
      "execution_count": 7,
      "outputs": [
        {
          "output_type": "execute_result",
          "data": {
            "text/plain": [
              "dict_keys(['loss', 'accuracy', 'tp', 'precision', 'auc', 'val_loss', 'val_accuracy', 'val_tp', 'val_precision', 'val_auc'])"
            ]
          },
          "metadata": {},
          "execution_count": 7
        }
      ]
    },
    {
      "cell_type": "code",
      "metadata": {
        "scrolled": true,
        "id": "Hh1NwcAwLtVw",
        "colab": {
          "base_uri": "https://localhost:8080/",
          "height": 449
        },
        "outputId": "5481c8f3-eb2f-4537-c7e9-bc8a368f3999"
      },
      "source": [
        "import matplotlib.pyplot as plt\n",
        "\n",
        "fig, loss_ax = plt.subplots()\n",
        "acc_ax = loss_ax.twinx()\n",
        "\n",
        "loss_ax.plot(hist.history['loss'], 'y', label='train loss')\n",
        "loss_ax.plot(hist.history['val_loss'], 'r', label='val loss')\n",
        "\n",
        "acc_ax.plot(hist.history['accuracy'], 'b', label='train acc')\n",
        "acc_ax.plot(hist.history['val_accuracy'], 'g', label='val acc')\n",
        "\n",
        "loss_ax.set_xlabel('epoch')\n",
        "loss_ax.set_ylabel('loss')\n",
        "acc_ax.set_ylabel('accuray')\n",
        "\n",
        "loss_ax.legend(loc='upper left')\n",
        "acc_ax.legend(loc='lower left')\n",
        "\n",
        "plt.show()"
      ],
      "execution_count": 9,
      "outputs": [
        {
          "output_type": "display_data",
          "data": {
            "text/plain": [
              "<Figure size 640x480 with 2 Axes>"
            ],
            "image/png": "[encoded data removed]"
          },
          "metadata": {}
        }
      ]
    },
    {
      "cell_type": "code",
      "metadata": {
        "id": "a0LNN770LtVw",
        "colab": {
          "base_uri": "https://localhost:8080/"
        },
        "outputId": "e09ae7d4-2a3d-401f-9205-25ab28f40ddc"
      },
      "source": [
        "model.summary()"
      ],
      "execution_count": 10,
      "outputs": [
        {
          "output_type": "stream",
          "name": "stdout",
          "text": [
            "Model: \"sequential\"\n",
            "_________________________________________________________________\n",
            " Layer (type)                Output Shape              Param #   \n",
            "=================================================================\n",
            " dense (Dense)               (None, 8)                 24        \n",
            "                                                                 \n",
            " activation (Activation)     (None, 8)                 0         \n",
            "                                                                 \n",
            " dropout (Dropout)           (None, 8)                 0         \n",
            "                                                                 \n",
            " dense_1 (Dense)             (None, 4)                 36        \n",
            "                                                                 \n",
            " activation_1 (Activation)   (None, 4)                 0         \n",
            "                                                                 \n",
            " dropout_1 (Dropout)         (None, 4)                 0         \n",
            "                                                                 \n",
            " dense_2 (Dense)             (None, 3)                 15        \n",
            "                                                                 \n",
            " activation_2 (Activation)   (None, 3)                 0         \n",
            "                                                                 \n",
            "=================================================================\n",
            "Total params: 75 (300.00 Byte)\n",
            "Trainable params: 75 (300.00 Byte)\n",
            "Non-trainable params: 0 (0.00 Byte)\n",
            "_________________________________________________________________\n"
          ]
        }
      ]
    },
    {
      "cell_type": "code",
      "metadata": {
        "id": "Ap06VxZI5Aog",
        "colab": {
          "base_uri": "https://localhost:8080/"
        },
        "outputId": "13a2e25d-efb0-4168-8fb7-cfa12cdf61ad"
      },
      "source": [
        "model.get_weights()"
      ],
      "execution_count": 11,
      "outputs": [
        {
          "output_type": "execute_result",
          "data": {
            "text/plain": [
              "[array([[ 3.2715169e-01, -3.4482247e-01, -7.4045002e-01, -3.0964091e-01,\n",
              "         -1.2861955e-01,  2.7596086e-02, -3.8553417e-02,  6.8964154e-01],\n",
              "        [-2.3081395e-01,  2.4258617e-01, -2.1379292e-02, -2.6681918e-01,\n",
              "         -7.8784108e-02, -9.7168112e-01, -5.9449673e-04, -8.5842007e-01]],\n",
              "       dtype=float32),\n",
              " array([-0.31616968, -0.31416002,  0.        , -0.31617743,  0.        ,\n",
              "        -0.30000278,  0.        ,  0.38841546], dtype=float32),\n",
              " array([[-0.40148413, -0.4929608 , -0.47902355,  0.23552594],\n",
              "        [ 0.14578047,  0.40665656,  0.89342076,  0.15644607],\n",
              "        [ 0.04699308,  0.11152917, -0.6005113 , -0.08063823],\n",
              "        [-0.39043134,  0.46970448, -0.03107958,  0.41292608],\n",
              "        [ 0.5505838 , -0.10116476,  0.5974106 , -0.5177656 ],\n",
              "        [ 0.43377262,  0.67394334,  0.25912082, -0.05377947],\n",
              "        [ 0.4137084 , -0.5638203 ,  0.337892  ,  0.30865735],\n",
              "        [-0.17327732, -0.67737377, -0.00184083,  0.2260912 ]],\n",
              "       dtype=float32),\n",
              " array([-0.31533572, -0.00530741, -0.2927997 , -0.31620622], dtype=float32),\n",
              " array([[ 0.37632424,  0.6444582 , -0.40798903],\n",
              "        [ 0.29427105,  0.6907923 ,  0.55157566],\n",
              "        [-0.43589747, -0.3369331 ,  0.80526423],\n",
              "        [-0.20571843, -0.00434345,  0.01648495]], dtype=float32),\n",
              " array([0.11187048, 0.20968524, 0.17262807], dtype=float32)]"
            ]
          },
          "metadata": {},
          "execution_count": 11
        }
      ]
    },
    {
      "cell_type": "code",
      "metadata": {
        "scrolled": true,
        "id": "nhPK4V6nLtVx",
        "colab": {
          "base_uri": "https://localhost:8080/"
        },
        "outputId": "7f4d7018-3b8b-45cc-aebc-36a06fc41650"
      },
      "source": [
        "model.save(dir+\"dnn_bmi\")\n",
        "print(\"Saved model to disk.\")\n",
        "\n",
        "from numpy import loadtxt\n",
        "from tensorflow.python.keras.models import load_model\n",
        "\n",
        "# 저장된 모델 읽어오기\n",
        "loaded_model = load_model(dir+\"dnn_bmi\", compile=False)\n",
        "model.summary()\n",
        "\n",
        "# 모델을 평가하기\n",
        "score = model.evaluate(X_test, y_test)\n",
        "print('test_loss: ', score[0])\n",
        "print('test_acc: ', score[1])"
      ],
      "execution_count": 28,
      "outputs": [
        {
          "output_type": "stream",
          "name": "stdout",
          "text": [
            "Saved model to disk.\n",
            "Model: \"sequential\"\n",
            "_________________________________________________________________\n",
            " Layer (type)                Output Shape              Param #   \n",
            "=================================================================\n",
            " dense (Dense)               (None, 8)                 24        \n",
            "                                                                 \n",
            " activation (Activation)     (None, 8)                 0         \n",
            "                                                                 \n",
            " dropout (Dropout)           (None, 8)                 0         \n",
            "                                                                 \n",
            " dense_1 (Dense)             (None, 4)                 36        \n",
            "                                                                 \n",
            " activation_1 (Activation)   (None, 4)                 0         \n",
            "                                                                 \n",
            " dropout_1 (Dropout)         (None, 4)                 0         \n",
            "                                                                 \n",
            " dense_2 (Dense)             (None, 3)                 15        \n",
            "                                                                 \n",
            " activation_2 (Activation)   (None, 3)                 0         \n",
            "                                                                 \n",
            "=================================================================\n",
            "Total params: 75 (300.00 Byte)\n",
            "Trainable params: 75 (300.00 Byte)\n",
            "Non-trainable params: 0 (0.00 Byte)\n",
            "_________________________________________________________________\n",
            "157/157 [==============================] - 0s 1ms/step - loss: 1.0998 - accuracy: 0.3074 - tp: 0.0000e+00 - precision: 0.0000e+00 - auc: 0.4916\n",
            "test_loss:  1.0998278856277466\n",
            "test_acc:  0.3073999881744385\n"
          ]
        }
      ]
    },
    {
      "cell_type": "code",
      "metadata": {
        "id": "X8sQr21XLtVy",
        "colab": {
          "base_uri": "https://localhost:8080/"
        },
        "outputId": "6b146e34-8e4a-428f-beb9-18a8bd781e13"
      },
      "source": [
        "# X_test 샘플들의 클래스 예측하기\n",
        "y_prob = model.predict(X_test)    # X_test의 출력값 확인하기\n",
        "print(y_prob)\n",
        "\n",
        "y_class = y_prob.argmax(axis=-1)  # X_test의 클래스 예측하기\n",
        "y_class"
      ],
      "execution_count": 14,
      "outputs": [
        {
          "output_type": "stream",
          "name": "stdout",
          "text": [
            "157/157 [==============================] - 0s 805us/step\n",
            "[[0.31591585 0.34837887 0.33570522]\n",
            " [0.31591585 0.34837887 0.33570522]\n",
            " [0.31591585 0.34837887 0.33570522]\n",
            " ...\n",
            " [0.31591585 0.34837887 0.33570522]\n",
            " [0.31591585 0.34837887 0.33570522]\n",
            " [0.31591585 0.34837887 0.33570522]]\n"
          ]
        },
        {
          "output_type": "execute_result",
          "data": {
            "text/plain": [
              "array([1, 1, 1, ..., 1, 1, 1])"
            ]
          },
          "metadata": {},
          "execution_count": 14
        }
      ]
    },
    {
      "cell_type": "code",
      "metadata": {
        "id": "34Xez1yYLtV0",
        "colab": {
          "base_uri": "https://localhost:8080/"
        },
        "outputId": "b370c370-a0d3-4462-df7c-fde0e83d8a0b"
      },
      "source": [
        "# 새로운 샘플의 클래스 예측하기\n",
        "X_new = [80, 175]\n",
        "X_new[0]/=100; X_new[1]/=200\n",
        "print(X_new)\n",
        "\n",
        "y_prob = model.predict([X_new]) # X_new의 출력값 확인하기\n",
        "y_pred = y_prob.argmax()        # X_new의 클래스 예측하기\n",
        "print(y_prob, y_pred)"
      ],
      "execution_count": 15,
      "outputs": [
        {
          "output_type": "stream",
          "name": "stdout",
          "text": [
            "[0.8, 0.875]\n",
            "1/1 [==============================] - 0s 76ms/step\n",
            "[[0.31591585 0.34837887 0.33570522]] 1\n"
          ]
        }
      ]
    },
    {
      "cell_type": "code",
      "metadata": {
        "id": "YDjOYxUzLtVz",
        "colab": {
          "base_uri": "https://localhost:8080/"
        },
        "outputId": "e48e4d66-a2f5-44c2-e6dc-eaa6e5913470"
      },
      "source": [
        "type(X_test)"
      ],
      "execution_count": 16,
      "outputs": [
        {
          "output_type": "execute_result",
          "data": {
            "text/plain": [
              "pandas.core.frame.DataFrame"
            ]
          },
          "metadata": {},
          "execution_count": 16
        }
      ]
    },
    {
      "cell_type": "code",
      "metadata": {
        "id": "iOdX9FRmLtVz",
        "colab": {
          "base_uri": "https://localhost:8080/",
          "height": 206
        },
        "outputId": "2228cea6-d467-4e2c-9873-3a0d8338542d"
      },
      "source": [
        "X_test.head()"
      ],
      "execution_count": 17,
      "outputs": [
        {
          "output_type": "execute_result",
          "data": {
            "text/plain": [
              "       height  weight\n",
              "15000   0.690    0.55\n",
              "15001   0.760    0.36\n",
              "15002   0.915    0.72\n",
              "15003   0.990    0.51\n",
              "15004   0.745    0.47"
            ],
            "text/html": [
              "\n",
              "  <div id=\"df-a8e02f6a-766c-4e44-b974-3516ca5b26d8\" class=\"colab-df-container\">\n",
              "    <div>\n",
              "<style scoped>\n",
              "    .dataframe tbody tr th:only-of-type {\n",
              "        vertical-align: middle;\n",
              "    }\n",
              "\n",
              "    .dataframe tbody tr th {\n",
              "        vertical-align: top;\n",
              "    }\n",
              "\n",
              "    .dataframe thead th {\n",
              "        text-align: right;\n",
              "    }\n",
              "</style>\n",
              "<table border=\"1\" class=\"dataframe\">\n",
              "  <thead>\n",
              "    <tr style=\"text-align: right;\">\n",
              "      <th></th>\n",
              "      <th>height</th>\n",
              "      <th>weight</th>\n",
              "    </tr>\n",
              "  </thead>\n",
              "  <tbody>\n",
              "    <tr>\n",
              "      <th>15000</th>\n",
              "      <td>0.690</td>\n",
              "      <td>0.55</td>\n",
              "    </tr>\n",
              "    <tr>\n",
              "      <th>15001</th>\n",
              "      <td>0.760</td>\n",
              "      <td>0.36</td>\n",
              "    </tr>\n",
              "    <tr>\n",
              "      <th>15002</th>\n",
              "      <td>0.915</td>\n",
              "      <td>0.72</td>\n",
              "    </tr>\n",
              "    <tr>\n",
              "      <th>15003</th>\n",
              "      <td>0.990</td>\n",
              "      <td>0.51</td>\n",
              "    </tr>\n",
              "    <tr>\n",
              "      <th>15004</th>\n",
              "      <td>0.745</td>\n",
              "      <td>0.47</td>\n",
              "    </tr>\n",
              "  </tbody>\n",
              "</table>\n",
              "</div>\n",
              "    <div class=\"colab-df-buttons\">\n",
              "\n",
              "  <div class=\"colab-df-container\">\n",
              "    <button class=\"colab-df-convert\" onclick=\"convertToInteractive('df-a8e02f6a-766c-4e44-b974-3516ca5b26d8')\"\n",
              "            title=\"Convert this dataframe to an interactive table.\"\n",
              "            style=\"display:none;\">\n",
              "\n",
              "  <svg xmlns=\"http://www.w3.org/2000/svg\" height=\"24px\" viewBox=\"0 -960 960 960\">\n",
              "    <path d=\"M120-120v-720h720v720H120Zm60-500h600v-160H180v160Zm220 220h160v-160H400v160Zm0 220h160v-160H400v160ZM180-400h160v-160H180v160Zm440 0h160v-160H620v160ZM180-180h160v-160H180v160Zm440 0h160v-160H620v160Z\"/>\n",
              "  </svg>\n",
              "    </button>\n",
              "\n",
              "  <style>\n",
              "    .colab-df-container {\n",
              "      display:flex;\n",
              "      gap: 12px;\n",
              "    }\n",
              "\n",
              "    .colab-df-convert {\n",
              "      background-color: #E8F0FE;\n",
              "      border: none;\n",
              "      border-radius: 50%;\n",
              "      cursor: pointer;\n",
              "      display: none;\n",
              "      fill: #1967D2;\n",
              "      height: 32px;\n",
              "      padding: 0 0 0 0;\n",
              "      width: 32px;\n",
              "    }\n",
              "\n",
              "    .colab-df-convert:hover {\n",
              "      background-color: #E2EBFA;\n",
              "      box-shadow: 0px 1px 2px rgba(60, 64, 67, 0.3), 0px 1px 3px 1px rgba(60, 64, 67, 0.15);\n",
              "      fill: #174EA6;\n",
              "    }\n",
              "\n",
              "    .colab-df-buttons div {\n",
              "      margin-bottom: 4px;\n",
              "    }\n",
              "\n",
              "    [theme=dark] .colab-df-convert {\n",
              "      background-color: #3B4455;\n",
              "      fill: #D2E3FC;\n",
              "    }\n",
              "\n",
              "    [theme=dark] .colab-df-convert:hover {\n",
              "      background-color: #434B5C;\n",
              "      box-shadow: 0px 1px 3px 1px rgba(0, 0, 0, 0.15);\n",
              "      filter: drop-shadow(0px 1px 2px rgba(0, 0, 0, 0.3));\n",
              "      fill: #FFFFFF;\n",
              "    }\n",
              "  </style>\n",
              "\n",
              "    <script>\n",
              "      const buttonEl =\n",
              "        document.querySelector('#df-a8e02f6a-766c-4e44-b974-3516ca5b26d8 button.colab-df-convert');\n",
              "      buttonEl.style.display =\n",
              "        google.colab.kernel.accessAllowed ? 'block' : 'none';\n",
              "\n",
              "      async function convertToInteractive(key) {\n",
              "        const element = document.querySelector('#df-a8e02f6a-766c-4e44-b974-3516ca5b26d8');\n",
              "        const dataTable =\n",
              "          await google.colab.kernel.invokeFunction('convertToInteractive',\n",
              "                                                    [key], {});\n",
              "        if (!dataTable) return;\n",
              "\n",
              "        const docLinkHtml = 'Like what you see? Visit the ' +\n",
              "          '<a target=\"_blank\" href=https://colab.research.google.com/notebooks/data_table.ipynb>data table notebook</a>'\n",
              "          + ' to learn more about interactive tables.';\n",
              "        element.innerHTML = '';\n",
              "        dataTable['output_type'] = 'display_data';\n",
              "        await google.colab.output.renderOutput(dataTable, element);\n",
              "        const docLink = document.createElement('div');\n",
              "        docLink.innerHTML = docLinkHtml;\n",
              "        element.appendChild(docLink);\n",
              "      }\n",
              "    </script>\n",
              "  </div>\n",
              "\n",
              "\n",
              "<div id=\"df-362ebbea-0e34-485a-ba63-7cbc7481dce1\">\n",
              "  <button class=\"colab-df-quickchart\" onclick=\"quickchart('df-362ebbea-0e34-485a-ba63-7cbc7481dce1')\"\n",
              "            title=\"Suggest charts.\"\n",
              "            style=\"display:none;\">\n",
              "\n",
              "<svg xmlns=\"http://www.w3.org/2000/svg\" height=\"24px\"viewBox=\"0 0 24 24\"\n",
              "     width=\"24px\">\n",
              "    <g>\n",
              "        <path d=\"M19 3H5c-1.1 0-2 .9-2 2v14c0 1.1.9 2 2 2h14c1.1 0 2-.9 2-2V5c0-1.1-.9-2-2-2zM9 17H7v-7h2v7zm4 0h-2V7h2v10zm4 0h-2v-4h2v4z\"/>\n",
              "    </g>\n",
              "</svg>\n",
              "  </button>\n",
              "\n",
              "<style>\n",
              "  .colab-df-quickchart {\n",
              "      --bg-color: #E8F0FE;\n",
              "      --fill-color: #1967D2;\n",
              "      --hover-bg-color: #E2EBFA;\n",
              "      --hover-fill-color: #174EA6;\n",
              "      --disabled-fill-color: #AAA;\n",
              "      --disabled-bg-color: #DDD;\n",
              "  }\n",
              "\n",
              "  [theme=dark] .colab-df-quickchart {\n",
              "      --bg-color: #3B4455;\n",
              "      --fill-color: #D2E3FC;\n",
              "      --hover-bg-color: #434B5C;\n",
              "      --hover-fill-color: #FFFFFF;\n",
              "      --disabled-bg-color: #3B4455;\n",
              "      --disabled-fill-color: #666;\n",
              "  }\n",
              "\n",
              "  .colab-df-quickchart {\n",
              "    background-color: var(--bg-color);\n",
              "    border: none;\n",
              "    border-radius: 50%;\n",
              "    cursor: pointer;\n",
              "    display: none;\n",
              "    fill: var(--fill-color);\n",
              "    height: 32px;\n",
              "    padding: 0;\n",
              "    width: 32px;\n",
              "  }\n",
              "\n",
              "  .colab-df-quickchart:hover {\n",
              "    background-color: var(--hover-bg-color);\n",
              "    box-shadow: 0 1px 2px rgba(60, 64, 67, 0.3), 0 1px 3px 1px rgba(60, 64, 67, 0.15);\n",
              "    fill: var(--button-hover-fill-color);\n",
              "  }\n",
              "\n",
              "  .colab-df-quickchart-complete:disabled,\n",
              "  .colab-df-quickchart-complete:disabled:hover {\n",
              "    background-color: var(--disabled-bg-color);\n",
              "    fill: var(--disabled-fill-color);\n",
              "    box-shadow: none;\n",
              "  }\n",
              "\n",
              "  .colab-df-spinner {\n",
              "    border: 2px solid var(--fill-color);\n",
              "    border-color: transparent;\n",
              "    border-bottom-color: var(--fill-color);\n",
              "    animation:\n",
              "      spin 1s steps(1) infinite;\n",
              "  }\n",
              "\n",
              "  @keyframes spin {\n",
              "    0% {\n",
              "      border-color: transparent;\n",
              "      border-bottom-color: var(--fill-color);\n",
              "      border-left-color: var(--fill-color);\n",
              "    }\n",
              "    20% {\n",
              "      border-color: transparent;\n",
              "      border-left-color: var(--fill-color);\n",
              "      border-top-color: var(--fill-color);\n",
              "    }\n",
              "    30% {\n",
              "      border-color: transparent;\n",
              "      border-left-color: var(--fill-color);\n",
              "      border-top-color: var(--fill-color);\n",
              "      border-right-color: var(--fill-color);\n",
              "    }\n",
              "    40% {\n",
              "      border-color: transparent;\n",
              "      border-right-color: var(--fill-color);\n",
              "      border-top-color: var(--fill-color);\n",
              "    }\n",
              "    60% {\n",
              "      border-color: transparent;\n",
              "      border-right-color: var(--fill-color);\n",
              "    }\n",
              "    80% {\n",
              "      border-color: transparent;\n",
              "      border-right-color: var(--fill-color);\n",
              "      border-bottom-color: var(--fill-color);\n",
              "    }\n",
              "    90% {\n",
              "      border-color: transparent;\n",
              "      border-bottom-color: var(--fill-color);\n",
              "    }\n",
              "  }\n",
              "</style>\n",
              "\n",
              "  <script>\n",
              "    async function quickchart(key) {\n",
              "      const quickchartButtonEl =\n",
              "        document.querySelector('#' + key + ' button');\n",
              "      quickchartButtonEl.disabled = true;  // To prevent multiple clicks.\n",
              "      quickchartButtonEl.classList.add('colab-df-spinner');\n",
              "      try {\n",
              "        const charts = await google.colab.kernel.invokeFunction(\n",
              "            'suggestCharts', [key], {});\n",
              "      } catch (error) {\n",
              "        console.error('Error during call to suggestCharts:', error);\n",
              "      }\n",
              "      quickchartButtonEl.classList.remove('colab-df-spinner');\n",
              "      quickchartButtonEl.classList.add('colab-df-quickchart-complete');\n",
              "    }\n",
              "    (() => {\n",
              "      let quickchartButtonEl =\n",
              "        document.querySelector('#df-362ebbea-0e34-485a-ba63-7cbc7481dce1 button');\n",
              "      quickchartButtonEl.style.display =\n",
              "        google.colab.kernel.accessAllowed ? 'block' : 'none';\n",
              "    })();\n",
              "  </script>\n",
              "</div>\n",
              "    </div>\n",
              "  </div>\n"
            ]
          },
          "metadata": {},
          "execution_count": 17
        }
      ]
    },
    {
      "cell_type": "code",
      "metadata": {
        "id": "xaOIG8Kaovrc",
        "colab": {
          "base_uri": "https://localhost:8080/"
        },
        "outputId": "0d590cb5-7fc0-486a-ff09-2e77e3c32800"
      },
      "source": [
        "X_test.head(5).index.tolist()"
      ],
      "execution_count": 18,
      "outputs": [
        {
          "output_type": "execute_result",
          "data": {
            "text/plain": [
              "[15000, 15001, 15002, 15003, 15004]"
            ]
          },
          "metadata": {},
          "execution_count": 18
        }
      ]
    },
    {
      "cell_type": "code",
      "metadata": {
        "id": "HfXV29CxuGk0",
        "colab": {
          "base_uri": "https://localhost:8080/"
        },
        "outputId": "190e6b55-4ab7-450b-c9bf-c329c7c95679"
      },
      "source": [
        "X_test0 = X_test.loc[15000]\n",
        "print(X_test0); print()\n",
        "\n",
        "X_test_li = list(X_test0)\n",
        "y_prob = model.predict([X_test_li])  # model.predict([[0.69, 0.55]])\n",
        "y_pred = y_prob.argmax()\n",
        "print(y_prob, y_pred)"
      ],
      "execution_count": 19,
      "outputs": [
        {
          "output_type": "stream",
          "name": "stdout",
          "text": [
            "height    0.69\n",
            "weight    0.55\n",
            "Name: 15000, dtype: float64\n",
            "\n",
            "1/1 [==============================] - 0s 39ms/step\n",
            "[[0.31591585 0.34837887 0.33570522]] 1\n"
          ]
        }
      ]
    },
    {
      "cell_type": "code",
      "metadata": {
        "id": "flB-FoC2LtV0"
      },
      "source": [
        "def predict_bmi(X_new):\n",
        "  y_prob = model.predict([X_new])\n",
        "  y_pred = y_prob.argmax()\n",
        "  print(X_new, y_prob, y_pred, sep='\\t')"
      ],
      "execution_count": 20,
      "outputs": []
    },
    {
      "cell_type": "code",
      "metadata": {
        "id": "EMJdeu5nLtV0",
        "colab": {
          "base_uri": "https://localhost:8080/"
        },
        "outputId": "c3af4e38-08ed-439d-9c89-83e4ee25048d"
      },
      "source": [
        "X_mean = [X_train[\"height\"].mean(), X_train[\"weight\"].mean()]\n",
        "X_min = [X_train[\"height\"].min(), X_train[\"weight\"].min()]\n",
        "X_max = [X_train[\"height\"].max(), X_train[\"weight\"].max()]\n",
        "X_min_max = [X_train[\"height\"].min(), X_train[\"weight\"].max()]\n",
        "X_max_min = [X_train[\"height\"].max(), X_train[\"weight\"].min()]\n",
        "\n",
        "predict_bmi(X_mean)\n",
        "predict_bmi(X_min)\n",
        "predict_bmi(X_max)\n",
        "predict_bmi(X_min_max)\n",
        "predict_bmi(X_max_min)"
      ],
      "execution_count": 21,
      "outputs": [
        {
          "output_type": "stream",
          "name": "stdout",
          "text": [
            "1/1 [==============================] - 0s 36ms/step\n",
            "[0.7999703333333333, 0.5757626666666668]\t[[0.31591585 0.34837887 0.33570522]]\t1\n",
            "1/1 [==============================] - 0s 37ms/step\n",
            "[0.6, 0.35]\t[[0.31591585 0.34837887 0.33570522]]\t1\n",
            "1/1 [==============================] - 0s 39ms/step\n",
            "[1.0, 0.8]\t[[0.31591585 0.34837887 0.33570522]]\t1\n",
            "1/1 [==============================] - 0s 38ms/step\n",
            "[0.6, 0.8]\t[[0.31591585 0.34837887 0.33570522]]\t1\n",
            "1/1 [==============================] - 0s 40ms/step\n",
            "[1.0, 0.35]\t[[0.31591585 0.34837887 0.33570522]]\t1\n"
          ]
        }
      ]
    }
  ]
}