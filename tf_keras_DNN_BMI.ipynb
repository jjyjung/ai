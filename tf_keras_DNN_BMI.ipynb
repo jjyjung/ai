{
  "nbformat": 4,
  "nbformat_minor": 0,
  "metadata": {
    "kernelspec": {
      "display_name": "Python 3",
      "language": "python",
      "name": "python3"
    },
    "language_info": {
      "codemirror_mode": {
        "name": "ipython",
        "version": 3
      },
      "file_extension": ".py",
      "mimetype": "text/x-python",
      "name": "python",
      "nbconvert_exporter": "python",
      "pygments_lexer": "ipython3",
      "version": "3.8.8"
    },
    "colab": {
      "provenance": [],
      "collapsed_sections": [],
      "include_colab_link": true
    }
  },
  "cells": [
    {
      "cell_type": "markdown",
      "metadata": {
        "id": "view-in-github",
        "colab_type": "text"
      },
      "source": [
        "<a href=\"https://colab.research.google.com/github/jjyjung/ai/blob/gh-pages/tf_keras_DNN_BMI.ipynb\" target=\"_parent\"><img src=\"https://colab.research.google.com/assets/colab-badge.svg\" alt=\"Open In Colab\"/></a>"
      ]
    },
    {
      "cell_type": "code",
      "metadata": {
        "colab": {
          "base_uri": "https://localhost:8080/"
        },
        "id": "EYWPrHpHvOaT",
        "outputId": "9878200d-507f-44a4-8d24-45132de24fe4"
      },
      "source": [
        "from google.colab import drive\n",
        "\n",
        "drive.mount('/content/gdrive')   # google drive를 google colab에 연결. 처음 실행 시, 인증 필요 "
      ],
      "execution_count": null,
      "outputs": [
        {
          "output_type": "stream",
          "name": "stdout",
          "text": [
            "Mounted at /content/gdrive\n"
          ]
        }
      ]
    },
    {
      "cell_type": "code",
      "metadata": {
        "id": "22UZuhWkLtVt"
      },
      "source": [
        "import numpy as np\n",
        "import pandas as pd\n",
        "import tensorflow as tf\n",
        "from tensorflow.keras import layers  # 모듈(변수나 함수를 포함)만 불러오기\n",
        "\n",
        "# BMI 데이터를 읽어 들이고 정규화하기\n",
        "dir = \"/content/gdrive/My Drive/Colab Notebooks/ai/\"  ### [중요!!] Colab의 경우, bmi.csv를 저장할 위치를 기록하시오.\n",
        "df = pd.read_csv(dir + \"bmi.csv\")    ### [중요!!] https://github.com/jjyjung/ai/blob/gh-pages/bmi.csv 에서 다운받을 수 있습니다."
      ],
      "execution_count": null,
      "outputs": []
    },
    {
      "cell_type": "code",
      "metadata": {
        "id": "3GAFF1QOk58E",
        "colab": {
          "base_uri": "https://localhost:8080/",
          "height": 424
        },
        "outputId": "4538cdcf-bc60-4d7f-a060-27b0b15cb0eb"
      },
      "source": [
        "df"
      ],
      "execution_count": null,
      "outputs": [
        {
          "output_type": "execute_result",
          "data": {
            "text/plain": [
              "       height  weight   label\n",
              "0         142      62     fat\n",
              "1         142      73     fat\n",
              "2         177      61  normal\n",
              "3         187      48    thin\n",
              "4         153      60     fat\n",
              "...       ...     ...     ...\n",
              "19995     122      58     fat\n",
              "19996     193      69  normal\n",
              "19997     193      37    thin\n",
              "19998     195      51    thin\n",
              "19999     163      67  normal\n",
              "\n",
              "[20000 rows x 3 columns]"
            ],
            "text/html": [
              "\n",
              "  <div id=\"df-4c7dce66-b324-4ae8-a734-35847198a542\">\n",
              "    <div class=\"colab-df-container\">\n",
              "      <div>\n",
              "<style scoped>\n",
              "    .dataframe tbody tr th:only-of-type {\n",
              "        vertical-align: middle;\n",
              "    }\n",
              "\n",
              "    .dataframe tbody tr th {\n",
              "        vertical-align: top;\n",
              "    }\n",
              "\n",
              "    .dataframe thead th {\n",
              "        text-align: right;\n",
              "    }\n",
              "</style>\n",
              "<table border=\"1\" class=\"dataframe\">\n",
              "  <thead>\n",
              "    <tr style=\"text-align: right;\">\n",
              "      <th></th>\n",
              "      <th>height</th>\n",
              "      <th>weight</th>\n",
              "      <th>label</th>\n",
              "    </tr>\n",
              "  </thead>\n",
              "  <tbody>\n",
              "    <tr>\n",
              "      <th>0</th>\n",
              "      <td>142</td>\n",
              "      <td>62</td>\n",
              "      <td>fat</td>\n",
              "    </tr>\n",
              "    <tr>\n",
              "      <th>1</th>\n",
              "      <td>142</td>\n",
              "      <td>73</td>\n",
              "      <td>fat</td>\n",
              "    </tr>\n",
              "    <tr>\n",
              "      <th>2</th>\n",
              "      <td>177</td>\n",
              "      <td>61</td>\n",
              "      <td>normal</td>\n",
              "    </tr>\n",
              "    <tr>\n",
              "      <th>3</th>\n",
              "      <td>187</td>\n",
              "      <td>48</td>\n",
              "      <td>thin</td>\n",
              "    </tr>\n",
              "    <tr>\n",
              "      <th>4</th>\n",
              "      <td>153</td>\n",
              "      <td>60</td>\n",
              "      <td>fat</td>\n",
              "    </tr>\n",
              "    <tr>\n",
              "      <th>...</th>\n",
              "      <td>...</td>\n",
              "      <td>...</td>\n",
              "      <td>...</td>\n",
              "    </tr>\n",
              "    <tr>\n",
              "      <th>19995</th>\n",
              "      <td>122</td>\n",
              "      <td>58</td>\n",
              "      <td>fat</td>\n",
              "    </tr>\n",
              "    <tr>\n",
              "      <th>19996</th>\n",
              "      <td>193</td>\n",
              "      <td>69</td>\n",
              "      <td>normal</td>\n",
              "    </tr>\n",
              "    <tr>\n",
              "      <th>19997</th>\n",
              "      <td>193</td>\n",
              "      <td>37</td>\n",
              "      <td>thin</td>\n",
              "    </tr>\n",
              "    <tr>\n",
              "      <th>19998</th>\n",
              "      <td>195</td>\n",
              "      <td>51</td>\n",
              "      <td>thin</td>\n",
              "    </tr>\n",
              "    <tr>\n",
              "      <th>19999</th>\n",
              "      <td>163</td>\n",
              "      <td>67</td>\n",
              "      <td>normal</td>\n",
              "    </tr>\n",
              "  </tbody>\n",
              "</table>\n",
              "<p>20000 rows × 3 columns</p>\n",
              "</div>\n",
              "      <button class=\"colab-df-convert\" onclick=\"convertToInteractive('df-4c7dce66-b324-4ae8-a734-35847198a542')\"\n",
              "              title=\"Convert this dataframe to an interactive table.\"\n",
              "              style=\"display:none;\">\n",
              "        \n",
              "  <svg xmlns=\"http://www.w3.org/2000/svg\" height=\"24px\"viewBox=\"0 0 24 24\"\n",
              "       width=\"24px\">\n",
              "    <path d=\"M0 0h24v24H0V0z\" fill=\"none\"/>\n",
              "    <path d=\"M18.56 5.44l.94 2.06.94-2.06 2.06-.94-2.06-.94-.94-2.06-.94 2.06-2.06.94zm-11 1L8.5 8.5l.94-2.06 2.06-.94-2.06-.94L8.5 2.5l-.94 2.06-2.06.94zm10 10l.94 2.06.94-2.06 2.06-.94-2.06-.94-.94-2.06-.94 2.06-2.06.94z\"/><path d=\"M17.41 7.96l-1.37-1.37c-.4-.4-.92-.59-1.43-.59-.52 0-1.04.2-1.43.59L10.3 9.45l-7.72 7.72c-.78.78-.78 2.05 0 2.83L4 21.41c.39.39.9.59 1.41.59.51 0 1.02-.2 1.41-.59l7.78-7.78 2.81-2.81c.8-.78.8-2.07 0-2.86zM5.41 20L4 18.59l7.72-7.72 1.47 1.35L5.41 20z\"/>\n",
              "  </svg>\n",
              "      </button>\n",
              "      \n",
              "  <style>\n",
              "    .colab-df-container {\n",
              "      display:flex;\n",
              "      flex-wrap:wrap;\n",
              "      gap: 12px;\n",
              "    }\n",
              "\n",
              "    .colab-df-convert {\n",
              "      background-color: #E8F0FE;\n",
              "      border: none;\n",
              "      border-radius: 50%;\n",
              "      cursor: pointer;\n",
              "      display: none;\n",
              "      fill: #1967D2;\n",
              "      height: 32px;\n",
              "      padding: 0 0 0 0;\n",
              "      width: 32px;\n",
              "    }\n",
              "\n",
              "    .colab-df-convert:hover {\n",
              "      background-color: #E2EBFA;\n",
              "      box-shadow: 0px 1px 2px rgba(60, 64, 67, 0.3), 0px 1px 3px 1px rgba(60, 64, 67, 0.15);\n",
              "      fill: #174EA6;\n",
              "    }\n",
              "\n",
              "    [theme=dark] .colab-df-convert {\n",
              "      background-color: #3B4455;\n",
              "      fill: #D2E3FC;\n",
              "    }\n",
              "\n",
              "    [theme=dark] .colab-df-convert:hover {\n",
              "      background-color: #434B5C;\n",
              "      box-shadow: 0px 1px 3px 1px rgba(0, 0, 0, 0.15);\n",
              "      filter: drop-shadow(0px 1px 2px rgba(0, 0, 0, 0.3));\n",
              "      fill: #FFFFFF;\n",
              "    }\n",
              "  </style>\n",
              "\n",
              "      <script>\n",
              "        const buttonEl =\n",
              "          document.querySelector('#df-4c7dce66-b324-4ae8-a734-35847198a542 button.colab-df-convert');\n",
              "        buttonEl.style.display =\n",
              "          google.colab.kernel.accessAllowed ? 'block' : 'none';\n",
              "\n",
              "        async function convertToInteractive(key) {\n",
              "          const element = document.querySelector('#df-4c7dce66-b324-4ae8-a734-35847198a542');\n",
              "          const dataTable =\n",
              "            await google.colab.kernel.invokeFunction('convertToInteractive',\n",
              "                                                     [key], {});\n",
              "          if (!dataTable) return;\n",
              "\n",
              "          const docLinkHtml = 'Like what you see? Visit the ' +\n",
              "            '<a target=\"_blank\" href=https://colab.research.google.com/notebooks/data_table.ipynb>data table notebook</a>'\n",
              "            + ' to learn more about interactive tables.';\n",
              "          element.innerHTML = '';\n",
              "          dataTable['output_type'] = 'display_data';\n",
              "          await google.colab.output.renderOutput(dataTable, element);\n",
              "          const docLink = document.createElement('div');\n",
              "          docLink.innerHTML = docLinkHtml;\n",
              "          element.appendChild(docLink);\n",
              "        }\n",
              "      </script>\n",
              "    </div>\n",
              "  </div>\n",
              "  "
            ]
          },
          "metadata": {},
          "execution_count": 3
        }
      ]
    },
    {
      "cell_type": "code",
      "metadata": {
        "id": "WaC6EJH_kwwz"
      },
      "source": [
        "# 몸무게와 키 데이터\n",
        "df[\"weight\"] /= 100   # normalization\n",
        "df[\"height\"] /= 200   # normalization\n",
        "# X = df[[\"weight\", \"height\"]].to_numpy()\n",
        "X = df.iloc[:,0:2]\n",
        "\n",
        "# 레이블링, 라벨링 (labelling) => one-hot encoding\n",
        "bclass = {\"thin\":[1,0,0], \"normal\":[0,1,0], \"fat\":[0,0,1]}\n",
        "y = np.empty((20000,3))     # 2000x3 크기의 다차원 벡터 생성\n",
        "for i, v in enumerate(df[\"label\"]):\n",
        "    y[i] = bclass[v]        # \"thin'이면, y[i]=[1,0,0] 와 같이 할당\n",
        "    \n",
        "# 훈련 전용 데이터와 테스트 전용 데이터로 나누기\n",
        "X_train, y_train = X[0:15000], y[0:15000]\n",
        "X_test,  y_test  = X[15000:20000], y[15000:20000]"
      ],
      "execution_count": null,
      "outputs": []
    },
    {
      "cell_type": "code",
      "metadata": {
        "scrolled": true,
        "id": "G2UgYhccLtVu"
      },
      "source": [
        "# 모델 구조 정의하기\n",
        "model = tf.keras.Sequential()         # 순차적 계층화 준비\n",
        "model.add(layers.Dense(8, input_shape=(2,)))  # 입력 2개로부터 전달받는 8개 노드의 layer 생성\n",
        "model.add(layers.Activation('relu'))  # ReLU 활성화함수 채택\n",
        "model.add(layers.Dropout(0.1))        # dropout ratio=10% (배치 훈련시 10% arc 무시)\n",
        "\n",
        "model.add(layers.Dense(4))            # 4개 노드의 layer 생성\n",
        "model.add(layers.Activation('relu'))\n",
        "model.add(layers.Dropout(0.1))\n",
        "\n",
        "model.add(layers.Dense(3))\n",
        "model.add(layers.Activation('softmax'))# 분류(classification)을 위해 softmax 함수 사용\n",
        "\n",
        "# 모델 구축하기\n",
        "model.compile(\n",
        "    loss='categorical_crossentropy',  # 다중 교차엔트로피\n",
        "    optimizer=\"rmsprop\",   # 최적화 기법 중 하나\n",
        "    metrics=['accuracy',tf.keras.metrics.TruePositives(name='tp'), tf.keras.metrics.Precision(), tf.keras.metrics.AUC()])"
      ],
      "execution_count": null,
      "outputs": []
    },
    {
      "cell_type": "code",
      "metadata": {
        "scrolled": true,
        "id": "2IhHchdXLtVv",
        "colab": {
          "base_uri": "https://localhost:8080/"
        },
        "outputId": "7b988e8a-0292-484a-e66e-1943438a3938"
      },
      "source": [
        "# 데이터 훈련하기\n",
        "hist = model.fit(\n",
        "    X_train, y_train,\n",
        "    batch_size=100,     # 100개에 한 번씩 업데이터 실행\n",
        "    epochs=5,          # 훈련 데이터셋을 총 60회 반복 실험. 단, 조기중지될 수 있음\n",
        "    validation_split=0.2,  \n",
        "        #validation data 분할 비율. 즉, 15000개 중에서 10%인 1500개를 validation용으로 분할\n",
        "    callbacks=[tf.keras.callbacks.EarlyStopping(monitor='val_loss', patience=10)],  \n",
        "        #'val_loss'를 monitor하여 감소하면 한 번 더 참고 조기중지\n",
        "    verbose=1)   # 전 과정을 화면에 출력(1) 또는 미출력(0) 모드\n",
        "\n",
        "# 테스트 데이터로 평가하기\n",
        "score = model.evaluate(X_test, y_test)\n",
        "print('test_loss: ', score[0])\n",
        "print('test_acc: ', score[1])"
      ],
      "execution_count": null,
      "outputs": [
        {
          "output_type": "stream",
          "name": "stdout",
          "text": [
            "Epoch 1/5\n",
            "120/120 [==============================] - 2s 6ms/step - loss: 1.0276 - accuracy: 0.5562 - tp: 423.0000 - precision_2: 0.9156 - auc_1: 0.7042 - val_loss: 0.9834 - val_accuracy: 0.6707 - val_tp: 35.0000 - val_precision_2: 1.0000 - val_auc_1: 0.8350\n",
            "Epoch 2/5\n",
            "120/120 [==============================] - 0s 2ms/step - loss: 0.9601 - accuracy: 0.5848 - tp: 1755.0000 - precision_2: 0.9046 - auc_1: 0.7775 - val_loss: 0.8999 - val_accuracy: 0.6720 - val_tp: 398.0000 - val_precision_2: 1.0000 - val_auc_1: 0.8843\n",
            "Epoch 3/5\n",
            "120/120 [==============================] - 0s 2ms/step - loss: 0.8741 - accuracy: 0.6198 - tp: 3675.0000 - precision_2: 0.8939 - auc_1: 0.8319 - val_loss: 0.8002 - val_accuracy: 0.7287 - val_tp: 1193.0000 - val_precision_2: 0.9925 - val_auc_1: 0.9215\n",
            "Epoch 4/5\n",
            "120/120 [==============================] - 0s 2ms/step - loss: 0.7920 - accuracy: 0.6516 - tp: 5153.0000 - precision_2: 0.8752 - auc_1: 0.8647 - val_loss: 0.7065 - val_accuracy: 0.7760 - val_tp: 1581.0000 - val_precision_2: 0.9771 - val_auc_1: 0.9465\n",
            "Epoch 5/5\n",
            "120/120 [==============================] - 0s 2ms/step - loss: 0.7199 - accuracy: 0.6837 - tp: 5878.0000 - precision_2: 0.8484 - auc_1: 0.8865 - val_loss: 0.6251 - val_accuracy: 0.8177 - val_tp: 1737.0000 - val_precision_2: 0.9497 - val_auc_1: 0.9591\n",
            "157/157 [==============================] - 1s 2ms/step - loss: 0.6210 - accuracy: 0.8196 - tp: 2935.0000 - precision_2: 0.9446 - auc_1: 0.9588\n",
            "test_loss:  0.6209959983825684\n",
            "test_acc:  0.819599986076355\n"
          ]
        }
      ]
    },
    {
      "cell_type": "code",
      "metadata": {
        "id": "eVZ2sf6Gb5Y-",
        "colab": {
          "base_uri": "https://localhost:8080/"
        },
        "outputId": "3f1f8080-3042-477e-d02a-5769555b3bd6"
      },
      "source": [
        "hist.history.keys()"
      ],
      "execution_count": null,
      "outputs": [
        {
          "output_type": "execute_result",
          "data": {
            "text/plain": [
              "dict_keys(['loss', 'accuracy', 'true_negatives', 'precision_1', 'auc', 'val_loss', 'val_accuracy', 'val_true_negatives', 'val_precision_1', 'val_auc'])"
            ]
          },
          "metadata": {},
          "execution_count": 11
        }
      ]
    },
    {
      "cell_type": "code",
      "source": [
        "score"
      ],
      "metadata": {
        "colab": {
          "base_uri": "https://localhost:8080/"
        },
        "id": "sCPklZHEfGqh",
        "outputId": "cb0ae127-a97a-4d46-b4ec-b7491b02f49b"
      },
      "execution_count": null,
      "outputs": [
        {
          "output_type": "execute_result",
          "data": {
            "text/plain": [
              "[0.8275438547134399, 0.7337999939918518, 10000.0, 1.0, 0.9324871301651001]"
            ]
          },
          "metadata": {},
          "execution_count": 12
        }
      ]
    },
    {
      "cell_type": "code",
      "metadata": {
        "scrolled": true,
        "id": "Hh1NwcAwLtVw",
        "colab": {
          "base_uri": "https://localhost:8080/",
          "height": 279
        },
        "outputId": "e528b594-947c-4660-a49b-399f36fb07e0"
      },
      "source": [
        "import matplotlib.pyplot as plt\n",
        "\n",
        "fig, loss_ax = plt.subplots()\n",
        "acc_ax = loss_ax.twinx()\n",
        "\n",
        "loss_ax.plot(hist.history['loss'], 'y', label='train loss')\n",
        "loss_ax.plot(hist.history['val_loss'], 'r', label='val loss')\n",
        "\n",
        "acc_ax.plot(hist.history['accuracy'], 'b', label='train acc')\n",
        "acc_ax.plot(hist.history['val_accuracy'], 'g', label='val acc')\n",
        "\n",
        "loss_ax.set_xlabel('epoch')\n",
        "loss_ax.set_ylabel('loss')\n",
        "acc_ax.set_ylabel('accuray')\n",
        "\n",
        "loss_ax.legend(loc='upper left')\n",
        "acc_ax.legend(loc='lower left')\n",
        "\n",
        "plt.show()"
      ],
      "execution_count": null,
      "outputs": [
        {
          "output_type": "display_data",
          "data": {
            "text/plain": [
              "<Figure size 432x288 with 2 Axes>"
            ],
            "image/png": "[encoded data removed]"
          },
          "metadata": {
            "needs_background": "light"
          }
        }
      ]
    },
    {
      "cell_type": "code",
      "metadata": {
        "id": "a0LNN770LtVw",
        "colab": {
          "base_uri": "https://localhost:8080/"
        },
        "outputId": "1ec22b22-2dbb-4fd7-be46-d564400fa2b9"
      },
      "source": [
        "model.summary()"
      ],
      "execution_count": null,
      "outputs": [
        {
          "output_type": "stream",
          "name": "stdout",
          "text": [
            "Model: \"sequential\"\n",
            "_________________________________________________________________\n",
            " Layer (type)                Output Shape              Param #   \n",
            "=================================================================\n",
            " dense (Dense)               (None, 8)                 24        \n",
            "                                                                 \n",
            " activation (Activation)     (None, 8)                 0         \n",
            "                                                                 \n",
            " dropout (Dropout)           (None, 8)                 0         \n",
            "                                                                 \n",
            " dense_1 (Dense)             (None, 4)                 36        \n",
            "                                                                 \n",
            " activation_1 (Activation)   (None, 4)                 0         \n",
            "                                                                 \n",
            " dropout_1 (Dropout)         (None, 4)                 0         \n",
            "                                                                 \n",
            " dense_2 (Dense)             (None, 3)                 15        \n",
            "                                                                 \n",
            " activation_2 (Activation)   (None, 3)                 0         \n",
            "                                                                 \n",
            "=================================================================\n",
            "Total params: 75\n",
            "Trainable params: 75\n",
            "Non-trainable params: 0\n",
            "_________________________________________________________________\n"
          ]
        }
      ]
    },
    {
      "cell_type": "code",
      "metadata": {
        "id": "Ap06VxZI5Aog",
        "colab": {
          "base_uri": "https://localhost:8080/"
        },
        "outputId": "a69b727c-1e11-4086-e5c3-d3a3d075a1dd"
      },
      "source": [
        "model.get_weights()"
      ],
      "execution_count": null,
      "outputs": [
        {
          "output_type": "execute_result",
          "data": {
            "text/plain": [
              "[array([[-0.67352486, -0.34398004,  1.2545884 , -0.8692215 , -1.1486601 ,\n",
              "         -0.7234064 , -0.20266138,  0.04205513],\n",
              "        [ 0.3621248 , -0.63950455, -0.6521139 ,  1.0222455 ,  0.87438256,\n",
              "          0.569968  ,  0.19001971, -0.40430203]], dtype=float32),\n",
              " array([ 0.        ,  0.        , -0.52038765,  0.239271  ,  0.5183224 ,\n",
              "         0.3311588 , -0.02903919,  0.        ], dtype=float32),\n",
              " array([[-0.47352892, -0.3453966 ,  0.08944708, -0.44224182],\n",
              "        [ 0.30195266,  0.06255555,  0.01159322,  0.42897302],\n",
              "        [-0.7342224 , -1.730703  ,  0.475729  ,  5.097929  ],\n",
              "        [ 2.1295362 ,  0.49783325, -1.7099224 , -0.79870015],\n",
              "        [ 3.4659984 ,  0.3699495 , -4.7332554 , -1.3120097 ],\n",
              "        [ 3.5451312 ,  0.7177099 , -4.111153  , -1.7139728 ],\n",
              "        [-0.22150202, -0.6446472 , -0.5749154 , -0.6644823 ],\n",
              "        [-0.20450765,  0.09822321, -0.4539123 , -0.3459838 ]],\n",
              "       dtype=float32),\n",
              " array([0.0326903 , 0.11541695, 0.3364553 , 0.63071144], dtype=float32),\n",
              " array([[-5.1440187 ,  0.30556706,  1.2093167 ],\n",
              "        [-0.5186768 , -1.6839923 ,  0.5497667 ],\n",
              "        [ 5.066465  , -3.6246276 , -4.1065536 ],\n",
              "        [ 1.6319075 ,  0.81215894, -4.5270023 ]], dtype=float32),\n",
              " array([-1.0415424,  0.538382 ,  0.2276398], dtype=float32)]"
            ]
          },
          "metadata": {},
          "execution_count": 10
        }
      ]
    },
    {
      "cell_type": "code",
      "metadata": {
        "scrolled": true,
        "id": "nhPK4V6nLtVx",
        "colab": {
          "base_uri": "https://localhost:8080/"
        },
        "outputId": "8bb8b96b-f1ba-4146-d6d8-3870c404efb6"
      },
      "source": [
        "model.save(dir+\"dnn_bmi.h5\")\n",
        "print(\"Saved model to disk.\")\n",
        "\n",
        "from numpy import loadtxt\n",
        "from tensorflow.python.keras.models import load_model\n",
        "\n",
        "# 저장된 모델 읽어오기\n",
        "loaded_model = load_model(dir+\"dnn_bmi.h5\")\n",
        "model.summary()\n",
        "\n",
        "# 모델을 평가하기\n",
        "score = model.evaluate(X_test, y_test)\n",
        "print('test_loss: ', score[0])\n",
        "print('test_acc: ', score[1])"
      ],
      "execution_count": null,
      "outputs": [
        {
          "output_type": "stream",
          "name": "stdout",
          "text": [
            "Saved model to disk.\n",
            "Model: \"sequential\"\n",
            "_________________________________________________________________\n",
            " Layer (type)                Output Shape              Param #   \n",
            "=================================================================\n",
            " dense (Dense)               (None, 8)                 24        \n",
            "                                                                 \n",
            " activation (Activation)     (None, 8)                 0         \n",
            "                                                                 \n",
            " dropout (Dropout)           (None, 8)                 0         \n",
            "                                                                 \n",
            " dense_1 (Dense)             (None, 4)                 36        \n",
            "                                                                 \n",
            " activation_1 (Activation)   (None, 4)                 0         \n",
            "                                                                 \n",
            " dropout_1 (Dropout)         (None, 4)                 0         \n",
            "                                                                 \n",
            " dense_2 (Dense)             (None, 3)                 15        \n",
            "                                                                 \n",
            " activation_2 (Activation)   (None, 3)                 0         \n",
            "                                                                 \n",
            "=================================================================\n",
            "Total params: 75\n",
            "Trainable params: 75\n",
            "Non-trainable params: 0\n",
            "_________________________________________________________________\n",
            "157/157 [==============================] - 0s 2ms/step - loss: 0.1078 - accuracy: 0.9828\n",
            "test_loss:  0.10778037458658218\n",
            "test_acc:  0.9828000068664551\n"
          ]
        }
      ]
    },
    {
      "cell_type": "code",
      "metadata": {
        "id": "X8sQr21XLtVy",
        "colab": {
          "base_uri": "https://localhost:8080/"
        },
        "outputId": "5ca5b4bc-205b-48a2-e689-ff4556ac0446"
      },
      "source": [
        "# X_test 샘플들의 클래스 예측하기\n",
        "y_prob = model.predict(X_test)    # X_test의 출력값 확인하기\n",
        "print(y_prob)\n",
        "\n",
        "y_class = y_prob.argmax(axis=-1)  # X_test의 클래스 예측하기\n",
        "y_class"
      ],
      "execution_count": null,
      "outputs": [
        {
          "output_type": "stream",
          "name": "stdout",
          "text": [
            "[[3.46520801e-06 1.08444154e-01 8.91552329e-01]\n",
            " [9.70973372e-01 2.90240087e-02 2.69537873e-06]\n",
            " [3.27941077e-03 9.89507139e-01 7.21349660e-03]\n",
            " ...\n",
            " [9.96294200e-01 3.70578608e-03 3.53705287e-10]\n",
            " [9.92892385e-01 7.10765598e-03 5.89149440e-09]\n",
            " [7.42753255e-05 5.79252362e-01 4.20673251e-01]]\n"
          ]
        },
        {
          "output_type": "execute_result",
          "data": {
            "text/plain": [
              "array([2, 0, 1, ..., 0, 0, 1])"
            ]
          },
          "metadata": {},
          "execution_count": 12
        }
      ]
    },
    {
      "cell_type": "code",
      "metadata": {
        "id": "34Xez1yYLtV0",
        "colab": {
          "base_uri": "https://localhost:8080/"
        },
        "outputId": "de5459c3-5c28-43dc-90da-35230b0b4407"
      },
      "source": [
        "# 새로운 샘플의 클래스 예측하기\n",
        "X_new = [80, 175]\n",
        "X_new[0]/=100; X_new[1]/=200\n",
        "print(X_new)\n",
        "\n",
        "y_prob = model.predict([X_new]) # X_new의 출력값 확인하기\n",
        "y_pred = y_prob.argmax()        # X_new의 클래스 예측하기\n",
        "print(y_prob, y_pred)"
      ],
      "execution_count": null,
      "outputs": [
        {
          "output_type": "stream",
          "name": "stdout",
          "text": [
            "[0.8, 0.875]\n",
            "[[3.3977762e-10 1.8744016e-02 9.8125595e-01]] 2\n"
          ]
        }
      ]
    },
    {
      "cell_type": "code",
      "metadata": {
        "id": "YDjOYxUzLtVz",
        "colab": {
          "base_uri": "https://localhost:8080/"
        },
        "outputId": "5541b472-0280-4d90-b1d6-7d0ac41d0004"
      },
      "source": [
        "type(X_test)"
      ],
      "execution_count": null,
      "outputs": [
        {
          "output_type": "execute_result",
          "data": {
            "text/plain": [
              "pandas.core.frame.DataFrame"
            ]
          },
          "metadata": {},
          "execution_count": 14
        }
      ]
    },
    {
      "cell_type": "code",
      "metadata": {
        "id": "iOdX9FRmLtVz",
        "colab": {
          "base_uri": "https://localhost:8080/",
          "height": 206
        },
        "outputId": "64047610-4b7c-4718-d131-0f8e1556e3bc"
      },
      "source": [
        "X_test.head()"
      ],
      "execution_count": null,
      "outputs": [
        {
          "output_type": "execute_result",
          "data": {
            "text/plain": [
              "       height  weight\n",
              "15000   0.690    0.55\n",
              "15001   0.760    0.36\n",
              "15002   0.915    0.72\n",
              "15003   0.990    0.51\n",
              "15004   0.745    0.47"
            ],
            "text/html": [
              "\n",
              "  <div id=\"df-04dbcdcd-f7b1-439a-b663-a00831fa2d86\">\n",
              "    <div class=\"colab-df-container\">\n",
              "      <div>\n",
              "<style scoped>\n",
              "    .dataframe tbody tr th:only-of-type {\n",
              "        vertical-align: middle;\n",
              "    }\n",
              "\n",
              "    .dataframe tbody tr th {\n",
              "        vertical-align: top;\n",
              "    }\n",
              "\n",
              "    .dataframe thead th {\n",
              "        text-align: right;\n",
              "    }\n",
              "</style>\n",
              "<table border=\"1\" class=\"dataframe\">\n",
              "  <thead>\n",
              "    <tr style=\"text-align: right;\">\n",
              "      <th></th>\n",
              "      <th>height</th>\n",
              "      <th>weight</th>\n",
              "    </tr>\n",
              "  </thead>\n",
              "  <tbody>\n",
              "    <tr>\n",
              "      <th>15000</th>\n",
              "      <td>0.690</td>\n",
              "      <td>0.55</td>\n",
              "    </tr>\n",
              "    <tr>\n",
              "      <th>15001</th>\n",
              "      <td>0.760</td>\n",
              "      <td>0.36</td>\n",
              "    </tr>\n",
              "    <tr>\n",
              "      <th>15002</th>\n",
              "      <td>0.915</td>\n",
              "      <td>0.72</td>\n",
              "    </tr>\n",
              "    <tr>\n",
              "      <th>15003</th>\n",
              "      <td>0.990</td>\n",
              "      <td>0.51</td>\n",
              "    </tr>\n",
              "    <tr>\n",
              "      <th>15004</th>\n",
              "      <td>0.745</td>\n",
              "      <td>0.47</td>\n",
              "    </tr>\n",
              "  </tbody>\n",
              "</table>\n",
              "</div>\n",
              "      <button class=\"colab-df-convert\" onclick=\"convertToInteractive('df-04dbcdcd-f7b1-439a-b663-a00831fa2d86')\"\n",
              "              title=\"Convert this dataframe to an interactive table.\"\n",
              "              style=\"display:none;\">\n",
              "        \n",
              "  <svg xmlns=\"http://www.w3.org/2000/svg\" height=\"24px\"viewBox=\"0 0 24 24\"\n",
              "       width=\"24px\">\n",
              "    <path d=\"M0 0h24v24H0V0z\" fill=\"none\"/>\n",
              "    <path d=\"M18.56 5.44l.94 2.06.94-2.06 2.06-.94-2.06-.94-.94-2.06-.94 2.06-2.06.94zm-11 1L8.5 8.5l.94-2.06 2.06-.94-2.06-.94L8.5 2.5l-.94 2.06-2.06.94zm10 10l.94 2.06.94-2.06 2.06-.94-2.06-.94-.94-2.06-.94 2.06-2.06.94z\"/><path d=\"M17.41 7.96l-1.37-1.37c-.4-.4-.92-.59-1.43-.59-.52 0-1.04.2-1.43.59L10.3 9.45l-7.72 7.72c-.78.78-.78 2.05 0 2.83L4 21.41c.39.39.9.59 1.41.59.51 0 1.02-.2 1.41-.59l7.78-7.78 2.81-2.81c.8-.78.8-2.07 0-2.86zM5.41 20L4 18.59l7.72-7.72 1.47 1.35L5.41 20z\"/>\n",
              "  </svg>\n",
              "      </button>\n",
              "      \n",
              "  <style>\n",
              "    .colab-df-container {\n",
              "      display:flex;\n",
              "      flex-wrap:wrap;\n",
              "      gap: 12px;\n",
              "    }\n",
              "\n",
              "    .colab-df-convert {\n",
              "      background-color: #E8F0FE;\n",
              "      border: none;\n",
              "      border-radius: 50%;\n",
              "      cursor: pointer;\n",
              "      display: none;\n",
              "      fill: #1967D2;\n",
              "      height: 32px;\n",
              "      padding: 0 0 0 0;\n",
              "      width: 32px;\n",
              "    }\n",
              "\n",
              "    .colab-df-convert:hover {\n",
              "      background-color: #E2EBFA;\n",
              "      box-shadow: 0px 1px 2px rgba(60, 64, 67, 0.3), 0px 1px 3px 1px rgba(60, 64, 67, 0.15);\n",
              "      fill: #174EA6;\n",
              "    }\n",
              "\n",
              "    [theme=dark] .colab-df-convert {\n",
              "      background-color: #3B4455;\n",
              "      fill: #D2E3FC;\n",
              "    }\n",
              "\n",
              "    [theme=dark] .colab-df-convert:hover {\n",
              "      background-color: #434B5C;\n",
              "      box-shadow: 0px 1px 3px 1px rgba(0, 0, 0, 0.15);\n",
              "      filter: drop-shadow(0px 1px 2px rgba(0, 0, 0, 0.3));\n",
              "      fill: #FFFFFF;\n",
              "    }\n",
              "  </style>\n",
              "\n",
              "      <script>\n",
              "        const buttonEl =\n",
              "          document.querySelector('#df-04dbcdcd-f7b1-439a-b663-a00831fa2d86 button.colab-df-convert');\n",
              "        buttonEl.style.display =\n",
              "          google.colab.kernel.accessAllowed ? 'block' : 'none';\n",
              "\n",
              "        async function convertToInteractive(key) {\n",
              "          const element = document.querySelector('#df-04dbcdcd-f7b1-439a-b663-a00831fa2d86');\n",
              "          const dataTable =\n",
              "            await google.colab.kernel.invokeFunction('convertToInteractive',\n",
              "                                                     [key], {});\n",
              "          if (!dataTable) return;\n",
              "\n",
              "          const docLinkHtml = 'Like what you see? Visit the ' +\n",
              "            '<a target=\"_blank\" href=https://colab.research.google.com/notebooks/data_table.ipynb>data table notebook</a>'\n",
              "            + ' to learn more about interactive tables.';\n",
              "          element.innerHTML = '';\n",
              "          dataTable['output_type'] = 'display_data';\n",
              "          await google.colab.output.renderOutput(dataTable, element);\n",
              "          const docLink = document.createElement('div');\n",
              "          docLink.innerHTML = docLinkHtml;\n",
              "          element.appendChild(docLink);\n",
              "        }\n",
              "      </script>\n",
              "    </div>\n",
              "  </div>\n",
              "  "
            ]
          },
          "metadata": {},
          "execution_count": 15
        }
      ]
    },
    {
      "cell_type": "code",
      "metadata": {
        "id": "xaOIG8Kaovrc",
        "colab": {
          "base_uri": "https://localhost:8080/"
        },
        "outputId": "d38c67d0-5ddf-4658-ac28-c37ced1847c1"
      },
      "source": [
        "X_test.head(5).index.tolist()"
      ],
      "execution_count": null,
      "outputs": [
        {
          "output_type": "execute_result",
          "data": {
            "text/plain": [
              "[15000, 15001, 15002, 15003, 15004]"
            ]
          },
          "metadata": {},
          "execution_count": 16
        }
      ]
    },
    {
      "cell_type": "code",
      "metadata": {
        "id": "HfXV29CxuGk0",
        "colab": {
          "base_uri": "https://localhost:8080/"
        },
        "outputId": "d02a0177-51e0-4955-fcd6-616ee368cf24"
      },
      "source": [
        "X_test0 = X_test.loc[15000]\n",
        "print(X_test0); print()\n",
        "\n",
        "X_test_li = list(X_test0)\n",
        "y_prob = model.predict([X_test_li])  # model.predict([[0.69, 0.55]])\n",
        "y_pred = y_prob.argmax()\n",
        "print(y_prob, y_pred)"
      ],
      "execution_count": null,
      "outputs": [
        {
          "output_type": "stream",
          "name": "stdout",
          "text": [
            "height    0.69\n",
            "weight    0.55\n",
            "Name: 15000, dtype: float64\n",
            "\n",
            "[[3.46520801e-06 1.08444154e-01 8.91552329e-01]] 2\n"
          ]
        }
      ]
    },
    {
      "cell_type": "code",
      "metadata": {
        "id": "flB-FoC2LtV0"
      },
      "source": [
        "def predict_bmi(X_new):\n",
        "  y_prob = model.predict([X_new])\n",
        "  y_pred = y_prob.argmax()\n",
        "  print(X_new, y_prob, y_pred, sep='\\t')"
      ],
      "execution_count": null,
      "outputs": []
    },
    {
      "cell_type": "code",
      "metadata": {
        "id": "EMJdeu5nLtV0",
        "colab": {
          "base_uri": "https://localhost:8080/"
        },
        "outputId": "b26122ad-51b2-4727-fd61-92aee211126e"
      },
      "source": [
        "X_mean = [X_train[\"height\"].mean(), X_train[\"weight\"].mean()]\n",
        "X_min = [X_train[\"height\"].min(), X_train[\"weight\"].min()]\n",
        "X_max = [X_train[\"height\"].max(), X_train[\"weight\"].max()]\n",
        "X_min_max = [X_train[\"height\"].min(), X_train[\"weight\"].max()]\n",
        "X_max_min = [X_train[\"height\"].max(), X_train[\"weight\"].min()]\n",
        "\n",
        "predict_bmi(X_mean)\n",
        "predict_bmi(X_min)\n",
        "predict_bmi(X_max)\n",
        "predict_bmi(X_min_max)\n",
        "predict_bmi(X_max_min)"
      ],
      "execution_count": null,
      "outputs": [
        {
          "output_type": "stream",
          "name": "stdout",
          "text": [
            "[0.7999703333333333, 0.5757626666666668]\t[[0.00357754 0.96972185 0.02670055]]\t1\n",
            "[0.6, 0.35]\t[[0.0007842 0.5345584 0.4646574]]\t1\n",
            "[1.0, 0.8]\t[[1.0898369e-02 9.8812824e-01 9.7337656e-04]]\t1\n",
            "[0.6, 0.8]\t[[2.0709071e-13 4.5383973e-03 9.9546164e-01]]\t2\n",
            "[1.0, 0.35]\t[[9.9768877e-01 2.3112965e-03 4.6207344e-11]]\t0\n"
          ]
        }
      ]
    }
  ]
}