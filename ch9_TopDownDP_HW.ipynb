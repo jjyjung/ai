{
  "cells": [
    {
      "cell_type": "markdown",
      "metadata": {
        "id": "view-in-github",
        "colab_type": "text"
      },
      "source": [
        "<a href=\"https://colab.research.google.com/github/jjyjung/ai/blob/gh-pages/ch9_TopDownDP_HW.ipynb\" target=\"_parent\"><img src=\"https://colab.research.google.com/assets/colab-badge.svg\" alt=\"Open In Colab\"/></a>"
      ]
    },
    {
      "cell_type": "markdown",
      "id": "3680ef78",
      "metadata": {
        "id": "3680ef78"
      },
      "source": [
        "### 문제 예 2: 행렬 경로 문제 ###"
      ]
    },
    {
      "cell_type": "markdown",
      "source": [
        "#### (1) 재귀적 해법 ####"
      ],
      "metadata": {
        "id": "rUQcP9jWz9al"
      },
      "id": "rUQcP9jWz9al"
    },
    {
      "cell_type": "code",
      "execution_count": null,
      "id": "44b22aca",
      "metadata": {
        "id": "44b22aca",
        "outputId": "9e47b050-8144-4fed-81e8-0b652c87a5f5",
        "colab": {
          "base_uri": "https://localhost:8080/"
        }
      },
      "outputs": [
        {
          "output_type": "stream",
          "name": "stdout",
          "text": [
            "7 3\n"
          ]
        },
        {
          "output_type": "execute_result",
          "data": {
            "text/plain": [
              "66"
            ]
          },
          "metadata": {},
          "execution_count": 19
        }
      ],
      "source": [
        "m1 = [[6,7,12,5], [5,3,11,18], [7,17,3,3], [8,10,14,9]]   # 교재의 예제\n",
        "m2 = [[6,7], [5,3], [7,17]]\n",
        "m3 = [[6,7,12,5], [5,3,11,18], [7,17,3,3], [8,10,14,9],\n",
        "      [6,7,12,5], [5,3,11,18], [7,17,3,3], [8,10,14,9]]\n",
        "\n",
        "def matrixPath(i,j):\n",
        "  if i == 0 and j == 0: return m[i][j]\n",
        "  elif i == 0: return matrixPath(0, j-1) + m[i][j]\n",
        "  elif j == 0: return matrixPath(i-1, 0) + m[i][j]\n",
        "  else: return min(matrixPath(i-1, j), matrixPath(i, j-1)) + m[i][j]\n",
        "\n",
        "m = m3     # m1, m2, m3로 바꿔가면서 테스트해볼 수 있음\n",
        "print(len(m)-1, len(m[0])-1)\n",
        "matrixPath(len(m)-1, len(m[0])-1)"
      ]
    },
    {
      "cell_type": "markdown",
      "source": [
        "#### (3) DP top-down ####"
      ],
      "metadata": {
        "id": "wBmiYj1xdv0h"
      },
      "id": "wBmiYj1xdv0h"
    },
    {
      "cell_type": "code",
      "source": [
        "import copy\n",
        "\n",
        "m1 = [[6,7,12,5], [5,3,11,18], [7,17,3,3], [8,10,14,9]]   # 교재의 예제\n",
        "m2 = [[6,7], [5,3], [7,17]]\n",
        "m3 = [[6,7,12,5], [5,3,11,18], [7,17,3,3], [8,10,14,9],\n",
        "      [6,7,12,5], [5,3,11,18], [7,17,3,3], [8,10,14,9]]\n",
        "\n",
        "m = m3     # m1, m2, m3로 바꿔가면서 테스트해볼 수 있음\n",
        "n1 = len(m)\n",
        "n2 = len(m[0])\n",
        "c = [[None]*n2 for x in range(n1)]\n",
        "\n",
        "def matrixPath_DP_TD(i,j):\n",
        "  # Top-Down 방식의 DP로 구현하시오.\n",
        "  pass\n",
        "  return c[i][j]\n",
        "\n",
        "print(len(m)-1, len(m[0])-1)\n",
        "matrixPath_DP_TD(len(m)-1, len(m[0])-1)"
      ],
      "metadata": {
        "colab": {
          "base_uri": "https://localhost:8080/"
        },
        "outputId": "c91ea29e-65d4-4e27-cfd6-dd18bb4bd896",
        "id": "5lkbfPBld8Sf"
      },
      "execution_count": null,
      "outputs": [
        {
          "output_type": "stream",
          "name": "stdout",
          "text": [
            "7 3\n"
          ]
        },
        {
          "output_type": "execute_result",
          "data": {
            "text/plain": [
              "66"
            ]
          },
          "metadata": {},
          "execution_count": 24
        }
      ],
      "id": "5lkbfPBld8Sf"
    },
    {
      "cell_type": "markdown",
      "id": "0a0541d6",
      "metadata": {
        "id": "0a0541d6"
      },
      "source": [
        "### 문제 예 3: 행렬 곱셈 순서 문제 ###"
      ]
    },
    {
      "cell_type": "markdown",
      "metadata": {
        "id": "Wkr19TkTm-Ck"
      },
      "source": [
        "#### (3) DP top-down ####"
      ],
      "id": "Wkr19TkTm-Ck"
    },
    {
      "cell_type": "code",
      "source": [
        "import time\n",
        "\n",
        "p1 = [10, 100, 5, 50]   # 교재의 예제로 10x100, 100x5, 5x50 행렬을 곱하는 경우\n",
        "p2 = [10, 100, 5]\n",
        "p3 = [10, 100, 5, 50, 10, 100, 5, 50, 10, 100, 5, 50, 10, 100, 5, 50]\n",
        "\n",
        "p = p2\n",
        "n = len(p)-1    # n: 행렬 개수\n",
        "mat = [[None]*(n+1) for x in range(n+1)]  # m[i][j]는 Ai~Aj를 곱하는 최소 비용\n",
        "\n",
        "def matrixChain_DP_TD(i, j):\n",
        "  # Top-Down 방식의 DP로 구현하시오.\n",
        "  pass\n",
        "  return mat[i][j]\n",
        "\n",
        "start_time = time.time()\n",
        "print(matrixChain_DP_TD(1, len(p3)))\n",
        "print(\"\\n %.5f sec.\" % (time.time() - start_time)) # 재귀적 호출에 비하여 시간이 1/1000 수준으로 단축됨"
      ],
      "metadata": {
        "id": "TluNrW56oCOJ"
      },
      "id": "TluNrW56oCOJ",
      "execution_count": null,
      "outputs": []
    },
    {
      "cell_type": "markdown",
      "id": "20912e6f",
      "metadata": {
        "id": "20912e6f"
      },
      "source": [
        "### 문제 예 4: 최장 공통 부분순서 (LCS) ###"
      ]
    },
    {
      "cell_type": "markdown",
      "metadata": {
        "id": "kE-FdHN27-WM"
      },
      "source": [
        "#### (3) DP top-down ####"
      ],
      "id": "kE-FdHN27-WM"
    },
    {
      "cell_type": "code",
      "source": [
        "X = \"abcbdab\"\n",
        "Y = \"bdcaba\"\n",
        "\n",
        "# Top-Down 방식의 DP로 구현하시오.\n",
        "\n",
        "def LCS2_DP_TD(i,j):  # m과 n은 비교할 개수\n",
        "  # Top-Down 방식의 DP로 구현하시오.\n",
        "  pass\n",
        "\n",
        "LCS2(len(X), len(Y))"
      ],
      "metadata": {
        "colab": {
          "base_uri": "https://localhost:8080/",
          "height": 35
        },
        "id": "qRSMhPVXTDAn",
        "outputId": "5515aa64-cd8a-44f0-9aa1-39f7f103ea60"
      },
      "id": "qRSMhPVXTDAn",
      "execution_count": null,
      "outputs": [
        {
          "output_type": "execute_result",
          "data": {
            "text/plain": [
              "'bdab'"
            ],
            "application/vnd.google.colaboratory.intrinsic+json": {
              "type": "string"
            }
          },
          "metadata": {},
          "execution_count": 10
        }
      ]
    }
  ],
  "metadata": {
    "kernelspec": {
      "display_name": "Python 3",
      "language": "python",
      "name": "python3"
    },
    "language_info": {
      "codemirror_mode": {
        "name": "ipython",
        "version": 3
      },
      "file_extension": ".py",
      "mimetype": "text/x-python",
      "name": "python",
      "nbconvert_exporter": "python",
      "pygments_lexer": "ipython3",
      "version": "3.8.8"
    },
    "colab": {
      "provenance": [],
      "include_colab_link": true
    }
  },
  "nbformat": 4,
  "nbformat_minor": 5
}