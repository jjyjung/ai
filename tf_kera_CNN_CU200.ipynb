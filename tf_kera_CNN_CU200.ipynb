{
  "nbformat": 4,
  "nbformat_minor": 0,
  "metadata": {
    "colab": {
      "name": "tf.kera_CNN_CU200.ipynb",
      "provenance": [],
      "authorship_tag": "ABX9TyP+o3xyKxzEQV+3pt9XEnmg",
      "include_colab_link": true
    },
    "kernelspec": {
      "name": "python3",
      "display_name": "Python 3"
    },
    "language_info": {
      "name": "python"
    },
    "accelerator": "GPU"
  },
  "cells": [
    {
      "cell_type": "markdown",
      "metadata": {
        "id": "view-in-github",
        "colab_type": "text"
      },
      "source": [
        "<a href=\"https://colab.research.google.com/github/jjyjung/ai/blob/gh-pages/tf_kera_CNN_CU200.ipynb\" target=\"_parent\"><img src=\"https://colab.research.google.com/assets/colab-badge.svg\" alt=\"Open In Colab\"/></a>"
      ]
    },
    {
      "cell_type": "code",
      "metadata": {
        "colab": {
          "base_uri": "https://localhost:8080/"
        },
        "id": "bGS3cg92GFQ9",
        "outputId": "7c7ac62d-df71-49f3-ae92-9c3948113c5b"
      },
      "source": [
        "from google.colab import drive\n",
        "\n",
        "drive.mount('/content/gdrive')   # google drive를 google colab에 연결. 처음 실행 시, 인증 필요 "
      ],
      "execution_count": 1,
      "outputs": [
        {
          "output_type": "stream",
          "name": "stdout",
          "text": [
            "Mounted at /content/gdrive\n"
          ]
        }
      ]
    },
    {
      "cell_type": "code",
      "metadata": {
        "id": "S_PMETJxGHO5"
      },
      "source": [
        "!unzip '/content/gdrive/My Drive/Colab Notebooks/ai/CUB200.zip' -d '/content/gdrive/My Drive/Colab Notebooks/ai/CUB200'"
      ],
      "execution_count": null,
      "outputs": []
    },
    {
      "cell_type": "code",
      "metadata": {
        "colab": {
          "base_uri": "https://localhost:8080/"
        },
        "id": "SfCd_B2TGivl",
        "outputId": "2a103a39-026a-40d8-cfeb-42b6a48c7a88"
      },
      "source": [
        "import numpy as np\n",
        "import tensorflow as tf\n",
        "from tensorflow.keras.models import Sequential\n",
        "from tensorflow.keras.layers import Flatten,Dense\n",
        "from tensorflow.keras.optimizers import Adam\n",
        "from tensorflow.keras.applications.resnet50 import ResNet50,preprocess_input\n",
        "from tensorflow.keras.preprocessing import image\n",
        "import os\n",
        "\n",
        "dir = \"/content/gdrive/My Drive/Colab Notebooks/ai/\"\n",
        "train_folder = dir + 'CUB20/train'\n",
        "test_folder = dir + 'CUB20/test'\n",
        "\n",
        "class_reduce=0.1 # 부류 수 줄여서 데이터양 줄임(속도와 메모리 효율을 위해)\n",
        "no_class=int(len(os.listdir(train_folder))*class_reduce) # 부류 개수\n",
        "\n",
        "x_train,y_train=[],[]\n",
        "for i,class_name in enumerate(os.listdir(train_folder)):\n",
        "    if i<no_class: # 13~14행이 지정한 부류만 사용\n",
        "        for fname in os.listdir(train_folder+'/'+class_name):\n",
        "            img=image.load_img(train_folder+'/'+class_name+'/'+fname,target_size=(224,224))\n",
        "            if len(img.getbands())!=3:\n",
        "                print(\"주의: 유효하지 않은 영상 발생\",class_name,fname)\n",
        "                continue\n",
        "            x=image.img_to_array(img)\n",
        "            x=preprocess_input(x)\n",
        "            x_train.append(x)\n",
        "            y_train.append(i)\n",
        "\n",
        "x_test,y_test=[],[]\n",
        "for i,class_name in enumerate(os.listdir(test_folder)):\n",
        "    if i<no_class: # 13~14행이 지정한 부류만 사용\n",
        "        for fname in os.listdir(test_folder+'/'+class_name):\n",
        "            img=image.load_img(test_folder+'/'+class_name+'/'+fname,target_size=(224,224))\n",
        "            if len(img.getbands())!=3:\n",
        "                print(\"주의: 유효하지 않은 영상 발생\",class_name,fname)\n",
        "                continue\n",
        "            x=image.img_to_array(img)\n",
        "            x=preprocess_input(x)\n",
        "            x_test.append(x)\n",
        "            y_test.append(i)\n",
        "\n",
        "x_train=np.asarray(x_train)\n",
        "y_train=np.asarray(y_train)\n",
        "x_test=np.asarray(x_test)\n",
        "y_test=np.asarray(y_test)\n",
        "y_train=tf.keras.utils.to_categorical(y_train,no_class)\n",
        "y_test=tf.keras.utils.to_categorical(y_test,no_class)\n",
        "\n",
        "base_model=ResNet50(weights='imagenet',include_top=False,input_shape=(224,224,3))\n",
        "cnn=Sequential()\n",
        "cnn.add(base_model)\n",
        "cnn.add(Flatten())\n",
        "cnn.add(Dense(1024,activation='relu'))\n",
        "cnn.add(Dense(no_class,activation='softmax'))\n",
        "\n",
        "cnn.compile(loss='categorical_crossentropy',optimizer=Adam(0.00002),metrics=['accuracy'])\n",
        "hist=cnn.fit(x_train,y_train,batch_size=16,epochs=10,validation_data=(x_test,y_test),verbose=1)\n",
        "\n",
        "res=cnn.evaluate(x_test,y_test,verbose=0)\n",
        "print(\"정확률은\",res[1]*100)"
      ],
      "execution_count": 2,
      "outputs": [
        {
          "output_type": "stream",
          "name": "stdout",
          "text": [
            "Downloading data from https://storage.googleapis.com/tensorflow/keras-applications/resnet/resnet50_weights_tf_dim_ordering_tf_kernels_notop.h5\n",
            "94773248/94765736 [==============================] - 1s 0us/step\n",
            "94781440/94765736 [==============================] - 1s 0us/step\n",
            "Epoch 1/10\n",
            "38/38 [==============================] - 60s 591ms/step - loss: 2.7399 - accuracy: 0.3450 - val_loss: 8.2893 - val_accuracy: 0.0117\n",
            "Epoch 2/10\n",
            "38/38 [==============================] - 19s 510ms/step - loss: 0.0228 - accuracy: 0.9950 - val_loss: 9.3647 - val_accuracy: 0.0214\n",
            "Epoch 3/10\n",
            "38/38 [==============================] - 20s 542ms/step - loss: 0.0048 - accuracy: 1.0000 - val_loss: 9.2411 - val_accuracy: 0.0155\n",
            "Epoch 4/10\n",
            "38/38 [==============================] - 19s 509ms/step - loss: 0.0021 - accuracy: 1.0000 - val_loss: 9.0796 - val_accuracy: 0.0097\n",
            "Epoch 5/10\n",
            "38/38 [==============================] - 19s 509ms/step - loss: 0.0017 - accuracy: 1.0000 - val_loss: 9.0452 - val_accuracy: 0.0117\n",
            "Epoch 6/10\n",
            "38/38 [==============================] - 19s 509ms/step - loss: 8.0682e-04 - accuracy: 1.0000 - val_loss: 8.9971 - val_accuracy: 0.0136\n",
            "Epoch 7/10\n",
            "38/38 [==============================] - 20s 542ms/step - loss: 8.3703e-04 - accuracy: 1.0000 - val_loss: 8.9604 - val_accuracy: 0.0155\n",
            "Epoch 8/10\n",
            "38/38 [==============================] - 19s 508ms/step - loss: 7.0362e-04 - accuracy: 1.0000 - val_loss: 8.9520 - val_accuracy: 0.0155\n",
            "Epoch 9/10\n",
            "38/38 [==============================] - 19s 508ms/step - loss: 4.6006e-04 - accuracy: 1.0000 - val_loss: 8.9348 - val_accuracy: 0.0155\n",
            "Epoch 10/10\n",
            "38/38 [==============================] - 19s 508ms/step - loss: 4.8655e-04 - accuracy: 1.0000 - val_loss: 8.9507 - val_accuracy: 0.0155\n",
            "정확률은 1.5533980913460255\n"
          ]
        }
      ]
    }
  ]
}