{
  "nbformat": 4,
  "nbformat_minor": 0,
  "metadata": {
    "kernelspec": {
      "display_name": "Python 3",
      "language": "python",
      "name": "python3"
    },
    "language_info": {
      "codemirror_mode": {
        "name": "ipython",
        "version": 3
      },
      "file_extension": ".py",
      "mimetype": "text/x-python",
      "name": "python",
      "nbconvert_exporter": "python",
      "pygments_lexer": "ipython3",
      "version": "3.8.8"
    },
    "colab": {
      "provenance": [],
      "include_colab_link": true
    }
  },
  "cells": [
    {
      "cell_type": "markdown",
      "metadata": {
        "id": "view-in-github",
        "colab_type": "text"
      },
      "source": [
        "<a href=\"https://colab.research.google.com/github/jjyjung/ai/blob/gh-pages/keras_DNN_BMI.ipynb\" target=\"_parent\"><img src=\"https://colab.research.google.com/assets/colab-badge.svg\" alt=\"Open In Colab\"/></a>"
      ]
    },
    {
      "cell_type": "code",
      "metadata": {
        "colab": {
          "base_uri": "https://localhost:8080/"
        },
        "id": "EYWPrHpHvOaT",
        "outputId": "300d2c82-ccdc-46a7-9a99-5b520159bd32"
      },
      "source": [
        "from google.colab import drive\n",
        "\n",
        "drive.mount('/content/gdrive')   # google drive를 google colab에 연결. 처음 실행 시, 인증 필요 "
      ],
      "execution_count": 1,
      "outputs": [
        {
          "output_type": "stream",
          "name": "stdout",
          "text": [
            "Mounted at /content/gdrive\n"
          ]
        }
      ]
    },
    {
      "cell_type": "code",
      "metadata": {
        "id": "22UZuhWkLtVt"
      },
      "source": [
        "import numpy as np\n",
        "import pandas as pd\n",
        "import tensorflow as tf\n",
        "from tensorflow.keras import layers  # 모듈(변수나 함수를 포함)만 불러오기\n",
        "\n",
        "# BMI 데이터를 읽어 들이고 정규화하기\n",
        "dir = \"/content/gdrive/My Drive/Colab Notebooks/ai/\"\n",
        "df = pd.read_csv(dir + \"bmi.csv\")"
      ],
      "execution_count": 2,
      "outputs": []
    },
    {
      "cell_type": "code",
      "metadata": {
        "id": "3GAFF1QOk58E",
        "colab": {
          "base_uri": "https://localhost:8080/",
          "height": 424
        },
        "outputId": "333e58a1-4a26-4f5e-b366-a5efc04501b3"
      },
      "source": [
        "df"
      ],
      "execution_count": 3,
      "outputs": [
        {
          "output_type": "execute_result",
          "data": {
            "text/plain": [
              "       height  weight   label\n",
              "0         142      62     fat\n",
              "1         142      73     fat\n",
              "2         177      61  normal\n",
              "3         187      48    thin\n",
              "4         153      60     fat\n",
              "...       ...     ...     ...\n",
              "19995     122      58     fat\n",
              "19996     193      69  normal\n",
              "19997     193      37    thin\n",
              "19998     195      51    thin\n",
              "19999     163      67  normal\n",
              "\n",
              "[20000 rows x 3 columns]"
            ],
            "text/html": [
              "\n",
              "  <div id=\"df-43c955fe-0543-46ed-8274-64cc7fd85dc0\">\n",
              "    <div class=\"colab-df-container\">\n",
              "      <div>\n",
              "<style scoped>\n",
              "    .dataframe tbody tr th:only-of-type {\n",
              "        vertical-align: middle;\n",
              "    }\n",
              "\n",
              "    .dataframe tbody tr th {\n",
              "        vertical-align: top;\n",
              "    }\n",
              "\n",
              "    .dataframe thead th {\n",
              "        text-align: right;\n",
              "    }\n",
              "</style>\n",
              "<table border=\"1\" class=\"dataframe\">\n",
              "  <thead>\n",
              "    <tr style=\"text-align: right;\">\n",
              "      <th></th>\n",
              "      <th>height</th>\n",
              "      <th>weight</th>\n",
              "      <th>label</th>\n",
              "    </tr>\n",
              "  </thead>\n",
              "  <tbody>\n",
              "    <tr>\n",
              "      <th>0</th>\n",
              "      <td>142</td>\n",
              "      <td>62</td>\n",
              "      <td>fat</td>\n",
              "    </tr>\n",
              "    <tr>\n",
              "      <th>1</th>\n",
              "      <td>142</td>\n",
              "      <td>73</td>\n",
              "      <td>fat</td>\n",
              "    </tr>\n",
              "    <tr>\n",
              "      <th>2</th>\n",
              "      <td>177</td>\n",
              "      <td>61</td>\n",
              "      <td>normal</td>\n",
              "    </tr>\n",
              "    <tr>\n",
              "      <th>3</th>\n",
              "      <td>187</td>\n",
              "      <td>48</td>\n",
              "      <td>thin</td>\n",
              "    </tr>\n",
              "    <tr>\n",
              "      <th>4</th>\n",
              "      <td>153</td>\n",
              "      <td>60</td>\n",
              "      <td>fat</td>\n",
              "    </tr>\n",
              "    <tr>\n",
              "      <th>...</th>\n",
              "      <td>...</td>\n",
              "      <td>...</td>\n",
              "      <td>...</td>\n",
              "    </tr>\n",
              "    <tr>\n",
              "      <th>19995</th>\n",
              "      <td>122</td>\n",
              "      <td>58</td>\n",
              "      <td>fat</td>\n",
              "    </tr>\n",
              "    <tr>\n",
              "      <th>19996</th>\n",
              "      <td>193</td>\n",
              "      <td>69</td>\n",
              "      <td>normal</td>\n",
              "    </tr>\n",
              "    <tr>\n",
              "      <th>19997</th>\n",
              "      <td>193</td>\n",
              "      <td>37</td>\n",
              "      <td>thin</td>\n",
              "    </tr>\n",
              "    <tr>\n",
              "      <th>19998</th>\n",
              "      <td>195</td>\n",
              "      <td>51</td>\n",
              "      <td>thin</td>\n",
              "    </tr>\n",
              "    <tr>\n",
              "      <th>19999</th>\n",
              "      <td>163</td>\n",
              "      <td>67</td>\n",
              "      <td>normal</td>\n",
              "    </tr>\n",
              "  </tbody>\n",
              "</table>\n",
              "<p>20000 rows × 3 columns</p>\n",
              "</div>\n",
              "      <button class=\"colab-df-convert\" onclick=\"convertToInteractive('df-43c955fe-0543-46ed-8274-64cc7fd85dc0')\"\n",
              "              title=\"Convert this dataframe to an interactive table.\"\n",
              "              style=\"display:none;\">\n",
              "        \n",
              "  <svg xmlns=\"http://www.w3.org/2000/svg\" height=\"24px\"viewBox=\"0 0 24 24\"\n",
              "       width=\"24px\">\n",
              "    <path d=\"M0 0h24v24H0V0z\" fill=\"none\"/>\n",
              "    <path d=\"M18.56 5.44l.94 2.06.94-2.06 2.06-.94-2.06-.94-.94-2.06-.94 2.06-2.06.94zm-11 1L8.5 8.5l.94-2.06 2.06-.94-2.06-.94L8.5 2.5l-.94 2.06-2.06.94zm10 10l.94 2.06.94-2.06 2.06-.94-2.06-.94-.94-2.06-.94 2.06-2.06.94z\"/><path d=\"M17.41 7.96l-1.37-1.37c-.4-.4-.92-.59-1.43-.59-.52 0-1.04.2-1.43.59L10.3 9.45l-7.72 7.72c-.78.78-.78 2.05 0 2.83L4 21.41c.39.39.9.59 1.41.59.51 0 1.02-.2 1.41-.59l7.78-7.78 2.81-2.81c.8-.78.8-2.07 0-2.86zM5.41 20L4 18.59l7.72-7.72 1.47 1.35L5.41 20z\"/>\n",
              "  </svg>\n",
              "      </button>\n",
              "      \n",
              "  <style>\n",
              "    .colab-df-container {\n",
              "      display:flex;\n",
              "      flex-wrap:wrap;\n",
              "      gap: 12px;\n",
              "    }\n",
              "\n",
              "    .colab-df-convert {\n",
              "      background-color: #E8F0FE;\n",
              "      border: none;\n",
              "      border-radius: 50%;\n",
              "      cursor: pointer;\n",
              "      display: none;\n",
              "      fill: #1967D2;\n",
              "      height: 32px;\n",
              "      padding: 0 0 0 0;\n",
              "      width: 32px;\n",
              "    }\n",
              "\n",
              "    .colab-df-convert:hover {\n",
              "      background-color: #E2EBFA;\n",
              "      box-shadow: 0px 1px 2px rgba(60, 64, 67, 0.3), 0px 1px 3px 1px rgba(60, 64, 67, 0.15);\n",
              "      fill: #174EA6;\n",
              "    }\n",
              "\n",
              "    [theme=dark] .colab-df-convert {\n",
              "      background-color: #3B4455;\n",
              "      fill: #D2E3FC;\n",
              "    }\n",
              "\n",
              "    [theme=dark] .colab-df-convert:hover {\n",
              "      background-color: #434B5C;\n",
              "      box-shadow: 0px 1px 3px 1px rgba(0, 0, 0, 0.15);\n",
              "      filter: drop-shadow(0px 1px 2px rgba(0, 0, 0, 0.3));\n",
              "      fill: #FFFFFF;\n",
              "    }\n",
              "  </style>\n",
              "\n",
              "      <script>\n",
              "        const buttonEl =\n",
              "          document.querySelector('#df-43c955fe-0543-46ed-8274-64cc7fd85dc0 button.colab-df-convert');\n",
              "        buttonEl.style.display =\n",
              "          google.colab.kernel.accessAllowed ? 'block' : 'none';\n",
              "\n",
              "        async function convertToInteractive(key) {\n",
              "          const element = document.querySelector('#df-43c955fe-0543-46ed-8274-64cc7fd85dc0');\n",
              "          const dataTable =\n",
              "            await google.colab.kernel.invokeFunction('convertToInteractive',\n",
              "                                                     [key], {});\n",
              "          if (!dataTable) return;\n",
              "\n",
              "          const docLinkHtml = 'Like what you see? Visit the ' +\n",
              "            '<a target=\"_blank\" href=https://colab.research.google.com/notebooks/data_table.ipynb>data table notebook</a>'\n",
              "            + ' to learn more about interactive tables.';\n",
              "          element.innerHTML = '';\n",
              "          dataTable['output_type'] = 'display_data';\n",
              "          await google.colab.output.renderOutput(dataTable, element);\n",
              "          const docLink = document.createElement('div');\n",
              "          docLink.innerHTML = docLinkHtml;\n",
              "          element.appendChild(docLink);\n",
              "        }\n",
              "      </script>\n",
              "    </div>\n",
              "  </div>\n",
              "  "
            ]
          },
          "metadata": {},
          "execution_count": 3
        }
      ]
    },
    {
      "cell_type": "code",
      "metadata": {
        "id": "WaC6EJH_kwwz"
      },
      "source": [
        "# 몸무게와 키 데이터\n",
        "df[\"weight\"] /= 100   # normalization\n",
        "df[\"height\"] /= 200   # normalization\n",
        "# X = df[[\"weight\", \"height\"]].to_numpy()\n",
        "X = df.iloc[:,0:2]\n",
        "\n",
        "# 레이블링, 라벨링 (labelling) => one-hot encoding\n",
        "bclass = {\"thin\":[1,0,0], \"normal\":[0,1,0], \"fat\":[0,0,1]}\n",
        "y = np.empty((20000,3))     # 2000x3 크기의 다차원 벡터 생성\n",
        "for i, v in enumerate(df[\"label\"]):\n",
        "    y[i] = bclass[v]        # \"thin'이면, y[i]=[1,0,0] 와 같이 할당\n",
        "    \n",
        "# 훈련 전용 데이터와 테스트 전용 데이터로 나누기\n",
        "X_train, y_train = X[0:15000], y[0:15000]\n",
        "X_test,  y_test  = X[15000:20000], y[15000:20000]"
      ],
      "execution_count": 4,
      "outputs": []
    },
    {
      "cell_type": "code",
      "metadata": {
        "scrolled": true,
        "id": "G2UgYhccLtVu"
      },
      "source": [
        "# 모델 구조 정의하기\n",
        "model = tf.keras.Sequential()         # 순차적 계층화 준비\n",
        "model.add(layers.Dense(8, input_shape=(2,)))  # 입력 2개로부터 전달받는 8개 노드의 layer 생성\n",
        "model.add(layers.Activation('relu'))  # ReLU 활성화함수 채택\n",
        "model.add(layers.Dropout(0.1))        # dropout ratio=10% (배치 훈련시 10% arc 무시)\n",
        "\n",
        "model.add(layers.Dense(4))            # 4개 노드의 layer 생성\n",
        "model.add(layers.Activation('relu'))\n",
        "model.add(layers.Dropout(0.1))\n",
        "\n",
        "model.add(layers.Dense(3))\n",
        "model.add(layers.Activation('softmax'))# 분류(classification)을 위해 softmax 함수 사용\n",
        "\n",
        "# 모델 구축하기\n",
        "model.compile(\n",
        "    loss='categorical_crossentropy',  # 다중 교차엔트로피\n",
        "    optimizer=\"rmsprop\",   # 최적화 기법 중 하나\n",
        "    metrics=['accuracy'])  # 정확도 측정"
      ],
      "execution_count": 5,
      "outputs": []
    },
    {
      "cell_type": "code",
      "metadata": {
        "scrolled": true,
        "id": "2IhHchdXLtVv",
        "colab": {
          "base_uri": "https://localhost:8080/"
        },
        "outputId": "bc0045b9-353e-4f65-ec94-d7b114c8f41e"
      },
      "source": [
        "# 데이터 훈련하기\n",
        "hist = model.fit(\n",
        "    X_train, y_train,\n",
        "    batch_size=100,     # 100개에 한 번씩 업데이터 실행\n",
        "    epochs=50,          # 훈련 데이터셋을 총 60회 반복 실험. 단, 조기중지될 수 있음\n",
        "    validation_split=0.2,  \n",
        "        #validation data 분할 비율. 즉, 15000개 중에서 10%인 1500개를 validation용으로 분할\n",
        "    callbacks=[tf.keras.callbacks.EarlyStopping(monitor='val_loss', patience=10)],  \n",
        "        #'val_loss'를 monitor하여 감소하면 한 번 더 참고 조기중지\n",
        "    verbose=1)   # 전 과정을 화면에 출력(1) 또는 미출력(0) 모드\n",
        "\n",
        "# 테스트 데이터로 평가하기\n",
        "score = model.evaluate(X_test, y_test)\n",
        "print('test_loss: ', score[0])\n",
        "print('test_acc: ', score[1])"
      ],
      "execution_count": 6,
      "outputs": [
        {
          "output_type": "stream",
          "name": "stdout",
          "text": [
            "Epoch 1/50\n",
            "120/120 [==============================] - 1s 3ms/step - loss: 1.0831 - accuracy: 0.3480 - val_loss: 1.0512 - val_accuracy: 0.3677\n",
            "Epoch 2/50\n",
            "120/120 [==============================] - 0s 2ms/step - loss: 1.0357 - accuracy: 0.4361 - val_loss: 1.0084 - val_accuracy: 0.4027\n",
            "Epoch 3/50\n",
            "120/120 [==============================] - 0s 2ms/step - loss: 0.9848 - accuracy: 0.5555 - val_loss: 0.9393 - val_accuracy: 0.6970\n",
            "Epoch 4/50\n",
            "120/120 [==============================] - 0s 1ms/step - loss: 0.9203 - accuracy: 0.6157 - val_loss: 0.8608 - val_accuracy: 0.7010\n",
            "Epoch 5/50\n",
            "120/120 [==============================] - 0s 2ms/step - loss: 0.8486 - accuracy: 0.6346 - val_loss: 0.7763 - val_accuracy: 0.7513\n",
            "Epoch 6/50\n",
            "120/120 [==============================] - 0s 1ms/step - loss: 0.7772 - accuracy: 0.6671 - val_loss: 0.6926 - val_accuracy: 0.7937\n",
            "Epoch 7/50\n",
            "120/120 [==============================] - 0s 1ms/step - loss: 0.7106 - accuracy: 0.6962 - val_loss: 0.6175 - val_accuracy: 0.8487\n",
            "Epoch 8/50\n",
            "120/120 [==============================] - 0s 1ms/step - loss: 0.6480 - accuracy: 0.7313 - val_loss: 0.5495 - val_accuracy: 0.8797\n",
            "Epoch 9/50\n",
            "120/120 [==============================] - 0s 1ms/step - loss: 0.6046 - accuracy: 0.7556 - val_loss: 0.4972 - val_accuracy: 0.9030\n",
            "Epoch 10/50\n",
            "120/120 [==============================] - 0s 1ms/step - loss: 0.5614 - accuracy: 0.7776 - val_loss: 0.4484 - val_accuracy: 0.9217\n",
            "Epoch 11/50\n",
            "120/120 [==============================] - 0s 1ms/step - loss: 0.5340 - accuracy: 0.7818 - val_loss: 0.4116 - val_accuracy: 0.9340\n",
            "Epoch 12/50\n",
            "120/120 [==============================] - 0s 2ms/step - loss: 0.4993 - accuracy: 0.8002 - val_loss: 0.3773 - val_accuracy: 0.9440\n",
            "Epoch 13/50\n",
            "120/120 [==============================] - 0s 1ms/step - loss: 0.4798 - accuracy: 0.8068 - val_loss: 0.3478 - val_accuracy: 0.9493\n",
            "Epoch 14/50\n",
            "120/120 [==============================] - 0s 1ms/step - loss: 0.4505 - accuracy: 0.8173 - val_loss: 0.3189 - val_accuracy: 0.9583\n",
            "Epoch 15/50\n",
            "120/120 [==============================] - 0s 3ms/step - loss: 0.4279 - accuracy: 0.8274 - val_loss: 0.2928 - val_accuracy: 0.9620\n",
            "Epoch 16/50\n",
            "120/120 [==============================] - 0s 3ms/step - loss: 0.4051 - accuracy: 0.8334 - val_loss: 0.2698 - val_accuracy: 0.9687\n",
            "Epoch 17/50\n",
            "120/120 [==============================] - 0s 1ms/step - loss: 0.3908 - accuracy: 0.8434 - val_loss: 0.2520 - val_accuracy: 0.9633\n",
            "Epoch 18/50\n",
            "120/120 [==============================] - 0s 2ms/step - loss: 0.3640 - accuracy: 0.8535 - val_loss: 0.2321 - val_accuracy: 0.9753\n",
            "Epoch 19/50\n",
            "120/120 [==============================] - 0s 2ms/step - loss: 0.3548 - accuracy: 0.8568 - val_loss: 0.2193 - val_accuracy: 0.9733\n",
            "Epoch 20/50\n",
            "120/120 [==============================] - 0s 2ms/step - loss: 0.3430 - accuracy: 0.8593 - val_loss: 0.2083 - val_accuracy: 0.9673\n",
            "Epoch 21/50\n",
            "120/120 [==============================] - 0s 2ms/step - loss: 0.3375 - accuracy: 0.8603 - val_loss: 0.1969 - val_accuracy: 0.9773\n",
            "Epoch 22/50\n",
            "120/120 [==============================] - 0s 2ms/step - loss: 0.3174 - accuracy: 0.8729 - val_loss: 0.1857 - val_accuracy: 0.9713\n",
            "Epoch 23/50\n",
            "120/120 [==============================] - 0s 1ms/step - loss: 0.3129 - accuracy: 0.8765 - val_loss: 0.1780 - val_accuracy: 0.9807\n",
            "Epoch 24/50\n",
            "120/120 [==============================] - 0s 1ms/step - loss: 0.2992 - accuracy: 0.8788 - val_loss: 0.1682 - val_accuracy: 0.9737\n",
            "Epoch 25/50\n",
            "120/120 [==============================] - 0s 1ms/step - loss: 0.2947 - accuracy: 0.8819 - val_loss: 0.1641 - val_accuracy: 0.9737\n",
            "Epoch 26/50\n",
            "120/120 [==============================] - 0s 1ms/step - loss: 0.2910 - accuracy: 0.8792 - val_loss: 0.1566 - val_accuracy: 0.9800\n",
            "Epoch 27/50\n",
            "120/120 [==============================] - 0s 2ms/step - loss: 0.2825 - accuracy: 0.8832 - val_loss: 0.1506 - val_accuracy: 0.9797\n",
            "Epoch 28/50\n",
            "120/120 [==============================] - 0s 1ms/step - loss: 0.2724 - accuracy: 0.8882 - val_loss: 0.1438 - val_accuracy: 0.9807\n",
            "Epoch 29/50\n",
            "120/120 [==============================] - 0s 2ms/step - loss: 0.2657 - accuracy: 0.8909 - val_loss: 0.1392 - val_accuracy: 0.9783\n",
            "Epoch 30/50\n",
            "120/120 [==============================] - 0s 1ms/step - loss: 0.2603 - accuracy: 0.8972 - val_loss: 0.1351 - val_accuracy: 0.9757\n",
            "Epoch 31/50\n",
            "120/120 [==============================] - 0s 1ms/step - loss: 0.2571 - accuracy: 0.8942 - val_loss: 0.1330 - val_accuracy: 0.9770\n",
            "Epoch 32/50\n",
            "120/120 [==============================] - 0s 1ms/step - loss: 0.2541 - accuracy: 0.8973 - val_loss: 0.1290 - val_accuracy: 0.9787\n",
            "Epoch 33/50\n",
            "120/120 [==============================] - 0s 1ms/step - loss: 0.2445 - accuracy: 0.9003 - val_loss: 0.1237 - val_accuracy: 0.9793\n",
            "Epoch 34/50\n",
            "120/120 [==============================] - 0s 1ms/step - loss: 0.2350 - accuracy: 0.9043 - val_loss: 0.1205 - val_accuracy: 0.9820\n",
            "Epoch 35/50\n",
            "120/120 [==============================] - 0s 2ms/step - loss: 0.2405 - accuracy: 0.9008 - val_loss: 0.1186 - val_accuracy: 0.9807\n",
            "Epoch 36/50\n",
            "120/120 [==============================] - 0s 2ms/step - loss: 0.2360 - accuracy: 0.9038 - val_loss: 0.1220 - val_accuracy: 0.9660\n",
            "Epoch 37/50\n",
            "120/120 [==============================] - 0s 1ms/step - loss: 0.2370 - accuracy: 0.9012 - val_loss: 0.1156 - val_accuracy: 0.9770\n",
            "Epoch 38/50\n",
            "120/120 [==============================] - 0s 1ms/step - loss: 0.2231 - accuracy: 0.9082 - val_loss: 0.1089 - val_accuracy: 0.9823\n",
            "Epoch 39/50\n",
            "120/120 [==============================] - 0s 2ms/step - loss: 0.2294 - accuracy: 0.9070 - val_loss: 0.1119 - val_accuracy: 0.9733\n",
            "Epoch 40/50\n",
            "120/120 [==============================] - 0s 1ms/step - loss: 0.2221 - accuracy: 0.9099 - val_loss: 0.1043 - val_accuracy: 0.9850\n",
            "Epoch 41/50\n",
            "120/120 [==============================] - 0s 1ms/step - loss: 0.2211 - accuracy: 0.9112 - val_loss: 0.1042 - val_accuracy: 0.9810\n",
            "Epoch 42/50\n",
            "120/120 [==============================] - 0s 1ms/step - loss: 0.2089 - accuracy: 0.9133 - val_loss: 0.0997 - val_accuracy: 0.9847\n",
            "Epoch 43/50\n",
            "120/120 [==============================] - 0s 2ms/step - loss: 0.2098 - accuracy: 0.9119 - val_loss: 0.0995 - val_accuracy: 0.9850\n",
            "Epoch 44/50\n",
            "120/120 [==============================] - 0s 2ms/step - loss: 0.2056 - accuracy: 0.9133 - val_loss: 0.0959 - val_accuracy: 0.9850\n",
            "Epoch 45/50\n",
            "120/120 [==============================] - 0s 1ms/step - loss: 0.2109 - accuracy: 0.9128 - val_loss: 0.0962 - val_accuracy: 0.9850\n",
            "Epoch 46/50\n",
            "120/120 [==============================] - 0s 1ms/step - loss: 0.2021 - accuracy: 0.9191 - val_loss: 0.0930 - val_accuracy: 0.9853\n",
            "Epoch 47/50\n",
            "120/120 [==============================] - 0s 1ms/step - loss: 0.2043 - accuracy: 0.9140 - val_loss: 0.0957 - val_accuracy: 0.9777\n",
            "Epoch 48/50\n",
            "120/120 [==============================] - 0s 2ms/step - loss: 0.2016 - accuracy: 0.9185 - val_loss: 0.0901 - val_accuracy: 0.9847\n",
            "Epoch 49/50\n",
            "120/120 [==============================] - 0s 1ms/step - loss: 0.2042 - accuracy: 0.9158 - val_loss: 0.0974 - val_accuracy: 0.9753\n",
            "Epoch 50/50\n",
            "120/120 [==============================] - 0s 1ms/step - loss: 0.1995 - accuracy: 0.9168 - val_loss: 0.0877 - val_accuracy: 0.9840\n",
            "157/157 [==============================] - 0s 1ms/step - loss: 0.0909 - accuracy: 0.9840\n",
            "test_loss:  0.09088074415922165\n",
            "test_acc:  0.984000027179718\n"
          ]
        }
      ]
    },
    {
      "cell_type": "code",
      "metadata": {
        "id": "eVZ2sf6Gb5Y-",
        "colab": {
          "base_uri": "https://localhost:8080/"
        },
        "outputId": "e18e011e-5e3c-4b6d-9556-34d0db422f9f"
      },
      "source": [
        "hist.history.keys()"
      ],
      "execution_count": 7,
      "outputs": [
        {
          "output_type": "execute_result",
          "data": {
            "text/plain": [
              "dict_keys(['loss', 'accuracy', 'val_loss', 'val_accuracy'])"
            ]
          },
          "metadata": {},
          "execution_count": 7
        }
      ]
    },
    {
      "cell_type": "code",
      "metadata": {
        "scrolled": true,
        "id": "Hh1NwcAwLtVw",
        "colab": {
          "base_uri": "https://localhost:8080/",
          "height": 279
        },
        "outputId": "828e6f60-2f2e-4576-dc99-53eddbc4066d"
      },
      "source": [
        "import matplotlib.pyplot as plt\n",
        "\n",
        "fig, loss_ax = plt.subplots()\n",
        "acc_ax = loss_ax.twinx()\n",
        "\n",
        "loss_ax.plot(hist.history['loss'], 'y', label='train loss')\n",
        "loss_ax.plot(hist.history['val_loss'], 'r', label='val loss')\n",
        "\n",
        "acc_ax.plot(hist.history['accuracy'], 'b', label='train acc')\n",
        "acc_ax.plot(hist.history['val_accuracy'], 'g', label='val acc')\n",
        "\n",
        "loss_ax.set_xlabel('epoch')\n",
        "loss_ax.set_ylabel('loss')\n",
        "acc_ax.set_ylabel('accuray')\n",
        "\n",
        "loss_ax.legend(loc='upper left')\n",
        "acc_ax.legend(loc='lower left')\n",
        "\n",
        "plt.show()"
      ],
      "execution_count": 8,
      "outputs": [
        {
          "output_type": "display_data",
          "data": {
            "text/plain": [
              "<Figure size 432x288 with 2 Axes>"
            ],
            "image/png": "[encoded data removed]"
          },
          "metadata": {
            "needs_background": "light"
          }
        }
      ]
    },
    {
      "cell_type": "code",
      "metadata": {
        "id": "a0LNN770LtVw",
        "colab": {
          "base_uri": "https://localhost:8080/"
        },
        "outputId": "1d0a5184-5bb0-47e9-e5d4-5ac09faef69c"
      },
      "source": [
        "model.summary()"
      ],
      "execution_count": 9,
      "outputs": [
        {
          "output_type": "stream",
          "name": "stdout",
          "text": [
            "Model: \"sequential\"\n",
            "_________________________________________________________________\n",
            " Layer (type)                Output Shape              Param #   \n",
            "=================================================================\n",
            " dense (Dense)               (None, 8)                 24        \n",
            "                                                                 \n",
            " activation (Activation)     (None, 8)                 0         \n",
            "                                                                 \n",
            " dropout (Dropout)           (None, 8)                 0         \n",
            "                                                                 \n",
            " dense_1 (Dense)             (None, 4)                 36        \n",
            "                                                                 \n",
            " activation_1 (Activation)   (None, 4)                 0         \n",
            "                                                                 \n",
            " dropout_1 (Dropout)         (None, 4)                 0         \n",
            "                                                                 \n",
            " dense_2 (Dense)             (None, 3)                 15        \n",
            "                                                                 \n",
            " activation_2 (Activation)   (None, 3)                 0         \n",
            "                                                                 \n",
            "=================================================================\n",
            "Total params: 75\n",
            "Trainable params: 75\n",
            "Non-trainable params: 0\n",
            "_________________________________________________________________\n"
          ]
        }
      ]
    },
    {
      "cell_type": "code",
      "metadata": {
        "id": "Ap06VxZI5Aog",
        "colab": {
          "base_uri": "https://localhost:8080/"
        },
        "outputId": "be69fe44-d828-4e2b-8e2e-8fabb0ee181a"
      },
      "source": [
        "model.get_weights()"
      ],
      "execution_count": 10,
      "outputs": [
        {
          "output_type": "execute_result",
          "data": {
            "text/plain": [
              "[array([[-0.5594141 ,  1.4539847 ,  0.03054525,  1.2492054 , -0.7272816 ,\n",
              "          0.997361  , -0.47345978,  0.48332462],\n",
              "        [ 0.8106979 , -0.99871963,  0.61378527, -0.8162806 ,  0.62702614,\n",
              "         -0.5494378 , -0.57865435, -0.83510125]], dtype=float32),\n",
              " array([ 0.10541144, -0.48314548, -0.27718073, -0.44617546,  0.31154075,\n",
              "        -0.40074837,  0.        , -0.19153585], dtype=float32),\n",
              " array([[ 2.5060794 , -0.01572591,  0.6043045 , -0.31668383],\n",
              "        [-1.4279535 ,  3.7185392 , -3.4882393 ,  2.8187256 ],\n",
              "        [ 0.60807204,  0.31213567,  0.14423119, -0.03158639],\n",
              "        [-1.6780987 ,  3.4885926 , -4.04024   ,  3.9925325 ],\n",
              "        [ 5.1165166 , -0.62483156,  0.28621563, -0.7626806 ],\n",
              "        [-0.8851996 ,  2.4013379 , -2.7304265 ,  2.950683  ],\n",
              "        [-0.45996794, -0.40273875, -0.16223365,  0.4050489 ],\n",
              "        [-0.2812592 , -0.14190918,  0.45973814,  0.21256992]],\n",
              "       dtype=float32),\n",
              " array([0.6704536 , 0.02393303, 0.2520721 , 0.13775918], dtype=float32),\n",
              " array([[-3.6725593 ,  0.6801054 ,  1.1856387 ],\n",
              "        [ 1.7415948 ,  0.98448575, -4.7658415 ],\n",
              "        [-3.0148888 , -2.9494922 ,  2.5921433 ],\n",
              "        [ 1.6577752 ,  0.858778  , -4.327209  ]], dtype=float32),\n",
              " array([-1.0072482 ,  0.23613596,  0.73230666], dtype=float32)]"
            ]
          },
          "metadata": {},
          "execution_count": 10
        }
      ]
    },
    {
      "cell_type": "code",
      "metadata": {
        "scrolled": true,
        "id": "nhPK4V6nLtVx",
        "colab": {
          "base_uri": "https://localhost:8080/"
        },
        "outputId": "c191a145-aeb2-43de-dcab-c9a5229e7888"
      },
      "source": [
        "model.save(dir+\"dnn_bmi.h5\")\n",
        "print(\"Saved model to disk.\")\n",
        "\n",
        "from numpy import loadtxt\n",
        "from tensorflow.python.keras.models import load_model\n",
        "\n",
        "# 저장된 모델 읽어오기\n",
        "loaded_model = load_model(dir+\"dnn_bmi.h5\")\n",
        "model.summary()\n",
        "\n",
        "# 모델을 평가하기\n",
        "score = model.evaluate(X_test, y_test)\n",
        "print('test_loss: ', score[0])\n",
        "print('test_acc: ', score[1])"
      ],
      "execution_count": 11,
      "outputs": [
        {
          "output_type": "stream",
          "name": "stdout",
          "text": [
            "Saved model to disk.\n",
            "Model: \"sequential\"\n",
            "_________________________________________________________________\n",
            " Layer (type)                Output Shape              Param #   \n",
            "=================================================================\n",
            " dense (Dense)               (None, 8)                 24        \n",
            "                                                                 \n",
            " activation (Activation)     (None, 8)                 0         \n",
            "                                                                 \n",
            " dropout (Dropout)           (None, 8)                 0         \n",
            "                                                                 \n",
            " dense_1 (Dense)             (None, 4)                 36        \n",
            "                                                                 \n",
            " activation_1 (Activation)   (None, 4)                 0         \n",
            "                                                                 \n",
            " dropout_1 (Dropout)         (None, 4)                 0         \n",
            "                                                                 \n",
            " dense_2 (Dense)             (None, 3)                 15        \n",
            "                                                                 \n",
            " activation_2 (Activation)   (None, 3)                 0         \n",
            "                                                                 \n",
            "=================================================================\n",
            "Total params: 75\n",
            "Trainable params: 75\n",
            "Non-trainable params: 0\n",
            "_________________________________________________________________\n",
            "157/157 [==============================] - 0s 1ms/step - loss: 0.0909 - accuracy: 0.9840\n",
            "test_loss:  0.09088074415922165\n",
            "test_acc:  0.984000027179718\n"
          ]
        }
      ]
    },
    {
      "cell_type": "code",
      "metadata": {
        "id": "X8sQr21XLtVy",
        "colab": {
          "base_uri": "https://localhost:8080/"
        },
        "outputId": "d5a57154-8a71-4852-dfa8-2d744b50db50"
      },
      "source": [
        "# X_test 샘플들의 클래스 예측하기\n",
        "y_prob = model.predict(X_test)    # X_test의 출력값 확인하기\n",
        "print(y_prob)\n",
        "\n",
        "y_class = y_prob.argmax(axis=-1)  # X_test의 클래스 예측하기\n",
        "y_class"
      ],
      "execution_count": 12,
      "outputs": [
        {
          "output_type": "stream",
          "name": "stdout",
          "text": [
            "[[1.50978656e-06 2.34268866e-02 9.76571679e-01]\n",
            " [8.90987277e-01 1.09012745e-01 1.14495202e-11]\n",
            " [7.04640569e-03 9.92942810e-01 1.07270744e-05]\n",
            " ...\n",
            " [9.97091532e-01 2.90843123e-03 1.19152371e-24]\n",
            " [9.87170875e-01 1.28291482e-02 1.91148243e-19]\n",
            " [1.20452431e-04 7.77592659e-01 2.22286955e-01]]\n"
          ]
        },
        {
          "output_type": "execute_result",
          "data": {
            "text/plain": [
              "array([2, 0, 1, ..., 0, 0, 1])"
            ]
          },
          "metadata": {},
          "execution_count": 12
        }
      ]
    },
    {
      "cell_type": "code",
      "metadata": {
        "id": "34Xez1yYLtV0",
        "colab": {
          "base_uri": "https://localhost:8080/"
        },
        "outputId": "6707f78b-2b13-440b-ff75-dae7df68814b"
      },
      "source": [
        "# 새로운 샘플의 클래스 예측하기\n",
        "X_new = [80, 175]\n",
        "X_new[0]/=100; X_new[1]/=200\n",
        "print(X_new)\n",
        "\n",
        "y_prob = model.predict([X_new]) # X_new의 출력값 확인하기\n",
        "y_pred = y_prob.argmax()        # X_new의 클래스 예측하기\n",
        "print(y_prob, y_pred)"
      ],
      "execution_count": 13,
      "outputs": [
        {
          "output_type": "stream",
          "name": "stdout",
          "text": [
            "[0.8, 0.875]\n",
            "[[1.1703223e-09 4.4817296e-03 9.9551827e-01]] 2\n"
          ]
        }
      ]
    },
    {
      "cell_type": "code",
      "metadata": {
        "id": "YDjOYxUzLtVz",
        "colab": {
          "base_uri": "https://localhost:8080/"
        },
        "outputId": "933c11a6-e82d-4da2-a5d0-b00254863d9d"
      },
      "source": [
        "type(X_test)"
      ],
      "execution_count": 14,
      "outputs": [
        {
          "output_type": "execute_result",
          "data": {
            "text/plain": [
              "pandas.core.frame.DataFrame"
            ]
          },
          "metadata": {},
          "execution_count": 14
        }
      ]
    },
    {
      "cell_type": "code",
      "metadata": {
        "id": "iOdX9FRmLtVz",
        "colab": {
          "base_uri": "https://localhost:8080/",
          "height": 206
        },
        "outputId": "f42901a2-1152-4b9c-d490-121837488b9a"
      },
      "source": [
        "X_test.head()"
      ],
      "execution_count": 15,
      "outputs": [
        {
          "output_type": "execute_result",
          "data": {
            "text/plain": [
              "       height  weight\n",
              "15000   0.690    0.55\n",
              "15001   0.760    0.36\n",
              "15002   0.915    0.72\n",
              "15003   0.990    0.51\n",
              "15004   0.745    0.47"
            ],
            "text/html": [
              "\n",
              "  <div id=\"df-a4d73f7b-45cd-4db7-90c4-75139530d435\">\n",
              "    <div class=\"colab-df-container\">\n",
              "      <div>\n",
              "<style scoped>\n",
              "    .dataframe tbody tr th:only-of-type {\n",
              "        vertical-align: middle;\n",
              "    }\n",
              "\n",
              "    .dataframe tbody tr th {\n",
              "        vertical-align: top;\n",
              "    }\n",
              "\n",
              "    .dataframe thead th {\n",
              "        text-align: right;\n",
              "    }\n",
              "</style>\n",
              "<table border=\"1\" class=\"dataframe\">\n",
              "  <thead>\n",
              "    <tr style=\"text-align: right;\">\n",
              "      <th></th>\n",
              "      <th>height</th>\n",
              "      <th>weight</th>\n",
              "    </tr>\n",
              "  </thead>\n",
              "  <tbody>\n",
              "    <tr>\n",
              "      <th>15000</th>\n",
              "      <td>0.690</td>\n",
              "      <td>0.55</td>\n",
              "    </tr>\n",
              "    <tr>\n",
              "      <th>15001</th>\n",
              "      <td>0.760</td>\n",
              "      <td>0.36</td>\n",
              "    </tr>\n",
              "    <tr>\n",
              "      <th>15002</th>\n",
              "      <td>0.915</td>\n",
              "      <td>0.72</td>\n",
              "    </tr>\n",
              "    <tr>\n",
              "      <th>15003</th>\n",
              "      <td>0.990</td>\n",
              "      <td>0.51</td>\n",
              "    </tr>\n",
              "    <tr>\n",
              "      <th>15004</th>\n",
              "      <td>0.745</td>\n",
              "      <td>0.47</td>\n",
              "    </tr>\n",
              "  </tbody>\n",
              "</table>\n",
              "</div>\n",
              "      <button class=\"colab-df-convert\" onclick=\"convertToInteractive('df-a4d73f7b-45cd-4db7-90c4-75139530d435')\"\n",
              "              title=\"Convert this dataframe to an interactive table.\"\n",
              "              style=\"display:none;\">\n",
              "        \n",
              "  <svg xmlns=\"http://www.w3.org/2000/svg\" height=\"24px\"viewBox=\"0 0 24 24\"\n",
              "       width=\"24px\">\n",
              "    <path d=\"M0 0h24v24H0V0z\" fill=\"none\"/>\n",
              "    <path d=\"M18.56 5.44l.94 2.06.94-2.06 2.06-.94-2.06-.94-.94-2.06-.94 2.06-2.06.94zm-11 1L8.5 8.5l.94-2.06 2.06-.94-2.06-.94L8.5 2.5l-.94 2.06-2.06.94zm10 10l.94 2.06.94-2.06 2.06-.94-2.06-.94-.94-2.06-.94 2.06-2.06.94z\"/><path d=\"M17.41 7.96l-1.37-1.37c-.4-.4-.92-.59-1.43-.59-.52 0-1.04.2-1.43.59L10.3 9.45l-7.72 7.72c-.78.78-.78 2.05 0 2.83L4 21.41c.39.39.9.59 1.41.59.51 0 1.02-.2 1.41-.59l7.78-7.78 2.81-2.81c.8-.78.8-2.07 0-2.86zM5.41 20L4 18.59l7.72-7.72 1.47 1.35L5.41 20z\"/>\n",
              "  </svg>\n",
              "      </button>\n",
              "      \n",
              "  <style>\n",
              "    .colab-df-container {\n",
              "      display:flex;\n",
              "      flex-wrap:wrap;\n",
              "      gap: 12px;\n",
              "    }\n",
              "\n",
              "    .colab-df-convert {\n",
              "      background-color: #E8F0FE;\n",
              "      border: none;\n",
              "      border-radius: 50%;\n",
              "      cursor: pointer;\n",
              "      display: none;\n",
              "      fill: #1967D2;\n",
              "      height: 32px;\n",
              "      padding: 0 0 0 0;\n",
              "      width: 32px;\n",
              "    }\n",
              "\n",
              "    .colab-df-convert:hover {\n",
              "      background-color: #E2EBFA;\n",
              "      box-shadow: 0px 1px 2px rgba(60, 64, 67, 0.3), 0px 1px 3px 1px rgba(60, 64, 67, 0.15);\n",
              "      fill: #174EA6;\n",
              "    }\n",
              "\n",
              "    [theme=dark] .colab-df-convert {\n",
              "      background-color: #3B4455;\n",
              "      fill: #D2E3FC;\n",
              "    }\n",
              "\n",
              "    [theme=dark] .colab-df-convert:hover {\n",
              "      background-color: #434B5C;\n",
              "      box-shadow: 0px 1px 3px 1px rgba(0, 0, 0, 0.15);\n",
              "      filter: drop-shadow(0px 1px 2px rgba(0, 0, 0, 0.3));\n",
              "      fill: #FFFFFF;\n",
              "    }\n",
              "  </style>\n",
              "\n",
              "      <script>\n",
              "        const buttonEl =\n",
              "          document.querySelector('#df-a4d73f7b-45cd-4db7-90c4-75139530d435 button.colab-df-convert');\n",
              "        buttonEl.style.display =\n",
              "          google.colab.kernel.accessAllowed ? 'block' : 'none';\n",
              "\n",
              "        async function convertToInteractive(key) {\n",
              "          const element = document.querySelector('#df-a4d73f7b-45cd-4db7-90c4-75139530d435');\n",
              "          const dataTable =\n",
              "            await google.colab.kernel.invokeFunction('convertToInteractive',\n",
              "                                                     [key], {});\n",
              "          if (!dataTable) return;\n",
              "\n",
              "          const docLinkHtml = 'Like what you see? Visit the ' +\n",
              "            '<a target=\"_blank\" href=https://colab.research.google.com/notebooks/data_table.ipynb>data table notebook</a>'\n",
              "            + ' to learn more about interactive tables.';\n",
              "          element.innerHTML = '';\n",
              "          dataTable['output_type'] = 'display_data';\n",
              "          await google.colab.output.renderOutput(dataTable, element);\n",
              "          const docLink = document.createElement('div');\n",
              "          docLink.innerHTML = docLinkHtml;\n",
              "          element.appendChild(docLink);\n",
              "        }\n",
              "      </script>\n",
              "    </div>\n",
              "  </div>\n",
              "  "
            ]
          },
          "metadata": {},
          "execution_count": 15
        }
      ]
    },
    {
      "cell_type": "code",
      "metadata": {
        "id": "xaOIG8Kaovrc",
        "colab": {
          "base_uri": "https://localhost:8080/"
        },
        "outputId": "f7db397c-0901-436d-a563-225bd00b921a"
      },
      "source": [
        "X_test.head(5).index.tolist()"
      ],
      "execution_count": 16,
      "outputs": [
        {
          "output_type": "execute_result",
          "data": {
            "text/plain": [
              "[15000, 15001, 15002, 15003, 15004]"
            ]
          },
          "metadata": {},
          "execution_count": 16
        }
      ]
    },
    {
      "cell_type": "code",
      "metadata": {
        "id": "HfXV29CxuGk0",
        "colab": {
          "base_uri": "https://localhost:8080/"
        },
        "outputId": "5721db06-0c81-4c3f-fe2e-06d9366e9a7f"
      },
      "source": [
        "X_test0 = X_test.loc[15000]\n",
        "print(X_test0); print()\n",
        "\n",
        "X_test_li = list(X_test0)\n",
        "y_prob = model.predict([X_test_li])  # model.predict([[0.69, 0.55]])\n",
        "y_pred = y_prob.argmax()\n",
        "print(y_prob, y_pred)"
      ],
      "execution_count": 17,
      "outputs": [
        {
          "output_type": "stream",
          "name": "stdout",
          "text": [
            "height    0.69\n",
            "weight    0.55\n",
            "Name: 15000, dtype: float64\n",
            "\n",
            "[[1.5097866e-06 2.3426887e-02 9.7657168e-01]] 2\n"
          ]
        }
      ]
    },
    {
      "cell_type": "code",
      "metadata": {
        "id": "flB-FoC2LtV0"
      },
      "source": [
        "def predict_bmi(X_new):\n",
        "  y_prob = model.predict([X_new])\n",
        "  y_pred = y_prob.argmax()\n",
        "  print(X_new, y_prob, y_pred, sep='\\t')"
      ],
      "execution_count": 18,
      "outputs": []
    },
    {
      "cell_type": "code",
      "metadata": {
        "id": "EMJdeu5nLtV0",
        "colab": {
          "base_uri": "https://localhost:8080/"
        },
        "outputId": "94677c6e-8a7d-44e1-d456-8f64aae8e70d"
      },
      "source": [
        "X_mean = [X_train[\"height\"].mean(), X_train[\"weight\"].mean()]\n",
        "X_min = [X_train[\"height\"].min(), X_train[\"weight\"].min()]\n",
        "X_max = [X_train[\"height\"].max(), X_train[\"weight\"].max()]\n",
        "X_min_max = [X_train[\"height\"].min(), X_train[\"weight\"].max()]\n",
        "X_max_min = [X_train[\"height\"].max(), X_train[\"weight\"].min()]\n",
        "\n",
        "predict_bmi(X_mean)\n",
        "predict_bmi(X_min)\n",
        "predict_bmi(X_max)\n",
        "predict_bmi(X_min_max)\n",
        "predict_bmi(X_max_min)"
      ],
      "execution_count": 19,
      "outputs": [
        {
          "output_type": "stream",
          "name": "stdout",
          "text": [
            "[0.7999703333333333, 0.5757626666666668]\t[[7.6466603e-03 9.9216324e-01 1.9020442e-04]]\t1\n",
            "[0.6, 0.35]\t[[0.00149215 0.681535   0.3169729 ]]\t1\n",
            "[1.0, 0.8]\t[[2.56422497e-02 9.74357605e-01 1.00962424e-07]]\t1\n",
            "[0.6, 0.8]\t[[4.7637835e-11 2.4923421e-03 9.9750757e-01]]\t2\n",
            "[1.0, 0.35]\t[[9.9881661e-01 1.1834557e-03 8.5958115e-28]]\t0\n"
          ]
        }
      ]
    }
  ]
}