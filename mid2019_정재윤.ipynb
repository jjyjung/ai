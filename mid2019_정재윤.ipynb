{
  "cells": [
    {
      "cell_type": "markdown",
      "metadata": {
        "id": "view-in-github",
        "colab_type": "text"
      },
      "source": [
        "<a href=\"https://colab.research.google.com/github/jjyjung/ai/blob/gh-pages/mid2019_%EC%A0%95%EC%9E%AC%EC%9C%A4.ipynb\" target=\"_parent\"><img src=\"https://colab.research.google.com/assets/colab-badge.svg\" alt=\"Open In Colab\"/></a>"
      ]
    },
    {
      "cell_type": "markdown",
      "id": "1b0e8d42",
      "metadata": {
        "id": "1b0e8d42"
      },
      "source": [
        "<a href=\"https://colab.research.google.com/github/jjyjung/algorithm/blob/gh-pages/mid2019_%EC%A0%95%EC%9E%AC%EC%9C%A4.ipynb\" target=\"_parent\"><img src=\"https://colab.research.google.com/assets/colab-badge.svg\" alt=\"Open In Colab\"/></a>"
      ]
    },
    {
      "cell_type": "markdown",
      "id": "57b0c7af",
      "metadata": {
        "id": "57b0c7af"
      },
      "source": [
        "정재윤(20201111)"
      ]
    },
    {
      "cell_type": "markdown",
      "id": "23b0af59",
      "metadata": {
        "id": "23b0af59"
      },
      "source": [
        "## 2018년 중간고사"
      ]
    },
    {
      "cell_type": "markdown",
      "id": "e4174c01",
      "metadata": {
        "id": "e4174c01"
      },
      "source": [
        "**1번. 행렬 곱**"
      ]
    },
    {
      "cell_type": "markdown",
      "id": "a20d7b69",
      "metadata": {
        "id": "a20d7b69"
      },
      "source": [
        "**양식**"
      ]
    },
    {
      "cell_type": "code",
      "execution_count": null,
      "id": "32d57b53",
      "metadata": {
        "id": "32d57b53",
        "outputId": "dbec3797-25fa-4725-9c1f-2ec67f7719b1"
      },
      "outputs": [
        {
          "name": "stdout",
          "output_type": "stream",
          "text": [
            "3\n",
            "1 2 3\n",
            "4 5 6\n",
            "7 8 9\n",
            "1 1 1\n",
            "1 1 1\n",
            "1 1 1\n",
            "6 6 6 \n",
            "15 15 15 \n",
            "24 24 24 \n"
          ]
        }
      ],
      "source": [
        "n = int(input())\n",
        "\n",
        "A = []\n",
        "sum = 0\n",
        "for i in range(n):\n",
        "    li = list(map(int,input().split(' ')))\n",
        "    row = []\n",
        "    for j in range(n):\n",
        "        row.append(li[j])\n",
        "    A.append(row)\n",
        "\n",
        "B = []\n",
        "sum = 0\n",
        "for i in range(n):\n",
        "    li = list(map(int,input().split(' ')))\n",
        "    row = []\n",
        "    for j in range(n):\n",
        "        row.append(li[j])\n",
        "    B.append(row)\n",
        "\n",
        "C = []\n",
        "\n",
        "# 구현하시오.\n",
        "\n",
        "for i in range(n):\n",
        "    for j in range(n):\n",
        "        print(C[i][j], end=' ')\n",
        "    print()"
      ]
    },
    {
      "cell_type": "markdown",
      "id": "8c62f233",
      "metadata": {
        "id": "8c62f233"
      },
      "source": [
        "풀이 결과"
      ]
    },
    {
      "cell_type": "code",
      "execution_count": null,
      "id": "246e3850",
      "metadata": {
        "id": "246e3850",
        "outputId": "d621b1a6-290c-4387-e9d3-523693b65400"
      },
      "outputs": [
        {
          "name": "stdout",
          "output_type": "stream",
          "text": [
            "3\n",
            "1 2 3\n",
            "4 5 6\n",
            "7 8 9\n",
            "1 1 1\n",
            "1 1 1\n",
            "1 1 1\n",
            "6 6 6 \n",
            "15 15 15 \n",
            "24 24 24 \n"
          ]
        }
      ],
      "source": [
        "n = int(input())\n",
        "\n",
        "A = []\n",
        "sum = 0\n",
        "for i in range(n):\n",
        "    li = list(map(int,input().split(' ')))\n",
        "    row = []\n",
        "    for j in range(n):\n",
        "        row.append(li[j])\n",
        "    A.append(row)\n",
        "# print(\"A:\", A[0][0], A[0][1], A[1][0], A[1][1])\n",
        "\n",
        "B = []\n",
        "sum = 0\n",
        "for i in range(n):\n",
        "    li = list(map(int,input().split(' ')))\n",
        "    row = []\n",
        "    for j in range(n):\n",
        "        row.append(li[j])\n",
        "    B.append(row)\n",
        "# print(\"B:\", B[0][0], B[0][1], B[1][0], B[1][1])\n",
        "\n",
        "C = []\n",
        "for i in range(n):\n",
        "    row = []\n",
        "    for j in range(n):\n",
        "        sum = 0\n",
        "        for k in range(n):\n",
        "            sum += A[i][k]*B[k][j]\n",
        "        row.append(sum)\n",
        "    C.append(row)\n",
        "\n",
        "for i in range(n):\n",
        "    for j in range(n):\n",
        "        print(C[i][j], end=' ')\n",
        "    print()"
      ]
    },
    {
      "cell_type": "markdown",
      "id": "6db54711",
      "metadata": {
        "id": "6db54711"
      },
      "source": [
        "## 2019년 중간고사"
      ]
    },
    {
      "cell_type": "markdown",
      "id": "daf526a2",
      "metadata": {
        "id": "daf526a2"
      },
      "source": [
        "**1번.**"
      ]
    },
    {
      "cell_type": "markdown",
      "id": "wyZYXrm4GZ-u",
      "metadata": {
        "id": "wyZYXrm4GZ-u"
      },
      "source": [
        "양식"
      ]
    },
    {
      "cell_type": "code",
      "execution_count": null,
      "id": "3dcade18",
      "metadata": {
        "id": "3dcade18",
        "outputId": "fce53ca8-6d64-4712-fdbc-6d954736a8af"
      },
      "outputs": [
        {
          "name": "stdout",
          "output_type": "stream",
          "text": [
            "1\n",
            "2\n"
          ]
        },
        {
          "data": {
            "text/plain": [
              "-2.775"
            ]
          },
          "execution_count": 15,
          "metadata": {},
          "output_type": "execute_result"
        }
      ],
      "source": [
        "x1 = int(input())   # <- 하나씩 사용자에게 입력받는 방법\n",
        "x2 = int(input())   # <- 하나씩 사용자에게 입력받는 방법\n",
        "\n",
        "# 구현하시오.\n",
        "\n",
        "print(round(y, 3))"
      ]
    },
    {
      "cell_type": "markdown",
      "id": "Jfm3_E4QGiEG",
      "metadata": {
        "id": "Jfm3_E4QGiEG"
      },
      "source": [
        "풀이 결과"
      ]
    },
    {
      "cell_type": "code",
      "execution_count": null,
      "id": "u4MA_6Z4GAOE",
      "metadata": {
        "colab": {
          "base_uri": "https://localhost:8080/"
        },
        "id": "u4MA_6Z4GAOE",
        "outputId": "92cead79-cc02-4e5b-8bb2-f83fac2be7b5"
      },
      "outputs": [
        {
          "name": "stdout",
          "output_type": "stream",
          "text": [
            "1\n",
            "2\n",
            "-2.775\n"
          ]
        }
      ],
      "source": [
        "import math\n",
        "import numpy as np\n",
        "\n",
        "x1 = int(input())   # <- 하나씩 사용자에게 입력받는 방법\n",
        "x2 = int(input())   # <- 하나씩 사용자에게 입력받는 방법\n",
        "\n",
        "t1 = -1*(x1+2)**2 -1*(x2-2)**2\n",
        "t2 = -1*(x1-2)**2 -1*(x2+2)**2\n",
        "y = (10**5) * math.cos(x1) * math.cos(x2) * (np.exp(t1) + 0.5*np.exp(t2))\n",
        "\n",
        "print(round(y, 3))"
      ]
    },
    {
      "cell_type": "markdown",
      "id": "668f8a71",
      "metadata": {
        "id": "668f8a71"
      },
      "source": [
        "**2번.**"
      ]
    },
    {
      "cell_type": "markdown",
      "id": "3dAT2g5WGs76",
      "metadata": {
        "id": "3dAT2g5WGs76"
      },
      "source": [
        "양식"
      ]
    },
    {
      "cell_type": "code",
      "execution_count": null,
      "id": "ed7f4287",
      "metadata": {
        "id": "ed7f4287",
        "outputId": "918203ee-ed0b-4582-a0cc-39146c66902d"
      },
      "outputs": [
        {
          "name": "stdout",
          "output_type": "stream",
          "text": [
            "1\n",
            "2\n"
          ]
        },
        {
          "data": {
            "text/plain": [
              "67.243"
            ]
          },
          "execution_count": 21,
          "metadata": {},
          "output_type": "execute_result"
        }
      ],
      "source": [
        "N = int(input())\n",
        "K = int(input())\n",
        "\n",
        "# 구현하시오.\n",
        "\n",
        "print(round(S, 3))"
      ]
    },
    {
      "cell_type": "markdown",
      "id": "mGQxpkfnGvEh",
      "metadata": {
        "id": "mGQxpkfnGvEh"
      },
      "source": [
        "풀이 결과"
      ]
    },
    {
      "cell_type": "code",
      "execution_count": null,
      "id": "TrQ6KgAAGxiX",
      "metadata": {
        "colab": {
          "base_uri": "https://localhost:8080/"
        },
        "id": "TrQ6KgAAGxiX",
        "outputId": "1725f245-16c6-4ef0-bf52-88c836413d49"
      },
      "outputs": [
        {
          "name": "stdout",
          "output_type": "stream",
          "text": [
            "1\n",
            "2\n"
          ]
        },
        {
          "data": {
            "text/plain": [
              "67.243"
            ]
          },
          "execution_count": 2,
          "metadata": {},
          "output_type": "execute_result"
        }
      ],
      "source": [
        "N = int(input())\n",
        "K = int(input())\n",
        "\n",
        "S = 1\n",
        "for n in range(1, N+1):\n",
        "    T = 0\n",
        "    for k in range(1, K+1):\n",
        "        T = T + (4*k*k + k**0.5)\n",
        "    S = S * 3/n * T\n",
        "S = round(S, 3)\n",
        "\n",
        "print(round(S, 3))"
      ]
    },
    {
      "cell_type": "markdown",
      "id": "4fc53ab9",
      "metadata": {
        "id": "4fc53ab9"
      },
      "source": [
        "**bubbleSort 출제 예시**"
      ]
    },
    {
      "cell_type": "markdown",
      "id": "upQD8yL9HReU",
      "metadata": {
        "id": "upQD8yL9HReU"
      },
      "source": [
        "양식"
      ]
    },
    {
      "cell_type": "code",
      "execution_count": null,
      "id": "c614b73c",
      "metadata": {
        "colab": {
          "base_uri": "https://localhost:8080/"
        },
        "id": "c614b73c",
        "outputId": "500fce07-3e58-4ef5-d434-f0fe1cb0f51b"
      },
      "outputs": [
        {
          "name": "stdout",
          "output_type": "stream",
          "text": [
            "31,3,65,73,8,11,20,29,48,15\n",
            "[31, 3, 65, 73, 8, 11, 20, 29, 48, 15]\n"
          ]
        },
        {
          "data": {
            "text/plain": [
              "[3, 8, 11, 15, 20, 29, 31, 48, 65, 73]"
            ]
          },
          "execution_count": 1,
          "metadata": {},
          "output_type": "execute_result"
        }
      ],
      "source": [
        "def selectionSort(A):\n",
        "  n = len(A)\n",
        "\n",
        "  # 구현하시오.\n",
        "\n",
        "  return A  #최종결과 반환용\n",
        "\n",
        "def theLargest(A, last):\n",
        "\n",
        "  # 구현하시오.\n",
        "\n",
        "  return largest\n",
        "\n",
        "A = list(map(int,input().split(',')))    # <- 리스트를 사용자에게 입력받는 방법 (예. 31,3,65,73,8,11,20,29,48,15)\n",
        "print(A)\n",
        "selectionSort(A)"
      ]
    },
    {
      "cell_type": "markdown",
      "id": "v9oobfIZHT0M",
      "metadata": {
        "id": "v9oobfIZHT0M"
      },
      "source": [
        "풀이 결과"
      ]
    },
    {
      "cell_type": "code",
      "execution_count": null,
      "id": "2IiSv2BaDo6D",
      "metadata": {
        "colab": {
          "base_uri": "https://localhost:8080/"
        },
        "id": "2IiSv2BaDo6D",
        "outputId": "a9623632-1f27-4d8b-bc97-faf65d77d3c9"
      },
      "outputs": [
        {
          "name": "stdout",
          "output_type": "stream",
          "text": [
            "31,3,65,73,8,11,20,29,48,15\n",
            "[31, 3, 65, 73, 8, 11, 20, 29, 48, 15]\n"
          ]
        },
        {
          "data": {
            "text/plain": [
              "[3, 8, 11, 15, 20, 29, 31, 48, 65, 73]"
            ]
          },
          "execution_count": 3,
          "metadata": {},
          "output_type": "execute_result"
        }
      ],
      "source": [
        "def selectionSort(A):\n",
        "  n = len(A)\n",
        "  for last in range(n-1,0,-1):\n",
        "    k = theLargest(A, last)\n",
        "    A[k], A[last] = A[last], A[k]  # 파이썬의 값 교환 코드!!\n",
        "#     print(last, \":\", A)  # 회차별 결과 확인용\n",
        "  return A  #최종결과 반환용\n",
        "\n",
        "def theLargest(A, last):\n",
        "  largest = 0\n",
        "  for i in range(1, last+1):\n",
        "    if A[i] > A[largest]:\n",
        "      largest = i\n",
        "  return largest\n",
        "\n",
        "A = list(map(int,input().split(',')))    # <- 리스트를 사용자에게 입력받는 방법 (예. 31,3,65,73,8,11,20,29,48,15)\n",
        "print(A)\n",
        "selectionSort(A)"
      ]
    },
    {
      "cell_type": "code",
      "execution_count": null,
      "id": "6LuvE__LHoif",
      "metadata": {
        "id": "6LuvE__LHoif"
      },
      "outputs": [],
      "source": []
    }
  ],
  "metadata": {
    "colab": {
      "provenance": [],
      "include_colab_link": true
    },
    "kernelspec": {
      "display_name": "Python 3",
      "language": "python",
      "name": "python3"
    },
    "language_info": {
      "codemirror_mode": {
        "name": "ipython",
        "version": 3
      },
      "file_extension": ".py",
      "mimetype": "text/x-python",
      "name": "python",
      "nbconvert_exporter": "python",
      "pygments_lexer": "ipython3",
      "version": "3.8.8"
    }
  },
  "nbformat": 4,
  "nbformat_minor": 5
}