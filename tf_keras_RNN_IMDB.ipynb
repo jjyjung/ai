{
  "nbformat": 4,
  "nbformat_minor": 0,
  "metadata": {
    "kernelspec": {
      "display_name": "Python 3",
      "language": "python",
      "name": "python3"
    },
    "language_info": {
      "codemirror_mode": {
        "name": "ipython",
        "version": 3
      },
      "file_extension": ".py",
      "mimetype": "text/x-python",
      "name": "python",
      "nbconvert_exporter": "python",
      "pygments_lexer": "ipython3",
      "version": "3.8.8"
    },
    "colab": {
      "provenance": [],
      "include_colab_link": true
    }
  },
  "cells": [
    {
      "cell_type": "markdown",
      "metadata": {
        "id": "view-in-github",
        "colab_type": "text"
      },
      "source": [
        "<a href=\"https://colab.research.google.com/github/jjyjung/ai/blob/gh-pages/tf_keras_RNN_IMDB.ipynb\" target=\"_parent\"><img src=\"https://colab.research.google.com/assets/colab-badge.svg\" alt=\"Open In Colab\"/></a>"
      ]
    },
    {
      "cell_type": "markdown",
      "metadata": {
        "id": "iYnBwwO6SLuO"
      },
      "source": [
        "**IMDB (Internet Movie DataBase ) – movie reviews sentiment classification**\n",
        "* IMDB https://www.imdb.com/interfaces/\n",
        "* https://keras.io/datasets/#imdb-movie-reviews-sentiment-classification\n",
        "* Binary classification: Dataset of 25,000 movies reviews from IMDB, labeled by sentiment (positive[1]/negative[0]).\n",
        "* Each review is encoded as a sequence of word indexes (integers).\n",
        "* For convenience, words are indexed by overall frequency in the dataset, so that for instance the integer “3” encodes the 3rd most frequent word in the data.\n",
        "* This allows for quick filtering operations such as: “only consider the top 10,000 most common words, but eliminate the top 20 most common words”.\n",
        " - e.g.  imdb.load_data(num_words=10000, skip_top=20)\n",
        "* As a convention, \"0\" does not stand for a specific word, but instead is used to encode any unknown word."
      ]
    },
    {
      "cell_type": "code",
      "metadata": {
        "id": "dySs1zv4qtQH"
      },
      "source": [
        "import tensorflow as tf\n",
        "from tensorflow.keras import Sequential\n",
        "from tensorflow.keras import layers\n",
        "from tensorflow.keras.datasets import imdb\n",
        "from tensorflow.keras.preprocessing import sequence\n",
        "from tensorflow.keras.layers import Embedding, SimpleRNN, LSTM, GRU, Dense\n",
        "from tensorflow.keras.callbacks import EarlyStopping"
      ],
      "execution_count": 18,
      "outputs": []
    },
    {
      "cell_type": "code",
      "metadata": {
        "id": "yG5BVcPJqtQK"
      },
      "source": [
        "## IMDB 데이터 추출 설정\n",
        "max_features = 10000  # 사용할 단어의 최대 개수\n",
        "maxlen = 200   # 한 영화리뷰의 최대 단어 길이\n",
        "skip_top = 20  # 너무 일반적인 단어 20개는 제외함\n",
        "\n",
        "(input_train, y_train), (input_test, y_test) = imdb.load_data(num_words=max_features, skip_top=skip_top)\n",
        "\n",
        "# 기준보다 단어 개수가 짧은 영화리뷰는 나머지를 0으로 패딩시킴\n",
        "X_train = sequence.pad_sequences(input_train, maxlen=maxlen)  # 기본값 padding='pre' (왼쪽을 0으로 채움. 'post'는 오른쪽을 채움)\n",
        "X_test = sequence.pad_sequences(input_test, maxlen=maxlen)"
      ],
      "execution_count": 19,
      "outputs": []
    },
    {
      "cell_type": "code",
      "metadata": {
        "colab": {
          "base_uri": "https://localhost:8080/"
        },
        "id": "xXGcNOE8qtQM",
        "outputId": "4f5914a0-217e-4d03-fc5f-7cc270b3fe6a"
      },
      "source": [
        "print(X_train.shape)\n",
        "print(X_test.shape)\n",
        "print(X_train.max(), X_train.min())\n",
        "print(y_train, y_train.shape)\n",
        "print(y_test, y_test.shape)"
      ],
      "execution_count": 20,
      "outputs": [
        {
          "output_type": "stream",
          "name": "stdout",
          "text": [
            "(25000, 200)\n",
            "(25000, 200)\n",
            "9999 0\n",
            "[1 0 0 ... 0 1 0] (25000,)\n",
            "[0 1 1 ... 0 0 0] (25000,)\n"
          ]
        }
      ]
    },
    {
      "cell_type": "code",
      "source": [
        "type(y_train)"
      ],
      "metadata": {
        "colab": {
          "base_uri": "https://localhost:8080/"
        },
        "id": "JGTrhp9J_2FZ",
        "outputId": "7482136e-16ed-4d84-d6b9-8bfff19a2bf8"
      },
      "execution_count": 21,
      "outputs": [
        {
          "output_type": "execute_result",
          "data": {
            "text/plain": [
              "numpy.ndarray"
            ]
          },
          "metadata": {},
          "execution_count": 21
        }
      ]
    },
    {
      "cell_type": "code",
      "metadata": {
        "colab": {
          "base_uri": "https://localhost:8080/"
        },
        "id": "CT0BlKNkqtQM",
        "outputId": "3efde2ad-7acd-44e3-c876-ccb771c15cff"
      },
      "source": [
        "print(input_train[3:5])\n",
        "print(len(input_train[3]), len(input_train[4]))\n",
        "\n",
        "print(X_train[3:5])\n",
        "print(len(X_train[3]), len(X_train[4]))"
      ],
      "execution_count": 22,
      "outputs": [
        {
          "output_type": "stream",
          "name": "stdout",
          "text": [
            "[list([2, 2, 2, 2, 33, 2804, 2, 2040, 432, 111, 153, 103, 2, 1494, 2, 70, 131, 67, 2, 61, 2, 744, 35, 3715, 761, 61, 5766, 452, 9214, 2, 985, 2, 2, 59, 166, 2, 105, 216, 1239, 41, 1797, 2, 2, 2, 35, 744, 2413, 31, 2, 2, 687, 23, 2, 2, 7339, 2, 3693, 42, 38, 39, 121, 59, 456, 2, 2, 2, 265, 2, 575, 111, 153, 159, 59, 2, 1447, 21, 25, 586, 482, 39, 2, 96, 59, 716, 2, 2, 172, 65, 2, 579, 2, 6004, 2, 1615, 2, 2, 2, 5168, 2, 2, 7064, 2, 2, 2, 464, 31, 314, 2, 2, 2, 719, 605, 2, 2, 202, 27, 310, 2, 3772, 3501, 2, 2722, 58, 2, 2, 537, 2116, 180, 40, 2, 413, 173, 2, 263, 112, 37, 152, 377, 2, 537, 263, 846, 579, 178, 54, 75, 71, 476, 36, 413, 263, 2504, 182, 2, 2, 75, 2306, 922, 36, 279, 131, 2895, 2, 2867, 42, 2, 35, 921, 2, 192, 2, 1219, 3890, 2, 2, 217, 4122, 1710, 537, 2, 1236, 2, 736, 2, 2, 61, 403, 2, 2, 40, 61, 4494, 2, 27, 4494, 159, 90, 263, 2311, 4319, 309, 2, 178, 2, 82, 4319, 2, 65, 2, 9225, 145, 143, 5122, 2, 7039, 537, 746, 537, 537, 2, 7979, 2, 2, 594, 2, 5168, 94, 9096, 3987, 2, 2, 2, 2, 538, 2, 1795, 246, 2, 2, 2, 2, 635, 2, 2, 51, 408, 2, 94, 318, 1382, 2, 47, 2, 2683, 936, 2, 6307, 2, 2, 49, 2, 2, 1885, 2, 1118, 25, 80, 126, 842, 2, 2, 2, 2, 4726, 27, 4494, 2, 1550, 3633, 159, 27, 341, 29, 2733, 2, 4185, 173, 2, 90, 2, 2, 30, 2, 2, 1784, 86, 1117, 2, 3261, 46, 2, 2, 21, 29, 2, 2841, 23, 2, 1010, 2, 793, 2, 2, 1386, 1830, 2, 2, 246, 50, 2, 2, 2750, 1944, 746, 90, 29, 2, 2, 124, 2, 882, 2, 882, 496, 27, 2, 2213, 537, 121, 127, 1219, 130, 2, 29, 494, 2, 124, 2, 882, 496, 2, 341, 2, 27, 846, 2, 2, 29, 2, 1906, 2, 97, 2, 236, 2, 1311, 2, 2, 2, 2, 31, 2, 2, 91, 2, 3987, 70, 2, 882, 30, 579, 42, 2, 2, 32, 2, 537, 2, 2, 2, 2, 65, 44, 537, 75, 2, 1775, 3353, 2, 1846, 2, 2, 2, 154, 2, 2, 518, 53, 2, 2, 2, 3211, 882, 2, 399, 38, 75, 257, 3807, 2, 2, 2, 29, 456, 2, 65, 2, 27, 205, 113, 2, 2, 2, 2, 2, 2, 2, 242, 2, 91, 1202, 2, 2, 2070, 307, 22, 2, 5168, 126, 93, 40, 2, 2, 188, 1076, 3222, 2, 2, 2, 2, 2348, 537, 23, 53, 537, 21, 82, 40, 2, 2, 2, 2, 280, 2, 219, 2, 2, 431, 758, 859, 2, 953, 1052, 2, 2, 5991, 2, 94, 40, 25, 238, 60, 2, 2, 2, 804, 2, 2, 2, 9941, 132, 2, 67, 2, 22, 2, 2, 283, 2, 5168, 2, 31, 2, 242, 955, 48, 25, 279, 2, 23, 2, 1685, 195, 25, 238, 60, 796, 2, 2, 671, 2, 2804, 2, 2, 559, 154, 888, 2, 726, 50, 26, 49, 7008, 2, 566, 30, 579, 21, 64, 2574])\n",
            " list([2, 249, 1323, 2, 61, 113, 2, 2, 2, 1637, 2, 20, 56, 33, 2401, 2, 457, 88, 2, 2626, 1400, 45, 3171, 2, 70, 79, 49, 706, 919, 2, 2, 355, 340, 355, 1696, 96, 143, 2, 22, 32, 289, 2, 61, 369, 71, 2359, 2, 2, 2, 131, 2073, 249, 114, 249, 229, 249, 20, 2, 28, 126, 110, 2, 473, 2, 569, 61, 419, 56, 429, 2, 1513, 2, 35, 534, 95, 474, 570, 2, 25, 124, 138, 88, 2, 421, 1543, 52, 725, 6397, 61, 419, 2, 2, 1571, 2, 1543, 20, 2, 2, 2, 2, 296, 2, 3524, 2, 2, 421, 128, 74, 233, 334, 207, 126, 224, 2, 562, 298, 2167, 1272, 2, 2601, 2, 516, 988, 43, 2, 79, 120, 2, 595, 2, 784, 25, 3171, 2, 165, 170, 143, 2, 2, 2, 7224, 2, 226, 251, 2, 61, 113])]\n",
            "550 147\n",
            "[[   2  341    2   27  846    2    2   29    2 1906    2   97    2  236\n",
            "     2 1311    2    2    2    2   31    2    2   91    2 3987   70    2\n",
            "   882   30  579   42    2    2   32    2  537    2    2    2    2   65\n",
            "    44  537   75    2 1775 3353    2 1846    2    2    2  154    2    2\n",
            "   518   53    2    2    2 3211  882    2  399   38   75  257 3807    2\n",
            "     2    2   29  456    2   65    2   27  205  113    2    2    2    2\n",
            "     2    2    2  242    2   91 1202    2    2 2070  307   22    2 5168\n",
            "   126   93   40    2    2  188 1076 3222    2    2    2    2 2348  537\n",
            "    23   53  537   21   82   40    2    2    2    2  280    2  219    2\n",
            "     2  431  758  859    2  953 1052    2    2 5991    2   94   40   25\n",
            "   238   60    2    2    2  804    2    2    2 9941  132    2   67    2\n",
            "    22    2    2  283    2 5168    2   31    2  242  955   48   25  279\n",
            "     2   23    2 1685  195   25  238   60  796    2    2  671    2 2804\n",
            "     2    2  559  154  888    2  726   50   26   49 7008    2  566   30\n",
            "   579   21   64 2574]\n",
            " [   0    0    0    0    0    0    0    0    0    0    0    0    0    0\n",
            "     0    0    0    0    0    0    0    0    0    0    0    0    0    0\n",
            "     0    0    0    0    0    0    0    0    0    0    0    0    0    0\n",
            "     0    0    0    0    0    0    0    0    0    0    0    2  249 1323\n",
            "     2   61  113    2    2    2 1637    2   20   56   33 2401    2  457\n",
            "    88    2 2626 1400   45 3171    2   70   79   49  706  919    2    2\n",
            "   355  340  355 1696   96  143    2   22   32  289    2   61  369   71\n",
            "  2359    2    2    2  131 2073  249  114  249  229  249   20    2   28\n",
            "   126  110    2  473    2  569   61  419   56  429    2 1513    2   35\n",
            "   534   95  474  570    2   25  124  138   88    2  421 1543   52  725\n",
            "  6397   61  419    2    2 1571    2 1543   20    2    2    2    2  296\n",
            "     2 3524    2    2  421  128   74  233  334  207  126  224    2  562\n",
            "   298 2167 1272    2 2601    2  516  988   43    2   79  120    2  595\n",
            "     2  784   25 3171    2  165  170  143    2    2    2 7224    2  226\n",
            "   251    2   61  113]]\n",
            "200 200\n"
          ]
        }
      ]
    },
    {
      "cell_type": "code",
      "metadata": {
        "colab": {
          "base_uri": "https://localhost:8080/"
        },
        "id": "nY0wjeoyqtQN",
        "outputId": "9d0247c7-8cbd-4d99-8344-be4f3d16c903"
      },
      "source": [
        "# 단어별 인덱스 확인하기\n",
        "word_index = imdb.get_word_index(path='imdb_word_index.json')\n",
        "print(len(word_index))\n",
        "# word_index.items()\n",
        "list(word_index.items())[:30]"
      ],
      "execution_count": 23,
      "outputs": [
        {
          "output_type": "stream",
          "name": "stdout",
          "text": [
            "88584\n"
          ]
        },
        {
          "output_type": "execute_result",
          "data": {
            "text/plain": [
              "[('fawn', 34701),\n",
              " ('tsukino', 52006),\n",
              " ('nunnery', 52007),\n",
              " ('sonja', 16816),\n",
              " ('vani', 63951),\n",
              " ('woods', 1408),\n",
              " ('spiders', 16115),\n",
              " ('hanging', 2345),\n",
              " ('woody', 2289),\n",
              " ('trawling', 52008),\n",
              " (\"hold's\", 52009),\n",
              " ('comically', 11307),\n",
              " ('localized', 40830),\n",
              " ('disobeying', 30568),\n",
              " (\"'royale\", 52010),\n",
              " (\"harpo's\", 40831),\n",
              " ('canet', 52011),\n",
              " ('aileen', 19313),\n",
              " ('acurately', 52012),\n",
              " (\"diplomat's\", 52013),\n",
              " ('rickman', 25242),\n",
              " ('arranged', 6746),\n",
              " ('rumbustious', 52014),\n",
              " ('familiarness', 52015),\n",
              " (\"spider'\", 52016),\n",
              " ('hahahah', 68804),\n",
              " (\"wood'\", 52017),\n",
              " ('transvestism', 40833),\n",
              " (\"hangin'\", 34702),\n",
              " ('bringing', 2338)]"
            ]
          },
          "metadata": {},
          "execution_count": 23
        }
      ]
    },
    {
      "cell_type": "code",
      "source": [
        "# 단어별 인덱스 확인하기\n",
        "word_to_index = imdb.get_word_index(path='imdb_word_index.json')\n",
        "print(len(word_index))\n",
        "\n",
        "index_to_word = {}\n",
        "for key, value in word_to_index.items():\n",
        "    index_to_word[value+3] = key   # IMDB의 word index 1,2,3은 특별 토큰임. 4부터 실제 단어임."
      ],
      "metadata": {
        "colab": {
          "base_uri": "https://localhost:8080/"
        },
        "id": "0_P2IDDRc0xC",
        "outputId": "585cf04b-bf8f-4004-9a0f-8cceebf3cf94"
      },
      "execution_count": 25,
      "outputs": [
        {
          "output_type": "stream",
          "name": "stdout",
          "text": [
            "88584\n"
          ]
        }
      ]
    },
    {
      "cell_type": "code",
      "source": [
        "list(index_to_word.items())[:20]"
      ],
      "metadata": {
        "colab": {
          "base_uri": "https://localhost:8080/"
        },
        "id": "5sqWRi5KmKdI",
        "outputId": "fb4d7758-d730-452a-9752-bd2aa3b836b8"
      },
      "execution_count": 24,
      "outputs": [
        {
          "output_type": "execute_result",
          "data": {
            "text/plain": [
              "[(34704, 'fawn'),\n",
              " (52009, 'tsukino'),\n",
              " (52010, 'nunnery'),\n",
              " (16819, 'sonja'),\n",
              " (63954, 'vani'),\n",
              " (1411, 'woods'),\n",
              " (16118, 'spiders'),\n",
              " (2348, 'hanging'),\n",
              " (2292, 'woody'),\n",
              " (52011, 'trawling'),\n",
              " (52012, \"hold's\"),\n",
              " (11310, 'comically'),\n",
              " (40833, 'localized'),\n",
              " (30571, 'disobeying'),\n",
              " (52013, \"'royale\"),\n",
              " (40834, \"harpo's\"),\n",
              " (52014, 'canet'),\n",
              " (19316, 'aileen'),\n",
              " (52015, 'acurately'),\n",
              " (52016, \"diplomat's\")]"
            ]
          },
          "metadata": {},
          "execution_count": 24
        }
      ]
    },
    {
      "cell_type": "code",
      "source": [
        "# 빈도가 많은 20개 단어 확인하기\n",
        "sorted_index_to_word = dict(sorted(index_to_word.items()))\n",
        "list(sorted_index_to_word.items())[:20]"
      ],
      "metadata": {
        "colab": {
          "base_uri": "https://localhost:8080/"
        },
        "id": "ENRLZomzd8Ct",
        "outputId": "0c9ae36e-7682-4bef-9421-a576402a19e4"
      },
      "execution_count": null,
      "outputs": [
        {
          "output_type": "execute_result",
          "data": {
            "text/plain": [
              "[(4, 'the'),\n",
              " (5, 'and'),\n",
              " (6, 'a'),\n",
              " (7, 'of'),\n",
              " (8, 'to'),\n",
              " (9, 'is'),\n",
              " (10, 'br'),\n",
              " (11, 'in'),\n",
              " (12, 'it'),\n",
              " (13, 'i'),\n",
              " (14, 'this'),\n",
              " (15, 'that'),\n",
              " (16, 'was'),\n",
              " (17, 'as'),\n",
              " (18, 'for'),\n",
              " (19, 'with'),\n",
              " (20, 'movie'),\n",
              " (21, 'but'),\n",
              " (22, 'film'),\n",
              " (23, 'on')]"
            ]
          },
          "metadata": {},
          "execution_count": 8
        }
      ]
    },
    {
      "cell_type": "code",
      "source": [
        "# imdb의 word index 1, 2, 3은 각각 <pad>: padding, <sos>: start of sentence, <unk>: unknown\n",
        "for index, token in enumerate((\"<pad>\", \"<sos>\", \"<unk>\")):\n",
        "  index_to_word[index] = token"
      ],
      "metadata": {
        "id": "nIPV6upmhnxd"
      },
      "execution_count": null,
      "outputs": []
    },
    {
      "cell_type": "code",
      "source": [
        "print(' '.join([index_to_word[index] for index in X_train[0]]))\n",
        "print(' '.join([index_to_word[index] for index in X_train[3]]))\n",
        "print(' '.join([index_to_word[index] for index in X_train[4]]))"
      ],
      "metadata": {
        "colab": {
          "base_uri": "https://localhost:8080/"
        },
        "id": "2b6G0cwChHc2",
        "outputId": "fa6a8a5b-a5f6-4157-bec5-b7a8533ff867"
      },
      "execution_count": null,
      "outputs": [
        {
          "output_type": "stream",
          "name": "stdout",
          "text": [
            "<unk> you could just imagine being there robert <unk> <unk> an amazing actor <unk> now <unk> same being director <unk> father came from <unk> same scottish island <unk> myself so <unk> loved <unk> fact there <unk> <unk> real connection <unk> <unk> film <unk> witty remarks throughout <unk> film were great <unk> <unk> just brilliant so much <unk> <unk> bought <unk> film <unk> soon <unk> <unk> <unk> released <unk> <unk> <unk> would recommend <unk> <unk> everyone <unk> watch <unk> <unk> fly fishing <unk> amazing really cried at <unk> end <unk> <unk> so sad <unk> you know what they say if you cry at <unk> film <unk> must have been good <unk> <unk> definitely <unk> also <unk> <unk> <unk> two little boy's <unk> played <unk> <unk> <unk> norman <unk> paul they were just brilliant children are often left out <unk> <unk> <unk> list <unk> think because <unk> stars <unk> play them all grown up are such <unk> big profile <unk> <unk> whole film but these children are amazing <unk> should be praised <unk> what they have done don't you think <unk> whole story <unk> so lovely because <unk> <unk> true <unk> <unk> someone's life after all <unk> <unk> shared <unk> us all\n",
            "<unk> death <unk> his parents <unk> <unk> he <unk> pulled <unk> make <unk> last <unk> journey <unk> <unk> <unk> <unk> one <unk> <unk> most <unk> mountains can <unk> truth be told or <unk> <unk> all <unk> stories <unk> <unk> <unk> <unk> story about stories we <unk> bloody battles <unk> lovers <unk> <unk> <unk> old <unk> <unk> sometimes more <unk> <unk> <unk> accepted truth <unk> doing so we each connect <unk> <unk> <unk> he lives <unk> story <unk> his own life <unk> <unk> <unk> <unk> <unk> <unk> <unk> probably <unk> most honest <unk> <unk> genuinely beautiful film <unk> scotland ever made like <unk> <unk> got slightly annoyed <unk> <unk> <unk> <unk> hanging stories on more stories but also like <unk> <unk> <unk> <unk> once <unk> saw <unk> <unk> picture ' forget <unk> box office <unk> <unk> braveheart <unk> its like you might even <unk> <unk> <unk> famous <unk> <unk> <unk> wicker man <unk> see <unk> film <unk> <unk> true <unk> scotland <unk> one <unk> probably unique if you maybe <unk> on <unk> deeply enough you might even re <unk> <unk> power <unk> storytelling <unk> <unk> age old question <unk> whether there are some truths <unk> cannot be told but only experienced\n",
            "<pad> <pad> <pad> <pad> <pad> <pad> <pad> <pad> <pad> <pad> <pad> <pad> <pad> <pad> <pad> <pad> <pad> <pad> <pad> <pad> <pad> <pad> <pad> <pad> <pad> <pad> <pad> <pad> <pad> <pad> <pad> <pad> <pad> <pad> <pad> <pad> <pad> <pad> <pad> <pad> <pad> <pad> <pad> <pad> <pad> <pad> <pad> <pad> <pad> <pad> <pad> <pad> <pad> <unk> worst mistake <unk> my life <unk> <unk> <unk> picked <unk> movie up at target <unk> 5 because <unk> figured hey it's sandler <unk> can get some cheap laughs <unk> <unk> wrong completely wrong mid way through <unk> film all three <unk> my friends were asleep <unk> <unk> <unk> still suffering worst plot worst script worst movie <unk> have ever seen <unk> wanted <unk> hit my head up against <unk> wall <unk> an hour then i'd stop <unk> you know why because <unk> felt damn good upon bashing my head <unk> <unk> stuck <unk> damn movie <unk> <unk> <unk> <unk> watched <unk> burn <unk> <unk> felt better than anything else i've ever done <unk> took american psycho army <unk> darkness <unk> kill bill just <unk> get over <unk> crap <unk> hate you sandler <unk> actually going through <unk> <unk> <unk> ruining <unk> whole day <unk> my life\n"
          ]
        }
      ]
    },
    {
      "cell_type": "code",
      "metadata": {
        "colab": {
          "base_uri": "https://localhost:8080/"
        },
        "id": "SQi9VbFGgTop",
        "outputId": "5665c462-ba50-425e-cd66-83f0510ae8fc"
      },
      "source": [
        "max_features"
      ],
      "execution_count": null,
      "outputs": [
        {
          "output_type": "execute_result",
          "data": {
            "text/plain": [
              "10000"
            ]
          },
          "metadata": {},
          "execution_count": 11
        }
      ]
    },
    {
      "cell_type": "code",
      "metadata": {
        "colab": {
          "base_uri": "https://localhost:8080/"
        },
        "id": "a-KUzB2SqtQO",
        "outputId": "59fa1f65-7102-4036-866f-314757857420"
      },
      "source": [
        "model = Sequential()\n",
        "model.add(Embedding(max_features, 100, input_length=200))  # Embedding(vocab_size, embedding_dim, input_length=200)\n",
        "model.add(LSTM(32))\n",
        "model.add(Dense(1, activation='sigmoid'))\n",
        "\n",
        "model.compile(optimizer='rmsprop', loss='binary_crossentropy', metrics=['acc'])\n",
        "hist = model.fit(X_train, y_train,\n",
        "                   epochs=100,\n",
        "                   batch_size=100,\n",
        "                   callbacks=[EarlyStopping(monitor='val_loss', patience=5)],\n",
        "                   validation_split=0.2)"
      ],
      "execution_count": null,
      "outputs": [
        {
          "output_type": "stream",
          "name": "stdout",
          "text": [
            "Epoch 1/100\n",
            "200/200 [==============================] - 29s 136ms/step - loss: 0.5541 - acc: 0.7007 - val_loss: 0.3569 - val_acc: 0.8560\n",
            "Epoch 2/100\n",
            "200/200 [==============================] - 27s 133ms/step - loss: 0.3342 - acc: 0.8638 - val_loss: 0.3089 - val_acc: 0.8712\n",
            "Epoch 3/100\n",
            "200/200 [==============================] - 27s 134ms/step - loss: 0.2660 - acc: 0.8955 - val_loss: 0.2944 - val_acc: 0.8770\n",
            "Epoch 4/100\n",
            "200/200 [==============================] - 27s 134ms/step - loss: 0.2261 - acc: 0.9158 - val_loss: 0.3236 - val_acc: 0.8680\n",
            "Epoch 5/100\n",
            "200/200 [==============================] - 27s 135ms/step - loss: 0.1976 - acc: 0.9255 - val_loss: 0.5900 - val_acc: 0.8162\n",
            "Epoch 6/100\n",
            "200/200 [==============================] - 26s 130ms/step - loss: 0.1732 - acc: 0.9370 - val_loss: 0.3124 - val_acc: 0.8764\n",
            "Epoch 7/100\n",
            "200/200 [==============================] - 26s 131ms/step - loss: 0.1526 - acc: 0.9463 - val_loss: 0.4210 - val_acc: 0.8428\n",
            "Epoch 8/100\n",
            "200/200 [==============================] - 27s 134ms/step - loss: 0.1355 - acc: 0.9507 - val_loss: 0.3355 - val_acc: 0.8758\n"
          ]
        }
      ]
    },
    {
      "cell_type": "code",
      "metadata": {
        "scrolled": true,
        "colab": {
          "base_uri": "https://localhost:8080/"
        },
        "id": "ICVemdmtqtQO",
        "outputId": "70ccc457-4e00-4ce4-fb63-21b761e54acd"
      },
      "source": [
        "model.summary()"
      ],
      "execution_count": null,
      "outputs": [
        {
          "output_type": "stream",
          "name": "stdout",
          "text": [
            "Model: \"sequential\"\n",
            "_________________________________________________________________\n",
            " Layer (type)                Output Shape              Param #   \n",
            "=================================================================\n",
            " embedding (Embedding)       (None, 200, 100)          1000000   \n",
            "                                                                 \n",
            " lstm (LSTM)                 (None, 32)                17024     \n",
            "                                                                 \n",
            " dense (Dense)               (None, 1)                 33        \n",
            "                                                                 \n",
            "=================================================================\n",
            "Total params: 1017057 (3.88 MB)\n",
            "Trainable params: 1017057 (3.88 MB)\n",
            "Non-trainable params: 0 (0.00 Byte)\n",
            "_________________________________________________________________\n"
          ]
        }
      ]
    },
    {
      "cell_type": "code",
      "metadata": {
        "colab": {
          "base_uri": "https://localhost:8080/",
          "height": 425
        },
        "id": "riFehk4tqtQP",
        "outputId": "c5e18a5b-bed6-4e1e-dc67-28bcef57f5d6"
      },
      "source": [
        "# visualize model structure\n",
        "from IPython.display import SVG\n",
        "from tensorflow.keras.utils import model_to_dot, plot_model\n",
        "\n",
        "SVG(model_to_dot(model, show_shapes=True, show_layer_names=False,\n",
        "                 rankdir='TB', dpi=72).create(prog='dot', format='svg'))"
      ],
      "execution_count": null,
      "outputs": [
        {
          "output_type": "execute_result",
          "data": {
            "text/plain": [
              "<IPython.core.display.SVG object>"
            ],
            "image/svg+xml": "<svg xmlns=\"http://www.w3.org/2000/svg\" xmlns:xlink=\"http://www.w3.org/1999/xlink\" width=\"253pt\" height=\"304pt\" viewBox=\"0.00 0.00 253.00 304.00\">\n<g id=\"graph0\" class=\"graph\" transform=\"scale(1 1) rotate(0) translate(4 300)\">\n<title>G</title>\n<polygon fill=\"white\" stroke=\"transparent\" points=\"-4,4 -4,-300 249,-300 249,4 -4,4\"/>\n<!-- 132990536052608 -->\n<g id=\"node1\" class=\"node\">\n<title>132990536052608</title>\n<polygon fill=\"none\" stroke=\"black\" points=\"10.5,-249.5 10.5,-295.5 234.5,-295.5 234.5,-249.5 10.5,-249.5\"/>\n<text text-anchor=\"middle\" x=\"49\" y=\"-268.8\" font-family=\"Times,serif\" font-size=\"14.00\">InputLayer</text>\n<polyline fill=\"none\" stroke=\"black\" points=\"87.5,-249.5 87.5,-295.5 \"/>\n<text text-anchor=\"middle\" x=\"115\" y=\"-280.3\" font-family=\"Times,serif\" font-size=\"14.00\">input:</text>\n<polyline fill=\"none\" stroke=\"black\" points=\"87.5,-272.5 142.5,-272.5 \"/>\n<text text-anchor=\"middle\" x=\"115\" y=\"-257.3\" font-family=\"Times,serif\" font-size=\"14.00\">output:</text>\n<polyline fill=\"none\" stroke=\"black\" points=\"142.5,-249.5 142.5,-295.5 \"/>\n<text text-anchor=\"middle\" x=\"188.5\" y=\"-280.3\" font-family=\"Times,serif\" font-size=\"14.00\">[(None, 200)]</text>\n<polyline fill=\"none\" stroke=\"black\" points=\"142.5,-272.5 234.5,-272.5 \"/>\n<text text-anchor=\"middle\" x=\"188.5\" y=\"-257.3\" font-family=\"Times,serif\" font-size=\"14.00\">[(None, 200)]</text>\n</g>\n<!-- 132990536331568 -->\n<g id=\"node2\" class=\"node\">\n<title>132990536331568</title>\n<polygon fill=\"none\" stroke=\"black\" points=\"0,-166.5 0,-212.5 245,-212.5 245,-166.5 0,-166.5\"/>\n<text text-anchor=\"middle\" x=\"40\" y=\"-185.8\" font-family=\"Times,serif\" font-size=\"14.00\">Embedding</text>\n<polyline fill=\"none\" stroke=\"black\" points=\"80,-166.5 80,-212.5 \"/>\n<text text-anchor=\"middle\" x=\"107.5\" y=\"-197.3\" font-family=\"Times,serif\" font-size=\"14.00\">input:</text>\n<polyline fill=\"none\" stroke=\"black\" points=\"80,-189.5 135,-189.5 \"/>\n<text text-anchor=\"middle\" x=\"107.5\" y=\"-174.3\" font-family=\"Times,serif\" font-size=\"14.00\">output:</text>\n<polyline fill=\"none\" stroke=\"black\" points=\"135,-166.5 135,-212.5 \"/>\n<text text-anchor=\"middle\" x=\"190\" y=\"-197.3\" font-family=\"Times,serif\" font-size=\"14.00\">(None, 200)</text>\n<polyline fill=\"none\" stroke=\"black\" points=\"135,-189.5 245,-189.5 \"/>\n<text text-anchor=\"middle\" x=\"190\" y=\"-174.3\" font-family=\"Times,serif\" font-size=\"14.00\">(None, 200, 100)</text>\n</g>\n<!-- 132990536052608&#45;&gt;132990536331568 -->\n<g id=\"edge1\" class=\"edge\">\n<title>132990536052608-&gt;132990536331568</title>\n<path fill=\"none\" stroke=\"black\" d=\"M122.5,-249.37C122.5,-241.15 122.5,-231.66 122.5,-222.73\"/>\n<polygon fill=\"black\" stroke=\"black\" points=\"126,-222.61 122.5,-212.61 119,-222.61 126,-222.61\"/>\n</g>\n<!-- 132990536334736 -->\n<g id=\"node3\" class=\"node\">\n<title>132990536334736</title>\n<polygon fill=\"none\" stroke=\"black\" points=\"13.5,-83.5 13.5,-129.5 231.5,-129.5 231.5,-83.5 13.5,-83.5\"/>\n<text text-anchor=\"middle\" x=\"40\" y=\"-102.8\" font-family=\"Times,serif\" font-size=\"14.00\">LSTM</text>\n<polyline fill=\"none\" stroke=\"black\" points=\"66.5,-83.5 66.5,-129.5 \"/>\n<text text-anchor=\"middle\" x=\"94\" y=\"-114.3\" font-family=\"Times,serif\" font-size=\"14.00\">input:</text>\n<polyline fill=\"none\" stroke=\"black\" points=\"66.5,-106.5 121.5,-106.5 \"/>\n<text text-anchor=\"middle\" x=\"94\" y=\"-91.3\" font-family=\"Times,serif\" font-size=\"14.00\">output:</text>\n<polyline fill=\"none\" stroke=\"black\" points=\"121.5,-83.5 121.5,-129.5 \"/>\n<text text-anchor=\"middle\" x=\"176.5\" y=\"-114.3\" font-family=\"Times,serif\" font-size=\"14.00\">(None, 200, 100)</text>\n<polyline fill=\"none\" stroke=\"black\" points=\"121.5,-106.5 231.5,-106.5 \"/>\n<text text-anchor=\"middle\" x=\"176.5\" y=\"-91.3\" font-family=\"Times,serif\" font-size=\"14.00\">(None, 32)</text>\n</g>\n<!-- 132990536331568&#45;&gt;132990536334736 -->\n<g id=\"edge2\" class=\"edge\">\n<title>132990536331568-&gt;132990536334736</title>\n<path fill=\"none\" stroke=\"black\" d=\"M122.5,-166.37C122.5,-158.15 122.5,-148.66 122.5,-139.73\"/>\n<polygon fill=\"black\" stroke=\"black\" points=\"126,-139.61 122.5,-129.61 119,-139.61 126,-139.61\"/>\n</g>\n<!-- 132990405989744 -->\n<g id=\"node4\" class=\"node\">\n<title>132990405989744</title>\n<polygon fill=\"none\" stroke=\"black\" points=\"32,-0.5 32,-46.5 213,-46.5 213,-0.5 32,-0.5\"/>\n<text text-anchor=\"middle\" x=\"57\" y=\"-19.8\" font-family=\"Times,serif\" font-size=\"14.00\">Dense</text>\n<polyline fill=\"none\" stroke=\"black\" points=\"82,-0.5 82,-46.5 \"/>\n<text text-anchor=\"middle\" x=\"109.5\" y=\"-31.3\" font-family=\"Times,serif\" font-size=\"14.00\">input:</text>\n<polyline fill=\"none\" stroke=\"black\" points=\"82,-23.5 137,-23.5 \"/>\n<text text-anchor=\"middle\" x=\"109.5\" y=\"-8.3\" font-family=\"Times,serif\" font-size=\"14.00\">output:</text>\n<polyline fill=\"none\" stroke=\"black\" points=\"137,-0.5 137,-46.5 \"/>\n<text text-anchor=\"middle\" x=\"175\" y=\"-31.3\" font-family=\"Times,serif\" font-size=\"14.00\">(None, 32)</text>\n<polyline fill=\"none\" stroke=\"black\" points=\"137,-23.5 213,-23.5 \"/>\n<text text-anchor=\"middle\" x=\"175\" y=\"-8.3\" font-family=\"Times,serif\" font-size=\"14.00\">(None, 1)</text>\n</g>\n<!-- 132990536334736&#45;&gt;132990405989744 -->\n<g id=\"edge3\" class=\"edge\">\n<title>132990536334736-&gt;132990405989744</title>\n<path fill=\"none\" stroke=\"black\" d=\"M122.5,-83.37C122.5,-75.15 122.5,-65.66 122.5,-56.73\"/>\n<polygon fill=\"black\" stroke=\"black\" points=\"126,-56.61 122.5,-46.61 119,-56.61 126,-56.61\"/>\n</g>\n</g>\n</svg>"
          },
          "metadata": {},
          "execution_count": 15
        }
      ]
    },
    {
      "cell_type": "code",
      "metadata": {
        "colab": {
          "base_uri": "https://localhost:8080/",
          "height": 465
        },
        "id": "sSh15g9kqtQQ",
        "outputId": "5f4f3a94-ce7b-40eb-caf4-ece305d74846"
      },
      "source": [
        "import matplotlib.pyplot as plt\n",
        "\n",
        "fig, loss_ax = plt.subplots(figsize=(8, 5))\n",
        "\n",
        "acc_ax = loss_ax.twinx()\n",
        "\n",
        "loss_ax.plot(hist.history['loss'], 'y', label='train loss')\n",
        "loss_ax.plot(hist.history['val_loss'], 'r', label='val loss')\n",
        "\n",
        "acc_ax.plot(hist.history['acc'], 'b', label='train acc')\n",
        "acc_ax.plot(hist.history['val_acc'], 'g', label='val acc')\n",
        "\n",
        "loss_ax.set_xlabel('epoch')\n",
        "loss_ax.set_ylabel('loss')\n",
        "acc_ax.set_ylabel('accuray')\n",
        "\n",
        "loss_ax.legend(loc='upper left')\n",
        "acc_ax.legend(loc='lower left')\n",
        "\n",
        "plt.show()"
      ],
      "execution_count": null,
      "outputs": [
        {
          "output_type": "display_data",
          "data": {
            "text/plain": [
              "<Figure size 800x500 with 2 Axes>"
            ],
            "image/png": "[encoded data removed]"
          },
          "metadata": {}
        }
      ]
    },
    {
      "cell_type": "code",
      "metadata": {
        "colab": {
          "base_uri": "https://localhost:8080/"
        },
        "id": "114caIR1qtQR",
        "outputId": "593a6aa0-4991-4648-c989-3de143cebe88"
      },
      "source": [
        "score = model.evaluate(X_test, y_test)\n",
        "print('test_loss: ', score[0])\n",
        "print('test_acc: ', score[1])"
      ],
      "execution_count": null,
      "outputs": [
        {
          "output_type": "stream",
          "name": "stdout",
          "text": [
            "782/782 [==============================] - 17s 21ms/step - loss: 0.3719 - acc: 0.8656\n",
            "test_loss:  0.3718789517879486\n",
            "test_acc:  0.8655999898910522\n"
          ]
        }
      ]
    }
  ]
}