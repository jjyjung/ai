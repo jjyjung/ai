{
  "nbformat": 4,
  "nbformat_minor": 0,
  "metadata": {
    "kernelspec": {
      "display_name": "Python 3",
      "language": "python",
      "name": "python3"
    },
    "language_info": {
      "codemirror_mode": {
        "name": "ipython",
        "version": 3
      },
      "file_extension": ".py",
      "mimetype": "text/x-python",
      "name": "python",
      "nbconvert_exporter": "python",
      "pygments_lexer": "ipython3",
      "version": "3.8.8"
    },
    "colab": {
      "provenance": [],
      "include_colab_link": true
    }
  },
  "cells": [
    {
      "cell_type": "markdown",
      "metadata": {
        "id": "view-in-github",
        "colab_type": "text"
      },
      "source": [
        "<a href=\"https://colab.research.google.com/github/jjyjung/ai/blob/gh-pages/tf_keras_RNN_IMDB.ipynb\" target=\"_parent\"><img src=\"https://colab.research.google.com/assets/colab-badge.svg\" alt=\"Open In Colab\"/></a>"
      ]
    },
    {
      "cell_type": "markdown",
      "metadata": {
        "id": "iYnBwwO6SLuO"
      },
      "source": [
        "**IMDB (Internet Movie DataBase ) – movie reviews sentiment classification**\n",
        "* IMDB https://www.imdb.com/interfaces/\n",
        "* https://keras.io/datasets/#imdb-movie-reviews-sentiment-classification\n",
        "* Binary classification: Dataset of 25,000 movies reviews from IMDB, labeled by sentiment (positive[1]/negative[0]). \n",
        "* Each review is encoded as a sequence of word indexes (integers). \n",
        "* For convenience, words are indexed by overall frequency in the dataset, so that for instance the integer “3” encodes the 3rd most frequent word in the data. \n",
        "* This allows for quick filtering operations such as: “only consider the top 10,000 most common words, but eliminate the top 20 most common words”. \n",
        " - e.g.  imdb.load_data(num_words=10000, skip_top=20)\n",
        "* As a convention, \"0\" does not stand for a specific word, but instead is used to encode any unknown word."
      ]
    },
    {
      "cell_type": "code",
      "metadata": {
        "id": "dySs1zv4qtQH"
      },
      "source": [
        "import tensorflow as tf\n",
        "from tensorflow.keras import Sequential\n",
        "from tensorflow.keras import layers\n",
        "from tensorflow.keras.datasets import imdb\n",
        "from tensorflow.keras.preprocessing import sequence\n",
        "from tensorflow.keras.layers import Embedding, SimpleRNN, LSTM, GRU, Dense\n",
        "from tensorflow.keras.callbacks import EarlyStopping"
      ],
      "execution_count": 11,
      "outputs": []
    },
    {
      "cell_type": "code",
      "metadata": {
        "id": "yG5BVcPJqtQK",
        "colab": {
          "base_uri": "https://localhost:8080/"
        },
        "outputId": "e81341dd-1438-4494-e4e7-2f8c60a3aeba"
      },
      "source": [
        "## IMDB 데이터 추출 설정\n",
        "max_features = 10000  # 사용할 단어의 최대 개수\n",
        "maxlen = 200   # 한 영화리뷰의 최대 단어 길이\n",
        "skip_top = 20  # 너무 일반적인 단어 20개는 제외함\n",
        "\n",
        "(input_train, y_train), (input_test, y_test) = imdb.load_data(num_words=max_features, skip_top=skip_top)\n",
        "\n",
        "# 기준보다 단어 개수가 짧은 영화리뷰는 나머지를 0으로 패딩시킴\n",
        "X_train = sequence.pad_sequences(input_train, maxlen=maxlen)  # 기본값 padding='pre' (왼쪽을 0으로 채움. 'post'는 오른쪽을 채움)\n",
        "X_test = sequence.pad_sequences(input_test, maxlen=maxlen)"
      ],
      "execution_count": 2,
      "outputs": [
        {
          "output_type": "stream",
          "name": "stdout",
          "text": [
            "Downloading data from https://storage.googleapis.com/tensorflow/tf-keras-datasets/imdb.npz\n",
            "17464789/17464789 [==============================] - 0s 0us/step\n"
          ]
        }
      ]
    },
    {
      "cell_type": "code",
      "metadata": {
        "colab": {
          "base_uri": "https://localhost:8080/"
        },
        "id": "xXGcNOE8qtQM",
        "outputId": "8282d9ec-5411-4e8f-ed25-077484eae4e3"
      },
      "source": [
        "print(X_train.shape)\n",
        "print(X_test.shape)\n",
        "print(X_train.max(), X_train.min())\n",
        "print(y_train, y_train.shape)\n",
        "print(y_test, y_test.shape)"
      ],
      "execution_count": 3,
      "outputs": [
        {
          "output_type": "stream",
          "name": "stdout",
          "text": [
            "(25000, 200)\n",
            "(25000, 200)\n",
            "9999 0\n",
            "[1 0 0 ... 0 1 0] (25000,)\n",
            "[0 1 1 ... 0 0 0] (25000,)\n"
          ]
        }
      ]
    },
    {
      "cell_type": "code",
      "source": [
        "type(y_train)"
      ],
      "metadata": {
        "colab": {
          "base_uri": "https://localhost:8080/"
        },
        "id": "JGTrhp9J_2FZ",
        "outputId": "35c129c4-5bd1-42d2-e12c-c9a1491fa339"
      },
      "execution_count": 4,
      "outputs": [
        {
          "output_type": "execute_result",
          "data": {
            "text/plain": [
              "numpy.ndarray"
            ]
          },
          "metadata": {},
          "execution_count": 4
        }
      ]
    },
    {
      "cell_type": "code",
      "metadata": {
        "colab": {
          "base_uri": "https://localhost:8080/"
        },
        "id": "CT0BlKNkqtQM",
        "outputId": "32b52229-6b86-416f-a600-de7a3d4efcdb"
      },
      "source": [
        "print(input_train[3:5])\n",
        "print(len(input_train[3]), len(input_train[4]))\n",
        "\n",
        "print(X_train[3:5])\n",
        "print(len(X_train[3]), len(X_train[4]))"
      ],
      "execution_count": 5,
      "outputs": [
        {
          "output_type": "stream",
          "name": "stdout",
          "text": [
            "[list([2, 2, 2, 2, 33, 2804, 2, 2040, 432, 111, 153, 103, 2, 1494, 2, 70, 131, 67, 2, 61, 2, 744, 35, 3715, 761, 61, 5766, 452, 9214, 2, 985, 2, 2, 59, 166, 2, 105, 216, 1239, 41, 1797, 2, 2, 2, 35, 744, 2413, 31, 2, 2, 687, 23, 2, 2, 7339, 2, 3693, 42, 38, 39, 121, 59, 456, 2, 2, 2, 265, 2, 575, 111, 153, 159, 59, 2, 1447, 21, 25, 586, 482, 39, 2, 96, 59, 716, 2, 2, 172, 65, 2, 579, 2, 6004, 2, 1615, 2, 2, 2, 5168, 2, 2, 7064, 2, 2, 2, 464, 31, 314, 2, 2, 2, 719, 605, 2, 2, 202, 27, 310, 2, 3772, 3501, 2, 2722, 58, 2, 2, 537, 2116, 180, 40, 2, 413, 173, 2, 263, 112, 37, 152, 377, 2, 537, 263, 846, 579, 178, 54, 75, 71, 476, 36, 413, 263, 2504, 182, 2, 2, 75, 2306, 922, 36, 279, 131, 2895, 2, 2867, 42, 2, 35, 921, 2, 192, 2, 1219, 3890, 2, 2, 217, 4122, 1710, 537, 2, 1236, 2, 736, 2, 2, 61, 403, 2, 2, 40, 61, 4494, 2, 27, 4494, 159, 90, 263, 2311, 4319, 309, 2, 178, 2, 82, 4319, 2, 65, 2, 9225, 145, 143, 5122, 2, 7039, 537, 746, 537, 537, 2, 7979, 2, 2, 594, 2, 5168, 94, 9096, 3987, 2, 2, 2, 2, 538, 2, 1795, 246, 2, 2, 2, 2, 635, 2, 2, 51, 408, 2, 94, 318, 1382, 2, 47, 2, 2683, 936, 2, 6307, 2, 2, 49, 2, 2, 1885, 2, 1118, 25, 80, 126, 842, 2, 2, 2, 2, 4726, 27, 4494, 2, 1550, 3633, 159, 27, 341, 29, 2733, 2, 4185, 173, 2, 90, 2, 2, 30, 2, 2, 1784, 86, 1117, 2, 3261, 46, 2, 2, 21, 29, 2, 2841, 23, 2, 1010, 2, 793, 2, 2, 1386, 1830, 2, 2, 246, 50, 2, 2, 2750, 1944, 746, 90, 29, 2, 2, 124, 2, 882, 2, 882, 496, 27, 2, 2213, 537, 121, 127, 1219, 130, 2, 29, 494, 2, 124, 2, 882, 496, 2, 341, 2, 27, 846, 2, 2, 29, 2, 1906, 2, 97, 2, 236, 2, 1311, 2, 2, 2, 2, 31, 2, 2, 91, 2, 3987, 70, 2, 882, 30, 579, 42, 2, 2, 32, 2, 537, 2, 2, 2, 2, 65, 44, 537, 75, 2, 1775, 3353, 2, 1846, 2, 2, 2, 154, 2, 2, 518, 53, 2, 2, 2, 3211, 882, 2, 399, 38, 75, 257, 3807, 2, 2, 2, 29, 456, 2, 65, 2, 27, 205, 113, 2, 2, 2, 2, 2, 2, 2, 242, 2, 91, 1202, 2, 2, 2070, 307, 22, 2, 5168, 126, 93, 40, 2, 2, 188, 1076, 3222, 2, 2, 2, 2, 2348, 537, 23, 53, 537, 21, 82, 40, 2, 2, 2, 2, 280, 2, 219, 2, 2, 431, 758, 859, 2, 953, 1052, 2, 2, 5991, 2, 94, 40, 25, 238, 60, 2, 2, 2, 804, 2, 2, 2, 9941, 132, 2, 67, 2, 22, 2, 2, 283, 2, 5168, 2, 31, 2, 242, 955, 48, 25, 279, 2, 23, 2, 1685, 195, 25, 238, 60, 796, 2, 2, 671, 2, 2804, 2, 2, 559, 154, 888, 2, 726, 50, 26, 49, 7008, 2, 566, 30, 579, 21, 64, 2574])\n",
            " list([2, 249, 1323, 2, 61, 113, 2, 2, 2, 1637, 2, 20, 56, 33, 2401, 2, 457, 88, 2, 2626, 1400, 45, 3171, 2, 70, 79, 49, 706, 919, 2, 2, 355, 340, 355, 1696, 96, 143, 2, 22, 32, 289, 2, 61, 369, 71, 2359, 2, 2, 2, 131, 2073, 249, 114, 249, 229, 249, 20, 2, 28, 126, 110, 2, 473, 2, 569, 61, 419, 56, 429, 2, 1513, 2, 35, 534, 95, 474, 570, 2, 25, 124, 138, 88, 2, 421, 1543, 52, 725, 6397, 61, 419, 2, 2, 1571, 2, 1543, 20, 2, 2, 2, 2, 296, 2, 3524, 2, 2, 421, 128, 74, 233, 334, 207, 126, 224, 2, 562, 298, 2167, 1272, 2, 2601, 2, 516, 988, 43, 2, 79, 120, 2, 595, 2, 784, 25, 3171, 2, 165, 170, 143, 2, 2, 2, 7224, 2, 226, 251, 2, 61, 113])]\n",
            "550 147\n",
            "[[   2  341    2   27  846    2    2   29    2 1906    2   97    2  236\n",
            "     2 1311    2    2    2    2   31    2    2   91    2 3987   70    2\n",
            "   882   30  579   42    2    2   32    2  537    2    2    2    2   65\n",
            "    44  537   75    2 1775 3353    2 1846    2    2    2  154    2    2\n",
            "   518   53    2    2    2 3211  882    2  399   38   75  257 3807    2\n",
            "     2    2   29  456    2   65    2   27  205  113    2    2    2    2\n",
            "     2    2    2  242    2   91 1202    2    2 2070  307   22    2 5168\n",
            "   126   93   40    2    2  188 1076 3222    2    2    2    2 2348  537\n",
            "    23   53  537   21   82   40    2    2    2    2  280    2  219    2\n",
            "     2  431  758  859    2  953 1052    2    2 5991    2   94   40   25\n",
            "   238   60    2    2    2  804    2    2    2 9941  132    2   67    2\n",
            "    22    2    2  283    2 5168    2   31    2  242  955   48   25  279\n",
            "     2   23    2 1685  195   25  238   60  796    2    2  671    2 2804\n",
            "     2    2  559  154  888    2  726   50   26   49 7008    2  566   30\n",
            "   579   21   64 2574]\n",
            " [   0    0    0    0    0    0    0    0    0    0    0    0    0    0\n",
            "     0    0    0    0    0    0    0    0    0    0    0    0    0    0\n",
            "     0    0    0    0    0    0    0    0    0    0    0    0    0    0\n",
            "     0    0    0    0    0    0    0    0    0    0    0    2  249 1323\n",
            "     2   61  113    2    2    2 1637    2   20   56   33 2401    2  457\n",
            "    88    2 2626 1400   45 3171    2   70   79   49  706  919    2    2\n",
            "   355  340  355 1696   96  143    2   22   32  289    2   61  369   71\n",
            "  2359    2    2    2  131 2073  249  114  249  229  249   20    2   28\n",
            "   126  110    2  473    2  569   61  419   56  429    2 1513    2   35\n",
            "   534   95  474  570    2   25  124  138   88    2  421 1543   52  725\n",
            "  6397   61  419    2    2 1571    2 1543   20    2    2    2    2  296\n",
            "     2 3524    2    2  421  128   74  233  334  207  126  224    2  562\n",
            "   298 2167 1272    2 2601    2  516  988   43    2   79  120    2  595\n",
            "     2  784   25 3171    2  165  170  143    2    2    2 7224    2  226\n",
            "   251    2   61  113]]\n",
            "200 200\n"
          ]
        }
      ]
    },
    {
      "cell_type": "code",
      "metadata": {
        "colab": {
          "base_uri": "https://localhost:8080/"
        },
        "id": "nY0wjeoyqtQN",
        "outputId": "331e6f6a-9b5d-456d-af6f-f760c6befb86"
      },
      "source": [
        "# 단어별 인덱스 확인하기\n",
        "word_index = imdb.get_word_index(path='imdb_word_index.json')\n",
        "print(len(word_index))\n",
        "# word_index.items()\n",
        "list(word_index.items())[:30]"
      ],
      "execution_count": 6,
      "outputs": [
        {
          "output_type": "stream",
          "name": "stdout",
          "text": [
            "Downloading data from https://storage.googleapis.com/tensorflow/tf-keras-datasets/imdb_word_index.json\n",
            "1641221/1641221 [==============================] - 0s 0us/step\n",
            "88584\n"
          ]
        },
        {
          "output_type": "execute_result",
          "data": {
            "text/plain": [
              "[('fawn', 34701),\n",
              " ('tsukino', 52006),\n",
              " ('nunnery', 52007),\n",
              " ('sonja', 16816),\n",
              " ('vani', 63951),\n",
              " ('woods', 1408),\n",
              " ('spiders', 16115),\n",
              " ('hanging', 2345),\n",
              " ('woody', 2289),\n",
              " ('trawling', 52008),\n",
              " (\"hold's\", 52009),\n",
              " ('comically', 11307),\n",
              " ('localized', 40830),\n",
              " ('disobeying', 30568),\n",
              " (\"'royale\", 52010),\n",
              " (\"harpo's\", 40831),\n",
              " ('canet', 52011),\n",
              " ('aileen', 19313),\n",
              " ('acurately', 52012),\n",
              " (\"diplomat's\", 52013),\n",
              " ('rickman', 25242),\n",
              " ('arranged', 6746),\n",
              " ('rumbustious', 52014),\n",
              " ('familiarness', 52015),\n",
              " (\"spider'\", 52016),\n",
              " ('hahahah', 68804),\n",
              " (\"wood'\", 52017),\n",
              " ('transvestism', 40833),\n",
              " (\"hangin'\", 34702),\n",
              " ('bringing', 2338)]"
            ]
          },
          "metadata": {},
          "execution_count": 6
        }
      ]
    },
    {
      "cell_type": "code",
      "metadata": {
        "colab": {
          "base_uri": "https://localhost:8080/"
        },
        "id": "90cTFRbMVQPv",
        "outputId": "b0e1ad27-b455-496e-f257-9ebc874d2faf"
      },
      "source": [
        "# 빈도가 많은 30개 단어 확인하기\n",
        "sorted_words = dict(sorted(word_index.items(), key=lambda x: x[1], reverse=False))\n",
        "list(sorted_words.items())[:30]"
      ],
      "execution_count": 7,
      "outputs": [
        {
          "output_type": "execute_result",
          "data": {
            "text/plain": [
              "[('the', 1),\n",
              " ('and', 2),\n",
              " ('a', 3),\n",
              " ('of', 4),\n",
              " ('to', 5),\n",
              " ('is', 6),\n",
              " ('br', 7),\n",
              " ('in', 8),\n",
              " ('it', 9),\n",
              " ('i', 10),\n",
              " ('this', 11),\n",
              " ('that', 12),\n",
              " ('was', 13),\n",
              " ('as', 14),\n",
              " ('for', 15),\n",
              " ('with', 16),\n",
              " ('movie', 17),\n",
              " ('but', 18),\n",
              " ('film', 19),\n",
              " ('on', 20),\n",
              " ('not', 21),\n",
              " ('you', 22),\n",
              " ('are', 23),\n",
              " ('his', 24),\n",
              " ('have', 25),\n",
              " ('he', 26),\n",
              " ('be', 27),\n",
              " ('one', 28),\n",
              " ('all', 29),\n",
              " ('at', 30)]"
            ]
          },
          "metadata": {},
          "execution_count": 7
        }
      ]
    },
    {
      "cell_type": "code",
      "metadata": {
        "colab": {
          "base_uri": "https://localhost:8080/"
        },
        "id": "SQi9VbFGgTop",
        "outputId": "013af222-7068-4064-fe1e-7e3cb5c28957"
      },
      "source": [
        "max_features"
      ],
      "execution_count": 9,
      "outputs": [
        {
          "output_type": "execute_result",
          "data": {
            "text/plain": [
              "10000"
            ]
          },
          "metadata": {},
          "execution_count": 9
        }
      ]
    },
    {
      "cell_type": "code",
      "metadata": {
        "colab": {
          "base_uri": "https://localhost:8080/"
        },
        "id": "a-KUzB2SqtQO",
        "outputId": "cd78934f-e5fd-447a-dcf2-17bc224216d7"
      },
      "source": [
        "model = Sequential()\n",
        "model.add(Embedding(max_features, 100, input_length=200))  # Embedding(vocab_size, embedding_dim, input_length=200)\n",
        "model.add(LSTM(32))\n",
        "model.add(Dense(1, activation='sigmoid'))\n",
        "\n",
        "model.compile(optimizer='rmsprop', loss='binary_crossentropy', metrics=['acc'])\n",
        "hist = model.fit(X_train, y_train, \n",
        "                   epochs=100,\n",
        "                   batch_size=100,\n",
        "                   callbacks=[EarlyStopping(monitor='val_loss', patience=5)],\n",
        "                   validation_split=0.2)"
      ],
      "execution_count": 21,
      "outputs": [
        {
          "output_type": "stream",
          "name": "stdout",
          "text": [
            "Epoch 1/100\n",
            "200/200 [==============================] - 32s 148ms/step - loss: 0.4482 - acc: 0.7902 - val_loss: 0.3490 - val_acc: 0.8546\n",
            "Epoch 2/100\n",
            "200/200 [==============================] - 28s 141ms/step - loss: 0.2683 - acc: 0.8923 - val_loss: 0.3717 - val_acc: 0.8450\n",
            "Epoch 3/100\n",
            "200/200 [==============================] - 29s 143ms/step - loss: 0.2200 - acc: 0.9157 - val_loss: 0.3236 - val_acc: 0.8704\n",
            "Epoch 4/100\n",
            "200/200 [==============================] - 29s 144ms/step - loss: 0.1794 - acc: 0.9333 - val_loss: 0.3136 - val_acc: 0.8614\n",
            "Epoch 5/100\n",
            "200/200 [==============================] - 28s 141ms/step - loss: 0.1578 - acc: 0.9433 - val_loss: 0.3310 - val_acc: 0.8820\n",
            "Epoch 6/100\n",
            "200/200 [==============================] - 29s 145ms/step - loss: 0.1356 - acc: 0.9503 - val_loss: 0.3868 - val_acc: 0.8812\n",
            "Epoch 7/100\n",
            "200/200 [==============================] - 29s 143ms/step - loss: 0.1151 - acc: 0.9603 - val_loss: 0.3822 - val_acc: 0.8812\n",
            "Epoch 8/100\n",
            "200/200 [==============================] - 30s 148ms/step - loss: 0.1025 - acc: 0.9643 - val_loss: 0.5165 - val_acc: 0.8672\n",
            "Epoch 9/100\n",
            "200/200 [==============================] - 30s 148ms/step - loss: 0.0906 - acc: 0.9683 - val_loss: 0.4192 - val_acc: 0.8730\n"
          ]
        }
      ]
    },
    {
      "cell_type": "code",
      "metadata": {
        "scrolled": true,
        "colab": {
          "base_uri": "https://localhost:8080/"
        },
        "id": "ICVemdmtqtQO",
        "outputId": "9c9cd835-b25b-4814-92f4-b7a6f23cb3ce"
      },
      "source": [
        "model.summary()"
      ],
      "execution_count": 19,
      "outputs": [
        {
          "output_type": "stream",
          "name": "stdout",
          "text": [
            "Model: \"sequential_2\"\n",
            "_________________________________________________________________\n",
            " Layer (type)                Output Shape              Param #   \n",
            "=================================================================\n",
            " embedding_1 (Embedding)     (None, 200, 100)          1000000   \n",
            "                                                                 \n",
            " lstm_1 (LSTM)               (None, 32)                17024     \n",
            "                                                                 \n",
            " dense_1 (Dense)             (None, 1)                 33        \n",
            "                                                                 \n",
            "=================================================================\n",
            "Total params: 1,017,057\n",
            "Trainable params: 1,017,057\n",
            "Non-trainable params: 0\n",
            "_________________________________________________________________\n"
          ]
        }
      ]
    },
    {
      "cell_type": "code",
      "metadata": {
        "colab": {
          "base_uri": "https://localhost:8080/",
          "height": 425
        },
        "id": "riFehk4tqtQP",
        "outputId": "d6e10270-61d6-499f-c584-0bd1503afb13"
      },
      "source": [
        "# visualize model structure\n",
        "from IPython.display import SVG\n",
        "from keras.utils.vis_utils import model_to_dot\n",
        "\n",
        "SVG(model_to_dot(model, show_shapes=True, show_layer_names=False, \n",
        "                 rankdir='TB', dpi=72).create(prog='dot', format='svg'))"
      ],
      "execution_count": 20,
      "outputs": [
        {
          "output_type": "execute_result",
          "data": {
            "text/plain": [
              "<IPython.core.display.SVG object>"
            ],
            "image/svg+xml": "<svg height=\"304pt\" viewBox=\"0.00 0.00 267.00 304.00\" width=\"267pt\" xmlns=\"http://www.w3.org/2000/svg\" xmlns:xlink=\"http://www.w3.org/1999/xlink\">\n<g class=\"graph\" id=\"graph0\" transform=\"scale(1 1) rotate(0) translate(4 300)\">\n<title>G</title>\n<polygon fill=\"#ffffff\" points=\"-4,4 -4,-300 263,-300 263,4 -4,4\" stroke=\"transparent\"/>\n<!-- 140530863051216 -->\n<g class=\"node\" id=\"node1\">\n<title>140530863051216</title>\n<polygon fill=\"none\" points=\"12.5,-249.5 12.5,-295.5 246.5,-295.5 246.5,-249.5 12.5,-249.5\" stroke=\"#000000\"/>\n<text fill=\"#000000\" font-family=\"Times,serif\" font-size=\"14.00\" text-anchor=\"middle\" x=\"52.5\" y=\"-268.8\">InputLayer</text>\n<polyline fill=\"none\" points=\"92.5,-249.5 92.5,-295.5 \" stroke=\"#000000\"/>\n<text fill=\"#000000\" font-family=\"Times,serif\" font-size=\"14.00\" text-anchor=\"middle\" x=\"121.5\" y=\"-280.3\">input:</text>\n<polyline fill=\"none\" points=\"92.5,-272.5 150.5,-272.5 \" stroke=\"#000000\"/>\n<text fill=\"#000000\" font-family=\"Times,serif\" font-size=\"14.00\" text-anchor=\"middle\" x=\"121.5\" y=\"-257.3\">output:</text>\n<polyline fill=\"none\" points=\"150.5,-249.5 150.5,-295.5 \" stroke=\"#000000\"/>\n<text fill=\"#000000\" font-family=\"Times,serif\" font-size=\"14.00\" text-anchor=\"middle\" x=\"198.5\" y=\"-280.3\">[(None, 200)]</text>\n<polyline fill=\"none\" points=\"150.5,-272.5 246.5,-272.5 \" stroke=\"#000000\"/>\n<text fill=\"#000000\" font-family=\"Times,serif\" font-size=\"14.00\" text-anchor=\"middle\" x=\"198.5\" y=\"-257.3\">[(None, 200)]</text>\n</g>\n<!-- 140530862945488 -->\n<g class=\"node\" id=\"node2\">\n<title>140530862945488</title>\n<polygon fill=\"none\" points=\"0,-166.5 0,-212.5 259,-212.5 259,-166.5 0,-166.5\" stroke=\"#000000\"/>\n<text fill=\"#000000\" font-family=\"Times,serif\" font-size=\"14.00\" text-anchor=\"middle\" x=\"42\" y=\"-185.8\">Embedding</text>\n<polyline fill=\"none\" points=\"84,-166.5 84,-212.5 \" stroke=\"#000000\"/>\n<text fill=\"#000000\" font-family=\"Times,serif\" font-size=\"14.00\" text-anchor=\"middle\" x=\"113\" y=\"-197.3\">input:</text>\n<polyline fill=\"none\" points=\"84,-189.5 142,-189.5 \" stroke=\"#000000\"/>\n<text fill=\"#000000\" font-family=\"Times,serif\" font-size=\"14.00\" text-anchor=\"middle\" x=\"113\" y=\"-174.3\">output:</text>\n<polyline fill=\"none\" points=\"142,-166.5 142,-212.5 \" stroke=\"#000000\"/>\n<text fill=\"#000000\" font-family=\"Times,serif\" font-size=\"14.00\" text-anchor=\"middle\" x=\"200.5\" y=\"-197.3\">(None, 200)</text>\n<polyline fill=\"none\" points=\"142,-189.5 259,-189.5 \" stroke=\"#000000\"/>\n<text fill=\"#000000\" font-family=\"Times,serif\" font-size=\"14.00\" text-anchor=\"middle\" x=\"200.5\" y=\"-174.3\">(None, 200, 100)</text>\n</g>\n<!-- 140530863051216&#45;&gt;140530862945488 -->\n<g class=\"edge\" id=\"edge1\">\n<title>140530863051216-&gt;140530862945488</title>\n<path d=\"M129.5,-249.3799C129.5,-241.1745 129.5,-231.7679 129.5,-222.8786\" fill=\"none\" stroke=\"#000000\"/>\n<polygon fill=\"#000000\" points=\"133.0001,-222.784 129.5,-212.784 126.0001,-222.784 133.0001,-222.784\" stroke=\"#000000\"/>\n</g>\n<!-- 140530873540048 -->\n<g class=\"node\" id=\"node3\">\n<title>140530873540048</title>\n<polygon fill=\"none\" points=\"14,-83.5 14,-129.5 245,-129.5 245,-83.5 14,-83.5\" stroke=\"#000000\"/>\n<text fill=\"#000000\" font-family=\"Times,serif\" font-size=\"14.00\" text-anchor=\"middle\" x=\"42\" y=\"-102.8\">LSTM</text>\n<polyline fill=\"none\" points=\"70,-83.5 70,-129.5 \" stroke=\"#000000\"/>\n<text fill=\"#000000\" font-family=\"Times,serif\" font-size=\"14.00\" text-anchor=\"middle\" x=\"99\" y=\"-114.3\">input:</text>\n<polyline fill=\"none\" points=\"70,-106.5 128,-106.5 \" stroke=\"#000000\"/>\n<text fill=\"#000000\" font-family=\"Times,serif\" font-size=\"14.00\" text-anchor=\"middle\" x=\"99\" y=\"-91.3\">output:</text>\n<polyline fill=\"none\" points=\"128,-83.5 128,-129.5 \" stroke=\"#000000\"/>\n<text fill=\"#000000\" font-family=\"Times,serif\" font-size=\"14.00\" text-anchor=\"middle\" x=\"186.5\" y=\"-114.3\">(None, 200, 100)</text>\n<polyline fill=\"none\" points=\"128,-106.5 245,-106.5 \" stroke=\"#000000\"/>\n<text fill=\"#000000\" font-family=\"Times,serif\" font-size=\"14.00\" text-anchor=\"middle\" x=\"186.5\" y=\"-91.3\">(None, 32)</text>\n</g>\n<!-- 140530862945488&#45;&gt;140530873540048 -->\n<g class=\"edge\" id=\"edge2\">\n<title>140530862945488-&gt;140530873540048</title>\n<path d=\"M129.5,-166.3799C129.5,-158.1745 129.5,-148.7679 129.5,-139.8786\" fill=\"none\" stroke=\"#000000\"/>\n<polygon fill=\"#000000\" points=\"133.0001,-139.784 129.5,-129.784 126.0001,-139.784 133.0001,-139.784\" stroke=\"#000000\"/>\n</g>\n<!-- 140530873537360 -->\n<g class=\"node\" id=\"node4\">\n<title>140530873537360</title>\n<polygon fill=\"none\" points=\"34.5,-.5 34.5,-46.5 224.5,-46.5 224.5,-.5 34.5,-.5\" stroke=\"#000000\"/>\n<text fill=\"#000000\" font-family=\"Times,serif\" font-size=\"14.00\" text-anchor=\"middle\" x=\"60.5\" y=\"-19.8\">Dense</text>\n<polyline fill=\"none\" points=\"86.5,-.5 86.5,-46.5 \" stroke=\"#000000\"/>\n<text fill=\"#000000\" font-family=\"Times,serif\" font-size=\"14.00\" text-anchor=\"middle\" x=\"115.5\" y=\"-31.3\">input:</text>\n<polyline fill=\"none\" points=\"86.5,-23.5 144.5,-23.5 \" stroke=\"#000000\"/>\n<text fill=\"#000000\" font-family=\"Times,serif\" font-size=\"14.00\" text-anchor=\"middle\" x=\"115.5\" y=\"-8.3\">output:</text>\n<polyline fill=\"none\" points=\"144.5,-.5 144.5,-46.5 \" stroke=\"#000000\"/>\n<text fill=\"#000000\" font-family=\"Times,serif\" font-size=\"14.00\" text-anchor=\"middle\" x=\"184.5\" y=\"-31.3\">(None, 32)</text>\n<polyline fill=\"none\" points=\"144.5,-23.5 224.5,-23.5 \" stroke=\"#000000\"/>\n<text fill=\"#000000\" font-family=\"Times,serif\" font-size=\"14.00\" text-anchor=\"middle\" x=\"184.5\" y=\"-8.3\">(None, 1)</text>\n</g>\n<!-- 140530873540048&#45;&gt;140530873537360 -->\n<g class=\"edge\" id=\"edge3\">\n<title>140530873540048-&gt;140530873537360</title>\n<path d=\"M129.5,-83.3799C129.5,-75.1745 129.5,-65.7679 129.5,-56.8786\" fill=\"none\" stroke=\"#000000\"/>\n<polygon fill=\"#000000\" points=\"133.0001,-56.784 129.5,-46.784 126.0001,-56.784 133.0001,-56.784\" stroke=\"#000000\"/>\n</g>\n</g>\n</svg>"
          },
          "metadata": {},
          "execution_count": 20
        }
      ]
    },
    {
      "cell_type": "code",
      "metadata": {
        "colab": {
          "base_uri": "https://localhost:8080/",
          "height": 334
        },
        "id": "sSh15g9kqtQQ",
        "outputId": "c4bb61a8-73f9-443c-e137-93939b43e253"
      },
      "source": [
        "import matplotlib.pyplot as plt\n",
        "\n",
        "fig, loss_ax = plt.subplots(figsize=(8, 5))\n",
        "\n",
        "acc_ax = loss_ax.twinx()\n",
        "\n",
        "loss_ax.plot(hist.history['loss'], 'y', label='train loss')\n",
        "loss_ax.plot(hist.history['val_loss'], 'r', label='val loss')\n",
        "\n",
        "acc_ax.plot(hist.history['acc'], 'b', label='train acc')\n",
        "acc_ax.plot(hist.history['val_acc'], 'g', label='val acc')\n",
        "\n",
        "loss_ax.set_xlabel('epoch')\n",
        "loss_ax.set_ylabel('loss')\n",
        "acc_ax.set_ylabel('accuray')\n",
        "\n",
        "loss_ax.legend(loc='upper left')\n",
        "acc_ax.legend(loc='lower left')\n",
        "\n",
        "plt.show()"
      ],
      "execution_count": 16,
      "outputs": [
        {
          "output_type": "display_data",
          "data": {
            "text/plain": [
              "<Figure size 576x360 with 2 Axes>"
            ],
            "image/png": "[encoded data removed]"
          },
          "metadata": {
            "needs_background": "light"
          }
        }
      ]
    },
    {
      "cell_type": "code",
      "metadata": {
        "colab": {
          "base_uri": "https://localhost:8080/"
        },
        "id": "114caIR1qtQR",
        "outputId": "f5eb984d-7828-491f-bd45-0b5edc8e691d"
      },
      "source": [
        "score = model.evaluate(X_test, y_test)\n",
        "print('test_loss: ', score[0])\n",
        "print('test_acc: ', score[1])"
      ],
      "execution_count": 22,
      "outputs": [
        {
          "output_type": "stream",
          "name": "stdout",
          "text": [
            "782/782 [==============================] - 19s 23ms/step - loss: 0.4593 - acc: 0.8564\n",
            "test_loss:  0.4592690169811249\n",
            "test_acc:  0.8563600182533264\n"
          ]
        }
      ]
    }
  ]
}