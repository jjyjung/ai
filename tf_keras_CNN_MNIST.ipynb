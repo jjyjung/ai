{
  "nbformat": 4,
  "nbformat_minor": 0,
  "metadata": {
    "kernelspec": {
      "display_name": "Python 3",
      "language": "python",
      "name": "python3"
    },
    "language_info": {
      "codemirror_mode": {
        "name": "ipython",
        "version": 3
      },
      "file_extension": ".py",
      "mimetype": "text/x-python",
      "name": "python",
      "nbconvert_exporter": "python",
      "pygments_lexer": "ipython3",
      "version": "3.7.4"
    },
    "colab": {
      "name": "tf.keras_CNN_MNIST.ipynb",
      "provenance": [],
      "include_colab_link": true
    }
  },
  "cells": [
    {
      "cell_type": "markdown",
      "metadata": {
        "id": "view-in-github",
        "colab_type": "text"
      },
      "source": [
        "<a href=\"https://colab.research.google.com/github/jjyjung/ai/blob/gh-pages/tf_keras_CNN_MNIST.ipynb\" target=\"_parent\"><img src=\"https://colab.research.google.com/assets/colab-badge.svg\" alt=\"Open In Colab\"/></a>"
      ]
    },
    {
      "cell_type": "code",
      "metadata": {
        "id": "qTEQyMB4hu2e"
      },
      "source": [
        "import tensorflow as tf\n",
        "from tensorflow.keras import layers, utils, Sequential\n",
        "from tensorflow.keras.callbacks import EarlyStopping\n",
        "from tensorflow.keras.datasets import mnist"
      ],
      "execution_count": 1,
      "outputs": []
    },
    {
      "cell_type": "code",
      "metadata": {
        "id": "EU-u6jREtQtz"
      },
      "source": [
        "# hyperparameters (실험변경 편의를 위하여 상단에 기재하였음)\n",
        "batch_size = 100\n",
        "epochs = 10\n",
        "learning_rate = 0.1\n",
        "dropout_rate = 0.1\n",
        "patience = 10"
      ],
      "execution_count": 2,
      "outputs": []
    },
    {
      "cell_type": "code",
      "metadata": {
        "colab": {
          "base_uri": "https://localhost:8080/"
        },
        "id": "VWlFawQbhu2g",
        "outputId": "ff103393-4c5d-452d-b499-ac35f661e694"
      },
      "source": [
        "# input image dimensions, output dimension\n",
        "img_rows, img_cols = 28, 28\n",
        "num_classes = 10\n",
        "\n",
        "# the data, shuffled and split between train and test sets\n",
        "(x_train, y_train), (x_test, y_test) = mnist.load_data()\n",
        "\n",
        "x_train = x_train.reshape(x_train.shape[0], img_rows, img_cols, 1)\n",
        "x_test = x_test.reshape(x_test.shape[0], img_rows, img_cols, 1)\n",
        "input_shape = (img_rows, img_cols, 1)\n",
        "\n",
        "x_train = x_train.astype('float32')\n",
        "x_test = x_test.astype('float32')\n",
        "x_train /= 255\n",
        "x_test /= 255\n",
        "print('x_train shape:', x_train.shape)\n",
        "print(x_train.shape[0], 'train samples')\n",
        "print(x_test.shape[0], 'test samples')\n",
        "\n",
        "# convert class vectors to binary class matrices\n",
        "y_train = utils.to_categorical(y_train, num_classes)\n",
        "y_test = utils.to_categorical(y_test, num_classes)"
      ],
      "execution_count": 3,
      "outputs": [
        {
          "output_type": "stream",
          "name": "stdout",
          "text": [
            "x_train shape: (60000, 28, 28, 1)\n",
            "60000 train samples\n",
            "10000 test samples\n"
          ]
        }
      ]
    },
    {
      "cell_type": "code",
      "metadata": {
        "colab": {
          "base_uri": "https://localhost:8080/"
        },
        "id": "V_ZPXPOPhu2g",
        "outputId": "9194cf82-eeb2-4081-f283-5abec953fe11"
      },
      "source": [
        "model = Sequential()\n",
        "model.add(layers.Conv2D(32, kernel_size=(3, 3),\n",
        "                 activation='relu',\n",
        "                 input_shape=input_shape))\n",
        "model.add(layers.MaxPooling2D(pool_size=(2, 2), strides=(2, 2)))\n",
        "model.add(layers.Dropout(dropout_rate))\n",
        "\n",
        "model.add(layers.Conv2D(64, (3, 3), activation='relu'))\n",
        "model.add(layers.MaxPooling2D(pool_size=(2, 2), strides=(2, 2)))\n",
        "model.add(layers.Dropout(dropout_rate))\n",
        "model.add(layers.Flatten())\n",
        "\n",
        "model.add(layers.Dense(32, activation='relu'))\n",
        "model.add(layers.Dropout(dropout_rate))\n",
        "model.add(layers.Dense(num_classes, activation='softmax'))\n",
        "\n",
        "model.summary()"
      ],
      "execution_count": 4,
      "outputs": [
        {
          "output_type": "stream",
          "name": "stdout",
          "text": [
            "Model: \"sequential\"\n",
            "_________________________________________________________________\n",
            " Layer (type)                Output Shape              Param #   \n",
            "=================================================================\n",
            " conv2d (Conv2D)             (None, 26, 26, 32)        320       \n",
            "                                                                 \n",
            " max_pooling2d (MaxPooling2D  (None, 13, 13, 32)       0         \n",
            " )                                                               \n",
            "                                                                 \n",
            " dropout (Dropout)           (None, 13, 13, 32)        0         \n",
            "                                                                 \n",
            " conv2d_1 (Conv2D)           (None, 11, 11, 64)        18496     \n",
            "                                                                 \n",
            " max_pooling2d_1 (MaxPooling  (None, 5, 5, 64)         0         \n",
            " 2D)                                                             \n",
            "                                                                 \n",
            " dropout_1 (Dropout)         (None, 5, 5, 64)          0         \n",
            "                                                                 \n",
            " flatten (Flatten)           (None, 1600)              0         \n",
            "                                                                 \n",
            " dense (Dense)               (None, 32)                51232     \n",
            "                                                                 \n",
            " dropout_2 (Dropout)         (None, 32)                0         \n",
            "                                                                 \n",
            " dense_1 (Dense)             (None, 10)                330       \n",
            "                                                                 \n",
            "=================================================================\n",
            "Total params: 70,378\n",
            "Trainable params: 70,378\n",
            "Non-trainable params: 0\n",
            "_________________________________________________________________\n"
          ]
        }
      ]
    },
    {
      "cell_type": "code",
      "metadata": {
        "colab": {
          "base_uri": "https://localhost:8080/"
        },
        "id": "yEb5iRHUv8sT",
        "outputId": "c6eab54b-6642-4aed-b067-eff33573ec8c"
      },
      "source": [
        "# compile model\n",
        "model.compile(\n",
        "    loss = 'categorical_crossentropy',\n",
        "    optimizer = 'Adam',\n",
        "    metrics = ['accuracy'])\n",
        "\n",
        "# train model\n",
        "early_stop = EarlyStopping(monitor = 'val_loss', patience = 5, mode='min')\n",
        "model.fit(x_train, y_train,\n",
        "          batch_size = batch_size,\n",
        "          epochs = epochs,\n",
        "          validation_split = 0.2,\n",
        "          callbacks = [early_stop], \n",
        "          shuffle = True,\n",
        "          verbose = 1)"
      ],
      "execution_count": 5,
      "outputs": [
        {
          "output_type": "stream",
          "name": "stdout",
          "text": [
            "Epoch 1/10\n",
            "480/480 [==============================] - 38s 77ms/step - loss: 0.3743 - accuracy: 0.8841 - val_loss: 0.0981 - val_accuracy: 0.9713\n",
            "Epoch 2/10\n",
            "480/480 [==============================] - 37s 77ms/step - loss: 0.1105 - accuracy: 0.9666 - val_loss: 0.0624 - val_accuracy: 0.9827\n",
            "Epoch 3/10\n",
            "480/480 [==============================] - 37s 77ms/step - loss: 0.0824 - accuracy: 0.9755 - val_loss: 0.0538 - val_accuracy: 0.9842\n",
            "Epoch 4/10\n",
            "480/480 [==============================] - 37s 77ms/step - loss: 0.0663 - accuracy: 0.9799 - val_loss: 0.0462 - val_accuracy: 0.9871\n",
            "Epoch 5/10\n",
            "480/480 [==============================] - 37s 77ms/step - loss: 0.0549 - accuracy: 0.9827 - val_loss: 0.0433 - val_accuracy: 0.9878\n",
            "Epoch 6/10\n",
            "480/480 [==============================] - 37s 77ms/step - loss: 0.0467 - accuracy: 0.9855 - val_loss: 0.0398 - val_accuracy: 0.9883\n",
            "Epoch 7/10\n",
            "480/480 [==============================] - 37s 76ms/step - loss: 0.0410 - accuracy: 0.9870 - val_loss: 0.0388 - val_accuracy: 0.9891\n",
            "Epoch 8/10\n",
            "480/480 [==============================] - 37s 76ms/step - loss: 0.0362 - accuracy: 0.9886 - val_loss: 0.0429 - val_accuracy: 0.9884\n",
            "Epoch 9/10\n",
            "480/480 [==============================] - 37s 77ms/step - loss: 0.0331 - accuracy: 0.9892 - val_loss: 0.0420 - val_accuracy: 0.9884\n",
            "Epoch 10/10\n",
            "480/480 [==============================] - 37s 76ms/step - loss: 0.0267 - accuracy: 0.9913 - val_loss: 0.0390 - val_accuracy: 0.9898\n"
          ]
        },
        {
          "output_type": "execute_result",
          "data": {
            "text/plain": [
              "<keras.callbacks.History at 0x7fb240ea8990>"
            ]
          },
          "metadata": {},
          "execution_count": 5
        }
      ]
    },
    {
      "cell_type": "markdown",
      "metadata": {
        "id": "KeM75AIT0HWz"
      },
      "source": [
        "\"Epoch 3/10\"의 의미는?\n",
        "\n",
        "\"38s 77ms/step\"의 의미는?\n",
        "\n",
        "\"loss: 0.1105 - accuracy: 0.9666 - val_loss: 0.0624 - val_accuracy: 0.9827\"의 의미는?"
      ]
    },
    {
      "cell_type": "code",
      "metadata": {
        "colab": {
          "base_uri": "https://localhost:8080/"
        },
        "id": "1PtSrMe-hu2h",
        "outputId": "837a1932-3ceb-443f-bec5-12632cc3f045"
      },
      "source": [
        "# evaluate model\n",
        "score = model.evaluate(x_test, y_test, verbose = 1)\n",
        "print('test_loss:', score[0])\n",
        "print('test_acc:', score[1])\n",
        "\n",
        "model.save(\"cnn_mnist.h5\")"
      ],
      "execution_count": 6,
      "outputs": [
        {
          "output_type": "stream",
          "name": "stdout",
          "text": [
            "313/313 [==============================] - 3s 8ms/step - loss: 0.0302 - accuracy: 0.9898\n",
            "test_loss: 0.03016565926373005\n",
            "test_acc: 0.989799976348877\n"
          ]
        }
      ]
    }
  ]
}