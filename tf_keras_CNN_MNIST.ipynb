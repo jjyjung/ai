{
  "nbformat": 4,
  "nbformat_minor": 0,
  "metadata": {
    "kernelspec": {
      "display_name": "Python 3",
      "language": "python",
      "name": "python3"
    },
    "language_info": {
      "codemirror_mode": {
        "name": "ipython",
        "version": 3
      },
      "file_extension": ".py",
      "mimetype": "text/x-python",
      "name": "python",
      "nbconvert_exporter": "python",
      "pygments_lexer": "ipython3",
      "version": "3.7.4"
    },
    "colab": {
      "provenance": [],
      "include_colab_link": true
    },
    "accelerator": "GPU",
    "gpuClass": "standard"
  },
  "cells": [
    {
      "cell_type": "markdown",
      "metadata": {
        "id": "view-in-github",
        "colab_type": "text"
      },
      "source": [
        "<a href=\"https://colab.research.google.com/github/jjyjung/ai/blob/gh-pages/tf_keras_CNN_MNIST.ipynb\" target=\"_parent\"><img src=\"https://colab.research.google.com/assets/colab-badge.svg\" alt=\"Open In Colab\"/></a>"
      ]
    },
    {
      "cell_type": "code",
      "source": [
        "from google.colab import drive\n",
        "\n",
        "drive.mount('/content/gdrive')   # google drive를 google colab에 연결. 처음 실행 시, 인증 필요"
      ],
      "metadata": {
        "colab": {
          "base_uri": "https://localhost:8080/"
        },
        "id": "E--gXv3WnY6a",
        "outputId": "6203aaab-e3fc-4fbe-a81e-635462a4542a"
      },
      "execution_count": 1,
      "outputs": [
        {
          "output_type": "stream",
          "name": "stdout",
          "text": [
            "Mounted at /content/gdrive\n"
          ]
        }
      ]
    },
    {
      "cell_type": "code",
      "metadata": {
        "id": "qTEQyMB4hu2e"
      },
      "source": [
        "import tensorflow as tf\n",
        "from tensorflow.keras import layers, utils, Sequential\n",
        "from tensorflow.keras.callbacks import EarlyStopping\n",
        "from tensorflow.keras.datasets import mnist"
      ],
      "execution_count": 2,
      "outputs": []
    },
    {
      "cell_type": "code",
      "metadata": {
        "id": "EU-u6jREtQtz"
      },
      "source": [
        "# hyperparameters (실험변경 편의를 위하여 상단에 기재하였음)\n",
        "batch_size = 100\n",
        "epochs = 10\n",
        "learning_rate = 0.1\n",
        "dropout_rate = 0.1\n",
        "patience = 5"
      ],
      "execution_count": 3,
      "outputs": []
    },
    {
      "cell_type": "code",
      "metadata": {
        "colab": {
          "base_uri": "https://localhost:8080/"
        },
        "id": "QA2jvpXkREOY",
        "outputId": "e63cf101-9b11-4252-d4a7-12cb54dc138e"
      },
      "source": [
        "# input image dimensions, output dimension\n",
        "img_rows, img_cols = 28, 28\n",
        "num_classes = 10\n",
        "\n",
        "# the data, shuffled and split between train and test sets\n",
        "(x_train, y_train), (x_test, y_test) = mnist.load_data()"
      ],
      "execution_count": 4,
      "outputs": [
        {
          "output_type": "stream",
          "name": "stdout",
          "text": [
            "Downloading data from https://storage.googleapis.com/tensorflow/tf-keras-datasets/mnist.npz\n",
            "11490434/11490434 [==============================] - 2s 0us/step\n"
          ]
        }
      ]
    },
    {
      "cell_type": "code",
      "metadata": {
        "colab": {
          "base_uri": "https://localhost:8080/"
        },
        "id": "VWlFawQbhu2g",
        "outputId": "9cfd12b4-fc73-4000-cb6d-e9a7fd428be1"
      },
      "source": [
        "# the data, shuffled and split between train and test sets\n",
        "(x_train, y_train), (x_test, y_test) = mnist.load_data()\n",
        "\n",
        "x_train = x_train.reshape(x_train.shape[0], img_rows, img_cols, 1)  # 이미지 개수, 행, 열, 흑백(1채널)\n",
        "x_test = x_test.reshape(x_test.shape[0], img_rows, img_cols, 1)\n",
        "input_shape = (img_rows, img_cols, 1)\n",
        "\n",
        "x_train = x_train.astype('float32')\n",
        "x_test = x_test.astype('float32')\n",
        "x_train /= 255\n",
        "x_test /= 255\n",
        "print('x_train shape:', x_train.shape)\n",
        "print(x_train.shape[0], 'train samples')\n",
        "print(x_test.shape[0], 'test samples')\n",
        "\n",
        "# convert class vectors to binary class matrices\n",
        "y_train = utils.to_categorical(y_train, num_classes)\n",
        "y_test = utils.to_categorical(y_test, num_classes)"
      ],
      "execution_count": 5,
      "outputs": [
        {
          "output_type": "stream",
          "name": "stdout",
          "text": [
            "x_train shape: (60000, 28, 28, 1)\n",
            "60000 train samples\n",
            "10000 test samples\n"
          ]
        }
      ]
    },
    {
      "cell_type": "code",
      "metadata": {
        "colab": {
          "base_uri": "https://localhost:8080/"
        },
        "id": "V_ZPXPOPhu2g",
        "outputId": "78b3d3c1-4b4b-4392-ae4d-d1b45592f358"
      },
      "source": [
        "model = Sequential()\n",
        "model.add(layers.Conv2D(32, kernel_size=(3, 3),\n",
        "                 activation='relu',\n",
        "                 input_shape=input_shape))\n",
        "model.add(layers.MaxPooling2D(pool_size=(2, 2), strides=(2, 2)))\n",
        "model.add(layers.Dropout(dropout_rate))\n",
        "\n",
        "model.add(layers.Conv2D(64, (3, 3), activation='relu'))\n",
        "model.add(layers.MaxPooling2D(pool_size=(2, 2), strides=(2, 2)))\n",
        "model.add(layers.Dropout(dropout_rate))\n",
        "model.add(layers.Flatten())\n",
        "\n",
        "model.add(layers.Dense(32, activation='relu'))\n",
        "model.add(layers.Dropout(dropout_rate))\n",
        "model.add(layers.Dense(num_classes, activation='softmax'))\n",
        "\n",
        "model.summary()"
      ],
      "execution_count": 6,
      "outputs": [
        {
          "output_type": "stream",
          "name": "stdout",
          "text": [
            "Model: \"sequential\"\n",
            "_________________________________________________________________\n",
            " Layer (type)                Output Shape              Param #   \n",
            "=================================================================\n",
            " conv2d (Conv2D)             (None, 26, 26, 32)        320       \n",
            "                                                                 \n",
            " max_pooling2d (MaxPooling2  (None, 13, 13, 32)        0         \n",
            " D)                                                              \n",
            "                                                                 \n",
            " dropout (Dropout)           (None, 13, 13, 32)        0         \n",
            "                                                                 \n",
            " conv2d_1 (Conv2D)           (None, 11, 11, 64)        18496     \n",
            "                                                                 \n",
            " max_pooling2d_1 (MaxPoolin  (None, 5, 5, 64)          0         \n",
            " g2D)                                                            \n",
            "                                                                 \n",
            " dropout_1 (Dropout)         (None, 5, 5, 64)          0         \n",
            "                                                                 \n",
            " flatten (Flatten)           (None, 1600)              0         \n",
            "                                                                 \n",
            " dense (Dense)               (None, 32)                51232     \n",
            "                                                                 \n",
            " dropout_2 (Dropout)         (None, 32)                0         \n",
            "                                                                 \n",
            " dense_1 (Dense)             (None, 10)                330       \n",
            "                                                                 \n",
            "=================================================================\n",
            "Total params: 70378 (274.91 KB)\n",
            "Trainable params: 70378 (274.91 KB)\n",
            "Non-trainable params: 0 (0.00 Byte)\n",
            "_________________________________________________________________\n"
          ]
        }
      ]
    },
    {
      "cell_type": "code",
      "metadata": {
        "colab": {
          "base_uri": "https://localhost:8080/"
        },
        "id": "yEb5iRHUv8sT",
        "outputId": "aababfb1-6866-4b21-91fe-b0eef3bb200c"
      },
      "source": [
        "# compile model\n",
        "model.compile(\n",
        "    loss = 'categorical_crossentropy',\n",
        "    optimizer = 'Adam',\n",
        "    metrics = ['accuracy'])\n",
        "\n",
        "# train model\n",
        "early_stop = EarlyStopping(monitor = 'val_loss', patience = patience, mode='min')\n",
        "hist = model.fit(x_train, y_train,\n",
        "          batch_size = batch_size,\n",
        "          epochs = epochs,\n",
        "          validation_split = 0.2,\n",
        "          callbacks = [early_stop],\n",
        "          shuffle = True,\n",
        "          verbose = 1)"
      ],
      "execution_count": 7,
      "outputs": [
        {
          "output_type": "stream",
          "name": "stdout",
          "text": [
            "Epoch 1/10\n",
            "480/480 [==============================] - 14s 6ms/step - loss: 0.3459 - accuracy: 0.8919 - val_loss: 0.0913 - val_accuracy: 0.9738\n",
            "Epoch 2/10\n",
            "480/480 [==============================] - 3s 6ms/step - loss: 0.1074 - accuracy: 0.9669 - val_loss: 0.0627 - val_accuracy: 0.9814\n",
            "Epoch 3/10\n",
            "480/480 [==============================] - 2s 5ms/step - loss: 0.0784 - accuracy: 0.9764 - val_loss: 0.0481 - val_accuracy: 0.9851\n",
            "Epoch 4/10\n",
            "480/480 [==============================] - 2s 5ms/step - loss: 0.0637 - accuracy: 0.9803 - val_loss: 0.0491 - val_accuracy: 0.9854\n",
            "Epoch 5/10\n",
            "480/480 [==============================] - 2s 5ms/step - loss: 0.0521 - accuracy: 0.9834 - val_loss: 0.0494 - val_accuracy: 0.9854\n",
            "Epoch 6/10\n",
            "480/480 [==============================] - 2s 5ms/step - loss: 0.0483 - accuracy: 0.9853 - val_loss: 0.0390 - val_accuracy: 0.9885\n",
            "Epoch 7/10\n",
            "480/480 [==============================] - 3s 7ms/step - loss: 0.0407 - accuracy: 0.9873 - val_loss: 0.0367 - val_accuracy: 0.9893\n",
            "Epoch 8/10\n",
            "480/480 [==============================] - 2s 5ms/step - loss: 0.0367 - accuracy: 0.9889 - val_loss: 0.0354 - val_accuracy: 0.9898\n",
            "Epoch 9/10\n",
            "480/480 [==============================] - 2s 5ms/step - loss: 0.0332 - accuracy: 0.9889 - val_loss: 0.0348 - val_accuracy: 0.9898\n",
            "Epoch 10/10\n",
            "480/480 [==============================] - 2s 5ms/step - loss: 0.0298 - accuracy: 0.9906 - val_loss: 0.0331 - val_accuracy: 0.9912\n"
          ]
        }
      ]
    },
    {
      "cell_type": "markdown",
      "metadata": {
        "id": "KeM75AIT0HWz"
      },
      "source": [
        "\"Epoch 3/10\"의 의미는?\n",
        "\n",
        "\"38s 77ms/step\"의 의미는?\n",
        "\n",
        "\"loss: 0.1105 - accuracy: 0.9666 - val_loss: 0.0624 - val_accuracy: 0.9827\"의 의미는?"
      ]
    },
    {
      "cell_type": "code",
      "source": [
        "import matplotlib.pyplot as plt\n",
        "\n",
        "fig, loss_ax = plt.subplots()\n",
        "acc_ax = loss_ax.twinx()\n",
        "\n",
        "loss_ax.plot(hist.history['loss'], 'y', label='train loss')\n",
        "loss_ax.plot(hist.history['val_loss'], 'r', label='val loss')\n",
        "acc_ax.plot(hist.history['accuracy'], 'b', label='train acc')\n",
        "acc_ax.plot(hist.history['val_accuracy'], 'g', label='val acc')\n",
        "\n",
        "loss_ax.set_xlabel('epoch')\n",
        "loss_ax.set_ylabel('loss')\n",
        "acc_ax.set_ylabel('accuray')\n",
        "loss_ax.legend(loc='upper left')\n",
        "acc_ax.legend(loc='lower left')\n",
        "\n",
        "plt.show()"
      ],
      "metadata": {
        "colab": {
          "base_uri": "https://localhost:8080/",
          "height": 449
        },
        "id": "toZUlxyXaJA9",
        "outputId": "24d79089-6e79-4461-c272-34a899e0435a"
      },
      "execution_count": 8,
      "outputs": [
        {
          "output_type": "display_data",
          "data": {
            "text/plain": [
              "<Figure size 640x480 with 2 Axes>"
            ],
            "image/png": "[encoded data removed]"
          },
          "metadata": {}
        }
      ]
    },
    {
      "cell_type": "code",
      "metadata": {
        "colab": {
          "base_uri": "https://localhost:8080/"
        },
        "id": "1PtSrMe-hu2h",
        "outputId": "2944e6ca-27f2-49a9-acc1-cc7d570e08b9"
      },
      "source": [
        "# evaluate model\n",
        "score = model.evaluate(x_test, y_test, verbose = 1)\n",
        "print('test_loss:', round(score[0], 4))\n",
        "print('test_acc:', round(score[1], 4))"
      ],
      "execution_count": 9,
      "outputs": [
        {
          "output_type": "stream",
          "name": "stdout",
          "text": [
            "313/313 [==============================] - 1s 3ms/step - loss: 0.0282 - accuracy: 0.9908\n",
            "test_loss: 0.0282\n",
            "test_acc: 0.9908\n"
          ]
        }
      ]
    },
    {
      "cell_type": "code",
      "source": [
        "dir = \"/content/gdrive/My Drive/Colab Notebooks/ai/CNN/\"  ### [중요!!] Colab의 경우, 파일을 저장할 위치를 기록하시오.\n",
        "model.save(dir + \"cnn_mnist.h5\")\n",
        "model.save(dir + \"cnn_mnist.keras\")"
      ],
      "metadata": {
        "id": "6sBk_qODGK_s"
      },
      "execution_count": 11,
      "outputs": []
    }
  ]
}